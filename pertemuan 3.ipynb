{
 "cells": [
  {
   "cell_type": "code",
   "execution_count": 28,
   "id": "bcf96d58",
   "metadata": {},
   "outputs": [],
   "source": [
    "# tutor = mas suwandi\n",
    "\n",
    "a = 60\n",
    "b = 70"
   ]
  },
  {
   "cell_type": "code",
   "execution_count": 25,
   "id": "f0f889d3",
   "metadata": {},
   "outputs": [
    {
     "name": "stdout",
     "output_type": "stream",
     "text": [
      "silahkan coba lagi\n"
     ]
    }
   ],
   "source": [
    "if a >= 60:                 # if = kalo semuanya pake if, maka semua kondisi akan di cek, walaupun kondisi sblmnya TRUE\n",
    "    print('selamat nilai anda lolos pass grade')\n",
    "elif a >= 40:                   # elif = kalo kondisi sblmnya udh benar, maka elif ga kepake\n",
    "    print('silahkan coba lagi')\n",
    "elif a == 0:\n",
    "    print('nilai anda 0')\n",
    "else:\n",
    "    print('maaf nilai anda tidak lolos')"
   ]
  },
  {
   "cell_type": "code",
   "execution_count": 26,
   "id": "f8989350",
   "metadata": {},
   "outputs": [
    {
     "name": "stdout",
     "output_type": "stream",
     "text": [
      "nilai a kurang daru 60\n"
     ]
    }
   ],
   "source": [
    "# AND OR NOT\n",
    "# a = 80\n",
    "\n",
    "if a > 60 and b < 50:\n",
    "    print('kedua pernyataan BENAR')\n",
    "elif a > 60 or b < 50:\n",
    "    print('salah satu pernyataan benar')\n",
    "elif not a>60:\n",
    "    print('nilai a kurang daru 60')"
   ]
  },
  {
   "cell_type": "code",
   "execution_count": 31,
   "id": "dbd0af30",
   "metadata": {},
   "outputs": [
    {
     "name": "stdout",
     "output_type": "stream",
     "text": [
      "nilai a dan b lebih dari 50\n"
     ]
    }
   ],
   "source": [
    "if a > 50:\n",
    "    if b > 50:\n",
    "        print('nilai a dan b lebih dari 50')\n",
    "    else:\n",
    "        print('nilai a lebih dari 50, nilai a kurang dari 50')\n",
    "elif a == 50:\n",
    "    print('nilai a sama dengan 50')\n",
    "else:\n",
    "    print('nilai a kurang dari 50')"
   ]
  },
  {
   "cell_type": "code",
   "execution_count": 33,
   "id": "9cb4cabc",
   "metadata": {},
   "outputs": [
    {
     "name": "stdout",
     "output_type": "stream",
     "text": [
      "python\n"
     ]
    }
   ],
   "source": [
    "# methode FOR LOOP\n",
    "print('python')\n"
   ]
  },
  {
   "cell_type": "code",
   "execution_count": 44,
   "id": "db6ea035",
   "metadata": {},
   "outputs": [
    {
     "name": "stdout",
     "output_type": "stream",
     "text": [
      "100\n",
      "95\n",
      "90\n",
      "85\n",
      "80\n",
      "75\n",
      "70\n",
      "65\n",
      "60\n",
      "55\n",
      "50\n",
      "45\n",
      "40\n",
      "35\n",
      "30\n",
      "25\n",
      "20\n",
      "15\n",
      "10\n",
      "5\n",
      "0\n"
     ]
    }
   ],
   "source": [
    "for i in range(100,-1, -5):\n",
    "    print(i)"
   ]
  },
  {
   "cell_type": "code",
   "execution_count": 48,
   "id": "328988bb",
   "metadata": {},
   "outputs": [
    {
     "name": "stdout",
     "output_type": "stream",
     "text": [
      "p\n",
      "y\n",
      "t\n",
      "h\n",
      "o\n",
      "n\n"
     ]
    }
   ],
   "source": [
    "c = 'python'\n",
    "for i in c:\n",
    "    print(i)\n",
    "#     print(i + '\\n')"
   ]
  },
  {
   "cell_type": "code",
   "execution_count": 46,
   "id": "3d0c0f5f",
   "metadata": {},
   "outputs": [
    {
     "name": "stdout",
     "output_type": "stream",
     "text": [
      "mangga\n",
      "apel\n",
      "jeruk\n"
     ]
    }
   ],
   "source": [
    "d = ['mangga', 'apel', 'jeruk']\n",
    "for i in d:\n",
    "    print(i)"
   ]
  },
  {
   "cell_type": "code",
   "execution_count": 58,
   "id": "e5bc367d",
   "metadata": {},
   "outputs": [
    {
     "data": {
      "text/plain": [
       "'apel'"
      ]
     },
     "execution_count": 58,
     "metadata": {},
     "output_type": "execute_result"
    }
   ],
   "source": [
    "d[1]"
   ]
  },
  {
   "cell_type": "code",
   "execution_count": 52,
   "id": "0660ed59",
   "metadata": {},
   "outputs": [
    {
     "name": "stdout",
     "output_type": "stream",
     "text": [
      "mangga\n",
      "apel\n",
      "jeruk\n"
     ]
    }
   ],
   "source": [
    "for i in range(len(d)):\n",
    "    print(d[i])"
   ]
  },
  {
   "cell_type": "code",
   "execution_count": 57,
   "id": "328a6a2c",
   "metadata": {},
   "outputs": [
    {
     "name": "stdout",
     "output_type": "stream",
     "text": [
      "0 mangga\n",
      "1 apel\n",
      "2 jeruk\n"
     ]
    }
   ],
   "source": [
    "# methode ENUMERATE\n",
    "for i, val in enumerate(d):\n",
    "    print(i, val)"
   ]
  },
  {
   "cell_type": "code",
   "execution_count": 59,
   "id": "6962d6f0",
   "metadata": {},
   "outputs": [
    {
     "name": "stdout",
     "output_type": "stream",
     "text": [
      "0 p\n",
      "1 y\n",
      "2 t\n",
      "3 h\n",
      "4 o\n",
      "5 n\n"
     ]
    }
   ],
   "source": [
    "for i, val in enumerate(c):\n",
    "    print(i, val)"
   ]
  },
  {
   "cell_type": "code",
   "execution_count": 72,
   "id": "e7aa3e41",
   "metadata": {},
   "outputs": [
    {
     "name": "stdout",
     "output_type": "stream",
     "text": [
      "name  :  Alex\n",
      "sex  :  male\n",
      "age  :  30\n",
      "hobi  :  ['baca', 'koding', 'nonton']\n"
     ]
    }
   ],
   "source": [
    "dict = {\n",
    "    'name':'Alex',\n",
    "    'sex': 'male',\n",
    "    'age': 30,\n",
    "    'hobi': ['baca', 'koding', 'nonton']\n",
    "}\n",
    "for i in dict.keys():\n",
    "    print(i , ' : ' , dict[i])"
   ]
  },
  {
   "cell_type": "code",
   "execution_count": 82,
   "id": "86fd3b18",
   "metadata": {},
   "outputs": [
    {
     "data": {
      "text/plain": [
       "'baca'"
      ]
     },
     "execution_count": 82,
     "metadata": {},
     "output_type": "execute_result"
    }
   ],
   "source": [
    "dict['hobi'][0]"
   ]
  },
  {
   "cell_type": "code",
   "execution_count": 95,
   "id": "ad0e057d",
   "metadata": {},
   "outputs": [
    {
     "name": "stdout",
     "output_type": "stream",
     "text": [
      "2\n",
      "6\n",
      "10\n",
      "14\n",
      "18\n"
     ]
    }
   ],
   "source": [
    "# methode WHILE\n",
    "x = 2\n",
    "\n",
    "while x < 20:\n",
    "    print(x)\n",
    "#     print('python')\n",
    "    x += 4"
   ]
  },
  {
   "cell_type": "code",
   "execution_count": 94,
   "id": "35c4bcb8",
   "metadata": {},
   "outputs": [
    {
     "name": "stdout",
     "output_type": "stream",
     "text": [
      "2\n",
      "6\n",
      "10\n",
      "14\n",
      "18\n"
     ]
    }
   ],
   "source": [
    "for i in range(2, 20 , 4):\n",
    "    print(i)"
   ]
  },
  {
   "cell_type": "code",
   "execution_count": 100,
   "id": "c4f9e337",
   "metadata": {},
   "outputs": [
    {
     "data": {
      "text/plain": [
       "6"
      ]
     },
     "execution_count": 100,
     "metadata": {},
     "output_type": "execute_result"
    }
   ],
   "source": [
    "import random\n",
    "\n",
    "random.randint(0, 12)"
   ]
  },
  {
   "cell_type": "code",
   "execution_count": 114,
   "id": "b0f78214",
   "metadata": {},
   "outputs": [
    {
     "name": "stdout",
     "output_type": "stream",
     "text": [
      "0 0\n",
      "6 2\n",
      "2 5\n",
      "0 6\n",
      "0 6\n",
      "5 2\n",
      "3 7\n",
      "2 8\n",
      "2 1\n",
      "4 9\n",
      "0 6\n",
      "10 0\n",
      "0 8\n",
      "5 0\n",
      "8 0\n",
      "1 1\n",
      "3 8\n",
      "7 8\n",
      "10 3\n",
      "10 2\n",
      "2 4\n",
      "9 10\n",
      "7 1\n",
      "8 10\n",
      "5 2\n",
      "8 0\n",
      "4 2\n",
      "7 1\n",
      "7 7\n",
      "4 1\n",
      "2 3\n",
      "6 2\n",
      "6 1\n",
      "0 8\n",
      "7 4\n",
      "2 10\n",
      "5 5\n",
      "5 7\n",
      "0 2\n",
      "3 8\n",
      "6 2\n",
      "7 4\n",
      "0 9\n",
      "9 9\n",
      "2 10\n",
      "7 9\n",
      "6 0\n",
      "9 0\n",
      "1 8\n",
      "4 7\n",
      "10 2\n",
      "5 0\n",
      "4 1\n",
      "2 5\n",
      "3 3\n",
      "5 10\n",
      "4 4\n",
      "6 5\n",
      "2 8\n",
      "6 10\n",
      "7 8\n",
      "5 6\n"
     ]
    }
   ],
   "source": [
    "x= 0\n",
    "y = 0\n",
    "\n",
    "while not (x == 5 and y == 6):     # WHILE = mencari sampai hasilnya dapat, walaupun looping sampai jutaan\n",
    "    print(x,y)\n",
    "    x = random.randint(0, 10)\n",
    "    y = random.randint(0, 10)\n",
    "    \n",
    "print(x,y)"
   ]
  },
  {
   "cell_type": "code",
   "execution_count": 152,
   "id": "cae70b66",
   "metadata": {},
   "outputs": [
    {
     "name": "stdout",
     "output_type": "stream",
     "text": [
      "2 7\n",
      "8 1\n",
      "2 6\n",
      "4 7\n",
      "3 0\n",
      "10 1\n",
      "9 9\n",
      "7 10\n",
      "1 4\n",
      "3 2\n",
      "0 9\n",
      "10 2\n",
      "8 10\n",
      "5 7\n",
      "10 9\n",
      "4 5\n",
      "5 3\n",
      "3 9\n",
      "9 6\n",
      "10 1\n",
      "10 8\n",
      "10 1\n",
      "7 10\n",
      "5 7\n",
      "0 1\n",
      "6 1\n",
      "9 1\n",
      "4 9\n",
      "1 7\n",
      "2 2\n",
      "6 8\n",
      "3 4\n",
      "9 6\n",
      "10 8\n",
      "3 6\n",
      "1 8\n",
      "6 10\n",
      "3 7\n",
      "7 7\n",
      "5 1\n",
      "1 1\n",
      "8 7\n",
      "4 10\n",
      "8 2\n",
      "5 4\n",
      "3 0\n",
      "7 7\n",
      "1 5\n",
      "6 3\n",
      "2 6\n",
      "6 1\n",
      "2 6\n",
      "3 8\n",
      "7 3\n",
      "8 9\n",
      "1 10\n",
      "6 7\n",
      "6 5\n",
      "8 4\n",
      "4 9\n",
      "0 2\n",
      "0 3\n",
      "0 6\n",
      "8 3\n",
      "7 3\n",
      "8 1\n",
      "9 3\n",
      "3 8\n",
      "4 4\n",
      "2 3\n",
      "4 7\n",
      "2 5\n",
      "3 6\n",
      "2 2\n",
      "1 0\n",
      "1 0\n",
      "5 4\n",
      "8 7\n",
      "5 6\n",
      "5 6\n"
     ]
    }
   ],
   "source": [
    "for i in range(100):\n",
    "#     print(x,y)\n",
    "    x = random.randint(0, 10)\n",
    "    y = random.randint(0, 10)\n",
    "    print(x,y)\n",
    "    if x == 5 and y == 6:\n",
    "        break\n",
    "        \n",
    "print(x,y)\n",
    "#         break\n",
    "    "
   ]
  },
  {
   "cell_type": "code",
   "execution_count": null,
   "id": "a4eaef47",
   "metadata": {},
   "outputs": [],
   "source": []
  }
 ],
 "metadata": {
  "kernelspec": {
   "display_name": "Python 3 (ipykernel)",
   "language": "python",
   "name": "python3"
  },
  "language_info": {
   "codemirror_mode": {
    "name": "ipython",
    "version": 3
   },
   "file_extension": ".py",
   "mimetype": "text/x-python",
   "name": "python",
   "nbconvert_exporter": "python",
   "pygments_lexer": "ipython3",
   "version": "3.9.13"
  }
 },
 "nbformat": 4,
 "nbformat_minor": 5
}
