{
 "cells": [
  {
   "cell_type": "code",
   "execution_count": 1,
   "id": "54c1bd56",
   "metadata": {},
   "outputs": [],
   "source": [
    "a = 4\n",
    "b = 17"
   ]
  },
  {
   "cell_type": "code",
   "execution_count": 2,
   "id": "01a96655",
   "metadata": {},
   "outputs": [],
   "source": [
    "c = a + b"
   ]
  },
  {
   "cell_type": "code",
   "execution_count": 3,
   "id": "45040a7a",
   "metadata": {},
   "outputs": [
    {
     "name": "stdout",
     "output_type": "stream",
     "text": [
      "21\n"
     ]
    }
   ],
   "source": [
    "print(c)"
   ]
  },
  {
   "cell_type": "code",
   "execution_count": 4,
   "id": "467039a4",
   "metadata": {},
   "outputs": [
    {
     "name": "stdout",
     "output_type": "stream",
     "text": [
      "13\n"
     ]
    }
   ],
   "source": [
    "d = b -a\n",
    "print(d)"
   ]
  },
  {
   "cell_type": "code",
   "execution_count": 5,
   "id": "d493d0aa",
   "metadata": {},
   "outputs": [
    {
     "name": "stdout",
     "output_type": "stream",
     "text": [
      "68\n"
     ]
    }
   ],
   "source": [
    "e = a * b\n",
    "print(e)"
   ]
  },
  {
   "cell_type": "code",
   "execution_count": 8,
   "id": "7995d860",
   "metadata": {},
   "outputs": [
    {
     "name": "stdout",
     "output_type": "stream",
     "text": [
      "4.25\n"
     ]
    }
   ],
   "source": [
    "f = b/a\n",
    "print(f)"
   ]
  },
  {
   "cell_type": "code",
   "execution_count": 9,
   "id": "2b8eb47b",
   "metadata": {},
   "outputs": [
    {
     "name": "stdout",
     "output_type": "stream",
     "text": [
      "1\n"
     ]
    }
   ],
   "source": [
    "g = b % a          # modulus\n",
    "print(g)"
   ]
  },
  {
   "cell_type": "code",
   "execution_count": 10,
   "id": "829f8a72",
   "metadata": {},
   "outputs": [
    {
     "name": "stdout",
     "output_type": "stream",
     "text": [
      "83521\n"
     ]
    }
   ],
   "source": [
    "h = b ** a        # pangkat\n",
    "print(h)"
   ]
  },
  {
   "cell_type": "code",
   "execution_count": 11,
   "id": "3ea9b195",
   "metadata": {},
   "outputs": [
    {
     "name": "stdout",
     "output_type": "stream",
     "text": [
      "4\n"
     ]
    }
   ],
   "source": [
    "i = b // a       # pembagian, tapi hasilnya dibulatkan ke bawah \n",
    "print(i)"
   ]
  },
  {
   "cell_type": "code",
   "execution_count": 12,
   "id": "eb5e539a",
   "metadata": {},
   "outputs": [
    {
     "name": "stdout",
     "output_type": "stream",
     "text": [
      "False\n"
     ]
    }
   ],
   "source": [
    "j = b == a     # apakah b samadengan a? jawabannya adalah salah\n",
    "print(j)"
   ]
  },
  {
   "cell_type": "code",
   "execution_count": 13,
   "id": "613dc85a",
   "metadata": {},
   "outputs": [
    {
     "name": "stdout",
     "output_type": "stream",
     "text": [
      "True\n"
     ]
    }
   ],
   "source": [
    "k = b != a       # apakah b tidak sama dengan a, jawabannya adalah benar \n",
    "print(k)"
   ]
  },
  {
   "cell_type": "code",
   "execution_count": 14,
   "id": "1fc0a529",
   "metadata": {},
   "outputs": [
    {
     "name": "stdout",
     "output_type": "stream",
     "text": [
      "21\n"
     ]
    }
   ],
   "source": [
    "# a = a + b\n",
    "a += b             # artinya a = a+ b\n",
    "print(a)"
   ]
  },
  {
   "cell_type": "code",
   "execution_count": 17,
   "id": "cfa835c5",
   "metadata": {},
   "outputs": [
    {
     "name": "stdout",
     "output_type": "stream",
     "text": [
      "True\n"
     ]
    }
   ],
   "source": [
    "buah = ['mangga', 'jeruk', 'apel']\n",
    "\n",
    "l = 'semangka' not in buah\n",
    "print(l)"
   ]
  },
  {
   "cell_type": "code",
   "execution_count": 21,
   "id": "556a70c0",
   "metadata": {},
   "outputs": [
    {
     "name": "stdout",
     "output_type": "stream",
     "text": [
      "True\n",
      "False\n"
     ]
    }
   ],
   "source": [
    "m = 'python'\n",
    "\n",
    "n1 = 'py' in m\n",
    "n2 = 'py' not in m\n",
    "\n",
    "print(n1)\n",
    "print(n2)      # result = Boolean"
   ]
  },
  {
   "cell_type": "code",
   "execution_count": 37,
   "id": "87a18a71",
   "metadata": {},
   "outputs": [
    {
     "name": "stdout",
     "output_type": "stream",
     "text": [
      "Programming is fun\n"
     ]
    }
   ],
   "source": [
    "x = 'programming is fun'\n",
    "# v = str.capitalize()\n",
    "print(x.capitalize())"
   ]
  },
  {
   "cell_type": "code",
   "execution_count": 38,
   "id": "e53accf9",
   "metadata": {},
   "outputs": [
    {
     "name": "stdout",
     "output_type": "stream",
     "text": [
      "----------------programming is fun----------------\n"
     ]
    }
   ],
   "source": [
    "# methode CENTER  ==>  .center()\n",
    "\n",
    "print(x.center(50, '-'))        # hanya 1 character"
   ]
  },
  {
   "cell_type": "code",
   "execution_count": 40,
   "id": "f07ff932",
   "metadata": {},
   "outputs": [
    {
     "name": "stdout",
     "output_type": "stream",
     "text": [
      "0\n"
     ]
    }
   ],
   "source": [
    "# methode COUNT\n",
    "\n",
    "print(x.count('i', 2,5))"
   ]
  },
  {
   "cell_type": "code",
   "execution_count": 42,
   "id": "092721b0",
   "metadata": {},
   "outputs": [
    {
     "ename": "AttributeError",
     "evalue": "'str' object has no attribute 'decode'",
     "output_type": "error",
     "traceback": [
      "\u001b[1;31m---------------------------------------------------------------------------\u001b[0m",
      "\u001b[1;31mAttributeError\u001b[0m                            Traceback (most recent call last)",
      "\u001b[1;32m~\\AppData\\Local\\Temp\\ipykernel_6516\\1388563494.py\u001b[0m in \u001b[0;36m<module>\u001b[1;34m\u001b[0m\n\u001b[1;32m----> 1\u001b[1;33m \u001b[0mprint\u001b[0m\u001b[1;33m(\u001b[0m\u001b[0mx\u001b[0m\u001b[1;33m.\u001b[0m\u001b[0mdecode\u001b[0m\u001b[1;33m(\u001b[0m\u001b[1;33m)\u001b[0m\u001b[1;33m)\u001b[0m\u001b[1;33m\u001b[0m\u001b[1;33m\u001b[0m\u001b[0m\n\u001b[0m",
      "\u001b[1;31mAttributeError\u001b[0m: 'str' object has no attribute 'decode'"
     ]
    }
   ],
   "source": [
    "print(x.decode())"
   ]
  },
  {
   "cell_type": "code",
   "execution_count": 49,
   "id": "203495ff",
   "metadata": {},
   "outputs": [
    {
     "name": "stdout",
     "output_type": "stream",
     "text": [
      "False\n"
     ]
    }
   ],
   "source": [
    "print(x.endswith('n', 1, 8))           # result ==> Boolean"
   ]
  },
  {
   "cell_type": "code",
   "execution_count": 54,
   "id": "f6209bc4",
   "metadata": {},
   "outputs": [
    {
     "name": "stdout",
     "output_type": "stream",
     "text": [
      "-1\n"
     ]
    }
   ],
   "source": [
    "print(x.find('z'))      # -1 artinya tidak ada hasil"
   ]
  },
  {
   "cell_type": "code",
   "execution_count": 57,
   "id": "7f8057dc",
   "metadata": {},
   "outputs": [
    {
     "name": "stdout",
     "output_type": "stream",
     "text": [
      "5\n"
     ]
    }
   ],
   "source": [
    "#    x = 'programming is fun'\n",
    "\n",
    "print(x.index('a'))        # kalo ga nemu hasilnya error"
   ]
  },
  {
   "cell_type": "code",
   "execution_count": 63,
   "id": "f71ea101",
   "metadata": {},
   "outputs": [
    {
     "name": "stdout",
     "output_type": "stream",
     "text": [
      "True\n"
     ]
    }
   ],
   "source": [
    "x = 'aaDs65'       \n",
    "print(x.isalnum())      #  True, jikalau isinya hanya huruf dan angka"
   ]
  },
  {
   "cell_type": "code",
   "execution_count": 69,
   "id": "90adacc0",
   "metadata": {},
   "outputs": [
    {
     "data": {
      "text/plain": [
       "True"
      ]
     },
     "execution_count": 69,
     "metadata": {},
     "output_type": "execute_result"
    }
   ],
   "source": [
    "z = 'akhASFAsifiSa'\n",
    "\n",
    "z.isalpha()       # True, jikalau isinya hanya huruf"
   ]
  },
  {
   "cell_type": "code",
   "execution_count": 79,
   "id": "31d57ef3",
   "metadata": {},
   "outputs": [
    {
     "data": {
      "text/plain": [
       "False"
      ]
     },
     "execution_count": 79,
     "metadata": {},
     "output_type": "execute_result"
    }
   ],
   "source": [
    "a = '1234'\n",
    "\n",
    "a.isdigit()   # True hanya angka\n",
    "# print(a.isnumeric())"
   ]
  },
  {
   "cell_type": "code",
   "execution_count": 73,
   "id": "695234bd",
   "metadata": {},
   "outputs": [
    {
     "data": {
      "text/plain": [
       "False"
      ]
     },
     "execution_count": 73,
     "metadata": {},
     "output_type": "execute_result"
    }
   ],
   "source": [
    "x.islower()"
   ]
  },
  {
   "cell_type": "code",
   "execution_count": 84,
   "id": "79266983",
   "metadata": {},
   "outputs": [
    {
     "data": {
      "text/plain": [
       "True"
      ]
     },
     "execution_count": 84,
     "metadata": {},
     "output_type": "execute_result"
    }
   ],
   "source": [
    "x = 'asof asnfoa 654'\n",
    "# y = ' '\n",
    "y.isspace()       # True hanya space "
   ]
  },
  {
   "cell_type": "code",
   "execution_count": 105,
   "id": "67bd2eef",
   "metadata": {},
   "outputs": [
    {
     "data": {
      "text/plain": [
       "'a=b=c'"
      ]
     },
     "execution_count": 105,
     "metadata": {},
     "output_type": "execute_result"
    }
   ],
   "source": [
    "# x = 'programming is fun'\n",
    "z= '='\n",
    "z.join('abc')"
   ]
  },
  {
   "cell_type": "code",
   "execution_count": 106,
   "id": "10de9195",
   "metadata": {},
   "outputs": [
    {
     "name": "stdout",
     "output_type": "stream",
     "text": [
      "18\n"
     ]
    }
   ],
   "source": [
    "print(len(x))"
   ]
  },
  {
   "cell_type": "code",
   "execution_count": 112,
   "id": "0daa9f49",
   "metadata": {},
   "outputs": [
    {
     "name": "stdout",
     "output_type": "stream",
     "text": [
      "programming is fun============\n"
     ]
    }
   ],
   "source": [
    "print(x.ljust(30, '='))"
   ]
  },
  {
   "cell_type": "code",
   "execution_count": 114,
   "id": "0defcfde",
   "metadata": {},
   "outputs": [
    {
     "name": "stdout",
     "output_type": "stream",
     "text": [
      "False\n"
     ]
    }
   ],
   "source": [
    "z = 'PYTHON is a programming'\n",
    "\n",
    "print(z.islower())"
   ]
  },
  {
   "cell_type": "code",
   "execution_count": 116,
   "id": "f8a073f1",
   "metadata": {},
   "outputs": [
    {
     "data": {
      "text/plain": [
       "'programming = fun'"
      ]
     },
     "execution_count": 116,
     "metadata": {},
     "output_type": "execute_result"
    }
   ],
   "source": [
    "# x = 'programming is fun'\n",
    "\n",
    "x.replace('is', '=')"
   ]
  },
  {
   "cell_type": "code",
   "execution_count": 117,
   "id": "1174cf7b",
   "metadata": {},
   "outputs": [
    {
     "data": {
      "text/plain": [
       "12"
      ]
     },
     "execution_count": 117,
     "metadata": {},
     "output_type": "execute_result"
    }
   ],
   "source": [
    "x.rfind('i')      # mencari something dari belakang (bukan dari index 0)"
   ]
  },
  {
   "cell_type": "code",
   "execution_count": 127,
   "id": "9475056c",
   "metadata": {},
   "outputs": [
    {
     "data": {
      "text/plain": [
       "['programming', 'is', 'fun']"
      ]
     },
     "execution_count": 127,
     "metadata": {},
     "output_type": "execute_result"
    }
   ],
   "source": [
    "x.split()\n",
    "# x.split('mm')"
   ]
  },
  {
   "cell_type": "code",
   "execution_count": 124,
   "id": "6510ec03",
   "metadata": {},
   "outputs": [
    {
     "data": {
      "text/plain": [
       "'python IS A PROGRAMMING'"
      ]
     },
     "execution_count": 124,
     "metadata": {},
     "output_type": "execute_result"
    }
   ],
   "source": [
    "# z = 'PYTHON is a programming'\n",
    "\n",
    "z.swapcase()"
   ]
  },
  {
   "cell_type": "code",
   "execution_count": 125,
   "id": "be3333a2",
   "metadata": {},
   "outputs": [
    {
     "data": {
      "text/plain": [
       "'Programming Is Fun'"
      ]
     },
     "execution_count": 125,
     "metadata": {},
     "output_type": "execute_result"
    }
   ],
   "source": [
    "# x = 'programming is fun'\n",
    "\n",
    "x. title()"
   ]
  },
  {
   "cell_type": "code",
   "execution_count": 128,
   "id": "d07ed2ef",
   "metadata": {},
   "outputs": [
    {
     "data": {
      "text/plain": [
       "3"
      ]
     },
     "execution_count": 128,
     "metadata": {},
     "output_type": "execute_result"
    }
   ],
   "source": [
    "#                 buah = ['mangga', 'jeruk', 'apel']\n",
    "\n",
    "len(buah)"
   ]
  },
  {
   "cell_type": "code",
   "execution_count": 129,
   "id": "293bae1b",
   "metadata": {},
   "outputs": [
    {
     "data": {
      "text/plain": [
       "'mangga'"
      ]
     },
     "execution_count": 129,
     "metadata": {},
     "output_type": "execute_result"
    }
   ],
   "source": [
    "max(buah)"
   ]
  },
  {
   "cell_type": "code",
   "execution_count": 130,
   "id": "c8ae58ea",
   "metadata": {},
   "outputs": [
    {
     "data": {
      "text/plain": [
       "'apel'"
      ]
     },
     "execution_count": 130,
     "metadata": {},
     "output_type": "execute_result"
    }
   ],
   "source": [
    "min(buah)"
   ]
  },
  {
   "cell_type": "code",
   "execution_count": 132,
   "id": "6a077d70",
   "metadata": {},
   "outputs": [
    {
     "data": {
      "text/plain": [
       "['mangga', 'jeruk', 'apel', 'anggur', 'anggur']"
      ]
     },
     "execution_count": 132,
     "metadata": {},
     "output_type": "execute_result"
    }
   ],
   "source": [
    "buah.append('anggur')\n",
    "buah"
   ]
  },
  {
   "cell_type": "code",
   "execution_count": 133,
   "id": "534717b2",
   "metadata": {},
   "outputs": [
    {
     "data": {
      "text/plain": [
       "['mangga', 'jeruk', 'apel', 'anggur']"
      ]
     },
     "execution_count": 133,
     "metadata": {},
     "output_type": "execute_result"
    }
   ],
   "source": [
    "buah.remove('anggur')\n",
    "buah"
   ]
  },
  {
   "cell_type": "code",
   "execution_count": 135,
   "id": "51e170ff",
   "metadata": {},
   "outputs": [
    {
     "data": {
      "text/plain": [
       "0"
      ]
     },
     "execution_count": 135,
     "metadata": {},
     "output_type": "execute_result"
    }
   ],
   "source": [
    "buah.count('melon')"
   ]
  },
  {
   "cell_type": "code",
   "execution_count": 138,
   "id": "b8ce88ca",
   "metadata": {},
   "outputs": [
    {
     "data": {
      "text/plain": [
       "1"
      ]
     },
     "execution_count": 138,
     "metadata": {},
     "output_type": "execute_result"
    }
   ],
   "source": [
    "buah.index('jeruk')"
   ]
  },
  {
   "cell_type": "code",
   "execution_count": 140,
   "id": "1503b513",
   "metadata": {},
   "outputs": [],
   "source": [
    "buah.insert(2,'semangka')"
   ]
  },
  {
   "cell_type": "code",
   "execution_count": 141,
   "id": "6f2634bf",
   "metadata": {},
   "outputs": [
    {
     "data": {
      "text/plain": [
       "['mangga', 'jeruk', 'semangka', 'apel', 'anggur']"
      ]
     },
     "execution_count": 141,
     "metadata": {},
     "output_type": "execute_result"
    }
   ],
   "source": [
    "buah"
   ]
  },
  {
   "cell_type": "code",
   "execution_count": 142,
   "id": "7655af13",
   "metadata": {},
   "outputs": [
    {
     "data": {
      "text/plain": [
       "['mangga', 'jeruk', 'semangka', 'apel']"
      ]
     },
     "execution_count": 142,
     "metadata": {},
     "output_type": "execute_result"
    }
   ],
   "source": [
    "buah.pop()\n",
    "buah"
   ]
  },
  {
   "cell_type": "code",
   "execution_count": 144,
   "id": "062d7c36",
   "metadata": {},
   "outputs": [
    {
     "data": {
      "text/plain": [
       "('mangga', 'jeruk', 'semangka', 'apel')"
      ]
     },
     "execution_count": 144,
     "metadata": {},
     "output_type": "execute_result"
    }
   ],
   "source": [
    "buah = tuple(buah)\n",
    "buah"
   ]
  },
  {
   "cell_type": "code",
   "execution_count": 145,
   "id": "1644fdd8",
   "metadata": {},
   "outputs": [
    {
     "data": {
      "text/plain": [
       "'semangka'"
      ]
     },
     "execution_count": 145,
     "metadata": {},
     "output_type": "execute_result"
    }
   ],
   "source": [
    "max(buah)"
   ]
  },
  {
   "cell_type": "code",
   "execution_count": null,
   "id": "f03812c1",
   "metadata": {},
   "outputs": [],
   "source": []
  }
 ],
 "metadata": {
  "kernelspec": {
   "display_name": "Python 3 (ipykernel)",
   "language": "python",
   "name": "python3"
  },
  "language_info": {
   "codemirror_mode": {
    "name": "ipython",
    "version": 3
   },
   "file_extension": ".py",
   "mimetype": "text/x-python",
   "name": "python",
   "nbconvert_exporter": "python",
   "pygments_lexer": "ipython3",
   "version": "3.9.13"
  }
 },
 "nbformat": 4,
 "nbformat_minor": 5
}
