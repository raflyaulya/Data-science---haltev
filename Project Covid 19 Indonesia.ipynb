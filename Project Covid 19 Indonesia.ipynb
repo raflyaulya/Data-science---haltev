{
 "cells": [
  {
   "cell_type": "markdown",
   "id": "f64966df",
   "metadata": {},
   "source": [
    "# Covid-19 Indonesia"
   ]
  },
  {
   "cell_type": "code",
   "execution_count": 54,
   "id": "cc355577",
   "metadata": {},
   "outputs": [],
   "source": [
    "import pandas as pd\n",
    "import numpy as np\n",
    "import matplotlib.pyplot as plt\n",
    "import seaborn as sn"
   ]
  },
  {
   "cell_type": "code",
   "execution_count": 55,
   "id": "c133e3ed",
   "metadata": {},
   "outputs": [],
   "source": [
    "df = pd.read_csv('covid_19_indonesia.csv')"
   ]
  },
  {
   "cell_type": "code",
   "execution_count": 56,
   "id": "96c6702e",
   "metadata": {},
   "outputs": [
    {
     "data": {
      "text/html": [
       "<div>\n",
       "<style scoped>\n",
       "    .dataframe tbody tr th:only-of-type {\n",
       "        vertical-align: middle;\n",
       "    }\n",
       "\n",
       "    .dataframe tbody tr th {\n",
       "        vertical-align: top;\n",
       "    }\n",
       "\n",
       "    .dataframe thead th {\n",
       "        text-align: right;\n",
       "    }\n",
       "</style>\n",
       "<table border=\"1\" class=\"dataframe\">\n",
       "  <thead>\n",
       "    <tr style=\"text-align: right;\">\n",
       "      <th></th>\n",
       "      <th>Date</th>\n",
       "      <th>Location ISO Code</th>\n",
       "      <th>Location</th>\n",
       "      <th>New Cases</th>\n",
       "      <th>New Deaths</th>\n",
       "      <th>New Recovered</th>\n",
       "      <th>New Active Cases</th>\n",
       "      <th>Total Cases</th>\n",
       "      <th>Total Deaths</th>\n",
       "      <th>Total Recovered</th>\n",
       "      <th>...</th>\n",
       "      <th>Latitude</th>\n",
       "      <th>New Cases per Million</th>\n",
       "      <th>Total Cases per Million</th>\n",
       "      <th>New Deaths per Million</th>\n",
       "      <th>Total Deaths per Million</th>\n",
       "      <th>Total Deaths per 100rb</th>\n",
       "      <th>Case Fatality Rate</th>\n",
       "      <th>Case Recovered Rate</th>\n",
       "      <th>Growth Factor of New Cases</th>\n",
       "      <th>Growth Factor of New Deaths</th>\n",
       "    </tr>\n",
       "  </thead>\n",
       "  <tbody>\n",
       "    <tr>\n",
       "      <th>0</th>\n",
       "      <td>3/1/2020</td>\n",
       "      <td>ID-JK</td>\n",
       "      <td>DKI Jakarta</td>\n",
       "      <td>2</td>\n",
       "      <td>0</td>\n",
       "      <td>0</td>\n",
       "      <td>2</td>\n",
       "      <td>39</td>\n",
       "      <td>20</td>\n",
       "      <td>75</td>\n",
       "      <td>...</td>\n",
       "      <td>-6.204699</td>\n",
       "      <td>0.18</td>\n",
       "      <td>3.60</td>\n",
       "      <td>0.0</td>\n",
       "      <td>1.84</td>\n",
       "      <td>0.18</td>\n",
       "      <td>51.28%</td>\n",
       "      <td>192.31%</td>\n",
       "      <td>NaN</td>\n",
       "      <td>NaN</td>\n",
       "    </tr>\n",
       "    <tr>\n",
       "      <th>1</th>\n",
       "      <td>3/2/2020</td>\n",
       "      <td>ID-JK</td>\n",
       "      <td>DKI Jakarta</td>\n",
       "      <td>2</td>\n",
       "      <td>0</td>\n",
       "      <td>0</td>\n",
       "      <td>2</td>\n",
       "      <td>41</td>\n",
       "      <td>20</td>\n",
       "      <td>75</td>\n",
       "      <td>...</td>\n",
       "      <td>-6.204699</td>\n",
       "      <td>0.18</td>\n",
       "      <td>3.78</td>\n",
       "      <td>0.0</td>\n",
       "      <td>1.84</td>\n",
       "      <td>0.18</td>\n",
       "      <td>48.78%</td>\n",
       "      <td>182.93%</td>\n",
       "      <td>1.00</td>\n",
       "      <td>1.00</td>\n",
       "    </tr>\n",
       "    <tr>\n",
       "      <th>2</th>\n",
       "      <td>3/2/2020</td>\n",
       "      <td>IDN</td>\n",
       "      <td>Indonesia</td>\n",
       "      <td>2</td>\n",
       "      <td>0</td>\n",
       "      <td>0</td>\n",
       "      <td>2</td>\n",
       "      <td>2</td>\n",
       "      <td>0</td>\n",
       "      <td>0</td>\n",
       "      <td>...</td>\n",
       "      <td>-0.789275</td>\n",
       "      <td>0.01</td>\n",
       "      <td>0.01</td>\n",
       "      <td>0.0</td>\n",
       "      <td>0.00</td>\n",
       "      <td>0.00</td>\n",
       "      <td>0.00%</td>\n",
       "      <td>0.00%</td>\n",
       "      <td>NaN</td>\n",
       "      <td>NaN</td>\n",
       "    </tr>\n",
       "    <tr>\n",
       "      <th>3</th>\n",
       "      <td>3/2/2020</td>\n",
       "      <td>ID-RI</td>\n",
       "      <td>Riau</td>\n",
       "      <td>1</td>\n",
       "      <td>0</td>\n",
       "      <td>0</td>\n",
       "      <td>1</td>\n",
       "      <td>1</td>\n",
       "      <td>0</td>\n",
       "      <td>1</td>\n",
       "      <td>...</td>\n",
       "      <td>0.511648</td>\n",
       "      <td>0.16</td>\n",
       "      <td>0.16</td>\n",
       "      <td>0.0</td>\n",
       "      <td>0.00</td>\n",
       "      <td>0.00</td>\n",
       "      <td>0.00%</td>\n",
       "      <td>100.00%</td>\n",
       "      <td>NaN</td>\n",
       "      <td>NaN</td>\n",
       "    </tr>\n",
       "    <tr>\n",
       "      <th>4</th>\n",
       "      <td>3/3/2020</td>\n",
       "      <td>ID-JK</td>\n",
       "      <td>DKI Jakarta</td>\n",
       "      <td>2</td>\n",
       "      <td>0</td>\n",
       "      <td>0</td>\n",
       "      <td>2</td>\n",
       "      <td>43</td>\n",
       "      <td>20</td>\n",
       "      <td>75</td>\n",
       "      <td>...</td>\n",
       "      <td>-6.204699</td>\n",
       "      <td>0.18</td>\n",
       "      <td>3.96</td>\n",
       "      <td>0.0</td>\n",
       "      <td>1.84</td>\n",
       "      <td>0.18</td>\n",
       "      <td>46.51%</td>\n",
       "      <td>174.42%</td>\n",
       "      <td>1.00</td>\n",
       "      <td>1.00</td>\n",
       "    </tr>\n",
       "    <tr>\n",
       "      <th>...</th>\n",
       "      <td>...</td>\n",
       "      <td>...</td>\n",
       "      <td>...</td>\n",
       "      <td>...</td>\n",
       "      <td>...</td>\n",
       "      <td>...</td>\n",
       "      <td>...</td>\n",
       "      <td>...</td>\n",
       "      <td>...</td>\n",
       "      <td>...</td>\n",
       "      <td>...</td>\n",
       "      <td>...</td>\n",
       "      <td>...</td>\n",
       "      <td>...</td>\n",
       "      <td>...</td>\n",
       "      <td>...</td>\n",
       "      <td>...</td>\n",
       "      <td>...</td>\n",
       "      <td>...</td>\n",
       "      <td>...</td>\n",
       "      <td>...</td>\n",
       "    </tr>\n",
       "    <tr>\n",
       "      <th>31817</th>\n",
       "      <td>9/15/2022</td>\n",
       "      <td>ID-SA</td>\n",
       "      <td>Sulawesi Utara</td>\n",
       "      <td>37</td>\n",
       "      <td>0</td>\n",
       "      <td>0</td>\n",
       "      <td>37</td>\n",
       "      <td>52770</td>\n",
       "      <td>1213</td>\n",
       "      <td>50997</td>\n",
       "      <td>...</td>\n",
       "      <td>1.259638</td>\n",
       "      <td>14.01</td>\n",
       "      <td>19974.38</td>\n",
       "      <td>0.0</td>\n",
       "      <td>459.14</td>\n",
       "      <td>45.91</td>\n",
       "      <td>2.30%</td>\n",
       "      <td>96.64%</td>\n",
       "      <td>2.85</td>\n",
       "      <td>1.00</td>\n",
       "    </tr>\n",
       "    <tr>\n",
       "      <th>31818</th>\n",
       "      <td>9/15/2022</td>\n",
       "      <td>ID-SB</td>\n",
       "      <td>Sumatera Barat</td>\n",
       "      <td>13</td>\n",
       "      <td>0</td>\n",
       "      <td>3</td>\n",
       "      <td>10</td>\n",
       "      <td>104640</td>\n",
       "      <td>2371</td>\n",
       "      <td>102066</td>\n",
       "      <td>...</td>\n",
       "      <td>-0.850253</td>\n",
       "      <td>2.36</td>\n",
       "      <td>18959.11</td>\n",
       "      <td>0.0</td>\n",
       "      <td>429.59</td>\n",
       "      <td>42.96</td>\n",
       "      <td>2.27%</td>\n",
       "      <td>97.54%</td>\n",
       "      <td>6.50</td>\n",
       "      <td>1.00</td>\n",
       "    </tr>\n",
       "    <tr>\n",
       "      <th>31819</th>\n",
       "      <td>9/15/2022</td>\n",
       "      <td>ID-SS</td>\n",
       "      <td>Sumatera Selatan</td>\n",
       "      <td>16</td>\n",
       "      <td>0</td>\n",
       "      <td>1</td>\n",
       "      <td>15</td>\n",
       "      <td>82198</td>\n",
       "      <td>3376</td>\n",
       "      <td>78510</td>\n",
       "      <td>...</td>\n",
       "      <td>-3.216212</td>\n",
       "      <td>1.95</td>\n",
       "      <td>10002.74</td>\n",
       "      <td>0.0</td>\n",
       "      <td>410.83</td>\n",
       "      <td>41.08</td>\n",
       "      <td>4.11%</td>\n",
       "      <td>95.51%</td>\n",
       "      <td>3.20</td>\n",
       "      <td>1.00</td>\n",
       "    </tr>\n",
       "    <tr>\n",
       "      <th>31820</th>\n",
       "      <td>9/15/2022</td>\n",
       "      <td>ID-SU</td>\n",
       "      <td>Sumatera Utara</td>\n",
       "      <td>50</td>\n",
       "      <td>0</td>\n",
       "      <td>5</td>\n",
       "      <td>45</td>\n",
       "      <td>158866</td>\n",
       "      <td>3288</td>\n",
       "      <td>154924</td>\n",
       "      <td>...</td>\n",
       "      <td>2.191894</td>\n",
       "      <td>3.36</td>\n",
       "      <td>10680.15</td>\n",
       "      <td>0.0</td>\n",
       "      <td>221.04</td>\n",
       "      <td>22.10</td>\n",
       "      <td>2.07%</td>\n",
       "      <td>97.52%</td>\n",
       "      <td>1.92</td>\n",
       "      <td>1.00</td>\n",
       "    </tr>\n",
       "    <tr>\n",
       "      <th>31821</th>\n",
       "      <td>9/16/2022</td>\n",
       "      <td>IDN</td>\n",
       "      <td>Indonesia</td>\n",
       "      <td>2358</td>\n",
       "      <td>27</td>\n",
       "      <td>2997</td>\n",
       "      <td>-666</td>\n",
       "      <td>6405044</td>\n",
       "      <td>157876</td>\n",
       "      <td>6218708</td>\n",
       "      <td>...</td>\n",
       "      <td>-0.789275</td>\n",
       "      <td>8.89</td>\n",
       "      <td>24153.07</td>\n",
       "      <td>0.1</td>\n",
       "      <td>595.34</td>\n",
       "      <td>59.53</td>\n",
       "      <td>2.46%</td>\n",
       "      <td>97.09%</td>\n",
       "      <td>0.89</td>\n",
       "      <td>1.29</td>\n",
       "    </tr>\n",
       "  </tbody>\n",
       "</table>\n",
       "<p>31822 rows × 38 columns</p>\n",
       "</div>"
      ],
      "text/plain": [
       "            Date Location ISO Code          Location  New Cases  New Deaths  \\\n",
       "0       3/1/2020             ID-JK       DKI Jakarta          2           0   \n",
       "1       3/2/2020             ID-JK       DKI Jakarta          2           0   \n",
       "2       3/2/2020               IDN         Indonesia          2           0   \n",
       "3       3/2/2020             ID-RI              Riau          1           0   \n",
       "4       3/3/2020             ID-JK       DKI Jakarta          2           0   \n",
       "...          ...               ...               ...        ...         ...   \n",
       "31817  9/15/2022             ID-SA    Sulawesi Utara         37           0   \n",
       "31818  9/15/2022             ID-SB    Sumatera Barat         13           0   \n",
       "31819  9/15/2022             ID-SS  Sumatera Selatan         16           0   \n",
       "31820  9/15/2022             ID-SU    Sumatera Utara         50           0   \n",
       "31821  9/16/2022               IDN         Indonesia       2358          27   \n",
       "\n",
       "       New Recovered  New Active Cases  Total Cases  Total Deaths  \\\n",
       "0                  0                 2           39            20   \n",
       "1                  0                 2           41            20   \n",
       "2                  0                 2            2             0   \n",
       "3                  0                 1            1             0   \n",
       "4                  0                 2           43            20   \n",
       "...              ...               ...          ...           ...   \n",
       "31817              0                37        52770          1213   \n",
       "31818              3                10       104640          2371   \n",
       "31819              1                15        82198          3376   \n",
       "31820              5                45       158866          3288   \n",
       "31821           2997              -666      6405044        157876   \n",
       "\n",
       "       Total Recovered  ...  Latitude New Cases per Million  \\\n",
       "0                   75  ... -6.204699                  0.18   \n",
       "1                   75  ... -6.204699                  0.18   \n",
       "2                    0  ... -0.789275                  0.01   \n",
       "3                    1  ...  0.511648                  0.16   \n",
       "4                   75  ... -6.204699                  0.18   \n",
       "...                ...  ...       ...                   ...   \n",
       "31817            50997  ...  1.259638                 14.01   \n",
       "31818           102066  ... -0.850253                  2.36   \n",
       "31819            78510  ... -3.216212                  1.95   \n",
       "31820           154924  ...  2.191894                  3.36   \n",
       "31821          6218708  ... -0.789275                  8.89   \n",
       "\n",
       "       Total Cases per Million New Deaths per Million  \\\n",
       "0                         3.60                    0.0   \n",
       "1                         3.78                    0.0   \n",
       "2                         0.01                    0.0   \n",
       "3                         0.16                    0.0   \n",
       "4                         3.96                    0.0   \n",
       "...                        ...                    ...   \n",
       "31817                 19974.38                    0.0   \n",
       "31818                 18959.11                    0.0   \n",
       "31819                 10002.74                    0.0   \n",
       "31820                 10680.15                    0.0   \n",
       "31821                 24153.07                    0.1   \n",
       "\n",
       "      Total Deaths per Million Total Deaths per 100rb Case Fatality Rate  \\\n",
       "0                         1.84                   0.18             51.28%   \n",
       "1                         1.84                   0.18             48.78%   \n",
       "2                         0.00                   0.00              0.00%   \n",
       "3                         0.00                   0.00              0.00%   \n",
       "4                         1.84                   0.18             46.51%   \n",
       "...                        ...                    ...                ...   \n",
       "31817                   459.14                  45.91              2.30%   \n",
       "31818                   429.59                  42.96              2.27%   \n",
       "31819                   410.83                  41.08              4.11%   \n",
       "31820                   221.04                  22.10              2.07%   \n",
       "31821                   595.34                  59.53              2.46%   \n",
       "\n",
       "      Case Recovered Rate Growth Factor of New Cases  \\\n",
       "0                 192.31%                        NaN   \n",
       "1                 182.93%                       1.00   \n",
       "2                   0.00%                        NaN   \n",
       "3                 100.00%                        NaN   \n",
       "4                 174.42%                       1.00   \n",
       "...                   ...                        ...   \n",
       "31817              96.64%                       2.85   \n",
       "31818              97.54%                       6.50   \n",
       "31819              95.51%                       3.20   \n",
       "31820              97.52%                       1.92   \n",
       "31821              97.09%                       0.89   \n",
       "\n",
       "       Growth Factor of New Deaths  \n",
       "0                              NaN  \n",
       "1                             1.00  \n",
       "2                              NaN  \n",
       "3                              NaN  \n",
       "4                             1.00  \n",
       "...                            ...  \n",
       "31817                         1.00  \n",
       "31818                         1.00  \n",
       "31819                         1.00  \n",
       "31820                         1.00  \n",
       "31821                         1.29  \n",
       "\n",
       "[31822 rows x 38 columns]"
      ]
     },
     "execution_count": 56,
     "metadata": {},
     "output_type": "execute_result"
    }
   ],
   "source": [
    "df"
   ]
  },
  {
   "cell_type": "code",
   "execution_count": 57,
   "id": "f61cb593",
   "metadata": {},
   "outputs": [
    {
     "name": "stdout",
     "output_type": "stream",
     "text": [
      "<class 'pandas.core.frame.DataFrame'>\n",
      "RangeIndex: 31822 entries, 0 to 31821\n",
      "Data columns (total 38 columns):\n",
      " #   Column                       Non-Null Count  Dtype  \n",
      "---  ------                       --------------  -----  \n",
      " 0   Date                         31822 non-null  object \n",
      " 1   Location ISO Code            31822 non-null  object \n",
      " 2   Location                     31822 non-null  object \n",
      " 3   New Cases                    31822 non-null  int64  \n",
      " 4   New Deaths                   31822 non-null  int64  \n",
      " 5   New Recovered                31822 non-null  int64  \n",
      " 6   New Active Cases             31822 non-null  int64  \n",
      " 7   Total Cases                  31822 non-null  int64  \n",
      " 8   Total Deaths                 31822 non-null  int64  \n",
      " 9   Total Recovered              31822 non-null  int64  \n",
      " 10  Total Active Cases           31822 non-null  int64  \n",
      " 11  Location Level               31822 non-null  object \n",
      " 12  City or Regency              0 non-null      float64\n",
      " 13  Province                     30893 non-null  object \n",
      " 14  Country                      31822 non-null  object \n",
      " 15  Continent                    31822 non-null  object \n",
      " 16  Island                       30893 non-null  object \n",
      " 17  Time Zone                    30893 non-null  object \n",
      " 18  Special Status               4558 non-null   object \n",
      " 19  Total Regencies              31822 non-null  int64  \n",
      " 20  Total Cities                 30921 non-null  float64\n",
      " 21  Total Districts              31822 non-null  int64  \n",
      " 22  Total Urban Villages         30918 non-null  float64\n",
      " 23  Total Rural Villages         30893 non-null  float64\n",
      " 24  Area (km2)                   31822 non-null  int64  \n",
      " 25  Population                   31822 non-null  int64  \n",
      " 26  Population Density           31822 non-null  float64\n",
      " 27  Longitude                    31822 non-null  float64\n",
      " 28  Latitude                     31822 non-null  float64\n",
      " 29  New Cases per Million        31822 non-null  float64\n",
      " 30  Total Cases per Million      31822 non-null  float64\n",
      " 31  New Deaths per Million       31822 non-null  float64\n",
      " 32  Total Deaths per Million     31822 non-null  float64\n",
      " 33  Total Deaths per 100rb       31822 non-null  float64\n",
      " 34  Case Fatality Rate           31822 non-null  object \n",
      " 35  Case Recovered Rate          31822 non-null  object \n",
      " 36  Growth Factor of New Cases   29883 non-null  float64\n",
      " 37  Growth Factor of New Deaths  28375 non-null  float64\n",
      "dtypes: float64(14), int64(12), object(12)\n",
      "memory usage: 9.2+ MB\n"
     ]
    }
   ],
   "source": [
    "df.info()"
   ]
  },
  {
   "cell_type": "code",
   "execution_count": 58,
   "id": "13e90265",
   "metadata": {},
   "outputs": [
    {
     "data": {
      "text/plain": [
       "Date                               0\n",
       "Location ISO Code                  0\n",
       "Location                           0\n",
       "New Cases                          0\n",
       "New Deaths                         0\n",
       "New Recovered                      0\n",
       "New Active Cases                   0\n",
       "Total Cases                        0\n",
       "Total Deaths                       0\n",
       "Total Recovered                    0\n",
       "Total Active Cases                 0\n",
       "Location Level                     0\n",
       "City or Regency                31822\n",
       "Province                         929\n",
       "Country                            0\n",
       "Continent                          0\n",
       "Island                           929\n",
       "Time Zone                        929\n",
       "Special Status                 27264\n",
       "Total Regencies                    0\n",
       "Total Cities                     901\n",
       "Total Districts                    0\n",
       "Total Urban Villages             904\n",
       "Total Rural Villages             929\n",
       "Area (km2)                         0\n",
       "Population                         0\n",
       "Population Density                 0\n",
       "Longitude                          0\n",
       "Latitude                           0\n",
       "New Cases per Million              0\n",
       "Total Cases per Million            0\n",
       "New Deaths per Million             0\n",
       "Total Deaths per Million           0\n",
       "Total Deaths per 100rb             0\n",
       "Case Fatality Rate                 0\n",
       "Case Recovered Rate                0\n",
       "Growth Factor of New Cases      1939\n",
       "Growth Factor of New Deaths     3447\n",
       "dtype: int64"
      ]
     },
     "execution_count": 58,
     "metadata": {},
     "output_type": "execute_result"
    }
   ],
   "source": [
    "# mastiin apakah ada NAN apa nggak\n",
    "\n",
    "df.isna().sum()"
   ]
  },
  {
   "cell_type": "code",
   "execution_count": 59,
   "id": "ec50cd9e",
   "metadata": {},
   "outputs": [
    {
     "data": {
      "text/plain": [
       "12"
      ]
     },
     "execution_count": 59,
     "metadata": {},
     "output_type": "execute_result"
    }
   ],
   "source": [
    "# to sum how many object types in the dataframe\n",
    "\n",
    "isobject = df.dtypes == 'object'\n",
    "isobject.sum()\n",
    "# df.dtypes"
   ]
  },
  {
   "cell_type": "code",
   "execution_count": 60,
   "id": "2b63d443",
   "metadata": {},
   "outputs": [
    {
     "data": {
      "text/plain": [
       "array(['51.28%', '48.78%', '0.00%', ..., '6.20%', '7.67%', '7.79%'],\n",
       "      dtype=object)"
      ]
     },
     "execution_count": 60,
     "metadata": {},
     "output_type": "execute_result"
    }
   ],
   "source": [
    "df['Case Fatality Rate'].unique()"
   ]
  },
  {
   "cell_type": "code",
   "execution_count": 61,
   "id": "c72f66a9",
   "metadata": {},
   "outputs": [],
   "source": [
    "import statistics\n",
    "\n",
    "df['Total Cities'] = statistics.mode(df['Total Cities'])\n",
    "df['Total Rural Villages'] = statistics.mode(df['Total Rural Villages'])\n",
    "df['Total Urban Villages'] = statistics.mode(df['Total Urban Villages'])\n"
   ]
  },
  {
   "cell_type": "code",
   "execution_count": 62,
   "id": "d2ba376d",
   "metadata": {},
   "outputs": [],
   "source": [
    "df['Growth Factor of New Cases'] = df['Growth Factor of New Cases'].fillna(df['Growth Factor of New Cases'].mean())\n",
    "df['Growth Factor of New Deaths'] = df['Growth Factor of New Deaths'].fillna(df['Growth Factor of New Deaths'].mean()) \n"
   ]
  },
  {
   "cell_type": "code",
   "execution_count": 63,
   "id": "4a1edb29",
   "metadata": {},
   "outputs": [],
   "source": [
    "df = df.drop(['City or Regency', 'Special Status','Province', 'Island', 'Time Zone'], axis=1)"
   ]
  },
  {
   "cell_type": "code",
   "execution_count": 64,
   "id": "9f555c1b",
   "metadata": {},
   "outputs": [
    {
     "name": "stdout",
     "output_type": "stream",
     "text": [
      "<class 'pandas.core.frame.DataFrame'>\n",
      "RangeIndex: 31822 entries, 0 to 31821\n",
      "Data columns (total 33 columns):\n",
      " #   Column                       Non-Null Count  Dtype  \n",
      "---  ------                       --------------  -----  \n",
      " 0   Date                         31822 non-null  object \n",
      " 1   Location ISO Code            31822 non-null  object \n",
      " 2   Location                     31822 non-null  object \n",
      " 3   New Cases                    31822 non-null  int64  \n",
      " 4   New Deaths                   31822 non-null  int64  \n",
      " 5   New Recovered                31822 non-null  int64  \n",
      " 6   New Active Cases             31822 non-null  int64  \n",
      " 7   Total Cases                  31822 non-null  int64  \n",
      " 8   Total Deaths                 31822 non-null  int64  \n",
      " 9   Total Recovered              31822 non-null  int64  \n",
      " 10  Total Active Cases           31822 non-null  int64  \n",
      " 11  Location Level               31822 non-null  object \n",
      " 12  Country                      31822 non-null  object \n",
      " 13  Continent                    31822 non-null  object \n",
      " 14  Total Regencies              31822 non-null  int64  \n",
      " 15  Total Cities                 31822 non-null  float64\n",
      " 16  Total Districts              31822 non-null  int64  \n",
      " 17  Total Urban Villages         31822 non-null  float64\n",
      " 18  Total Rural Villages         31822 non-null  float64\n",
      " 19  Area (km2)                   31822 non-null  int64  \n",
      " 20  Population                   31822 non-null  int64  \n",
      " 21  Population Density           31822 non-null  float64\n",
      " 22  Longitude                    31822 non-null  float64\n",
      " 23  Latitude                     31822 non-null  float64\n",
      " 24  New Cases per Million        31822 non-null  float64\n",
      " 25  Total Cases per Million      31822 non-null  float64\n",
      " 26  New Deaths per Million       31822 non-null  float64\n",
      " 27  Total Deaths per Million     31822 non-null  float64\n",
      " 28  Total Deaths per 100rb       31822 non-null  float64\n",
      " 29  Case Fatality Rate           31822 non-null  object \n",
      " 30  Case Recovered Rate          31822 non-null  object \n",
      " 31  Growth Factor of New Cases   31822 non-null  float64\n",
      " 32  Growth Factor of New Deaths  31822 non-null  float64\n",
      "dtypes: float64(13), int64(12), object(8)\n",
      "memory usage: 8.0+ MB\n"
     ]
    }
   ],
   "source": [
    "# df2 = df.drop([])\n",
    "df.info()"
   ]
  },
  {
   "cell_type": "code",
   "execution_count": 65,
   "id": "3d266893",
   "metadata": {},
   "outputs": [],
   "source": [
    "# sn.heatmap(df.corr(), annot=True)"
   ]
  },
  {
   "cell_type": "code",
   "execution_count": 66,
   "id": "230d07de",
   "metadata": {},
   "outputs": [
    {
     "name": "stdout",
     "output_type": "stream",
     "text": [
      "<class 'pandas.core.frame.DataFrame'>\n",
      "RangeIndex: 31822 entries, 0 to 31821\n",
      "Data columns (total 33 columns):\n",
      " #   Column                       Non-Null Count  Dtype  \n",
      "---  ------                       --------------  -----  \n",
      " 0   Date                         31822 non-null  object \n",
      " 1   Location ISO Code            31822 non-null  object \n",
      " 2   Location                     31822 non-null  object \n",
      " 3   New Cases                    31822 non-null  int64  \n",
      " 4   New Deaths                   31822 non-null  int64  \n",
      " 5   New Recovered                31822 non-null  int64  \n",
      " 6   New Active Cases             31822 non-null  int64  \n",
      " 7   Total Cases                  31822 non-null  int64  \n",
      " 8   Total Deaths                 31822 non-null  int64  \n",
      " 9   Total Recovered              31822 non-null  int64  \n",
      " 10  Total Active Cases           31822 non-null  int64  \n",
      " 11  Location Level               31822 non-null  object \n",
      " 12  Country                      31822 non-null  object \n",
      " 13  Continent                    31822 non-null  object \n",
      " 14  Total Regencies              31822 non-null  int64  \n",
      " 15  Total Cities                 31822 non-null  float64\n",
      " 16  Total Districts              31822 non-null  int64  \n",
      " 17  Total Urban Villages         31822 non-null  float64\n",
      " 18  Total Rural Villages         31822 non-null  float64\n",
      " 19  Area (km2)                   31822 non-null  int64  \n",
      " 20  Population                   31822 non-null  int64  \n",
      " 21  Population Density           31822 non-null  float64\n",
      " 22  Longitude                    31822 non-null  float64\n",
      " 23  Latitude                     31822 non-null  float64\n",
      " 24  New Cases per Million        31822 non-null  float64\n",
      " 25  Total Cases per Million      31822 non-null  float64\n",
      " 26  New Deaths per Million       31822 non-null  float64\n",
      " 27  Total Deaths per Million     31822 non-null  float64\n",
      " 28  Total Deaths per 100rb       31822 non-null  float64\n",
      " 29  Case Fatality Rate           31822 non-null  object \n",
      " 30  Case Recovered Rate          31822 non-null  object \n",
      " 31  Growth Factor of New Cases   31822 non-null  float64\n",
      " 32  Growth Factor of New Deaths  31822 non-null  float64\n",
      "dtypes: float64(13), int64(12), object(8)\n",
      "memory usage: 8.0+ MB\n"
     ]
    }
   ],
   "source": [
    "df.info()"
   ]
  },
  {
   "cell_type": "code",
   "execution_count": 67,
   "id": "0b0d5d57",
   "metadata": {},
   "outputs": [],
   "source": [
    "df['Date'] = pd.to_datetime(df['Date'])"
   ]
  },
  {
   "cell_type": "code",
   "execution_count": 68,
   "id": "783e39b7",
   "metadata": {},
   "outputs": [
    {
     "data": {
      "text/plain": [
       "0        51.28\n",
       "1        48.78\n",
       "2         0.00\n",
       "3         0.00\n",
       "4        46.51\n",
       "         ...  \n",
       "31817     2.30\n",
       "31818     2.27\n",
       "31819     4.11\n",
       "31820     2.07\n",
       "31821     2.46\n",
       "Name: Case Fatality Rate, Length: 31822, dtype: float64"
      ]
     },
     "execution_count": 68,
     "metadata": {},
     "output_type": "execute_result"
    }
   ],
   "source": [
    "df['Case Fatality Rate'] = df['Case Fatality Rate'].apply(lambda x : x.replace('%', ''))\n",
    "df['Case Fatality Rate'] = df['Case Fatality Rate'].apply(lambda x: float(x))\n",
    "\n",
    "df['Case Fatality Rate']"
   ]
  },
  {
   "cell_type": "code",
   "execution_count": 69,
   "id": "42c4a4a3",
   "metadata": {},
   "outputs": [
    {
     "data": {
      "text/plain": [
       "0        192.31\n",
       "1        182.93\n",
       "2          0.00\n",
       "3        100.00\n",
       "4        174.42\n",
       "          ...  \n",
       "31817     96.64\n",
       "31818     97.54\n",
       "31819     95.51\n",
       "31820     97.52\n",
       "31821     97.09\n",
       "Name: Case Recovered Rate, Length: 31822, dtype: float64"
      ]
     },
     "execution_count": 69,
     "metadata": {},
     "output_type": "execute_result"
    }
   ],
   "source": [
    "df['Case Recovered Rate'] = df['Case Recovered Rate'].apply(lambda x : x.replace('%', ''))\n",
    "df['Case Recovered Rate'] = df['Case Recovered Rate'].apply(lambda x: float(x))\n",
    "\n",
    "df['Case Recovered Rate']"
   ]
  },
  {
   "cell_type": "code",
   "execution_count": 70,
   "id": "e6364ca8",
   "metadata": {},
   "outputs": [
    {
     "name": "stdout",
     "output_type": "stream",
     "text": [
      "<class 'pandas.core.frame.DataFrame'>\n",
      "RangeIndex: 31822 entries, 0 to 31821\n",
      "Data columns (total 33 columns):\n",
      " #   Column                       Non-Null Count  Dtype         \n",
      "---  ------                       --------------  -----         \n",
      " 0   Date                         31822 non-null  datetime64[ns]\n",
      " 1   Location ISO Code            31822 non-null  object        \n",
      " 2   Location                     31822 non-null  object        \n",
      " 3   New Cases                    31822 non-null  int64         \n",
      " 4   New Deaths                   31822 non-null  int64         \n",
      " 5   New Recovered                31822 non-null  int64         \n",
      " 6   New Active Cases             31822 non-null  int64         \n",
      " 7   Total Cases                  31822 non-null  int64         \n",
      " 8   Total Deaths                 31822 non-null  int64         \n",
      " 9   Total Recovered              31822 non-null  int64         \n",
      " 10  Total Active Cases           31822 non-null  int64         \n",
      " 11  Location Level               31822 non-null  object        \n",
      " 12  Country                      31822 non-null  object        \n",
      " 13  Continent                    31822 non-null  object        \n",
      " 14  Total Regencies              31822 non-null  int64         \n",
      " 15  Total Cities                 31822 non-null  float64       \n",
      " 16  Total Districts              31822 non-null  int64         \n",
      " 17  Total Urban Villages         31822 non-null  float64       \n",
      " 18  Total Rural Villages         31822 non-null  float64       \n",
      " 19  Area (km2)                   31822 non-null  int64         \n",
      " 20  Population                   31822 non-null  int64         \n",
      " 21  Population Density           31822 non-null  float64       \n",
      " 22  Longitude                    31822 non-null  float64       \n",
      " 23  Latitude                     31822 non-null  float64       \n",
      " 24  New Cases per Million        31822 non-null  float64       \n",
      " 25  Total Cases per Million      31822 non-null  float64       \n",
      " 26  New Deaths per Million       31822 non-null  float64       \n",
      " 27  Total Deaths per Million     31822 non-null  float64       \n",
      " 28  Total Deaths per 100rb       31822 non-null  float64       \n",
      " 29  Case Fatality Rate           31822 non-null  float64       \n",
      " 30  Case Recovered Rate          31822 non-null  float64       \n",
      " 31  Growth Factor of New Cases   31822 non-null  float64       \n",
      " 32  Growth Factor of New Deaths  31822 non-null  float64       \n",
      "dtypes: datetime64[ns](1), float64(15), int64(12), object(5)\n",
      "memory usage: 8.0+ MB\n"
     ]
    }
   ],
   "source": [
    "# ob = df.dtypes == 'object'\n",
    "# ob.sum()\n",
    "df.info()"
   ]
  },
  {
   "cell_type": "code",
   "execution_count": 71,
   "id": "b8b2ef4d",
   "metadata": {},
   "outputs": [],
   "source": [
    "# obj = ['Location ISO Code', 'Location','Location Level', 'Country', 'Continent']\n",
    "\n",
    "# for i in obj:\n",
    "#     df[i] = df[i].astype('category')\n",
    "    \n",
    "# df.info()"
   ]
  },
  {
   "cell_type": "code",
   "execution_count": 72,
   "id": "03c02c43",
   "metadata": {},
   "outputs": [],
   "source": [
    "obj = ['Location ISO Code', 'Location','Location Level', 'Country', 'Continent']\n",
    "df = df.drop(obj, axis=1)"
   ]
  },
  {
   "cell_type": "code",
   "execution_count": 73,
   "id": "36359077",
   "metadata": {},
   "outputs": [],
   "source": [
    "col = df.columns\n",
    "# col = col.drop('Growth Factor of New Cases')\n",
    "col = col.drop('Date')"
   ]
  },
  {
   "cell_type": "code",
   "execution_count": 74,
   "id": "3940096e",
   "metadata": {},
   "outputs": [],
   "source": [
    "X = df[col]\n",
    "y = df['Growth Factor of New Cases']"
   ]
  },
  {
   "cell_type": "code",
   "execution_count": 75,
   "id": "d97b7f51",
   "metadata": {},
   "outputs": [],
   "source": [
    "from sklearn.model_selection import train_test_split\n",
    "\n",
    "X_train, X_test, y_train, y_test = train_test_split(X, y , test_size=0.3, random_state=101)"
   ]
  },
  {
   "cell_type": "code",
   "execution_count": 111,
   "id": "72f34304",
   "metadata": {},
   "outputs": [
    {
     "data": {
      "text/plain": [
       "KNeighborsRegressor(n_neighbors=2)"
      ]
     },
     "execution_count": 111,
     "metadata": {},
     "output_type": "execute_result"
    }
   ],
   "source": [
    "# KNWIGHBORS \n",
    "from sklearn.neighbors import KNeighborsRegressor\n",
    "from sklearn.pipeline import Pipeline\n",
    "\n",
    "knn = KNeighborsRegressor(n_neighbors=2)\n",
    "knn.fit(X_train, y_train)"
   ]
  },
  {
   "cell_type": "code",
   "execution_count": 112,
   "id": "88b27e1d",
   "metadata": {},
   "outputs": [
    {
     "data": {
      "text/plain": [
       "0.591337752636208"
      ]
     },
     "execution_count": 112,
     "metadata": {},
     "output_type": "execute_result"
    }
   ],
   "source": [
    "knn.score(X_train, y_train)"
   ]
  },
  {
   "cell_type": "code",
   "execution_count": 110,
   "id": "bf2e87f0",
   "metadata": {},
   "outputs": [
    {
     "data": {
      "text/plain": [
       "-0.4538771242307549"
      ]
     },
     "execution_count": 110,
     "metadata": {},
     "output_type": "execute_result"
    }
   ],
   "source": [
    "knn.score(X_test, y_test)"
   ]
  },
  {
   "cell_type": "code",
   "execution_count": 105,
   "id": "0ef89f89",
   "metadata": {},
   "outputs": [],
   "source": [
    "from sklearn import tree\n",
    "\n",
    "dct = tree.DecisionTreeRegressor(max_depth=3, criterion='squared_error')\n",
    "dct = dct.fit(X_train, y_train)"
   ]
  },
  {
   "cell_type": "code",
   "execution_count": 106,
   "id": "d8a4318c",
   "metadata": {},
   "outputs": [
    {
     "data": {
      "text/plain": [
       "0.9427804586989523"
      ]
     },
     "execution_count": 106,
     "metadata": {},
     "output_type": "execute_result"
    }
   ],
   "source": [
    "dct.score(X_train, y_train)"
   ]
  },
  {
   "cell_type": "code",
   "execution_count": 107,
   "id": "bd2686cb",
   "metadata": {},
   "outputs": [
    {
     "data": {
      "text/plain": [
       "0.8812710090312638"
      ]
     },
     "execution_count": 107,
     "metadata": {},
     "output_type": "execute_result"
    }
   ],
   "source": [
    "dct.score(X_test, y_test)"
   ]
  },
  {
   "cell_type": "code",
   "execution_count": 122,
   "id": "99164e13",
   "metadata": {},
   "outputs": [
    {
     "data": {
      "text/plain": [
       "GradientBoostingRegressor(learning_rate=0.01, random_state=7)"
      ]
     },
     "execution_count": 122,
     "metadata": {},
     "output_type": "execute_result"
    }
   ],
   "source": [
    "from sklearn.datasets import make_regression\n",
    "from sklearn.ensemble import GradientBoostingRegressor\n",
    "# from sklearn.model_selection import \n",
    "\n",
    "reg = GradientBoostingRegressor(random_state=7, learning_rate=0.01)\n",
    "reg.fit(X_train, y_train)"
   ]
  },
  {
   "cell_type": "code",
   "execution_count": 123,
   "id": "1cd914c8",
   "metadata": {},
   "outputs": [
    {
     "data": {
      "text/plain": [
       "0.8465557815289917"
      ]
     },
     "execution_count": 123,
     "metadata": {},
     "output_type": "execute_result"
    }
   ],
   "source": [
    "reg.score(X_train, y_train)"
   ]
  },
  {
   "cell_type": "code",
   "execution_count": 124,
   "id": "238bd671",
   "metadata": {},
   "outputs": [
    {
     "data": {
      "text/plain": [
       "0.8465557815289917"
      ]
     },
     "execution_count": 124,
     "metadata": {},
     "output_type": "execute_result"
    }
   ],
   "source": [
    "reg.score(X_train, y_train)"
   ]
  },
  {
   "cell_type": "code",
   "execution_count": 129,
   "id": "00c0ceae",
   "metadata": {},
   "outputs": [
    {
     "data": {
      "text/plain": [
       "0        1.326795\n",
       "1        1.000000\n",
       "2        1.326795\n",
       "3        1.326795\n",
       "4        1.000000\n",
       "           ...   \n",
       "31817    2.850000\n",
       "31818    6.500000\n",
       "31819    3.200000\n",
       "31820    1.920000\n",
       "31821    0.890000\n",
       "Name: Growth Factor of New Cases, Length: 31822, dtype: float64"
      ]
     },
     "execution_count": 129,
     "metadata": {},
     "output_type": "execute_result"
    }
   ],
   "source": [
    "y"
   ]
  },
  {
   "cell_type": "code",
   "execution_count": 134,
   "id": "5e8f53fb",
   "metadata": {},
   "outputs": [
    {
     "data": {
      "text/plain": [
       "array([1.27698952, 1.13767645, 0.93172208, 1.05713002, 0.78708323])"
      ]
     },
     "execution_count": 134,
     "metadata": {},
     "output_type": "execute_result"
    }
   ],
   "source": [
    "reg.predict(X_train[0:5])"
   ]
  },
  {
   "cell_type": "code",
   "execution_count": null,
   "id": "7d2407d7",
   "metadata": {},
   "outputs": [],
   "source": []
  }
 ],
 "metadata": {
  "kernelspec": {
   "display_name": "Python 3 (ipykernel)",
   "language": "python",
   "name": "python3"
  },
  "language_info": {
   "codemirror_mode": {
    "name": "ipython",
    "version": 3
   },
   "file_extension": ".py",
   "mimetype": "text/x-python",
   "name": "python",
   "nbconvert_exporter": "python",
   "pygments_lexer": "ipython3",
   "version": "3.9.13"
  }
 },
 "nbformat": 4,
 "nbformat_minor": 5
}
