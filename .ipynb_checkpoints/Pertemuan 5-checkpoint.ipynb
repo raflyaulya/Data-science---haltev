{
 "cells": [
  {
   "cell_type": "code",
   "execution_count": 2,
   "id": "c4973b04",
   "metadata": {},
   "outputs": [],
   "source": [
    "# Function \n",
    "# def  ==>  this is a function\n",
    "\n",
    "def welcome():\n",
    "    print('welcome to python')\n",
    "    return 'Berhasil!'"
   ]
  },
  {
   "cell_type": "code",
   "execution_count": 3,
   "id": "3866a73b",
   "metadata": {},
   "outputs": [
    {
     "name": "stdout",
     "output_type": "stream",
     "text": [
      "welcome to python\n"
     ]
    },
    {
     "data": {
      "text/plain": [
       "'Berhasil!'"
      ]
     },
     "execution_count": 3,
     "metadata": {},
     "output_type": "execute_result"
    }
   ],
   "source": [
    "welcome()"
   ]
  },
  {
   "cell_type": "code",
   "execution_count": 4,
   "id": "9efa08b0",
   "metadata": {},
   "outputs": [
    {
     "name": "stdout",
     "output_type": "stream",
     "text": [
      "welcome to python\n"
     ]
    },
    {
     "data": {
      "text/plain": [
       "'Berhasil!'"
      ]
     },
     "execution_count": 4,
     "metadata": {},
     "output_type": "execute_result"
    }
   ],
   "source": [
    "welcome()"
   ]
  },
  {
   "cell_type": "code",
   "execution_count": 5,
   "id": "372ad9bf",
   "metadata": {},
   "outputs": [
    {
     "name": "stdout",
     "output_type": "stream",
     "text": [
      "welcome to python\n"
     ]
    }
   ],
   "source": [
    "a = welcome()"
   ]
  },
  {
   "cell_type": "code",
   "execution_count": 6,
   "id": "b54f79ff",
   "metadata": {},
   "outputs": [
    {
     "name": "stdout",
     "output_type": "stream",
     "text": [
      "Berhasil!\n"
     ]
    }
   ],
   "source": [
    "print(a)"
   ]
  },
  {
   "cell_type": "code",
   "execution_count": 7,
   "id": "825887fa",
   "metadata": {},
   "outputs": [],
   "source": [
    "import math\n",
    "\n",
    "def pythagoras(a,b):\n",
    "    c = math.sqrt( (a**2) + (b**2) )\n",
    "    return c\n",
    "# pythagoras()"
   ]
  },
  {
   "cell_type": "code",
   "execution_count": 8,
   "id": "08dd4332",
   "metadata": {
    "scrolled": true
   },
   "outputs": [
    {
     "name": "stdout",
     "output_type": "stream",
     "text": [
      "5.0\n"
     ]
    }
   ],
   "source": [
    "x= pythagoras(3,4)\n",
    "print(x)"
   ]
  },
  {
   "cell_type": "code",
   "execution_count": 9,
   "id": "6323a1a5",
   "metadata": {},
   "outputs": [
    {
     "name": "stdout",
     "output_type": "stream",
     "text": [
      "5.0\n"
     ]
    }
   ],
   "source": [
    "print(pythagoras(b=3, a=4))"
   ]
  },
  {
   "cell_type": "code",
   "execution_count": 10,
   "id": "43c08a68",
   "metadata": {},
   "outputs": [
    {
     "data": {
      "text/plain": [
       "5.0"
      ]
     },
     "execution_count": 10,
     "metadata": {},
     "output_type": "execute_result"
    }
   ],
   "source": [
    "pythagoras_v2 = lambda a,b: math.sqrt(a**2+b**2)\n",
    "pythagoras_v2(3,4)"
   ]
  },
  {
   "cell_type": "code",
   "execution_count": 48,
   "id": "a3614cc2",
   "metadata": {},
   "outputs": [
    {
     "name": "stdout",
     "output_type": "stream",
     "text": [
      "\n",
      "\n",
      "recursion example results\n",
      "1\n",
      "3\n",
      "6\n",
      "10\n",
      "15\n",
      "21\n"
     ]
    },
    {
     "data": {
      "text/plain": [
       "21"
      ]
     },
     "execution_count": 48,
     "metadata": {},
     "output_type": "execute_result"
    }
   ],
   "source": [
    "def recur(k):\n",
    "    if(k > 0):\n",
    "        res = k + recur(k - 1)\n",
    "        print(res)\n",
    "    else:\n",
    "        res = 0\n",
    "    return res\n",
    "\n",
    "print('\\n\\nrecursion example results')\n",
    "recur(6)"
   ]
  },
  {
   "cell_type": "code",
   "execution_count": 12,
   "id": "5d93cb80",
   "metadata": {},
   "outputs": [],
   "source": [
    "# r(6) = 21\n",
    "# 6 + r(5)\n",
    "# 5 + ...\n",
    "# 3 + 3\n",
    "# 2 + 1\n",
    "# 1 + 0\n",
    "# r(0) = 0"
   ]
  },
  {
   "cell_type": "code",
   "execution_count": 13,
   "id": "088b61eb",
   "metadata": {},
   "outputs": [
    {
     "name": "stdout",
     "output_type": "stream",
     "text": [
      "6\n"
     ]
    }
   ],
   "source": [
    "def faktor(n):\n",
    "#     if (n>0):\n",
    "#         res = \n",
    "#     for i in range(1, n+1):\n",
    "#         fak *= i\n",
    "#     print(fak)\n",
    "\n",
    "    faktor_i = math.factorial(n)\n",
    "    return faktor_i\n",
    "            \n",
    "print(faktor(3))"
   ]
  },
  {
   "cell_type": "code",
   "execution_count": 39,
   "id": "3b176b6b",
   "metadata": {},
   "outputs": [
    {
     "name": "stdout",
     "output_type": "stream",
     "text": [
      "\n",
      "\n",
      "fibbonaci example results\n",
      "1\n",
      "1\n",
      "2\n",
      "3\n",
      "5\n",
      "8\n",
      "None\n"
     ]
    }
   ],
   "source": [
    "def fib(k):\n",
    "    f1 = 1\n",
    "    f2 = 1\n",
    "    count = 0\n",
    "        \n",
    "    while count < k:\n",
    "        print(f1)\n",
    "        k_new = f1 + f2\n",
    "        f1 = f2\n",
    "        f2 = k_new\n",
    "        \n",
    "        count += 1\n",
    "#     else:\n",
    "#         count = 0\n",
    "#     return\n",
    "\n",
    "print('\\n\\nfibbonaci example results')\n",
    "    \n",
    "print(fib(6))    # hasil 1 1 2 3 5 8 13       1 2 3 4"
   ]
  },
  {
   "cell_type": "code",
   "execution_count": 47,
   "id": "2408c7d6",
   "metadata": {},
   "outputs": [
    {
     "name": "stdout",
     "output_type": "stream",
     "text": [
      "1\n",
      "1\n",
      "2\n",
      "3\n",
      "5\n",
      "8\n",
      "13\n",
      "21\n",
      "34\n",
      "55\n"
     ]
    }
   ],
   "source": [
    "# dokumentasi FIBONACCI\n",
    "\n",
    "def fibo(n):\n",
    "    if n > 2:\n",
    "        res = fibo(n-1) + fibo(n-2)\n",
    "    else:\n",
    "        res = 1\n",
    "    return res\n",
    "# fibo(5)\n",
    "\n",
    "for i in range(10):\n",
    "    print(fibo(i+1))"
   ]
  },
  {
   "cell_type": "code",
   "execution_count": 60,
   "id": "a4f48499",
   "metadata": {},
   "outputs": [
    {
     "data": {
      "text/plain": [
       "720"
      ]
     },
     "execution_count": 60,
     "metadata": {},
     "output_type": "execute_result"
    }
   ],
   "source": [
    "import fungsi as fg\n",
    "\n",
    "fg.faktor(6)"
   ]
  },
  {
   "cell_type": "code",
   "execution_count": null,
   "id": "856ac735",
   "metadata": {},
   "outputs": [],
   "source": []
  }
 ],
 "metadata": {
  "kernelspec": {
   "display_name": "Python 3 (ipykernel)",
   "language": "python",
   "name": "python3"
  },
  "language_info": {
   "codemirror_mode": {
    "name": "ipython",
    "version": 3
   },
   "file_extension": ".py",
   "mimetype": "text/x-python",
   "name": "python",
   "nbconvert_exporter": "python",
   "pygments_lexer": "ipython3",
   "version": "3.9.13"
  }
 },
 "nbformat": 4,
 "nbformat_minor": 5
}
