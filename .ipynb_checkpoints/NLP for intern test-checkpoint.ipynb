{
 "cells": [
  {
   "cell_type": "code",
   "execution_count": 1,
   "id": "69cdffd1",
   "metadata": {},
   "outputs": [],
   "source": [
    "import requests \n",
    "import string \n",
    "import re\n",
    "\n",
    "from bs4 import BeautifulSoup\n",
    "import nltk\n",
    "from nltk.corpus import stopwords\n",
    "from textstat.textstat import textstatistics #, legacy_round"
   ]
  },
  {
   "cell_type": "code",
   "execution_count": 2,
   "id": "03bc6ea8",
   "metadata": {},
   "outputs": [
    {
     "name": "stdout",
     "output_type": "stream",
     "text": [
      "input URL link below:\n",
      "https://www.bbc.com/news/live/uk-65371585\n"
     ]
    }
   ],
   "source": [
    "# input the url link \n",
    "url = input('input URL link below:\\n') \n",
    "web = requests.get(url).text  \n"
   ]
  },
  {
   "cell_type": "code",
   "execution_count": 3,
   "id": "48eae43d",
   "metadata": {},
   "outputs": [],
   "source": [
    "soup = BeautifulSoup(web)"
   ]
  },
  {
   "cell_type": "code",
   "execution_count": 4,
   "id": "42fcbad2",
   "metadata": {},
   "outputs": [],
   "source": [
    "for s in soup(['script', 'style']):\n",
    "    s.decompose"
   ]
  },
  {
   "cell_type": "code",
   "execution_count": 5,
   "id": "ef6c04e8",
   "metadata": {},
   "outputs": [],
   "source": [
    "text = ' '.join(soup.stripped_strings)\n",
    "text = re.sub(r'\\d+', '', text)"
   ]
  },
  {
   "cell_type": "code",
   "execution_count": 6,
   "id": "ca27c6f2",
   "metadata": {},
   "outputs": [],
   "source": [
    "rawtext = text"
   ]
  },
  {
   "cell_type": "code",
   "execution_count": 7,
   "id": "90761df3",
   "metadata": {},
   "outputs": [],
   "source": [
    "text = text.lower()"
   ]
  },
  {
   "cell_type": "code",
   "execution_count": 8,
   "id": "d4ec93a0",
   "metadata": {},
   "outputs": [],
   "source": [
    "full_text = text"
   ]
  },
  {
   "cell_type": "code",
   "execution_count": 9,
   "id": "60096fb3",
   "metadata": {},
   "outputs": [],
   "source": [
    "text = text.translate(str.maketrans('', '', string.punctuation))"
   ]
  },
  {
   "cell_type": "code",
   "execution_count": 10,
   "id": "881a3720",
   "metadata": {},
   "outputs": [
    {
     "name": "stdout",
     "output_type": "stream",
     "text": [
      "27956\n",
      "<class 'str'>\n"
     ]
    }
   ],
   "source": [
    "print(len(text))\n",
    "print(type(text))"
   ]
  },
  {
   "cell_type": "code",
   "execution_count": 11,
   "id": "05c0efbd",
   "metadata": {},
   "outputs": [],
   "source": [
    "tokens = [word for word in text.split()]\n",
    "# print(tokens)"
   ]
  },
  {
   "cell_type": "code",
   "execution_count": 12,
   "id": "e0c4bae0",
   "metadata": {},
   "outputs": [
    {
     "data": {
      "text/plain": [
       "4737"
      ]
     },
     "execution_count": 12,
     "metadata": {},
     "output_type": "execute_result"
    }
   ],
   "source": [
    "len(tokens)"
   ]
  },
  {
   "cell_type": "code",
   "execution_count": 13,
   "id": "5fb9c353",
   "metadata": {},
   "outputs": [],
   "source": [
    "stopword_file = 'stopwords.txt'\n",
    "\n",
    "def remove_stopwords(tokens, stopword_file):  # clean_tokens\n",
    "    with open(stopword_file, 'r') as f:\n",
    "#         stop_words = f.read().splitlines()\n",
    "        stop_words = [word.lower() for word in f.read().splitlines()]\n",
    "    filtered_tokens = []\n",
    "    \n",
    "    for token in tokens:  # clean_tokens\n",
    "        if token.lower() not in stop_words:\n",
    "            filtered_tokens.append(token)\n",
    "    return filtered_tokens\n"
   ]
  },
  {
   "cell_type": "code",
   "execution_count": 14,
   "id": "03b678a2",
   "metadata": {},
   "outputs": [],
   "source": [
    "filtered_tokens = remove_stopwords(tokens, 'stopwords.txt')  # clean_tokens\n",
    "clean_tokens = filtered_tokens\n"
   ]
  },
  {
   "cell_type": "code",
   "execution_count": 15,
   "id": "1e499be9",
   "metadata": {},
   "outputs": [
    {
     "data": {
      "text/plain": [
       "2328"
      ]
     },
     "execution_count": 15,
     "metadata": {},
     "output_type": "execute_result"
    }
   ],
   "source": [
    "len(clean_tokens)"
   ]
  },
  {
   "cell_type": "markdown",
   "id": "e4099410",
   "metadata": {},
   "source": [
    "# Positive and Negative scores"
   ]
  },
  {
   "cell_type": "code",
   "execution_count": 16,
   "id": "e79b459e",
   "metadata": {},
   "outputs": [
    {
     "name": "stdout",
     "output_type": "stream",
     "text": [
      "total the positive words: 29\n",
      "the positive words contain:  ['cleverly', 'cleverly', 'cleverly', 'tough', 'luckier', 'luckier', 'support', 'top', 'rapid', 'support', 'safe', 'work', 'rapid', 'support', 'safe', 'kindness', 'safe', 'delicate', 'hopeful', 'secure', 'safe', 'survivor', 'protect', 'tough', 'top', 'powerful', 'successfully', 'vibrant', 'guidance']\n"
     ]
    }
   ],
   "source": [
    "with open('positive-words.txt', 'r') as f:\n",
    "    positive_words = set(f.read().split())\n",
    "\n",
    "words = clean_tokens\n",
    "\n",
    "positive = [word for word in words if word.lower() in positive_words] \n",
    "\n",
    "print('total the positive words:', len(positive))\n",
    "print('the positive words contain:\\n',positive)"
   ]
  },
  {
   "cell_type": "code",
   "execution_count": 17,
   "id": "33c6b0fc",
   "metadata": {},
   "outputs": [
    {
     "name": "stdout",
     "output_type": "stream",
     "text": [
      "total negative words -103\n",
      "the negative words contain: ['breaking', 'breaking', 'breaking', 'threats', 'threats', 'threats', 'criticism', 'stuck', 'stuck', 'desperate', 'rival', 'shaky', 'warning', 'risk', 'chaos', 'death', 'desert', 'tanks', 'perilous', 'chaotic', 'lies', 'breaking', 'conflict', 'struggling', 'struggling', 'violent', 'dead', 'violent', 'dead', 'intense', 'conflict', 'criticism', 'stuck', 'desperate', 'risk', 'devastation', 'devastation', 'dead', 'destruction', 'flee', 'scared', 'slow', 'broken', 'nervousness', 'conflict', 'difficult', 'issues', 'fleeing', 'worrying', 'flee', 'hard', 'unpredictable', 'dire', 'unpredictable', 'worried', 'stuck', 'conflict', 'stuck', 'conflict', 'concerned', 'genocide', 'criminal', 'genocide', 'denies', 'concerned', 'killed', 'poor', 'worse', 'desperate', 'fleeing', 'exhausted', 'weak', 'suffering', 'fever', 'symptoms', 'rival', 'intermittent', 'desperate', 'flee', 'false', 'disappointed', 'stuck', 'exasperation', 'fear', 'flee', 'flee', 'intense', 'killed', 'lost', 'uneasy', 'trapped', 'stuck', 'fierce', 'desperate', 'flee', 'lying', 'dilemma', 'suffers', 'crisis', 'conflict', 'shock', 'anger', 'complaint']\n"
     ]
    }
   ],
   "source": [
    "with open('negative-words.txt', 'r') as f:\n",
    "    negative_words = set(f.read().split())\n",
    "\n",
    "words = clean_tokens\n",
    "\n",
    "negative = [word for word in words if word.lower() in negative_words]\n",
    "num_negative = len(negative) * -1\n",
    "print('total negative words', num_negative)\n",
    "print('the negative words contain:\\n', negative)"
   ]
  },
  {
   "cell_type": "markdown",
   "id": "58beb732",
   "metadata": {},
   "source": [
    "# Polarity Score"
   ]
  },
  {
   "cell_type": "code",
   "execution_count": 18,
   "id": "81dc2586",
   "metadata": {},
   "outputs": [
    {
     "name": "stdout",
     "output_type": "stream",
     "text": [
      "polarity score adalah: -0.5606\n"
     ]
    }
   ],
   "source": [
    "positive_score = len(positive) * 1\n",
    "negative_score = len(negative) * 1\n",
    "\n",
    "polarity_score = (positive_score - negative_score) / (positive_score + negative_score + 0.00001)\n",
    "\n",
    "# Range is from -1 to +1\n",
    "print('polarity score adalah:', round(polarity_score, 4))"
   ]
  },
  {
   "cell_type": "code",
   "execution_count": 19,
   "id": "df18c7b7",
   "metadata": {},
   "outputs": [
    {
     "name": "stdout",
     "output_type": "stream",
     "text": [
      "Subjectivity score: 0.056701030903478944\n"
     ]
    }
   ],
   "source": [
    "# CARI SUBJEKTIVITY SCORE\n",
    "totalWords_afterCleaning = len(clean_tokens)\n",
    "\n",
    "subjectivity_score = (positive_score + negative_score)/ ((totalWords_afterCleaning) + 0.000001) \n",
    "# Range is from 0 to +1\n",
    "print('Subjectivity score:', subjectivity_score)"
   ]
  },
  {
   "cell_type": "markdown",
   "id": "dbec1779",
   "metadata": {},
   "source": [
    "# Analysis of Readability"
   ]
  },
  {
   "cell_type": "code",
   "execution_count": 20,
   "id": "49842739",
   "metadata": {},
   "outputs": [
    {
     "name": "stdout",
     "output_type": "stream",
     "text": [
      "Average sentence length: 36.772413793103446\n",
      "Percentage of complex words: 0.1513503375843961\n",
      "Fog Index: 14.769505652275138\n"
     ]
    }
   ],
   "source": [
    "import syllables\n",
    "\n",
    "def is_complex(word):\n",
    "    \"\"\"\n",
    "    Checks if a given word is complex or not.\n",
    "    A word is considered complex if it has three or more syllables and is not a proper noun.\n",
    "    \"\"\"\n",
    "    if len(word) < 3 or word[0].isupper():\n",
    "        return False\n",
    "    syllable_count = syllables.estimate(word)\n",
    "    return syllable_count >= 3\n",
    "\n",
    "def analyze_readability(full_text):\n",
    "    \"\"\"\n",
    "    Analyzes the readability of a given text.\n",
    "    Returns a tuple of (average sentence length, percentage of complex words, Fog Index).\n",
    "    \"\"\"\n",
    "    # Calculate average sentence length\n",
    "    sentences = nltk.sent_tokenize(full_text)\n",
    "    num_sentences = len(sentences)\n",
    "    words = nltk.word_tokenize(full_text)\n",
    "    num_words = len(words)\n",
    "    avg_sentence_length = num_words / num_sentences\n",
    "\n",
    "    # Calculate percentage of complex words\n",
    "    num_complex_words = 0\n",
    "    for word in words:\n",
    "        if is_complex(word):\n",
    "            num_complex_words += 1\n",
    "    percent_complex_words = (num_complex_words / num_words)\n",
    "\n",
    "    # Calculate Fog Index\n",
    "    fog_index = 0.4 * (avg_sentence_length + percent_complex_words)\n",
    "\n",
    "    return (avg_sentence_length, percent_complex_words, fog_index)\n",
    "\n",
    "result = analyze_readability(full_text)\n",
    "print(\"Average sentence length:\", result[0])\n",
    "print(\"Percentage of complex words:\", result[1])\n",
    "print(\"Fog Index:\", result[2])\n"
   ]
  },
  {
   "cell_type": "markdown",
   "id": "c3a0f6df",
   "metadata": {},
   "source": [
    "# Complex word count"
   ]
  },
  {
   "cell_type": "code",
   "execution_count": 21,
   "id": "446fe860",
   "metadata": {},
   "outputs": [
    {
     "name": "stdout",
     "output_type": "stream",
     "text": [
      "complex words: 721\n"
     ]
    }
   ],
   "source": [
    "def is_complex(word):\n",
    "    if len(word) < 3 or word[0].isupper():\n",
    "        return False\n",
    "    syllable_count = syllables.estimate(word)\n",
    "    return syllable_count >= 3\n",
    "\n",
    "num_complex_words = 0\n",
    "for word in words:\n",
    "    if is_complex(word):\n",
    "        num_complex_words += 1\n",
    "print('complex words:',num_complex_words)"
   ]
  },
  {
   "cell_type": "markdown",
   "id": "873fbec5",
   "metadata": {},
   "source": [
    "# Average Number of Words Per Sentence"
   ]
  },
  {
   "cell_type": "code",
   "execution_count": 22,
   "id": "1b6c972c",
   "metadata": {},
   "outputs": [
    {
     "name": "stdout",
     "output_type": "stream",
     "text": [
      "Average Number of Words Per Sentence: 36.772413793103446\n"
     ]
    }
   ],
   "source": [
    "sentences = nltk.sent_tokenize(full_text)\n",
    "num_sentences = len(sentences)\n",
    "count_words_per_sentence = [len(nltk.word_tokenize(sentence)) for sentence in sentences] \n",
    "total_num_words = sum(count_words_per_sentence)\n",
    "\n",
    "avg_words_per_sentence = total_num_words / num_sentences\n",
    "print('Average Number of Words Per Sentence:', avg_words_per_sentence) "
   ]
  },
  {
   "cell_type": "markdown",
   "id": "b600d465",
   "metadata": {},
   "source": [
    "# Word Count (cleaned words)"
   ]
  },
  {
   "cell_type": "code",
   "execution_count": 23,
   "id": "6182db94",
   "metadata": {},
   "outputs": [
    {
     "name": "stdout",
     "output_type": "stream",
     "text": [
      "the Total cleaned words present in the text: 2328\n"
     ]
    }
   ],
   "source": [
    "num_word_count = len(clean_tokens)\n",
    "print('the Total cleaned words present in the text:',num_word_count)"
   ]
  },
  {
   "cell_type": "markdown",
   "id": "cfea0a63",
   "metadata": {},
   "source": [
    "# Syllable count per word"
   ]
  },
  {
   "cell_type": "code",
   "execution_count": 24,
   "id": "4c4ff252",
   "metadata": {},
   "outputs": [
    {
     "name": "stdout",
     "output_type": "stream",
     "text": [
      "Syllable count per word: 8954\n"
     ]
    }
   ],
   "source": [
    "def syllable_count_per_word(full_text):\n",
    "    c = 0\n",
    "    vowels = 'aeiou'\n",
    "    l = re.findall(f'(?!e$)(?!es$)(?!ed$)[{vowels}]', full_text, re.I)\n",
    "    return len(l)\n",
    "\n",
    "num_syllable_word = syllable_count_per_word(full_text)\n",
    "print('Syllable count per word:', num_syllable_word)"
   ]
  },
  {
   "cell_type": "markdown",
   "id": "7f2cfbe7",
   "metadata": {},
   "source": [
    "# Average Word Length"
   ]
  },
  {
   "cell_type": "code",
   "execution_count": 25,
   "id": "d972e0c3",
   "metadata": {},
   "outputs": [
    {
     "name": "stdout",
     "output_type": "stream",
     "text": [
      "Average word length: 4.898241985522234\n"
     ]
    }
   ],
   "source": [
    "words = full_text.split()\n",
    "\n",
    "total_char_count = sum(len(word) for word in words)\n",
    "num_words = len(words)\n",
    "\n",
    "avg_word_length = total_char_count / num_words\n",
    "print(\"Average word length:\", avg_word_length)"
   ]
  },
  {
   "cell_type": "markdown",
   "id": "b4b05409",
   "metadata": {},
   "source": [
    "# Personal Pronouns"
   ]
  },
  {
   "cell_type": "code",
   "execution_count": 26,
   "id": "d4a0972c",
   "metadata": {},
   "outputs": [
    {
     "name": "stdout",
     "output_type": "stream",
     "text": [
      "i: 18\n",
      "we: 32\n",
      "us: 7\n",
      "my: 2\n",
      "total pronouns: 59\n"
     ]
    }
   ],
   "source": [
    "pronounRegex = re.compile(r'\\b(I|we|my|ours|(?-i:us))\\b',re.I)\n",
    "pronouns = pronounRegex.findall(rawtext)\n",
    "\n",
    "#     Count the number of matches for each pronoun\n",
    "total_personal_pronouns= []\n",
    "counts = {}\n",
    "for match in pronouns:\n",
    "    if match.lower() not in counts:\n",
    "        counts[match.lower()] = 1\n",
    "    else:\n",
    "        counts[match.lower()] += 1\n",
    "            \n",
    "            \n",
    "# Print the counts for each pronoun\n",
    "for pronoun, count in counts.items():\n",
    "    print(f\"{pronoun}: {count}\")\n",
    "print('total pronouns:', len(pronouns))\n"
   ]
  },
  {
   "cell_type": "code",
   "execution_count": null,
   "id": "b66c3d5a",
   "metadata": {},
   "outputs": [],
   "source": []
  }
 ],
 "metadata": {
  "kernelspec": {
   "display_name": "Python 3 (ipykernel)",
   "language": "python",
   "name": "python3"
  },
  "language_info": {
   "codemirror_mode": {
    "name": "ipython",
    "version": 3
   },
   "file_extension": ".py",
   "mimetype": "text/x-python",
   "name": "python",
   "nbconvert_exporter": "python",
   "pygments_lexer": "ipython3",
   "version": "3.9.13"
  }
 },
 "nbformat": 4,
 "nbformat_minor": 5
}
