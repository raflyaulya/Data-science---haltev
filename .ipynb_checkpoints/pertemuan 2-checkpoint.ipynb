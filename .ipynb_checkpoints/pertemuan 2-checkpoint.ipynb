{
 "cells": [
  {
   "cell_type": "code",
   "execution_count": 8,
   "id": "2d1fc999",
   "metadata": {},
   "outputs": [
    {
     "name": "stdout",
     "output_type": "stream",
     "text": [
      "<class 'list'>\n"
     ]
    }
   ],
   "source": [
    "# Data list\n",
    "buah = ['apel', 'grape', 'papaya', 'watermelon']\n",
    "print(type(buah))"
   ]
  },
  {
   "cell_type": "code",
   "execution_count": 25,
   "id": "d8b05f04",
   "metadata": {},
   "outputs": [
    {
     "name": "stdout",
     "output_type": "stream",
     "text": [
      "jeruk\n"
     ]
    }
   ],
   "source": [
    "# Berdasarkan nomer index\n",
    "print(buah[0])\n",
    "# print(buah[4])   ==>  ERROR"
   ]
  },
  {
   "cell_type": "code",
   "execution_count": 11,
   "id": "c5fed28a",
   "metadata": {},
   "outputs": [
    {
     "name": "stdout",
     "output_type": "stream",
     "text": [
      "['apple', 'sirsak', 'papaya', 'watermelon']\n"
     ]
    }
   ],
   "source": [
    "# Update atau MENGGANTI data di list\n",
    "buah[1] = 'sirsak'\n",
    "print(buah)"
   ]
  },
  {
   "cell_type": "code",
   "execution_count": 18,
   "id": "76d5a1fc",
   "metadata": {},
   "outputs": [
    {
     "name": "stdout",
     "output_type": "stream",
     "text": [
      "apple\n"
     ]
    }
   ],
   "source": [
    "# Negative Index\n",
    "print(buah[-1])"
   ]
  },
  {
   "cell_type": "code",
   "execution_count": 28,
   "id": "261733a2",
   "metadata": {},
   "outputs": [
    {
     "name": "stdout",
     "output_type": "stream",
     "text": [
      "buah = jeruk\n",
      "['jeruk', 'jeruk', 'jambu', 'jeruk', 'apple', 'sirsak', 'papaya', 'watermelon', 'jeruk']\n"
     ]
    }
   ],
   "source": [
    "# untuk menambahkan data ke dalam data list menggunakan \n",
    "# method .append()\n",
    "buah_baru = input('buah = ')\n",
    "buah.append(buah_baru)\n",
    "print(buah)"
   ]
  },
  {
   "cell_type": "code",
   "execution_count": 27,
   "id": "cc357a11",
   "metadata": {},
   "outputs": [
    {
     "name": "stdout",
     "output_type": "stream",
     "text": [
      "['jeruk', 'jeruk', 'jambu', 'jeruk', 'apple', 'sirsak', 'papaya', 'watermelon']\n"
     ]
    }
   ],
   "source": [
    "# method .insert()\n",
    "# menambahkan data di list dgn detail berdasarkan index\n",
    "\n",
    "buah.insert(2, 'jambu')\n",
    "print(buah)"
   ]
  },
  {
   "cell_type": "code",
   "execution_count": 31,
   "id": "ccebe9b5",
   "metadata": {},
   "outputs": [
    {
     "name": "stdout",
     "output_type": "stream",
     "text": [
      "index = 1\n",
      "buah = pisang\n",
      "['pisang', 'pisang', 'pisang', 'pisang', 'jeruk', 'jambu', 'jeruk', 'apple', 'sirsak', 'papaya', 'watermelon', 'jeruk']\n"
     ]
    }
   ],
   "source": [
    "# index = int(input('index = '))\n",
    "# input_buah = input('buah = ')\n",
    "# buah.insert(index, input_buah)\n",
    "buah[0] = buah[1]\n",
    "print(buah)"
   ]
  },
  {
   "cell_type": "code",
   "execution_count": 32,
   "id": "c7565903",
   "metadata": {},
   "outputs": [
    {
     "name": "stdout",
     "output_type": "stream",
     "text": [
      "['pisang', 'pisang', 'pisang', 'pisang', 'jeruk', 'jambu', 'jeruk', 'apple', 'sirsak', 'papaya', 'watermelon', 'jeruk', 'rambutan', 'cherry', 'kiwi']\n"
     ]
    }
   ],
   "source": [
    "# methode .extend\n",
    "\n",
    "new_buah = ['rambutan', 'cherry', 'kiwi']\n",
    "buah.extend(new_buah)\n",
    "print(buah)"
   ]
  },
  {
   "cell_type": "code",
   "execution_count": 37,
   "id": "ef931dc4",
   "metadata": {},
   "outputs": [
    {
     "name": "stdout",
     "output_type": "stream",
     "text": [
      "['pisang', 'jambu', 'apple', 'sirsak', 'papaya', 'watermelon', 'jeruk', 'rambutan', 'cherry', 'kiwi']\n"
     ]
    }
   ],
   "source": [
    "# methode .remove()\n",
    "# menghapus berdasarkan urutan nomer index, jika ada data yang ganda\n",
    "buah.remove('jeruk')\n",
    "print(buah)"
   ]
  },
  {
   "cell_type": "code",
   "execution_count": 38,
   "id": "256d182e",
   "metadata": {},
   "outputs": [
    {
     "data": {
      "text/plain": [
       "['pisang',\n",
       " 'apple',\n",
       " 'sirsak',\n",
       " 'papaya',\n",
       " 'watermelon',\n",
       " 'jeruk',\n",
       " 'rambutan',\n",
       " 'cherry',\n",
       " 'kiwi']"
      ]
     },
     "execution_count": 38,
     "metadata": {},
     "output_type": "execute_result"
    }
   ],
   "source": [
    "# methode .pop()\n",
    "# menghapus berdasarkan nomor index\n",
    "\n",
    "buah.pop(1)\n",
    "buah"
   ]
  },
  {
   "cell_type": "code",
   "execution_count": 39,
   "id": "15ecd97e",
   "metadata": {},
   "outputs": [
    {
     "name": "stdout",
     "output_type": "stream",
     "text": [
      "['pisang', 'sirsak', 'papaya', 'watermelon', 'jeruk', 'rambutan', 'cherry', 'kiwi']\n"
     ]
    }
   ],
   "source": [
    "# methode del\n",
    "del buah[1]\n",
    "print(buah)"
   ]
  },
  {
   "cell_type": "code",
   "execution_count": 40,
   "id": "0ad3c671",
   "metadata": {},
   "outputs": [
    {
     "name": "stdout",
     "output_type": "stream",
     "text": [
      "['pisang', 'sirsak', 'papaya', 'watermelon', 'jeruk', 'rambutan', 'cherry', 'kiwi', 'apple', 'jeruk']\n"
     ]
    }
   ],
   "source": [
    "# methode JOIN\n",
    "buah2 = ['apple', 'jeruk']\n",
    "listbuah = buah + buah2\n",
    "print(listbuah)"
   ]
  },
  {
   "cell_type": "code",
   "execution_count": 44,
   "id": "5360c76e",
   "metadata": {},
   "outputs": [
    {
     "name": "stdout",
     "output_type": "stream",
     "text": [
      "apel\n"
     ]
    }
   ],
   "source": [
    "# Data tuple\n",
    "buah_tuple = ('apel', 'pisang', 'mangga')\n",
    "\n",
    "# Berdasarkan nomor index\n",
    "print(buah_tuple[0])"
   ]
  },
  {
   "cell_type": "code",
   "execution_count": 47,
   "id": "c83ba8c6",
   "metadata": {},
   "outputs": [],
   "source": [
    "# TUPLE tidak dapat melakukan PENAMBAHAN data, insert() ataupun append()\n",
    "\n",
    "# buah_t = buah_tuple\n",
    "# buah_t.append('anggur')\n",
    "# print(buah_t)"
   ]
  },
  {
   "cell_type": "code",
   "execution_count": 50,
   "id": "d0d05279",
   "metadata": {},
   "outputs": [],
   "source": [
    "# TUPLE tidak dapat mengubah data\n",
    "\n",
    "# buah_t[0] = 'anggur'\n",
    "# print(buah_t)"
   ]
  },
  {
   "cell_type": "code",
   "execution_count": 53,
   "id": "76c11cd8",
   "metadata": {},
   "outputs": [],
   "source": [
    "# TUPLE tidak dapat menghapus data\n",
    "\n",
    "# buah_t.pop(1)\n",
    "# print(buah_t)"
   ]
  },
  {
   "cell_type": "code",
   "execution_count": 57,
   "id": "1a6636f1",
   "metadata": {},
   "outputs": [
    {
     "name": "stdout",
     "output_type": "stream",
     "text": [
      "('apel', 'pisang', 'mangga')\n"
     ]
    }
   ],
   "source": [
    "# JOIN tidak dapat digunakan di tuple\n",
    "\n",
    "# buah_t.extend(buah)\n",
    "# buahbaru = buah + buah_t\n",
    "# print(buahbaru)"
   ]
  },
  {
   "cell_type": "code",
   "execution_count": 59,
   "id": "08bbbc3d",
   "metadata": {},
   "outputs": [
    {
     "name": "stdout",
     "output_type": "stream",
     "text": [
      "['pisang', 'sirsak', 'papaya', 'watermelon', 'jeruk', 'rambutan', 'cherry', 'kiwi']\n"
     ]
    }
   ],
   "source": [
    "buah = ['pisang', 'sirsak', 'papaya', 'watermelon', 'jeruk', 'rambutan', 'cherry', 'kiwi']\n",
    "print(buah)"
   ]
  },
  {
   "cell_type": "code",
   "execution_count": 60,
   "id": "0f163518",
   "metadata": {},
   "outputs": [],
   "source": [
    "\n",
    "# TUPLE tidak bisa di modifikasi, LIST bisa dimodifikasi\n"
   ]
  },
  {
   "cell_type": "code",
   "execution_count": 65,
   "id": "c84c131a",
   "metadata": {},
   "outputs": [
    {
     "name": "stdout",
     "output_type": "stream",
     "text": [
      "['apel', 'pisang', 'mangga']\n",
      "<class 'list'>\n",
      "('apel', 'pisang', 'mangga')\n"
     ]
    }
   ],
   "source": [
    "buah_baru = list(buah_t)\n",
    "print(buah_baru)    # mengubah ke LIST\n",
    "\n",
    "buah_baru = tuple(buah_baru)\n",
    "print(buah_baru)       # mengembalikan ke TUPLE"
   ]
  },
  {
   "cell_type": "code",
   "execution_count": 74,
   "id": "4e2d1c6b",
   "metadata": {},
   "outputs": [
    {
     "name": "stdout",
     "output_type": "stream",
     "text": [
      "('jeni', 'budi', 'bimo', 'joko', 'dinda', 'ani', 'vino')\n"
     ]
    }
   ],
   "source": [
    "data_karyawan = ('beni', 'bambang', 'budi')\n",
    "# 5 anggota baru = bimo, joko, dinda, ani, vino\n",
    "\n",
    "data = data_karyawan\n",
    "data = list(data)\n",
    "newdata = ['bimo', 'joko', 'dinda', 'ani', 'vino']\n",
    "listdata = data + newdata\n",
    "# print(listdata)\n",
    "\n",
    "data = listdata\n",
    "data[0] = 'jeni'\n",
    "data.remove('bambang')\n",
    "# print(data)\n",
    "\n",
    "data = tuple(data)\n",
    "print(data)"
   ]
  },
  {
   "cell_type": "code",
   "execution_count": 89,
   "id": "7bee6d4c",
   "metadata": {},
   "outputs": [
    {
     "name": "stdout",
     "output_type": "stream",
     "text": [
      "Apel\n",
      "Mangga\n",
      "Pisang\n"
     ]
    }
   ],
   "source": [
    "# Data set\n",
    "set_buah = {'Apel', 'Mangga', 'Pisang'}\n",
    "\n",
    "# untuk menampilkan data pada data set, menggunakan looping for\n",
    "for loop_buah in set_buah:\n",
    "    print(loop_buah)\n",
    "\n",
    "# DATA SET tidak dapat menampilkan menggunakan nomor index\n",
    "# print(set_buah[0])"
   ]
  },
  {
   "cell_type": "code",
   "execution_count": 93,
   "id": "7ffe390a",
   "metadata": {},
   "outputs": [
    {
     "name": "stdout",
     "output_type": "stream",
     "text": [
      "{'Apel', 'Jambu', 'Pisang', 'Mangga', 'jambu'}\n"
     ]
    }
   ],
   "source": [
    "# METHODE .add() \n",
    "# sama seperti .append()\n",
    "\n",
    "set_buah.add('jambu')\n",
    "print(set_buah)"
   ]
  },
  {
   "cell_type": "code",
   "execution_count": 94,
   "id": "9a4bd10d",
   "metadata": {},
   "outputs": [
    {
     "name": "stdout",
     "output_type": "stream",
     "text": [
      "{'Nanas', 'Apel', 'Jambu', 'Pisang', 'Mangga', 'Kiwi', 'jambu', 'Cherry'}\n"
     ]
    }
   ],
   "source": [
    "# METHODE .update()\n",
    "# menambahkan data secara RANDOM, tidak urut\n",
    "\n",
    "new_set_buah = {'Nanas', 'Kiwi', 'Cherry'}\n",
    "set_buah.update(new_set_buah)\n",
    "print(set_buah)"
   ]
  },
  {
   "cell_type": "code",
   "execution_count": 97,
   "id": "92009cef",
   "metadata": {},
   "outputs": [
    {
     "name": "stdout",
     "output_type": "stream",
     "text": [
      "{'Nanas', 'Apel', 'Mangga', 'Kiwi', 'Cherry'}\n"
     ]
    }
   ],
   "source": [
    "# METHODE .remove() \n",
    "# untuk menghapus data\n",
    "\n",
    "set_buah.remove('Jambu')\n",
    "print(set_buah)"
   ]
  },
  {
   "cell_type": "code",
   "execution_count": 99,
   "id": "07593550",
   "metadata": {},
   "outputs": [
    {
     "name": "stdout",
     "output_type": "stream",
     "text": [
      "{'Nanas', 'Apel', 'Mangga', 'Kiwi', 'Cherry'}\n"
     ]
    }
   ],
   "source": [
    "# METHODE .discard()\n",
    "# sama seperti .remove(), untuk menghapus data\n",
    "\n",
    "set_buah.discard('Pisang')\n",
    "print(set_buah)"
   ]
  },
  {
   "cell_type": "code",
   "execution_count": 100,
   "id": "4c7626fb",
   "metadata": {},
   "outputs": [
    {
     "name": "stdout",
     "output_type": "stream",
     "text": [
      "{'Apel', 'Mangga', 'Kiwi', 'Cherry'}\n"
     ]
    }
   ],
   "source": [
    "# METHODE .pop()\n",
    "# menghapus data dari index 0\n",
    "\n",
    "set_buah.pop()\n",
    "print(set_buah)"
   ]
  },
  {
   "cell_type": "code",
   "execution_count": 101,
   "id": "dce31f51",
   "metadata": {},
   "outputs": [
    {
     "name": "stdout",
     "output_type": "stream",
     "text": [
      "{'Nanas', 'Mangga', 'Apel', 'Kiwi', 'Cherry'}\n"
     ]
    }
   ],
   "source": [
    "complete_set_buah = set_buah.union(new_set_buah)\n",
    "print(complete_set_buah)"
   ]
  },
  {
   "cell_type": "code",
   "execution_count": 109,
   "id": "36aaebb7",
   "metadata": {},
   "outputs": [
    {
     "name": "stdout",
     "output_type": "stream",
     "text": [
      "apel\n",
      "15000\n",
      "10\n",
      "=====================\n",
      "20000\n",
      "=========================\n",
      "{'nama_buah': 'apel', 'price': 25000, 'stock': 15}\n"
     ]
    }
   ],
   "source": [
    "# DICTIONARY\n",
    "\n",
    "dict_buah = {\n",
    "    'nama_buah': 'apel',     # KEY = nama_buah,   VALUE = apel\n",
    "    'price': 15000,\n",
    "    'stock': 10\n",
    "}\n",
    "print(dict_buah['nama_buah'])\n",
    "print(dict_buah['price'])\n",
    "print(dict_buah['stock'])\n",
    "print('=====================')\n",
    "\n",
    "# update value pada key dalam dictionary\n",
    "dict_buah['price'] = 20000\n",
    "print(dict_buah['price'])\n",
    "print('=========================')\n",
    "\n",
    "# melakukan UPDATE pada multiple key\n",
    "# menggunakan .update()\n",
    "dict_buah.update({'price': 25000,\n",
    "                 'stock': 15})\n",
    "print(dict_buah)"
   ]
  },
  {
   "cell_type": "code",
   "execution_count": 114,
   "id": "0c9b5078",
   "metadata": {},
   "outputs": [
    {
     "name": "stdout",
     "output_type": "stream",
     "text": [
      "{'nama_buah': 'apel', 'price': 25000, 'stock': 15, 'color': 'red', 'quality': 'good'}\n",
      "{'nama_buah': 'apel', 'price': 25000, 'stock': 15, 'color': 'red', 'quality': 'good'}\n"
     ]
    }
   ],
   "source": [
    "# menambahkan key baru pada Dictionary\n",
    "\n",
    "dict_buah['color'] = 'red'\n",
    "print(dict_buah)\n",
    "\n",
    "dict_buah.update({'quality': 'good'})\n",
    "print(dict_buah)"
   ]
  },
  {
   "cell_type": "code",
   "execution_count": 116,
   "id": "a5a9861b",
   "metadata": {},
   "outputs": [
    {
     "name": "stdout",
     "output_type": "stream",
     "text": [
      "{'nama_buah': 'apel', 'price': 25000, 'stock': 15}\n"
     ]
    }
   ],
   "source": [
    "# METHODE .pop()  -->  MENGHAPUS \n",
    "# menghapus key pada dictionary\n",
    "\n",
    "# dict_buah.pop('color')\n",
    "# print(dict_buah)\n",
    "\n",
    "# menghapus urutan key terakhir kita tambahkan dengan methode .popitem()\n",
    "dict_buah.popitem()\n",
    "print(dict_buah)"
   ]
  },
  {
   "cell_type": "code",
   "execution_count": 118,
   "id": "604ed947",
   "metadata": {},
   "outputs": [
    {
     "name": "stdout",
     "output_type": "stream",
     "text": [
      "apel\n"
     ]
    }
   ],
   "source": [
    "# METHODE .get()\n",
    "# untuk mengambil value dari sebuah key\n",
    "\n",
    "nama_buah = dict_buah.get('nama_buah')\n",
    "print(nama_buah)"
   ]
  },
  {
   "cell_type": "code",
   "execution_count": null,
   "id": "61979477",
   "metadata": {},
   "outputs": [],
   "source": []
  }
 ],
 "metadata": {
  "kernelspec": {
   "display_name": "Python 3 (ipykernel)",
   "language": "python",
   "name": "python3"
  },
  "language_info": {
   "codemirror_mode": {
    "name": "ipython",
    "version": 3
   },
   "file_extension": ".py",
   "mimetype": "text/x-python",
   "name": "python",
   "nbconvert_exporter": "python",
   "pygments_lexer": "ipython3",
   "version": "3.9.13"
  }
 },
 "nbformat": 4,
 "nbformat_minor": 5
}
