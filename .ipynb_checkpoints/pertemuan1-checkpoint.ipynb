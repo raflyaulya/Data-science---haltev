{
 "cells": [
  {
   "cell_type": "code",
   "execution_count": 11,
   "id": "9663a9c9",
   "metadata": {
    "scrolled": true
   },
   "outputs": [
    {
     "name": "stdout",
     "output_type": "stream",
     "text": [
      "hello World\n",
      "20\n",
      "20\n",
      "True\n",
      "\n",
      "=========  BOOLEAN  ==========\n",
      "True\n",
      "False\n",
      "True\n",
      "False\n",
      "\n",
      "==========  KESETARAAN  ==============\n",
      "False\n",
      "True\n"
     ]
    }
   ],
   "source": [
    "print('hello World')\n",
    "\n",
    "print(20)\n",
    "print('20')\n",
    "print(True)\n",
    "\n",
    "print('\\n=========  BOOLEAN  ==========')\n",
    "# OPERATOR PERBANDINGAN\n",
    "print(10 > 5)\n",
    "print(10 < 5)\n",
    "print(10 >= 5)\n",
    "print(10 <= 5)\n",
    "\n",
    "# operator kesetaraan\n",
    "print('\\n==========  KESETARAAN  ==============')\n",
    "print(10 == 5)\n",
    "print(10 != 5)"
   ]
  },
  {
   "cell_type": "code",
   "execution_count": 28,
   "id": "2196f8a0",
   "metadata": {},
   "outputs": [
    {
     "name": "stdout",
     "output_type": "stream",
     "text": [
      "nama user: mase\n",
      "nama user: mase\n",
      "=======================\n",
      "usia user: 22\n",
      "usia user: 22\n"
     ]
    }
   ],
   "source": [
    "#  Variable \n",
    "nama_user = 'mase'\n",
    "tahun_lahir = 2000\n",
    "print('nama user: ' + nama_user)                 # + itu string dengan string\n",
    "print(f\"nama user: {nama_user}\")\n",
    "print('=======================')\n",
    "\n",
    "\n",
    "usia_user = 2022 - tahun_lahir\n",
    "print('usia user: ' + str(usia_user))            # , (koma) adalah string dengan integer\n",
    "print(f\"usia user: {usia_user}\")"
   ]
  },
  {
   "cell_type": "code",
   "execution_count": 45,
   "id": "342727dd",
   "metadata": {},
   "outputs": [
    {
     "name": "stdout",
     "output_type": "stream",
     "text": [
      "Nama saya Rafly saya lahir di Medan saya lahir di tahun 2001 dan saya berumur 21 tahun\n",
      "\n",
      "=============  METODE FORMAT  ==========\n",
      "Nama saya Rafly, saya lahir di Medan, saya lahir ditahun 2001, dan saya berumur 21 tahun\n"
     ]
    }
   ],
   "source": [
    "# TEST PRINT OUT\n",
    "nama = 'Rafly'\n",
    "tempat_lahir = 'Medan'\n",
    "tahun = 2001\n",
    "usia = 2022 - tahun\n",
    "\n",
    "print(f\"Nama saya {nama}\", end='')\n",
    "print(f\" saya lahir di {tempat_lahir}\", end='')\n",
    "print(f\" saya lahir di tahun {tahun}\", end='')\n",
    "print(f\" dan saya berumur {usia} tahun\")\n",
    "\n",
    "print('\\n=============  METODE FORMAT  ==========')\n",
    "print('Nama saya {}, saya lahir di {}, saya lahir ditahun {}, dan saya berumur {} tahun'.format(nama, tempat_lahir, tahun, usia))"
   ]
  },
  {
   "cell_type": "code",
   "execution_count": 47,
   "id": "463af7f7",
   "metadata": {},
   "outputs": [
    {
     "name": "stdout",
     "output_type": "stream",
     "text": [
      "kate\n",
      "kate\n"
     ]
    }
   ],
   "source": [
    "# Update variable \n",
    "nama = 'kate'\n",
    "print(nama)\n",
    "print(\"{}\".format(nama))"
   ]
  },
  {
   "cell_type": "code",
   "execution_count": 52,
   "id": "95ee93e2",
   "metadata": {},
   "outputs": [
    {
     "name": "stdout",
     "output_type": "stream",
     "text": [
      "<class 'str'>\n",
      "<class 'int'>\n",
      "-2002000\n"
     ]
    }
   ],
   "source": [
    "# Convert data type\n",
    "x = '-200' + '200'\n",
    "convert_to_int = int(x)           # sebelumnya str, convert ke int\n",
    "\n",
    "print(type(x))\n",
    "print(type(convert_to_int))\n",
    "print(convert_to_int * 10)"
   ]
  },
  {
   "cell_type": "code",
   "execution_count": 58,
   "id": "58f6b052",
   "metadata": {},
   "outputs": [
    {
     "name": "stdout",
     "output_type": "stream",
     "text": [
      "<class 'tuple'>\n",
      "(-200, '200')\n",
      "('-200', 260)\n"
     ]
    }
   ],
   "source": [
    "x = int('-200') ,str('200')\n",
    "y = '-200', 260\n",
    "print(type(x))\n",
    "print(x)\n",
    "print(y)"
   ]
  },
  {
   "cell_type": "code",
   "execution_count": 62,
   "id": "9780bda2",
   "metadata": {},
   "outputs": [
    {
     "name": "stdout",
     "output_type": "stream",
     "text": [
      "-200200\n",
      "0\n"
     ]
    }
   ],
   "source": [
    "x1 = int('-200' + '200')\n",
    "x2 = int('-200') + int('200')\n",
    "print(x1)\n",
    "print(x2)"
   ]
  },
  {
   "cell_type": "code",
   "execution_count": 64,
   "id": "3c15911e",
   "metadata": {},
   "outputs": [
    {
     "name": "stdout",
     "output_type": "stream",
     "text": [
      "your name: rafly\n",
      "Welcome, rafly\n"
     ]
    }
   ],
   "source": [
    "# INPUT\n",
    "name = input('your name: ')\n",
    "print('Welcome, {}'.format(name))"
   ]
  },
  {
   "cell_type": "code",
   "execution_count": 72,
   "id": "a9bade68",
   "metadata": {},
   "outputs": [
    {
     "name": "stdout",
     "output_type": "stream",
     "text": [
      "your name: rafly\n",
      "Welcome, rafly\n",
      "tahun lahir: 2001\n",
      "usia anda 21\n"
     ]
    }
   ],
   "source": [
    "# INPUT str(nama), int(usia)\n",
    "name = input('your name: ')\n",
    "print('Welcome, {}'.format(name))\n",
    "year = int(input('tahun lahir: '))\n",
    "usia = 2022 - year\n",
    "print('usia anda {}'.format(usia))"
   ]
  },
  {
   "cell_type": "code",
   "execution_count": 86,
   "id": "f92fb0bf",
   "metadata": {},
   "outputs": [
    {
     "name": "stdout",
     "output_type": "stream",
     "text": [
      "30\n",
      "==============\n",
      "50\n",
      "1000\n",
      "50.0\n"
     ]
    }
   ],
   "source": [
    "num1 = 10\n",
    "num2 = 20\n",
    "\n",
    "num1 = num1 + num2\n",
    "print(str(num1) + str('\\n=============='))\n",
    "\n",
    "# Shorthand\n",
    "num1 += num2 #* 50\n",
    "print(num1)\n",
    "num1 *= num2\n",
    "print(num1)\n",
    "num1 /= num2\n",
    "print(num1)"
   ]
  },
  {
   "cell_type": "code",
   "execution_count": 90,
   "id": "806e93ad",
   "metadata": {},
   "outputs": [
    {
     "name": "stdout",
     "output_type": "stream",
     "text": [
      "alas = 8\n",
      "tinggi = 5\n",
      "hasil luas segitiga adalah 20\n"
     ]
    }
   ],
   "source": [
    "a = int(input('alas = '))\n",
    "t = int(input('tinggi = '))\n",
    "luas = (1/2) * a * t\n",
    "luas = int(luas)\n",
    "print('hasil luas segitiga adalah {}'.format(luas))"
   ]
  },
  {
   "cell_type": "code",
   "execution_count": null,
   "id": "ffc0df28",
   "metadata": {},
   "outputs": [],
   "source": []
  }
 ],
 "metadata": {
  "kernelspec": {
   "display_name": "Python 3 (ipykernel)",
   "language": "python",
   "name": "python3"
  },
  "language_info": {
   "codemirror_mode": {
    "name": "ipython",
    "version": 3
   },
   "file_extension": ".py",
   "mimetype": "text/x-python",
   "name": "python",
   "nbconvert_exporter": "python",
   "pygments_lexer": "ipython3",
   "version": "3.9.13"
  }
 },
 "nbformat": 4,
 "nbformat_minor": 5
}
