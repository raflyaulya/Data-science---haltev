{
 "cells": [
  {
   "cell_type": "code",
   "execution_count": 4,
   "id": "e9c33c43",
   "metadata": {},
   "outputs": [],
   "source": [
    "# tutor = mas suwandi\n",
    "\n",
    "a = 50\n",
    "\n",
    "if a >= 60:\n",
    "    print('selamat nilai anda lolos pass grade')\n",
    "else:\n",
    "    print('maaf nilai anda tidak lolos')"
   ]
  },
  {
   "cell_type": "code",
   "execution_count": null,
   "id": "a63b0e5e",
   "metadata": {},
   "outputs": [],
   "source": []
  }
 ],
 "metadata": {
  "kernelspec": {
   "display_name": "Python 3 (ipykernel)",
   "language": "python",
   "name": "python3"
  },
  "language_info": {
   "codemirror_mode": {
    "name": "ipython",
    "version": 3
   },
   "file_extension": ".py",
   "mimetype": "text/x-python",
   "name": "python",
   "nbconvert_exporter": "python",
   "pygments_lexer": "ipython3",
   "version": "3.9.13"
  }
 },
 "nbformat": 4,
 "nbformat_minor": 5
}
