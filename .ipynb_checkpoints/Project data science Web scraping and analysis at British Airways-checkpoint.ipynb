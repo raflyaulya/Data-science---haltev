{
 "cells": [
  {
   "cell_type": "markdown",
   "metadata": {},
   "source": [
    "# Task 1\n",
    "\n",
    "---\n",
    "\n",
    "## Web scraping and analysis\n",
    "\n",
    "This Jupyter notebook includes some code to get you started with web scraping. We will use a package called `BeautifulSoup` to collect the data from the web. Once you've collected your data and saved it into a local `.csv` file you should start with your analysis.\n",
    "\n",
    "### Scraping data from Skytrax\n",
    "\n",
    "If you visit [https://www.airlinequality.com] you can see that there is a lot of data there. For this task, we are only interested in reviews related to British Airways and the Airline itself.\n",
    "\n",
    "If you navigate to this link: [https://www.airlinequality.com/airline-reviews/british-airways] you will see this data. Now, we can use `Python` and `BeautifulSoup` to collect all the links to the reviews and then to collect the text data on each of the individual review links."
   ]
  },
  {
   "cell_type": "code",
   "execution_count": 26,
   "metadata": {},
   "outputs": [
    {
     "name": "stdout",
     "output_type": "stream",
     "text": [
      "showing info https://raw.githubusercontent.com/nltk/nltk_data/gh-pages/index.xml\n"
     ]
    },
    {
     "name": "stderr",
     "output_type": "stream",
     "text": [
      "[nltk_data] Downloading package punkt to C:\\Users\\RAFLY AULYA RIZKY\n",
      "[nltk_data]     N\\AppData\\Roaming\\nltk_data...\n",
      "[nltk_data]   Package punkt is already up-to-date!\n",
      "[nltk_data] Downloading package averaged_perceptron_tagger to\n",
      "[nltk_data]     C:\\Users\\RAFLY AULYA RIZKY\n",
      "[nltk_data]     N\\AppData\\Roaming\\nltk_data...\n",
      "[nltk_data]   Package averaged_perceptron_tagger is already up-to-\n",
      "[nltk_data]       date!\n",
      "[nltk_data] Downloading package wordnet to C:\\Users\\RAFLY AULYA RIZKY\n",
      "[nltk_data]     N\\AppData\\Roaming\\nltk_data...\n",
      "[nltk_data]   Package wordnet is already up-to-date!\n",
      "[nltk_data] Downloading package stopwords to C:\\Users\\RAFLY AULYA\n",
      "[nltk_data]     RIZKY N\\AppData\\Roaming\\nltk_data...\n",
      "[nltk_data]   Package stopwords is already up-to-date!\n"
     ]
    },
    {
     "data": {
      "text/plain": [
       "True"
      ]
     },
     "execution_count": 26,
     "metadata": {},
     "output_type": "execute_result"
    }
   ],
   "source": [
    "import requests\n",
    "from bs4 import BeautifulSoup\n",
    "import re\n",
    "import string\n",
    "import pandas as pd\n",
    "import numpy as np\n",
    "import matplotlib.pyplot as plt\n",
    "import seaborn as sn\n",
    "import nltk\n",
    "nltk.download()\n",
    "from nltk.corpus import stopwords\n",
    "from textblob import TextBlob\n",
    "\n",
    "# Downloading the required NLTK packages\n",
    "nltk.download('punkt')\n",
    "nltk.download('averaged_perceptron_tagger')\n",
    "nltk.download('wordnet')\n",
    "nltk.download('stopwords')"
   ]
  },
  {
   "cell_type": "markdown",
   "metadata": {},
   "source": [
    "## Data Preprocessing"
   ]
  },
  {
   "cell_type": "code",
   "execution_count": 27,
   "metadata": {
    "scrolled": true
   },
   "outputs": [
    {
     "name": "stdout",
     "output_type": "stream",
     "text": [
      "Scraping page 1\n",
      "   ---> 100 total reviews\n",
      "Scraping page 2\n",
      "   ---> 200 total reviews\n",
      "Scraping page 3\n",
      "   ---> 300 total reviews\n",
      "Scraping page 4\n",
      "   ---> 400 total reviews\n",
      "Scraping page 5\n",
      "   ---> 500 total reviews\n",
      "Scraping page 6\n",
      "   ---> 600 total reviews\n",
      "Scraping page 7\n",
      "   ---> 700 total reviews\n",
      "Scraping page 8\n",
      "   ---> 800 total reviews\n",
      "Scraping page 9\n",
      "   ---> 900 total reviews\n",
      "Scraping page 10\n",
      "   ---> 1000 total reviews\n"
     ]
    }
   ],
   "source": [
    "base_url = \"https://www.airlinequality.com/airline-reviews/british-airways\"\n",
    "pages = 10\n",
    "page_size = 100\n",
    "\n",
    "reviews = []\n",
    "\n",
    "# for i in range(1, pages + 1):\n",
    "for i in range(1, pages + 1):\n",
    "    print(f\"Scraping page {i}\")\n",
    "\n",
    "    # Create URL to collect links from paginated data\n",
    "    url = f\"{base_url}/page/{i}/?sortby=post_date%3ADesc&pagesize={page_size}\"\n",
    "\n",
    "    # Collect HTML data from this page\n",
    "    response = requests.get(url)\n",
    "\n",
    "    # Parse content\n",
    "    content = response.content\n",
    "    parsed_content = BeautifulSoup(content, 'html.parser')\n",
    "    for para in parsed_content.find_all(\"div\", {\"class\": \"text_content\"}):\n",
    "        reviews.append(para.get_text())\n",
    "    \n",
    "    print(f\"   ---> {len(reviews)} total reviews\")"
   ]
  },
  {
   "cell_type": "code",
   "execution_count": 28,
   "metadata": {},
   "outputs": [
    {
     "data": {
      "text/html": [
       "<div>\n",
       "<style scoped>\n",
       "    .dataframe tbody tr th:only-of-type {\n",
       "        vertical-align: middle;\n",
       "    }\n",
       "\n",
       "    .dataframe tbody tr th {\n",
       "        vertical-align: top;\n",
       "    }\n",
       "\n",
       "    .dataframe thead th {\n",
       "        text-align: right;\n",
       "    }\n",
       "</style>\n",
       "<table border=\"1\" class=\"dataframe\">\n",
       "  <thead>\n",
       "    <tr style=\"text-align: right;\">\n",
       "      <th></th>\n",
       "      <th>reviews</th>\n",
       "    </tr>\n",
       "  </thead>\n",
       "  <tbody>\n",
       "    <tr>\n",
       "      <th>0</th>\n",
       "      <td>✅ Trip Verified |  Second time BA Premium Econ...</td>\n",
       "    </tr>\n",
       "    <tr>\n",
       "      <th>1</th>\n",
       "      <td>Not Verified |  They changed our Flights from ...</td>\n",
       "    </tr>\n",
       "    <tr>\n",
       "      <th>2</th>\n",
       "      <td>Not Verified |  At Copenhagen the most chaotic...</td>\n",
       "    </tr>\n",
       "    <tr>\n",
       "      <th>3</th>\n",
       "      <td>✅ Trip Verified |  Worst experience of my life...</td>\n",
       "    </tr>\n",
       "    <tr>\n",
       "      <th>4</th>\n",
       "      <td>✅ Trip Verified |  Due to code sharing with Ca...</td>\n",
       "    </tr>\n",
       "  </tbody>\n",
       "</table>\n",
       "</div>"
      ],
      "text/plain": [
       "                                             reviews\n",
       "0  ✅ Trip Verified |  Second time BA Premium Econ...\n",
       "1  Not Verified |  They changed our Flights from ...\n",
       "2  Not Verified |  At Copenhagen the most chaotic...\n",
       "3  ✅ Trip Verified |  Worst experience of my life...\n",
       "4  ✅ Trip Verified |  Due to code sharing with Ca..."
      ]
     },
     "execution_count": 28,
     "metadata": {},
     "output_type": "execute_result"
    }
   ],
   "source": [
    "df = pd.DataFrame()\n",
    "df[\"reviews\"] = reviews\n",
    "df.head()"
   ]
  },
  {
   "cell_type": "code",
   "execution_count": 29,
   "metadata": {},
   "outputs": [],
   "source": [
    "# set index\n",
    "df.index = range(1, len(df)+1)"
   ]
  },
  {
   "cell_type": "code",
   "execution_count": 30,
   "metadata": {},
   "outputs": [
    {
     "data": {
      "text/html": [
       "<div>\n",
       "<style scoped>\n",
       "    .dataframe tbody tr th:only-of-type {\n",
       "        vertical-align: middle;\n",
       "    }\n",
       "\n",
       "    .dataframe tbody tr th {\n",
       "        vertical-align: top;\n",
       "    }\n",
       "\n",
       "    .dataframe thead th {\n",
       "        text-align: right;\n",
       "    }\n",
       "</style>\n",
       "<table border=\"1\" class=\"dataframe\">\n",
       "  <thead>\n",
       "    <tr style=\"text-align: right;\">\n",
       "      <th></th>\n",
       "      <th>reviews</th>\n",
       "    </tr>\n",
       "  </thead>\n",
       "  <tbody>\n",
       "    <tr>\n",
       "      <th>1</th>\n",
       "      <td>Second time BA Premium Economy in a newer air...</td>\n",
       "    </tr>\n",
       "    <tr>\n",
       "      <th>2</th>\n",
       "      <td>They changed our Flights from Brussels to Lon...</td>\n",
       "    </tr>\n",
       "    <tr>\n",
       "      <th>3</th>\n",
       "      <td>At Copenhagen the most chaotic ticket counter...</td>\n",
       "    </tr>\n",
       "    <tr>\n",
       "      <th>4</th>\n",
       "      <td>Worst experience of my life trying to deal wi...</td>\n",
       "    </tr>\n",
       "    <tr>\n",
       "      <th>5</th>\n",
       "      <td>Due to code sharing with Cathay Pacific I was...</td>\n",
       "    </tr>\n",
       "    <tr>\n",
       "      <th>...</th>\n",
       "      <td>...</td>\n",
       "    </tr>\n",
       "    <tr>\n",
       "      <th>996</th>\n",
       "      <td>BA First Class is not even that any more. Sta...</td>\n",
       "    </tr>\n",
       "    <tr>\n",
       "      <th>997</th>\n",
       "      <td>Linate to London. The morning of the departur...</td>\n",
       "    </tr>\n",
       "    <tr>\n",
       "      <th>998</th>\n",
       "      <td>Flew British Airways from JK to London Heathro...</td>\n",
       "    </tr>\n",
       "    <tr>\n",
       "      <th>999</th>\n",
       "      <td>I have flown British Airways numerous times ov...</td>\n",
       "    </tr>\n",
       "    <tr>\n",
       "      <th>1000</th>\n",
       "      <td>We can not fault the new 'Club World' food and...</td>\n",
       "    </tr>\n",
       "  </tbody>\n",
       "</table>\n",
       "<p>1000 rows × 1 columns</p>\n",
       "</div>"
      ],
      "text/plain": [
       "                                                reviews\n",
       "1      Second time BA Premium Economy in a newer air...\n",
       "2      They changed our Flights from Brussels to Lon...\n",
       "3      At Copenhagen the most chaotic ticket counter...\n",
       "4      Worst experience of my life trying to deal wi...\n",
       "5      Due to code sharing with Cathay Pacific I was...\n",
       "...                                                 ...\n",
       "996    BA First Class is not even that any more. Sta...\n",
       "997    Linate to London. The morning of the departur...\n",
       "998   Flew British Airways from JK to London Heathro...\n",
       "999   I have flown British Airways numerous times ov...\n",
       "1000  We can not fault the new 'Club World' food and...\n",
       "\n",
       "[1000 rows x 1 columns]"
      ]
     },
     "execution_count": 30,
     "metadata": {},
     "output_type": "execute_result"
    }
   ],
   "source": [
    "# Define unnecessary statements and words\n",
    "unnecessary = ['✅ Trip Verified | ', 'Not Verified | ', '✅ Verified Review | ']\n",
    "\n",
    "# Remove unnecessary statements and words from reviews column\n",
    "for statement in unnecessary:\n",
    "    df['reviews'] = df['reviews'].str.replace(statement, '')\n",
    "df"
   ]
  },
  {
   "cell_type": "markdown",
   "metadata": {},
   "source": [
    "## Data Analysis"
   ]
  },
  {
   "cell_type": "code",
   "execution_count": 31,
   "metadata": {},
   "outputs": [],
   "source": [
    "def analyze_sentiment(reviews):\n",
    "    tokens = nltk.word_tokenize(reviews)\n",
    "    \n",
    "    tagged_tokens = nltk.pos_tag(tokens)\n",
    "\n",
    "    lemmatized_words = []\n",
    "    lemmatizer = nltk.WordNetLemmatizer()\n",
    "    for word, tag in tagged_tokens:\n",
    "        tag = tag[0].lower() if tag[0].lower() in ['a', 'r', 'n', 'v'] else 'n'\n",
    "        lemmatized_words.append(lemmatizer.lemmatize(word, tag))\n",
    "\n",
    "    stopwords = nltk.corpus.stopwords.words('english')\n",
    "    clean_words = [word for word in lemmatized_words if word.lower() not in stopwords]\n",
    "\n",
    "    clean_text = ' '.join(clean_words)\n",
    "\n",
    "    blob = TextBlob(clean_text)\n",
    "    polarity = blob.sentiment.polarity\n",
    "    subjectivity = blob.sentiment.subjectivity\n",
    "\n",
    "    if polarity > 0:\n",
    "        sentiment = 'Positive'\n",
    "    elif polarity < 0:\n",
    "        sentiment = 'Negative'\n",
    "    else:\n",
    "        sentiment = 'Neutral'\n",
    "\n",
    "    return sentiment, polarity, subjectivity\n",
    "\n",
    "df[['sentiment', 'polarity', 'subjectivity']] = df['reviews'].apply(analyze_sentiment).apply(pd.Series)"
   ]
  },
  {
   "cell_type": "code",
   "execution_count": 32,
   "metadata": {},
   "outputs": [
    {
     "data": {
      "text/html": [
       "<div>\n",
       "<style scoped>\n",
       "    .dataframe tbody tr th:only-of-type {\n",
       "        vertical-align: middle;\n",
       "    }\n",
       "\n",
       "    .dataframe tbody tr th {\n",
       "        vertical-align: top;\n",
       "    }\n",
       "\n",
       "    .dataframe thead th {\n",
       "        text-align: right;\n",
       "    }\n",
       "</style>\n",
       "<table border=\"1\" class=\"dataframe\">\n",
       "  <thead>\n",
       "    <tr style=\"text-align: right;\">\n",
       "      <th></th>\n",
       "      <th>reviews</th>\n",
       "      <th>sentiment</th>\n",
       "      <th>polarity</th>\n",
       "      <th>subjectivity</th>\n",
       "    </tr>\n",
       "  </thead>\n",
       "  <tbody>\n",
       "    <tr>\n",
       "      <th>1</th>\n",
       "      <td>Second time BA Premium Economy in a newer air...</td>\n",
       "      <td>Positive</td>\n",
       "      <td>0.402917</td>\n",
       "      <td>0.673333</td>\n",
       "    </tr>\n",
       "    <tr>\n",
       "      <th>2</th>\n",
       "      <td>They changed our Flights from Brussels to Lon...</td>\n",
       "      <td>Negative</td>\n",
       "      <td>-0.108333</td>\n",
       "      <td>0.458333</td>\n",
       "    </tr>\n",
       "    <tr>\n",
       "      <th>3</th>\n",
       "      <td>At Copenhagen the most chaotic ticket counter...</td>\n",
       "      <td>Positive</td>\n",
       "      <td>0.050000</td>\n",
       "      <td>0.600000</td>\n",
       "    </tr>\n",
       "    <tr>\n",
       "      <th>4</th>\n",
       "      <td>Worst experience of my life trying to deal wi...</td>\n",
       "      <td>Negative</td>\n",
       "      <td>-0.090079</td>\n",
       "      <td>0.571164</td>\n",
       "    </tr>\n",
       "    <tr>\n",
       "      <th>5</th>\n",
       "      <td>Due to code sharing with Cathay Pacific I was...</td>\n",
       "      <td>Positive</td>\n",
       "      <td>0.079167</td>\n",
       "      <td>0.498810</td>\n",
       "    </tr>\n",
       "    <tr>\n",
       "      <th>...</th>\n",
       "      <td>...</td>\n",
       "      <td>...</td>\n",
       "      <td>...</td>\n",
       "      <td>...</td>\n",
       "    </tr>\n",
       "    <tr>\n",
       "      <th>996</th>\n",
       "      <td>BA First Class is not even that any more. Sta...</td>\n",
       "      <td>Positive</td>\n",
       "      <td>0.118074</td>\n",
       "      <td>0.477039</td>\n",
       "    </tr>\n",
       "    <tr>\n",
       "      <th>997</th>\n",
       "      <td>Linate to London. The morning of the departur...</td>\n",
       "      <td>Negative</td>\n",
       "      <td>-0.061364</td>\n",
       "      <td>0.446288</td>\n",
       "    </tr>\n",
       "    <tr>\n",
       "      <th>998</th>\n",
       "      <td>Flew British Airways from JK to London Heathro...</td>\n",
       "      <td>Negative</td>\n",
       "      <td>-0.238839</td>\n",
       "      <td>0.430804</td>\n",
       "    </tr>\n",
       "    <tr>\n",
       "      <th>999</th>\n",
       "      <td>I have flown British Airways numerous times ov...</td>\n",
       "      <td>Negative</td>\n",
       "      <td>-0.042708</td>\n",
       "      <td>0.520357</td>\n",
       "    </tr>\n",
       "    <tr>\n",
       "      <th>1000</th>\n",
       "      <td>We can not fault the new 'Club World' food and...</td>\n",
       "      <td>Positive</td>\n",
       "      <td>0.310865</td>\n",
       "      <td>0.630013</td>\n",
       "    </tr>\n",
       "  </tbody>\n",
       "</table>\n",
       "<p>1000 rows × 4 columns</p>\n",
       "</div>"
      ],
      "text/plain": [
       "                                                reviews sentiment  polarity  \\\n",
       "1      Second time BA Premium Economy in a newer air...  Positive  0.402917   \n",
       "2      They changed our Flights from Brussels to Lon...  Negative -0.108333   \n",
       "3      At Copenhagen the most chaotic ticket counter...  Positive  0.050000   \n",
       "4      Worst experience of my life trying to deal wi...  Negative -0.090079   \n",
       "5      Due to code sharing with Cathay Pacific I was...  Positive  0.079167   \n",
       "...                                                 ...       ...       ...   \n",
       "996    BA First Class is not even that any more. Sta...  Positive  0.118074   \n",
       "997    Linate to London. The morning of the departur...  Negative -0.061364   \n",
       "998   Flew British Airways from JK to London Heathro...  Negative -0.238839   \n",
       "999   I have flown British Airways numerous times ov...  Negative -0.042708   \n",
       "1000  We can not fault the new 'Club World' food and...  Positive  0.310865   \n",
       "\n",
       "      subjectivity  \n",
       "1         0.673333  \n",
       "2         0.458333  \n",
       "3         0.600000  \n",
       "4         0.571164  \n",
       "5         0.498810  \n",
       "...            ...  \n",
       "996       0.477039  \n",
       "997       0.446288  \n",
       "998       0.430804  \n",
       "999       0.520357  \n",
       "1000      0.630013  \n",
       "\n",
       "[1000 rows x 4 columns]"
      ]
     },
     "execution_count": 32,
     "metadata": {},
     "output_type": "execute_result"
    }
   ],
   "source": [
    "df"
   ]
  },
  {
   "cell_type": "code",
   "execution_count": 33,
   "metadata": {},
   "outputs": [
    {
     "name": "stdout",
     "output_type": "stream",
     "text": [
      "Please select which sentiment reviews you want to display\n",
      "positive / negative / neutral?\n",
      "Neutral\n",
      "Turned up 3.5 hours in advance, Terminal 5 at London Heathrow was already carnage, 100s of people trying to check in, only 5 desks manned. Long queues at security due to only 4 lines open. People stressed, pushing, shouting, and flight delayed by 2 hours, according to pilot delay due to suitcases all needing to be loaded. Missed connecting flight in Doha, 12 hours wait til next one. Received a voucher, approx £6 for the whole day. Arrived 1 day later, my suitcase didn’t arrive with me. Filed a claim at the desk, for 5 days no update, no information, no offer of compensation and no solution offer. I now have a spoilt holiday, many personal belongings are gone, xmas gifts missing, extensive expenses I don’t know if I will be reimbursed. Beware with BA, expect low level or zero customer service, old planes, and zero help if anything goes wrong or missing. I will personally avoid BA in future at all costs.\n"
     ]
    }
   ],
   "source": [
    "print('Please select which sentiment reviews you want to display')\n",
    "review_option = input('positive / negative / neutral?\\n')\n",
    "\n",
    "if review_option == 'Positive':\n",
    "    positive_reviews = df[df['sentiment'] == 'Positive']\n",
    "    random_review = np.random.choice(positive_reviews['reviews'])\n",
    "if review_option == 'Negative':\n",
    "    negative_reviews = df[df['sentiment'] == 'Negative']\n",
    "    random_review = np.random.choice(negative_reviews['reviews'])\n",
    "if review_option == 'Neutral':\n",
    "    neutral_reviews = df[df['sentiment'] == 'Neutral']\n",
    "    random_review = np.random.choice(neutral_reviews['reviews'])\n",
    "    \n",
    "print(random_review)"
   ]
  },
  {
   "cell_type": "markdown",
   "metadata": {},
   "source": [
    "## Sentiment Analysis"
   ]
  },
  {
   "cell_type": "code",
   "execution_count": 34,
   "metadata": {},
   "outputs": [
    {
     "name": "stdout",
     "output_type": "stream",
     "text": [
      "Please select which sentiment reviews you want to analyze\n",
      "Positive / Negative / Neutral?\n",
      "Neutral\n"
     ]
    },
    {
     "data": {
      "text/plain": [
       "\"Turned up 3.5 hours in advance, Terminal 5 at London Heathrow was already carnage, 100s of people trying to check in, only 5 desks manned. Long queues at security due to only 4 lines open. People stressed, pushing, shouting, and flight delayed by 2 hours, according to pilot delay due to suitcases all needing to be loaded. Missed connecting flight in Doha, 12 hours wait til next one. Received a voucher, approx £6 for the whole day. Arrived 1 day later, my suitcase didn’t arrive with me. Filed a claim at the desk, for 5 days no update, no information, no offer of compensation and no solution offer. I now have a spoilt holiday, many personal belongings are gone, xmas gifts missing, extensive expenses I don’t know if I will be reimbursed. Beware with BA, expect low level or zero customer service, old planes, and zero help if anything goes wrong or missing. I will personally avoid BA in future at all costs.  Holidays ruined, 2 suitcases lost in 2 flights I travelled from London Heathrow to Amsterdam with my brother, before boarding we were told we couldn't take our cabin suitcases with us in the cabin, so they sent them to the cargo. At our arrival in Amsterdam, one of the suitcases was missing, left at London Heathrow, so we had to fill in a report in Amsterdam, this was 3 days ago and we still don't have the suitcase or any information about it. Today I travelled from Amsterdam to London City Airport, again they didn't allow me to board with my cabin suitcase, and when I arrived in London, the suitcase was missing, left in Amsterdam. 2 Suitcases, 2 different flights, they've ruined my holidays. No compensation, no dates on when will I get my property back, no information, lies and more lies.  I was told I could complain online and buy all the things I need, shoes, toiletries, clothes, and I might receive the money back in 30 days! Yes, I might.  The flight was delayed over 6 hours and this of course caused us to missed our connection flight and change to a different route, finally I lost my luggage and no one has any information. I will never again travel with British Airways.  Belfast to London on 20 Jun, 0650. I was informed at about 0200 flight BA1427 has been delayed to 0915, will only reach London Heathrow at 1025. I reached the airport at 0445, but BA counter was only open at 0510. At checkin counter, I approached BA ground staff for advice as I have a connecting Singapore Airlines flight at 1125 on the same day. The reply was “it is the customer’s responsibility to contact the airline, there’s nothing we can do”. I was given a card with contact info on BA customer service and sales. For the next 2 hrs in the airport, I have been trying to contact BA, but was told that hotline only operates from 0800, I have to called another number for “urgent cases”, which ever number I dial, I just couldn’t get to speak to any one till 0757. Again, I was told that there’s nothing they could do because my connecting flight is Singapore Airlines. Onboard the aircraft, when I approached for help with my luggage to be placed to the compartment, I was told that it’s the customer’s responsibility to do it on their own.  I would think twice to take BA in the future. No check in staff for Economy. Never experienced this before. While Business passengers strolled up, Economy passengers were left standing for 90 mins plus.  They cancelled a flight I booked three months ago for some operational problem at a time where the prices are off the roof. British Airways could not give me any alternatives other than refund or a voucher.   Johannesburg to Dublin via London. I get to the counter and require a transit visa. Since when and why if you are in the same terminal even. There was no support, guidance or remorse from the staff. I also had a non refundable hotel booking in Dublin! BA need to communicate such changes.  Lisbon to London. I pay extra to check my bag, to ensure I am not using more than my share of overhead space. To have British Airways charge me 50 Euros to check a bag to my final destination, and then insist that my briefcase be put under the seat, in a cramped aircraft, to ensure there is room in the overhead bin for travelers too cheap to check their bags, is an insult. Will never fly BA again.  Gatwick to Seville. When my son and his girlfriend proceeded to drop their hand luggage a member of staff insisted in making them pay 50GBP because one of the suitcases was 4cm oversize, and he insisted that it was not a hand luggage. Staff said that if he did not pay, he would lose the flight.  San Francisco to London. After paying £4000 for flights which I had to cancel, they wouldn't allow any change of dates or change of name, and after all that wouldn't give me the  Avios points because I wont be on the flight. Flown with British Airways on numerous occasions with no issues. However on this occasion my baggage was lost on arrival at Gatwick. There was no British airways representative at the baggage claim however there was a phone that allowed me to call the baggage department. Reclaiming lost baggage was simple and my bag was put on the next flight to Singapore which I received the following day.  Rome to London. Our flight was delayed from Rome by an hour and we could not connect to the next flight to Los Angeles as we landed in Heathrow 20 minutes before the departure. There were no staff members who helped us and they have conveniently put us on the next flight tomorrow. They put us on a hotel next to airport and provided dinner but did not provide additional vouchers for snacks and other stuff. \""
      ]
     },
     "execution_count": 34,
     "metadata": {},
     "output_type": "execute_result"
    }
   ],
   "source": [
    "print('Please select which sentiment reviews you want to analyze')\n",
    "review_option = input('Positive / Negative / Neutral?\\n')\n",
    "\n",
    "sentiment_reviews = df[df['sentiment'] == review_option]\n",
    "sentiment_reviews = sentiment_reviews['reviews'].tolist()\n",
    "sentiment_reviews = ' '.join(sentiment_reviews)\n",
    "text = sentiment_reviews\n",
    "text"
   ]
  },
  {
   "cell_type": "code",
   "execution_count": 35,
   "metadata": {},
   "outputs": [],
   "source": [
    "text = text.lower()\n",
    "text = re.sub(r'\\d+','', text)"
   ]
  },
  {
   "cell_type": "code",
   "execution_count": 36,
   "metadata": {},
   "outputs": [
    {
     "data": {
      "text/plain": [
       "'turned up  hours in advance terminal  at london heathrow was already carnage s of people trying to check in only  desks manned long queues at security due to only  lines open people stressed pushing shouting and flight delayed by  hours according to pilot delay due to suitcases all needing to be loaded missed connecting flight in doha  hours wait til next one received a voucher approx £ for the whole day arrived  day later my suitcase didn’t arrive with me filed a claim at the desk for  days no update no information no offer of compensation and no solution offer i now have a spoilt holiday many personal belongings are gone xmas gifts missing extensive expenses i don’t know if i will be reimbursed beware with ba expect low level or zero customer service old planes and zero help if anything goes wrong or missing i will personally avoid ba in future at all costs  holidays ruined  suitcases lost in  flights i travelled from london heathrow to amsterdam with my brother before boarding we were told we couldnt take our cabin suitcases with us in the cabin so they sent them to the cargo at our arrival in amsterdam one of the suitcases was missing left at london heathrow so we had to fill in a report in amsterdam this was  days ago and we still dont have the suitcase or any information about it today i travelled from amsterdam to london city airport again they didnt allow me to board with my cabin suitcase and when i arrived in london the suitcase was missing left in amsterdam  suitcases  different flights theyve ruined my holidays no compensation no dates on when will i get my property back no information lies and more lies  i was told i could complain online and buy all the things i need shoes toiletries clothes and i might receive the money back in  days yes i might  the flight was delayed over  hours and this of course caused us to missed our connection flight and change to a different route finally i lost my luggage and no one has any information i will never again travel with british airways  belfast to london on  jun  i was informed at about  flight ba has been delayed to  will only reach london heathrow at  i reached the airport at  but ba counter was only open at  at checkin counter i approached ba ground staff for advice as i have a connecting singapore airlines flight at  on the same day the reply was “it is the customer’s responsibility to contact the airline there’s nothing we can do” i was given a card with contact info on ba customer service and sales for the next  hrs in the airport i have been trying to contact ba but was told that hotline only operates from  i have to called another number for “urgent cases” which ever number i dial i just couldn’t get to speak to any one till  again i was told that there’s nothing they could do because my connecting flight is singapore airlines onboard the aircraft when i approached for help with my luggage to be placed to the compartment i was told that it’s the customer’s responsibility to do it on their own  i would think twice to take ba in the future no check in staff for economy never experienced this before while business passengers strolled up economy passengers were left standing for  mins plus  they cancelled a flight i booked three months ago for some operational problem at a time where the prices are off the roof british airways could not give me any alternatives other than refund or a voucher   johannesburg to dublin via london i get to the counter and require a transit visa since when and why if you are in the same terminal even there was no support guidance or remorse from the staff i also had a non refundable hotel booking in dublin ba need to communicate such changes  lisbon to london i pay extra to check my bag to ensure i am not using more than my share of overhead space to have british airways charge me  euros to check a bag to my final destination and then insist that my briefcase be put under the seat in a cramped aircraft to ensure there is room in the overhead bin for travelers too cheap to check their bags is an insult will never fly ba again  gatwick to seville when my son and his girlfriend proceeded to drop their hand luggage a member of staff insisted in making them pay gbp because one of the suitcases was cm oversize and he insisted that it was not a hand luggage staff said that if he did not pay he would lose the flight  san francisco to london after paying £ for flights which i had to cancel they wouldnt allow any change of dates or change of name and after all that wouldnt give me the  avios points because i wont be on the flight flown with british airways on numerous occasions with no issues however on this occasion my baggage was lost on arrival at gatwick there was no british airways representative at the baggage claim however there was a phone that allowed me to call the baggage department reclaiming lost baggage was simple and my bag was put on the next flight to singapore which i received the following day  rome to london our flight was delayed from rome by an hour and we could not connect to the next flight to los angeles as we landed in heathrow  minutes before the departure there were no staff members who helped us and they have conveniently put us on the next flight tomorrow they put us on a hotel next to airport and provided dinner but did not provide additional vouchers for snacks and other stuff '"
      ]
     },
     "execution_count": 36,
     "metadata": {},
     "output_type": "execute_result"
    }
   ],
   "source": [
    "text = text.translate(str.maketrans('', '', string.punctuation))\n",
    "text"
   ]
  },
  {
   "cell_type": "code",
   "execution_count": 37,
   "metadata": {},
   "outputs": [],
   "source": [
    "tokens = [word for word in text.split()]\n",
    "\n",
    "# nltk.download()\n",
    "clean_tokens = tokens[:]\n",
    "for token in tokens:\n",
    "    if token in stopwords.words('english'):\n",
    "        clean_tokens.remove(token)"
   ]
  },
  {
   "cell_type": "code",
   "execution_count": 38,
   "metadata": {},
   "outputs": [
    {
     "name": "stdout",
     "output_type": "stream",
     "text": [
      "turned : 1\n",
      "hours : 4\n",
      "advance : 1\n",
      "terminal : 2\n",
      "london : 11\n",
      "heathrow : 5\n",
      "already : 1\n",
      "carnage : 1\n",
      "people : 2\n",
      "trying : 2\n",
      "check : 5\n",
      "desks : 1\n",
      "manned : 1\n",
      "long : 1\n",
      "queues : 1\n",
      "security : 1\n",
      "due : 2\n",
      "lines : 1\n",
      "open : 2\n",
      "stressed : 1\n",
      "pushing : 1\n",
      "shouting : 1\n",
      "flight : 14\n",
      "delayed : 4\n",
      "according : 1\n",
      "pilot : 1\n",
      "delay : 1\n",
      "suitcases : 6\n",
      "needing : 1\n",
      "loaded : 1\n",
      "missed : 2\n",
      "connecting : 3\n",
      "doha : 1\n",
      "wait : 1\n",
      "til : 1\n",
      "next : 6\n",
      "one : 5\n",
      "received : 2\n",
      "voucher : 2\n",
      "approx : 1\n",
      "£ : 2\n",
      "whole : 1\n",
      "day : 4\n",
      "arrived : 2\n",
      "later : 1\n",
      "suitcase : 4\n",
      "didn’t : 1\n",
      "arrive : 1\n",
      "filed : 1\n",
      "claim : 2\n",
      "desk : 1\n",
      "days : 3\n",
      "update : 1\n",
      "information : 4\n",
      "offer : 2\n",
      "compensation : 2\n",
      "solution : 1\n",
      "spoilt : 1\n",
      "holiday : 1\n",
      "many : 1\n",
      "personal : 1\n",
      "belongings : 1\n",
      "gone : 1\n",
      "xmas : 1\n",
      "gifts : 1\n",
      "missing : 4\n",
      "extensive : 1\n",
      "expenses : 1\n",
      "don’t : 1\n",
      "know : 1\n",
      "reimbursed : 1\n",
      "beware : 1\n",
      "ba : 10\n",
      "expect : 1\n",
      "low : 1\n",
      "level : 1\n",
      "zero : 2\n",
      "customer : 2\n",
      "service : 2\n",
      "old : 1\n",
      "planes : 1\n",
      "help : 2\n",
      "anything : 1\n",
      "goes : 1\n",
      "wrong : 1\n",
      "personally : 1\n",
      "avoid : 1\n",
      "future : 2\n",
      "costs : 1\n",
      "holidays : 2\n",
      "ruined : 2\n",
      "lost : 4\n",
      "flights : 3\n",
      "travelled : 2\n",
      "amsterdam : 5\n",
      "brother : 1\n",
      "boarding : 1\n",
      "told : 5\n",
      "couldnt : 1\n",
      "take : 2\n",
      "cabin : 3\n",
      "us : 5\n",
      "sent : 1\n",
      "cargo : 1\n",
      "arrival : 2\n",
      "left : 3\n",
      "fill : 1\n",
      "report : 1\n",
      "ago : 2\n",
      "still : 1\n",
      "dont : 1\n",
      "today : 1\n",
      "city : 1\n",
      "airport : 4\n",
      "didnt : 1\n",
      "allow : 2\n",
      "board : 1\n",
      "different : 2\n",
      "theyve : 1\n",
      "dates : 2\n",
      "get : 3\n",
      "property : 1\n",
      "back : 2\n",
      "lies : 2\n",
      "could : 4\n",
      "complain : 1\n",
      "online : 1\n",
      "buy : 1\n",
      "things : 1\n",
      "need : 2\n",
      "shoes : 1\n",
      "toiletries : 1\n",
      "clothes : 1\n",
      "might : 2\n",
      "receive : 1\n",
      "money : 1\n",
      "yes : 1\n",
      "course : 1\n",
      "caused : 1\n",
      "connection : 1\n",
      "change : 3\n",
      "route : 1\n",
      "finally : 1\n",
      "luggage : 4\n",
      "never : 3\n",
      "travel : 1\n",
      "british : 5\n",
      "airways : 5\n",
      "belfast : 1\n",
      "jun : 1\n",
      "informed : 1\n",
      "reach : 1\n",
      "reached : 1\n",
      "counter : 3\n",
      "checkin : 1\n",
      "approached : 2\n",
      "ground : 1\n",
      "staff : 6\n",
      "advice : 1\n",
      "singapore : 3\n",
      "airlines : 2\n",
      "reply : 1\n",
      "“it : 1\n",
      "customer’s : 2\n",
      "responsibility : 2\n",
      "contact : 3\n",
      "airline : 1\n",
      "there’s : 2\n",
      "nothing : 2\n",
      "do” : 1\n",
      "given : 1\n",
      "card : 1\n",
      "info : 1\n",
      "sales : 1\n",
      "hrs : 1\n",
      "hotline : 1\n",
      "operates : 1\n",
      "called : 1\n",
      "another : 1\n",
      "number : 2\n",
      "“urgent : 1\n",
      "cases” : 1\n",
      "ever : 1\n",
      "dial : 1\n",
      "couldn’t : 1\n",
      "speak : 1\n",
      "till : 1\n",
      "onboard : 1\n",
      "aircraft : 2\n",
      "placed : 1\n",
      "compartment : 1\n",
      "it’s : 1\n",
      "would : 2\n",
      "think : 1\n",
      "twice : 1\n",
      "economy : 2\n",
      "experienced : 1\n",
      "business : 1\n",
      "passengers : 2\n",
      "strolled : 1\n",
      "standing : 1\n",
      "mins : 1\n",
      "plus : 1\n",
      "cancelled : 1\n",
      "booked : 1\n",
      "three : 1\n",
      "months : 1\n",
      "operational : 1\n",
      "problem : 1\n",
      "time : 1\n",
      "prices : 1\n",
      "roof : 1\n",
      "give : 2\n",
      "alternatives : 1\n",
      "refund : 1\n",
      "johannesburg : 1\n",
      "dublin : 2\n",
      "via : 1\n",
      "require : 1\n",
      "transit : 1\n",
      "visa : 1\n",
      "since : 1\n",
      "even : 1\n",
      "support : 1\n",
      "guidance : 1\n",
      "remorse : 1\n",
      "also : 1\n",
      "non : 1\n",
      "refundable : 1\n",
      "hotel : 2\n",
      "booking : 1\n",
      "communicate : 1\n",
      "changes : 1\n",
      "lisbon : 1\n",
      "pay : 3\n",
      "extra : 1\n",
      "bag : 3\n",
      "ensure : 2\n",
      "using : 1\n",
      "share : 1\n",
      "overhead : 2\n",
      "space : 1\n",
      "charge : 1\n",
      "euros : 1\n",
      "final : 1\n",
      "destination : 1\n",
      "insist : 1\n",
      "briefcase : 1\n",
      "put : 4\n",
      "seat : 1\n",
      "cramped : 1\n",
      "room : 1\n",
      "bin : 1\n",
      "travelers : 1\n",
      "cheap : 1\n",
      "bags : 1\n",
      "insult : 1\n",
      "fly : 1\n",
      "gatwick : 2\n",
      "seville : 1\n",
      "son : 1\n",
      "girlfriend : 1\n",
      "proceeded : 1\n",
      "drop : 1\n",
      "hand : 2\n",
      "member : 1\n",
      "insisted : 2\n",
      "making : 1\n",
      "gbp : 1\n",
      "cm : 1\n",
      "oversize : 1\n",
      "said : 1\n",
      "lose : 1\n",
      "san : 1\n",
      "francisco : 1\n",
      "paying : 1\n",
      "cancel : 1\n",
      "wouldnt : 2\n",
      "name : 1\n",
      "avios : 1\n",
      "points : 1\n",
      "wont : 1\n",
      "flown : 1\n",
      "numerous : 1\n",
      "occasions : 1\n",
      "issues : 1\n",
      "however : 2\n",
      "occasion : 1\n",
      "baggage : 4\n",
      "representative : 1\n",
      "phone : 1\n",
      "allowed : 1\n",
      "call : 1\n",
      "department : 1\n",
      "reclaiming : 1\n",
      "simple : 1\n",
      "following : 1\n",
      "rome : 2\n",
      "hour : 1\n",
      "connect : 1\n",
      "los : 1\n",
      "angeles : 1\n",
      "landed : 1\n",
      "minutes : 1\n",
      "departure : 1\n",
      "members : 1\n",
      "helped : 1\n",
      "conveniently : 1\n",
      "tomorrow : 1\n",
      "provided : 1\n",
      "dinner : 1\n",
      "provide : 1\n",
      "additional : 1\n",
      "vouchers : 1\n",
      "snacks : 1\n",
      "stuff : 1\n"
     ]
    }
   ],
   "source": [
    "freq = nltk.FreqDist(clean_tokens)\n",
    "for key, val in freq.items():\n",
    "    print(str(key), ':', str(val))"
   ]
  },
  {
   "cell_type": "code",
   "execution_count": 39,
   "metadata": {},
   "outputs": [
    {
     "data": {
      "image/png": "[encoded data removed]",
      "text/plain": [
       "<Figure size 640x480 with 1 Axes>"
      ]
     },
     "metadata": {},
     "output_type": "display_data"
    },
    {
     "data": {
      "text/plain": [
       "<AxesSubplot:xlabel='Samples', ylabel='Counts'>"
      ]
     },
     "execution_count": 39,
     "metadata": {},
     "output_type": "execute_result"
    }
   ],
   "source": [
    "freq.plot(30)"
   ]
  },
  {
   "cell_type": "code",
   "execution_count": 40,
   "metadata": {},
   "outputs": [
    {
     "name": "stdout",
     "output_type": "stream",
     "text": [
      "above is the result of the Neutral sentiment!\n"
     ]
    }
   ],
   "source": [
    "print('above is the result of the', review_option, 'sentiment!')"
   ]
  },
  {
   "cell_type": "markdown",
   "metadata": {},
   "source": [
    "## Data Visualization"
   ]
  },
  {
   "cell_type": "code",
   "execution_count": 41,
   "metadata": {},
   "outputs": [
    {
     "name": "stdout",
     "output_type": "stream",
     "text": [
      "total positive sentiments: 711\n",
      "total negative sentiments: 277\n",
      "total neutral sentiments: 12\n"
     ]
    }
   ],
   "source": [
    "total_positive = df['sentiment'] == 'Positive'\n",
    "total_negative = df['sentiment'] == 'Negative'\n",
    "total_neutral = df['sentiment'] == 'Neutral'\n",
    "\n",
    "print('total positive sentiments:', total_positive.sum())\n",
    "print('total negative sentiments:', total_negative.sum())\n",
    "print('total neutral sentiments:', total_neutral.sum())"
   ]
  },
  {
   "cell_type": "code",
   "execution_count": 42,
   "metadata": {},
   "outputs": [
    {
     "data": {
      "text/plain": [
       "Text(0.5, 1.0, 'Sentiment across Subjectivity')"
      ]
     },
     "execution_count": 42,
     "metadata": {},
     "output_type": "execute_result"
    },
    {
     "data": {
      "image/png": "[encoded data removed]",
      "text/plain": [
       "<Figure size 640x480 with 1 Axes>"
      ]
     },
     "metadata": {},
     "output_type": "display_data"
    }
   ],
   "source": [
    "# Visualization of Sentiment across Polarity\n",
    "# the \"Positive\" sentiment has the most than the Negative and Neutral\n",
    "\n",
    "tipe_subjectivity = df.groupby(['sentiment']).sum()['subjectivity']\n",
    "tipe_subjectivity.plot(kind='bar')\n",
    "plt.ylabel('Subjectivity')\n",
    "plt.xlabel('Sentiment')\n",
    "plt.title('Sentiment across Subjectivity')"
   ]
  },
  {
   "cell_type": "code",
   "execution_count": 43,
   "metadata": {},
   "outputs": [
    {
     "data": {
      "text/plain": [
       "[Text(0.5, 0, 'Sentiment'),\n",
       " Text(0, 0.5, 'Subjectivity score'),\n",
       " Text(0.5, 1.0, 'Box Plot On Sentiment Across Subjectivity')]"
      ]
     },
     "execution_count": 43,
     "metadata": {},
     "output_type": "execute_result"
    },
    {
     "data": {
      "image/png": "[encoded data removed]",
      "text/plain": [
       "<Figure size 640x480 with 1 Axes>"
      ]
     },
     "metadata": {},
     "output_type": "display_data"
    }
   ],
   "source": [
    "fig,axes = plt.subplots()\n",
    "sn.boxplot(data=df,y=\"subjectivity\",x=\"sentiment\",orient=\"v\")\n",
    "axes.set(xlabel='Sentiment', ylabel='Subjectivity score',title=\"Box Plot On Sentiment Across Subjectivity\")\n"
   ]
  },
  {
   "cell_type": "code",
   "execution_count": 44,
   "metadata": {},
   "outputs": [
    {
     "data": {
      "text/plain": [
       "[Text(0.5, 0, 'Sentiment'),\n",
       " Text(0, 0.5, 'Polarity score'),\n",
       " Text(0.5, 1.0, 'Box Plot On Sentiment Across Polarity')]"
      ]
     },
     "execution_count": 44,
     "metadata": {},
     "output_type": "execute_result"
    },
    {
     "data": {
      "image/png": "[encoded data removed]",
      "text/plain": [
       "<Figure size 640x480 with 1 Axes>"
      ]
     },
     "metadata": {},
     "output_type": "display_data"
    }
   ],
   "source": [
    "fig,axes = plt.subplots()\n",
    "sn.boxplot(data=df,y=\"polarity\",x=\"sentiment\",orient=\"v\")\n",
    "axes.set(xlabel='Sentiment', ylabel='Polarity score',title=\"Box Plot On Sentiment Across Polarity\")"
   ]
  },
  {
   "cell_type": "code",
   "execution_count": 45,
   "metadata": {},
   "outputs": [
    {
     "data": {
      "image/png": "[encoded data removed]",
      "text/plain": [
       "<Figure size 640x480 with 1 Axes>"
      ]
     },
     "metadata": {},
     "output_type": "display_data"
    }
   ],
   "source": [
    "sentiment_counts = df.groupby('sentiment')['reviews'].count()\n",
    "\n",
    "sn.barplot(x=sentiment_counts.index, y=sentiment_counts.values)\n",
    "plt.title('Sentiment Analysis Results')\n",
    "plt.xlabel('Sentiment')\n",
    "plt.ylabel('Number of Reviews')\n",
    "plt.show()"
   ]
  },
  {
   "cell_type": "code",
   "execution_count": 46,
   "metadata": {},
   "outputs": [
    {
     "data": {
      "image/png": "[encoded data removed]",
      "text/plain": [
       "<Figure size 640x480 with 1 Axes>"
      ]
     },
     "metadata": {},
     "output_type": "display_data"
    }
   ],
   "source": [
    "sentiment_counts = df.groupby('sentiment')['reviews'].count()\n",
    "\n",
    "plt.pie(sentiment_counts.values, labels=sentiment_counts.index, autopct='%1.2f%%')\n",
    "plt.title('Sentiment Analysis Results')\n",
    "plt.show()"
   ]
  },
  {
   "cell_type": "code",
   "execution_count": 47,
   "metadata": {},
   "outputs": [
    {
     "data": {
      "text/html": [
       "<div>\n",
       "<style scoped>\n",
       "    .dataframe tbody tr th:only-of-type {\n",
       "        vertical-align: middle;\n",
       "    }\n",
       "\n",
       "    .dataframe tbody tr th {\n",
       "        vertical-align: top;\n",
       "    }\n",
       "\n",
       "    .dataframe thead th {\n",
       "        text-align: right;\n",
       "    }\n",
       "</style>\n",
       "<table border=\"1\" class=\"dataframe\">\n",
       "  <thead>\n",
       "    <tr style=\"text-align: right;\">\n",
       "      <th></th>\n",
       "      <th>reviews</th>\n",
       "      <th>sentiment</th>\n",
       "      <th>polarity</th>\n",
       "      <th>subjectivity</th>\n",
       "    </tr>\n",
       "  </thead>\n",
       "  <tbody>\n",
       "    <tr>\n",
       "      <th>1</th>\n",
       "      <td>Second time BA Premium Economy in a newer air...</td>\n",
       "      <td>Positive</td>\n",
       "      <td>0.402917</td>\n",
       "      <td>0.673333</td>\n",
       "    </tr>\n",
       "    <tr>\n",
       "      <th>2</th>\n",
       "      <td>They changed our Flights from Brussels to Lon...</td>\n",
       "      <td>Negative</td>\n",
       "      <td>-0.108333</td>\n",
       "      <td>0.458333</td>\n",
       "    </tr>\n",
       "    <tr>\n",
       "      <th>3</th>\n",
       "      <td>At Copenhagen the most chaotic ticket counter...</td>\n",
       "      <td>Positive</td>\n",
       "      <td>0.050000</td>\n",
       "      <td>0.600000</td>\n",
       "    </tr>\n",
       "    <tr>\n",
       "      <th>4</th>\n",
       "      <td>Worst experience of my life trying to deal wi...</td>\n",
       "      <td>Negative</td>\n",
       "      <td>-0.090079</td>\n",
       "      <td>0.571164</td>\n",
       "    </tr>\n",
       "    <tr>\n",
       "      <th>5</th>\n",
       "      <td>Due to code sharing with Cathay Pacific I was...</td>\n",
       "      <td>Positive</td>\n",
       "      <td>0.079167</td>\n",
       "      <td>0.498810</td>\n",
       "    </tr>\n",
       "    <tr>\n",
       "      <th>...</th>\n",
       "      <td>...</td>\n",
       "      <td>...</td>\n",
       "      <td>...</td>\n",
       "      <td>...</td>\n",
       "    </tr>\n",
       "    <tr>\n",
       "      <th>996</th>\n",
       "      <td>BA First Class is not even that any more. Sta...</td>\n",
       "      <td>Positive</td>\n",
       "      <td>0.118074</td>\n",
       "      <td>0.477039</td>\n",
       "    </tr>\n",
       "    <tr>\n",
       "      <th>997</th>\n",
       "      <td>Linate to London. The morning of the departur...</td>\n",
       "      <td>Negative</td>\n",
       "      <td>-0.061364</td>\n",
       "      <td>0.446288</td>\n",
       "    </tr>\n",
       "    <tr>\n",
       "      <th>998</th>\n",
       "      <td>Flew British Airways from JK to London Heathro...</td>\n",
       "      <td>Negative</td>\n",
       "      <td>-0.238839</td>\n",
       "      <td>0.430804</td>\n",
       "    </tr>\n",
       "    <tr>\n",
       "      <th>999</th>\n",
       "      <td>I have flown British Airways numerous times ov...</td>\n",
       "      <td>Negative</td>\n",
       "      <td>-0.042708</td>\n",
       "      <td>0.520357</td>\n",
       "    </tr>\n",
       "    <tr>\n",
       "      <th>1000</th>\n",
       "      <td>We can not fault the new 'Club World' food and...</td>\n",
       "      <td>Positive</td>\n",
       "      <td>0.310865</td>\n",
       "      <td>0.630013</td>\n",
       "    </tr>\n",
       "  </tbody>\n",
       "</table>\n",
       "<p>1000 rows × 4 columns</p>\n",
       "</div>"
      ],
      "text/plain": [
       "                                                reviews sentiment  polarity  \\\n",
       "1      Second time BA Premium Economy in a newer air...  Positive  0.402917   \n",
       "2      They changed our Flights from Brussels to Lon...  Negative -0.108333   \n",
       "3      At Copenhagen the most chaotic ticket counter...  Positive  0.050000   \n",
       "4      Worst experience of my life trying to deal wi...  Negative -0.090079   \n",
       "5      Due to code sharing with Cathay Pacific I was...  Positive  0.079167   \n",
       "...                                                 ...       ...       ...   \n",
       "996    BA First Class is not even that any more. Sta...  Positive  0.118074   \n",
       "997    Linate to London. The morning of the departur...  Negative -0.061364   \n",
       "998   Flew British Airways from JK to London Heathro...  Negative -0.238839   \n",
       "999   I have flown British Airways numerous times ov...  Negative -0.042708   \n",
       "1000  We can not fault the new 'Club World' food and...  Positive  0.310865   \n",
       "\n",
       "      subjectivity  \n",
       "1         0.673333  \n",
       "2         0.458333  \n",
       "3         0.600000  \n",
       "4         0.571164  \n",
       "5         0.498810  \n",
       "...            ...  \n",
       "996       0.477039  \n",
       "997       0.446288  \n",
       "998       0.430804  \n",
       "999       0.520357  \n",
       "1000      0.630013  \n",
       "\n",
       "[1000 rows x 4 columns]"
      ]
     },
     "execution_count": 47,
     "metadata": {},
     "output_type": "execute_result"
    }
   ],
   "source": [
    "df"
   ]
  },
  {
   "cell_type": "code",
   "execution_count": 48,
   "metadata": {},
   "outputs": [],
   "source": [
    "df.to_csv(\"data/BA_reviews.csv\")"
   ]
  }
 ],
 "metadata": {
  "kernelspec": {
   "display_name": "Python 3 (ipykernel)",
   "language": "python",
   "name": "python3"
  },
  "language_info": {
   "codemirror_mode": {
    "name": "ipython",
    "version": 3
   },
   "file_extension": ".py",
   "mimetype": "text/x-python",
   "name": "python",
   "nbconvert_exporter": "python",
   "pygments_lexer": "ipython3",
   "version": "3.9.13"
  },
  "vscode": {
   "interpreter": {
    "hash": "4f7924c4c56b083e0e50eadfe7ef592a7a8ef70df33a0047f82280e6be1afe15"
   }
  }
 },
 "nbformat": 4,
 "nbformat_minor": 2
}
