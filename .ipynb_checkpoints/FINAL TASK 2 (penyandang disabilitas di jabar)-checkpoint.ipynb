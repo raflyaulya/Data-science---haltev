{
 "cells": [
  {
   "cell_type": "code",
   "execution_count": 1,
   "id": "7ff903e5",
   "metadata": {},
   "outputs": [],
   "source": [
    "import pandas as pd\n",
    "import numpy as np\n",
    "import matplotlib.pyplot as plt\n",
    "import seaborn as sn"
   ]
  },
  {
   "cell_type": "code",
   "execution_count": 2,
   "id": "ad9dfc41",
   "metadata": {},
   "outputs": [],
   "source": [
    "df = pd.read_csv('data penyandang disabilitas.csv')"
   ]
  },
  {
   "cell_type": "code",
   "execution_count": 3,
   "id": "e70c9872",
   "metadata": {},
   "outputs": [
    {
     "data": {
      "text/html": [
       "<div>\n",
       "<style scoped>\n",
       "    .dataframe tbody tr th:only-of-type {\n",
       "        vertical-align: middle;\n",
       "    }\n",
       "\n",
       "    .dataframe tbody tr th {\n",
       "        vertical-align: top;\n",
       "    }\n",
       "\n",
       "    .dataframe thead th {\n",
       "        text-align: right;\n",
       "    }\n",
       "</style>\n",
       "<table border=\"1\" class=\"dataframe\">\n",
       "  <thead>\n",
       "    <tr style=\"text-align: right;\">\n",
       "      <th></th>\n",
       "      <th>kode_provinsi</th>\n",
       "      <th>nama_provinsi</th>\n",
       "      <th>kode_kabupaten_kota</th>\n",
       "      <th>nama_kabupaten_kota</th>\n",
       "      <th>kode_kecamatan</th>\n",
       "      <th>nama_kecamatan</th>\n",
       "      <th>kode_desa_kelurahan</th>\n",
       "      <th>nama_desa_kelurahan</th>\n",
       "      <th>kemendagri_kode_kecamatan</th>\n",
       "      <th>kemendagri_nama_kecamatan</th>\n",
       "      <th>kemendagri_kode_desa_kelurahan</th>\n",
       "      <th>kemendagri_nama_desa_kelurahan</th>\n",
       "      <th>jumlah_penyandang</th>\n",
       "      <th>satuan</th>\n",
       "      <th>tahun</th>\n",
       "      <th>id</th>\n",
       "    </tr>\n",
       "  </thead>\n",
       "  <tbody>\n",
       "    <tr>\n",
       "      <th>0</th>\n",
       "      <td>32</td>\n",
       "      <td>JAWA BARAT</td>\n",
       "      <td>3201</td>\n",
       "      <td>KABUPATEN BOGOR</td>\n",
       "      <td>3201190</td>\n",
       "      <td>GUNUNG PUTRI</td>\n",
       "      <td>3201190006</td>\n",
       "      <td>WANAHERANG</td>\n",
       "      <td>32.01.02</td>\n",
       "      <td>GUNUNG PUTRI</td>\n",
       "      <td>32.01.02.2001</td>\n",
       "      <td>WANAHERANG</td>\n",
       "      <td>1</td>\n",
       "      <td>ORANG</td>\n",
       "      <td>2020</td>\n",
       "      <td>1</td>\n",
       "    </tr>\n",
       "    <tr>\n",
       "      <th>1</th>\n",
       "      <td>32</td>\n",
       "      <td>JAWA BARAT</td>\n",
       "      <td>3201</td>\n",
       "      <td>KABUPATEN BOGOR</td>\n",
       "      <td>3201190</td>\n",
       "      <td>GUNUNG PUTRI</td>\n",
       "      <td>3201190010</td>\n",
       "      <td>BOJONG KULUR</td>\n",
       "      <td>32.01.02</td>\n",
       "      <td>GUNUNG PUTRI</td>\n",
       "      <td>32.01.02.2002</td>\n",
       "      <td>BOJONG KULUR</td>\n",
       "      <td>4</td>\n",
       "      <td>ORANG</td>\n",
       "      <td>2020</td>\n",
       "      <td>2</td>\n",
       "    </tr>\n",
       "    <tr>\n",
       "      <th>2</th>\n",
       "      <td>32</td>\n",
       "      <td>JAWA BARAT</td>\n",
       "      <td>3201</td>\n",
       "      <td>KABUPATEN BOGOR</td>\n",
       "      <td>3201190</td>\n",
       "      <td>GUNUNG PUTRI</td>\n",
       "      <td>3201190009</td>\n",
       "      <td>CIANGSANA</td>\n",
       "      <td>32.01.02</td>\n",
       "      <td>GUNUNG PUTRI</td>\n",
       "      <td>32.01.02.2003</td>\n",
       "      <td>CIANGSANA</td>\n",
       "      <td>0</td>\n",
       "      <td>ORANG</td>\n",
       "      <td>2020</td>\n",
       "      <td>3</td>\n",
       "    </tr>\n",
       "    <tr>\n",
       "      <th>3</th>\n",
       "      <td>32</td>\n",
       "      <td>JAWA BARAT</td>\n",
       "      <td>3201</td>\n",
       "      <td>KABUPATEN BOGOR</td>\n",
       "      <td>3201190</td>\n",
       "      <td>GUNUNG PUTRI</td>\n",
       "      <td>3201190002</td>\n",
       "      <td>GUNUNG PUTRI</td>\n",
       "      <td>32.01.02</td>\n",
       "      <td>GUNUNG PUTRI</td>\n",
       "      <td>32.01.02.2004</td>\n",
       "      <td>GUNUNG PUTRI</td>\n",
       "      <td>5</td>\n",
       "      <td>ORANG</td>\n",
       "      <td>2020</td>\n",
       "      <td>4</td>\n",
       "    </tr>\n",
       "    <tr>\n",
       "      <th>4</th>\n",
       "      <td>32</td>\n",
       "      <td>JAWA BARAT</td>\n",
       "      <td>3201</td>\n",
       "      <td>KABUPATEN BOGOR</td>\n",
       "      <td>3201190</td>\n",
       "      <td>GUNUNG PUTRI</td>\n",
       "      <td>3201190004</td>\n",
       "      <td>BOJONG NANGKA</td>\n",
       "      <td>32.01.02</td>\n",
       "      <td>GUNUNG PUTRI</td>\n",
       "      <td>32.01.02.2005</td>\n",
       "      <td>BOJONG NANGKA</td>\n",
       "      <td>2</td>\n",
       "      <td>ORANG</td>\n",
       "      <td>2020</td>\n",
       "      <td>5</td>\n",
       "    </tr>\n",
       "    <tr>\n",
       "      <th>...</th>\n",
       "      <td>...</td>\n",
       "      <td>...</td>\n",
       "      <td>...</td>\n",
       "      <td>...</td>\n",
       "      <td>...</td>\n",
       "      <td>...</td>\n",
       "      <td>...</td>\n",
       "      <td>...</td>\n",
       "      <td>...</td>\n",
       "      <td>...</td>\n",
       "      <td>...</td>\n",
       "      <td>...</td>\n",
       "      <td>...</td>\n",
       "      <td>...</td>\n",
       "      <td>...</td>\n",
       "      <td>...</td>\n",
       "    </tr>\n",
       "    <tr>\n",
       "      <th>10619</th>\n",
       "      <td>32</td>\n",
       "      <td>JAWA BARAT</td>\n",
       "      <td>3279</td>\n",
       "      <td>KOTA BANJAR</td>\n",
       "      <td>3279020</td>\n",
       "      <td>PURWAHARJA</td>\n",
       "      <td>3279020004</td>\n",
       "      <td>MEKARHARJA</td>\n",
       "      <td>32.79.03</td>\n",
       "      <td>PURWAHARJA</td>\n",
       "      <td>32.79.03.2003</td>\n",
       "      <td>MEKARHARJA</td>\n",
       "      <td>0</td>\n",
       "      <td>ORANG</td>\n",
       "      <td>2021</td>\n",
       "      <td>10620</td>\n",
       "    </tr>\n",
       "    <tr>\n",
       "      <th>10620</th>\n",
       "      <td>32</td>\n",
       "      <td>JAWA BARAT</td>\n",
       "      <td>3279</td>\n",
       "      <td>KOTA BANJAR</td>\n",
       "      <td>3279040</td>\n",
       "      <td>LANGENSARI</td>\n",
       "      <td>3279040004</td>\n",
       "      <td>LANGENSARI</td>\n",
       "      <td>32.79.04</td>\n",
       "      <td>LANGENSARI</td>\n",
       "      <td>32.79.04.2001</td>\n",
       "      <td>LANGENSARI</td>\n",
       "      <td>0</td>\n",
       "      <td>ORANG</td>\n",
       "      <td>2021</td>\n",
       "      <td>10621</td>\n",
       "    </tr>\n",
       "    <tr>\n",
       "      <th>10621</th>\n",
       "      <td>32</td>\n",
       "      <td>JAWA BARAT</td>\n",
       "      <td>3279</td>\n",
       "      <td>KOTA BANJAR</td>\n",
       "      <td>3279040</td>\n",
       "      <td>LANGENSARI</td>\n",
       "      <td>3279040003</td>\n",
       "      <td>REJASARI</td>\n",
       "      <td>32.79.04</td>\n",
       "      <td>LANGENSARI</td>\n",
       "      <td>32.79.04.2002</td>\n",
       "      <td>REJASARI</td>\n",
       "      <td>0</td>\n",
       "      <td>ORANG</td>\n",
       "      <td>2021</td>\n",
       "      <td>10622</td>\n",
       "    </tr>\n",
       "    <tr>\n",
       "      <th>10622</th>\n",
       "      <td>32</td>\n",
       "      <td>JAWA BARAT</td>\n",
       "      <td>3279</td>\n",
       "      <td>KOTA BANJAR</td>\n",
       "      <td>3279040</td>\n",
       "      <td>LANGENSARI</td>\n",
       "      <td>3279040006</td>\n",
       "      <td>WARINGINSARI</td>\n",
       "      <td>32.79.04</td>\n",
       "      <td>LANGENSARI</td>\n",
       "      <td>32.79.04.2003</td>\n",
       "      <td>WARINGINSARI</td>\n",
       "      <td>5</td>\n",
       "      <td>ORANG</td>\n",
       "      <td>2021</td>\n",
       "      <td>10623</td>\n",
       "    </tr>\n",
       "    <tr>\n",
       "      <th>10623</th>\n",
       "      <td>32</td>\n",
       "      <td>JAWA BARAT</td>\n",
       "      <td>3279</td>\n",
       "      <td>KOTA BANJAR</td>\n",
       "      <td>3279040</td>\n",
       "      <td>LANGENSARI</td>\n",
       "      <td>3279040001</td>\n",
       "      <td>KUJANGSARI</td>\n",
       "      <td>32.79.04</td>\n",
       "      <td>LANGENSARI</td>\n",
       "      <td>32.79.04.2006</td>\n",
       "      <td>KUJANGSARI</td>\n",
       "      <td>2</td>\n",
       "      <td>ORANG</td>\n",
       "      <td>2021</td>\n",
       "      <td>10624</td>\n",
       "    </tr>\n",
       "  </tbody>\n",
       "</table>\n",
       "<p>10624 rows × 16 columns</p>\n",
       "</div>"
      ],
      "text/plain": [
       "       kode_provinsi nama_provinsi  kode_kabupaten_kota nama_kabupaten_kota  \\\n",
       "0                 32    JAWA BARAT                 3201     KABUPATEN BOGOR   \n",
       "1                 32    JAWA BARAT                 3201     KABUPATEN BOGOR   \n",
       "2                 32    JAWA BARAT                 3201     KABUPATEN BOGOR   \n",
       "3                 32    JAWA BARAT                 3201     KABUPATEN BOGOR   \n",
       "4                 32    JAWA BARAT                 3201     KABUPATEN BOGOR   \n",
       "...              ...           ...                  ...                 ...   \n",
       "10619             32    JAWA BARAT                 3279         KOTA BANJAR   \n",
       "10620             32    JAWA BARAT                 3279         KOTA BANJAR   \n",
       "10621             32    JAWA BARAT                 3279         KOTA BANJAR   \n",
       "10622             32    JAWA BARAT                 3279         KOTA BANJAR   \n",
       "10623             32    JAWA BARAT                 3279         KOTA BANJAR   \n",
       "\n",
       "       kode_kecamatan nama_kecamatan  kode_desa_kelurahan nama_desa_kelurahan  \\\n",
       "0             3201190   GUNUNG PUTRI           3201190006          WANAHERANG   \n",
       "1             3201190   GUNUNG PUTRI           3201190010        BOJONG KULUR   \n",
       "2             3201190   GUNUNG PUTRI           3201190009           CIANGSANA   \n",
       "3             3201190   GUNUNG PUTRI           3201190002        GUNUNG PUTRI   \n",
       "4             3201190   GUNUNG PUTRI           3201190004       BOJONG NANGKA   \n",
       "...               ...            ...                  ...                 ...   \n",
       "10619         3279020     PURWAHARJA           3279020004          MEKARHARJA   \n",
       "10620         3279040     LANGENSARI           3279040004          LANGENSARI   \n",
       "10621         3279040     LANGENSARI           3279040003            REJASARI   \n",
       "10622         3279040     LANGENSARI           3279040006        WARINGINSARI   \n",
       "10623         3279040     LANGENSARI           3279040001          KUJANGSARI   \n",
       "\n",
       "      kemendagri_kode_kecamatan kemendagri_nama_kecamatan  \\\n",
       "0                      32.01.02              GUNUNG PUTRI   \n",
       "1                      32.01.02              GUNUNG PUTRI   \n",
       "2                      32.01.02              GUNUNG PUTRI   \n",
       "3                      32.01.02              GUNUNG PUTRI   \n",
       "4                      32.01.02              GUNUNG PUTRI   \n",
       "...                         ...                       ...   \n",
       "10619                  32.79.03                PURWAHARJA   \n",
       "10620                  32.79.04                LANGENSARI   \n",
       "10621                  32.79.04                LANGENSARI   \n",
       "10622                  32.79.04                LANGENSARI   \n",
       "10623                  32.79.04                LANGENSARI   \n",
       "\n",
       "      kemendagri_kode_desa_kelurahan kemendagri_nama_desa_kelurahan  \\\n",
       "0                      32.01.02.2001                     WANAHERANG   \n",
       "1                      32.01.02.2002                   BOJONG KULUR   \n",
       "2                      32.01.02.2003                      CIANGSANA   \n",
       "3                      32.01.02.2004                   GUNUNG PUTRI   \n",
       "4                      32.01.02.2005                  BOJONG NANGKA   \n",
       "...                              ...                            ...   \n",
       "10619                  32.79.03.2003                     MEKARHARJA   \n",
       "10620                  32.79.04.2001                     LANGENSARI   \n",
       "10621                  32.79.04.2002                       REJASARI   \n",
       "10622                  32.79.04.2003                   WARINGINSARI   \n",
       "10623                  32.79.04.2006                     KUJANGSARI   \n",
       "\n",
       "       jumlah_penyandang satuan  tahun     id  \n",
       "0                      1  ORANG   2020      1  \n",
       "1                      4  ORANG   2020      2  \n",
       "2                      0  ORANG   2020      3  \n",
       "3                      5  ORANG   2020      4  \n",
       "4                      2  ORANG   2020      5  \n",
       "...                  ...    ...    ...    ...  \n",
       "10619                  0  ORANG   2021  10620  \n",
       "10620                  0  ORANG   2021  10621  \n",
       "10621                  0  ORANG   2021  10622  \n",
       "10622                  5  ORANG   2021  10623  \n",
       "10623                  2  ORANG   2021  10624  \n",
       "\n",
       "[10624 rows x 16 columns]"
      ]
     },
     "execution_count": 3,
     "metadata": {},
     "output_type": "execute_result"
    }
   ],
   "source": [
    "df"
   ]
  },
  {
   "cell_type": "code",
   "execution_count": 4,
   "id": "5eab5012",
   "metadata": {},
   "outputs": [
    {
     "data": {
      "text/plain": [
       "(10624, 16)"
      ]
     },
     "execution_count": 4,
     "metadata": {},
     "output_type": "execute_result"
    }
   ],
   "source": [
    "# brp row + column\n",
    "df.shape"
   ]
  },
  {
   "cell_type": "code",
   "execution_count": 5,
   "id": "3a68321d",
   "metadata": {},
   "outputs": [
    {
     "name": "stdout",
     "output_type": "stream",
     "text": [
      "<class 'pandas.core.frame.DataFrame'>\n",
      "RangeIndex: 10624 entries, 0 to 10623\n",
      "Data columns (total 16 columns):\n",
      " #   Column                          Non-Null Count  Dtype \n",
      "---  ------                          --------------  ----- \n",
      " 0   kode_provinsi                   10624 non-null  int64 \n",
      " 1   nama_provinsi                   10624 non-null  object\n",
      " 2   kode_kabupaten_kota             10624 non-null  int64 \n",
      " 3   nama_kabupaten_kota             10624 non-null  object\n",
      " 4   kode_kecamatan                  10624 non-null  int64 \n",
      " 5   nama_kecamatan                  10624 non-null  object\n",
      " 6   kode_desa_kelurahan             10624 non-null  int64 \n",
      " 7   nama_desa_kelurahan             10624 non-null  object\n",
      " 8   kemendagri_kode_kecamatan       10624 non-null  object\n",
      " 9   kemendagri_nama_kecamatan       10624 non-null  object\n",
      " 10  kemendagri_kode_desa_kelurahan  10624 non-null  object\n",
      " 11  kemendagri_nama_desa_kelurahan  10624 non-null  object\n",
      " 12  jumlah_penyandang               10624 non-null  int64 \n",
      " 13  satuan                          10624 non-null  object\n",
      " 14  tahun                           10624 non-null  int64 \n",
      " 15  id                              10624 non-null  int64 \n",
      "dtypes: int64(7), object(9)\n",
      "memory usage: 1.3+ MB\n"
     ]
    }
   ],
   "source": [
    "# nunjukin info apa aja yg ada di data ini, seperti jumlah row-column, dtype, dll \n",
    "df.info()"
   ]
  },
  {
   "cell_type": "code",
   "execution_count": 6,
   "id": "eb02b75f",
   "metadata": {},
   "outputs": [
    {
     "data": {
      "text/html": [
       "<div>\n",
       "<style scoped>\n",
       "    .dataframe tbody tr th:only-of-type {\n",
       "        vertical-align: middle;\n",
       "    }\n",
       "\n",
       "    .dataframe tbody tr th {\n",
       "        vertical-align: top;\n",
       "    }\n",
       "\n",
       "    .dataframe thead th {\n",
       "        text-align: right;\n",
       "    }\n",
       "</style>\n",
       "<table border=\"1\" class=\"dataframe\">\n",
       "  <thead>\n",
       "    <tr style=\"text-align: right;\">\n",
       "      <th></th>\n",
       "      <th>kode_provinsi</th>\n",
       "      <th>nama_provinsi</th>\n",
       "      <th>kode_kabupaten_kota</th>\n",
       "      <th>nama_kabupaten_kota</th>\n",
       "      <th>kode_kecamatan</th>\n",
       "      <th>nama_kecamatan</th>\n",
       "      <th>kode_desa_kelurahan</th>\n",
       "      <th>nama_desa_kelurahan</th>\n",
       "      <th>kemendagri_kode_kecamatan</th>\n",
       "      <th>kemendagri_nama_kecamatan</th>\n",
       "      <th>kemendagri_kode_desa_kelurahan</th>\n",
       "      <th>kemendagri_nama_desa_kelurahan</th>\n",
       "      <th>jumlah_penyandang</th>\n",
       "      <th>satuan</th>\n",
       "      <th>tahun</th>\n",
       "      <th>id</th>\n",
       "    </tr>\n",
       "  </thead>\n",
       "  <tbody>\n",
       "    <tr>\n",
       "      <th>0</th>\n",
       "      <td>32</td>\n",
       "      <td>JAWA BARAT</td>\n",
       "      <td>3201</td>\n",
       "      <td>KABUPATEN BOGOR</td>\n",
       "      <td>3201190</td>\n",
       "      <td>GUNUNG PUTRI</td>\n",
       "      <td>3201190006</td>\n",
       "      <td>WANAHERANG</td>\n",
       "      <td>32.01.02</td>\n",
       "      <td>GUNUNG PUTRI</td>\n",
       "      <td>32.01.02.2001</td>\n",
       "      <td>WANAHERANG</td>\n",
       "      <td>1</td>\n",
       "      <td>ORANG</td>\n",
       "      <td>2020</td>\n",
       "      <td>1</td>\n",
       "    </tr>\n",
       "    <tr>\n",
       "      <th>1</th>\n",
       "      <td>32</td>\n",
       "      <td>JAWA BARAT</td>\n",
       "      <td>3201</td>\n",
       "      <td>KABUPATEN BOGOR</td>\n",
       "      <td>3201190</td>\n",
       "      <td>GUNUNG PUTRI</td>\n",
       "      <td>3201190010</td>\n",
       "      <td>BOJONG KULUR</td>\n",
       "      <td>32.01.02</td>\n",
       "      <td>GUNUNG PUTRI</td>\n",
       "      <td>32.01.02.2002</td>\n",
       "      <td>BOJONG KULUR</td>\n",
       "      <td>4</td>\n",
       "      <td>ORANG</td>\n",
       "      <td>2020</td>\n",
       "      <td>2</td>\n",
       "    </tr>\n",
       "    <tr>\n",
       "      <th>2</th>\n",
       "      <td>32</td>\n",
       "      <td>JAWA BARAT</td>\n",
       "      <td>3201</td>\n",
       "      <td>KABUPATEN BOGOR</td>\n",
       "      <td>3201190</td>\n",
       "      <td>GUNUNG PUTRI</td>\n",
       "      <td>3201190009</td>\n",
       "      <td>CIANGSANA</td>\n",
       "      <td>32.01.02</td>\n",
       "      <td>GUNUNG PUTRI</td>\n",
       "      <td>32.01.02.2003</td>\n",
       "      <td>CIANGSANA</td>\n",
       "      <td>0</td>\n",
       "      <td>ORANG</td>\n",
       "      <td>2020</td>\n",
       "      <td>3</td>\n",
       "    </tr>\n",
       "    <tr>\n",
       "      <th>3</th>\n",
       "      <td>32</td>\n",
       "      <td>JAWA BARAT</td>\n",
       "      <td>3201</td>\n",
       "      <td>KABUPATEN BOGOR</td>\n",
       "      <td>3201190</td>\n",
       "      <td>GUNUNG PUTRI</td>\n",
       "      <td>3201190002</td>\n",
       "      <td>GUNUNG PUTRI</td>\n",
       "      <td>32.01.02</td>\n",
       "      <td>GUNUNG PUTRI</td>\n",
       "      <td>32.01.02.2004</td>\n",
       "      <td>GUNUNG PUTRI</td>\n",
       "      <td>5</td>\n",
       "      <td>ORANG</td>\n",
       "      <td>2020</td>\n",
       "      <td>4</td>\n",
       "    </tr>\n",
       "    <tr>\n",
       "      <th>4</th>\n",
       "      <td>32</td>\n",
       "      <td>JAWA BARAT</td>\n",
       "      <td>3201</td>\n",
       "      <td>KABUPATEN BOGOR</td>\n",
       "      <td>3201190</td>\n",
       "      <td>GUNUNG PUTRI</td>\n",
       "      <td>3201190004</td>\n",
       "      <td>BOJONG NANGKA</td>\n",
       "      <td>32.01.02</td>\n",
       "      <td>GUNUNG PUTRI</td>\n",
       "      <td>32.01.02.2005</td>\n",
       "      <td>BOJONG NANGKA</td>\n",
       "      <td>2</td>\n",
       "      <td>ORANG</td>\n",
       "      <td>2020</td>\n",
       "      <td>5</td>\n",
       "    </tr>\n",
       "  </tbody>\n",
       "</table>\n",
       "</div>"
      ],
      "text/plain": [
       "   kode_provinsi nama_provinsi  kode_kabupaten_kota nama_kabupaten_kota  \\\n",
       "0             32    JAWA BARAT                 3201     KABUPATEN BOGOR   \n",
       "1             32    JAWA BARAT                 3201     KABUPATEN BOGOR   \n",
       "2             32    JAWA BARAT                 3201     KABUPATEN BOGOR   \n",
       "3             32    JAWA BARAT                 3201     KABUPATEN BOGOR   \n",
       "4             32    JAWA BARAT                 3201     KABUPATEN BOGOR   \n",
       "\n",
       "   kode_kecamatan nama_kecamatan  kode_desa_kelurahan nama_desa_kelurahan  \\\n",
       "0         3201190   GUNUNG PUTRI           3201190006          WANAHERANG   \n",
       "1         3201190   GUNUNG PUTRI           3201190010        BOJONG KULUR   \n",
       "2         3201190   GUNUNG PUTRI           3201190009           CIANGSANA   \n",
       "3         3201190   GUNUNG PUTRI           3201190002        GUNUNG PUTRI   \n",
       "4         3201190   GUNUNG PUTRI           3201190004       BOJONG NANGKA   \n",
       "\n",
       "  kemendagri_kode_kecamatan kemendagri_nama_kecamatan  \\\n",
       "0                  32.01.02              GUNUNG PUTRI   \n",
       "1                  32.01.02              GUNUNG PUTRI   \n",
       "2                  32.01.02              GUNUNG PUTRI   \n",
       "3                  32.01.02              GUNUNG PUTRI   \n",
       "4                  32.01.02              GUNUNG PUTRI   \n",
       "\n",
       "  kemendagri_kode_desa_kelurahan kemendagri_nama_desa_kelurahan  \\\n",
       "0                  32.01.02.2001                     WANAHERANG   \n",
       "1                  32.01.02.2002                   BOJONG KULUR   \n",
       "2                  32.01.02.2003                      CIANGSANA   \n",
       "3                  32.01.02.2004                   GUNUNG PUTRI   \n",
       "4                  32.01.02.2005                  BOJONG NANGKA   \n",
       "\n",
       "   jumlah_penyandang satuan  tahun  id  \n",
       "0                  1  ORANG   2020   1  \n",
       "1                  4  ORANG   2020   2  \n",
       "2                  0  ORANG   2020   3  \n",
       "3                  5  ORANG   2020   4  \n",
       "4                  2  ORANG   2020   5  "
      ]
     },
     "execution_count": 6,
     "metadata": {},
     "output_type": "execute_result"
    }
   ],
   "source": [
    "df.head()"
   ]
  },
  {
   "cell_type": "code",
   "execution_count": 7,
   "id": "d12e1c10",
   "metadata": {},
   "outputs": [
    {
     "data": {
      "text/plain": [
       "Index(['kode_provinsi', 'nama_provinsi', 'kode_kabupaten_kota',\n",
       "       'nama_kabupaten_kota', 'kode_kecamatan', 'nama_kecamatan',\n",
       "       'kode_desa_kelurahan', 'nama_desa_kelurahan',\n",
       "       'kemendagri_kode_kecamatan', 'kemendagri_nama_kecamatan',\n",
       "       'kemendagri_kode_desa_kelurahan', 'kemendagri_nama_desa_kelurahan',\n",
       "       'jumlah_penyandang', 'satuan', 'tahun', 'id'],\n",
       "      dtype='object')"
      ]
     },
     "execution_count": 7,
     "metadata": {},
     "output_type": "execute_result"
    }
   ],
   "source": [
    "# liatin column nya apa aja\n",
    "df.columns"
   ]
  },
  {
   "cell_type": "code",
   "execution_count": 8,
   "id": "a20674f2",
   "metadata": {},
   "outputs": [],
   "source": [
    "# nge DROP/buang column yg sekiranya gk penting banget\n",
    "\n",
    "df = df.drop(['kode_provinsi', 'nama_provinsi', 'kemendagri_kode_kecamatan', \n",
    "              'kemendagri_nama_kecamatan', 'kemendagri_kode_desa_kelurahan',\n",
    "              'kemendagri_nama_desa_kelurahan', 'satuan', \n",
    "#               'nama_kabupaten_kota',\n",
    "#               'nama_kecamatan','nama_desa_kelurahan',\n",
    "             ], axis=1)"
   ]
  },
  {
   "cell_type": "code",
   "execution_count": 9,
   "id": "94fed484",
   "metadata": {},
   "outputs": [
    {
     "data": {
      "text/html": [
       "<div>\n",
       "<style scoped>\n",
       "    .dataframe tbody tr th:only-of-type {\n",
       "        vertical-align: middle;\n",
       "    }\n",
       "\n",
       "    .dataframe tbody tr th {\n",
       "        vertical-align: top;\n",
       "    }\n",
       "\n",
       "    .dataframe thead th {\n",
       "        text-align: right;\n",
       "    }\n",
       "</style>\n",
       "<table border=\"1\" class=\"dataframe\">\n",
       "  <thead>\n",
       "    <tr style=\"text-align: right;\">\n",
       "      <th></th>\n",
       "      <th>kode_kabupaten_kota</th>\n",
       "      <th>nama_kabupaten_kota</th>\n",
       "      <th>kode_kecamatan</th>\n",
       "      <th>nama_kecamatan</th>\n",
       "      <th>kode_desa_kelurahan</th>\n",
       "      <th>nama_desa_kelurahan</th>\n",
       "      <th>jumlah_penyandang</th>\n",
       "      <th>tahun</th>\n",
       "      <th>id</th>\n",
       "    </tr>\n",
       "  </thead>\n",
       "  <tbody>\n",
       "    <tr>\n",
       "      <th>0</th>\n",
       "      <td>3201</td>\n",
       "      <td>KABUPATEN BOGOR</td>\n",
       "      <td>3201190</td>\n",
       "      <td>GUNUNG PUTRI</td>\n",
       "      <td>3201190006</td>\n",
       "      <td>WANAHERANG</td>\n",
       "      <td>1</td>\n",
       "      <td>2020</td>\n",
       "      <td>1</td>\n",
       "    </tr>\n",
       "    <tr>\n",
       "      <th>1</th>\n",
       "      <td>3201</td>\n",
       "      <td>KABUPATEN BOGOR</td>\n",
       "      <td>3201190</td>\n",
       "      <td>GUNUNG PUTRI</td>\n",
       "      <td>3201190010</td>\n",
       "      <td>BOJONG KULUR</td>\n",
       "      <td>4</td>\n",
       "      <td>2020</td>\n",
       "      <td>2</td>\n",
       "    </tr>\n",
       "    <tr>\n",
       "      <th>2</th>\n",
       "      <td>3201</td>\n",
       "      <td>KABUPATEN BOGOR</td>\n",
       "      <td>3201190</td>\n",
       "      <td>GUNUNG PUTRI</td>\n",
       "      <td>3201190009</td>\n",
       "      <td>CIANGSANA</td>\n",
       "      <td>0</td>\n",
       "      <td>2020</td>\n",
       "      <td>3</td>\n",
       "    </tr>\n",
       "    <tr>\n",
       "      <th>3</th>\n",
       "      <td>3201</td>\n",
       "      <td>KABUPATEN BOGOR</td>\n",
       "      <td>3201190</td>\n",
       "      <td>GUNUNG PUTRI</td>\n",
       "      <td>3201190002</td>\n",
       "      <td>GUNUNG PUTRI</td>\n",
       "      <td>5</td>\n",
       "      <td>2020</td>\n",
       "      <td>4</td>\n",
       "    </tr>\n",
       "    <tr>\n",
       "      <th>4</th>\n",
       "      <td>3201</td>\n",
       "      <td>KABUPATEN BOGOR</td>\n",
       "      <td>3201190</td>\n",
       "      <td>GUNUNG PUTRI</td>\n",
       "      <td>3201190004</td>\n",
       "      <td>BOJONG NANGKA</td>\n",
       "      <td>2</td>\n",
       "      <td>2020</td>\n",
       "      <td>5</td>\n",
       "    </tr>\n",
       "    <tr>\n",
       "      <th>...</th>\n",
       "      <td>...</td>\n",
       "      <td>...</td>\n",
       "      <td>...</td>\n",
       "      <td>...</td>\n",
       "      <td>...</td>\n",
       "      <td>...</td>\n",
       "      <td>...</td>\n",
       "      <td>...</td>\n",
       "      <td>...</td>\n",
       "    </tr>\n",
       "    <tr>\n",
       "      <th>10619</th>\n",
       "      <td>3279</td>\n",
       "      <td>KOTA BANJAR</td>\n",
       "      <td>3279020</td>\n",
       "      <td>PURWAHARJA</td>\n",
       "      <td>3279020004</td>\n",
       "      <td>MEKARHARJA</td>\n",
       "      <td>0</td>\n",
       "      <td>2021</td>\n",
       "      <td>10620</td>\n",
       "    </tr>\n",
       "    <tr>\n",
       "      <th>10620</th>\n",
       "      <td>3279</td>\n",
       "      <td>KOTA BANJAR</td>\n",
       "      <td>3279040</td>\n",
       "      <td>LANGENSARI</td>\n",
       "      <td>3279040004</td>\n",
       "      <td>LANGENSARI</td>\n",
       "      <td>0</td>\n",
       "      <td>2021</td>\n",
       "      <td>10621</td>\n",
       "    </tr>\n",
       "    <tr>\n",
       "      <th>10621</th>\n",
       "      <td>3279</td>\n",
       "      <td>KOTA BANJAR</td>\n",
       "      <td>3279040</td>\n",
       "      <td>LANGENSARI</td>\n",
       "      <td>3279040003</td>\n",
       "      <td>REJASARI</td>\n",
       "      <td>0</td>\n",
       "      <td>2021</td>\n",
       "      <td>10622</td>\n",
       "    </tr>\n",
       "    <tr>\n",
       "      <th>10622</th>\n",
       "      <td>3279</td>\n",
       "      <td>KOTA BANJAR</td>\n",
       "      <td>3279040</td>\n",
       "      <td>LANGENSARI</td>\n",
       "      <td>3279040006</td>\n",
       "      <td>WARINGINSARI</td>\n",
       "      <td>5</td>\n",
       "      <td>2021</td>\n",
       "      <td>10623</td>\n",
       "    </tr>\n",
       "    <tr>\n",
       "      <th>10623</th>\n",
       "      <td>3279</td>\n",
       "      <td>KOTA BANJAR</td>\n",
       "      <td>3279040</td>\n",
       "      <td>LANGENSARI</td>\n",
       "      <td>3279040001</td>\n",
       "      <td>KUJANGSARI</td>\n",
       "      <td>2</td>\n",
       "      <td>2021</td>\n",
       "      <td>10624</td>\n",
       "    </tr>\n",
       "  </tbody>\n",
       "</table>\n",
       "<p>10624 rows × 9 columns</p>\n",
       "</div>"
      ],
      "text/plain": [
       "       kode_kabupaten_kota nama_kabupaten_kota  kode_kecamatan nama_kecamatan  \\\n",
       "0                     3201     KABUPATEN BOGOR         3201190   GUNUNG PUTRI   \n",
       "1                     3201     KABUPATEN BOGOR         3201190   GUNUNG PUTRI   \n",
       "2                     3201     KABUPATEN BOGOR         3201190   GUNUNG PUTRI   \n",
       "3                     3201     KABUPATEN BOGOR         3201190   GUNUNG PUTRI   \n",
       "4                     3201     KABUPATEN BOGOR         3201190   GUNUNG PUTRI   \n",
       "...                    ...                 ...             ...            ...   \n",
       "10619                 3279         KOTA BANJAR         3279020     PURWAHARJA   \n",
       "10620                 3279         KOTA BANJAR         3279040     LANGENSARI   \n",
       "10621                 3279         KOTA BANJAR         3279040     LANGENSARI   \n",
       "10622                 3279         KOTA BANJAR         3279040     LANGENSARI   \n",
       "10623                 3279         KOTA BANJAR         3279040     LANGENSARI   \n",
       "\n",
       "       kode_desa_kelurahan nama_desa_kelurahan  jumlah_penyandang  tahun  \\\n",
       "0               3201190006          WANAHERANG                  1   2020   \n",
       "1               3201190010        BOJONG KULUR                  4   2020   \n",
       "2               3201190009           CIANGSANA                  0   2020   \n",
       "3               3201190002        GUNUNG PUTRI                  5   2020   \n",
       "4               3201190004       BOJONG NANGKA                  2   2020   \n",
       "...                    ...                 ...                ...    ...   \n",
       "10619           3279020004          MEKARHARJA                  0   2021   \n",
       "10620           3279040004          LANGENSARI                  0   2021   \n",
       "10621           3279040003            REJASARI                  0   2021   \n",
       "10622           3279040006        WARINGINSARI                  5   2021   \n",
       "10623           3279040001          KUJANGSARI                  2   2021   \n",
       "\n",
       "          id  \n",
       "0          1  \n",
       "1          2  \n",
       "2          3  \n",
       "3          4  \n",
       "4          5  \n",
       "...      ...  \n",
       "10619  10620  \n",
       "10620  10621  \n",
       "10621  10622  \n",
       "10622  10623  \n",
       "10623  10624  \n",
       "\n",
       "[10624 rows x 9 columns]"
      ]
     },
     "execution_count": 9,
     "metadata": {},
     "output_type": "execute_result"
    }
   ],
   "source": [
    "df"
   ]
  },
  {
   "cell_type": "code",
   "execution_count": 10,
   "id": "32d9b7f5",
   "metadata": {},
   "outputs": [
    {
     "data": {
      "text/plain": [
       "kode_kabupaten_kota    0\n",
       "nama_kabupaten_kota    0\n",
       "kode_kecamatan         0\n",
       "nama_kecamatan         0\n",
       "kode_desa_kelurahan    0\n",
       "nama_desa_kelurahan    0\n",
       "jumlah_penyandang      0\n",
       "tahun                  0\n",
       "id                     0\n",
       "dtype: int64"
      ]
     },
     "execution_count": 10,
     "metadata": {},
     "output_type": "execute_result"
    }
   ],
   "source": [
    "# mastiin apakah ada NAN apa nggak\n",
    "\n",
    "df.isna().sum()"
   ]
  },
  {
   "cell_type": "code",
   "execution_count": 11,
   "id": "c19de323",
   "metadata": {},
   "outputs": [
    {
     "name": "stdout",
     "output_type": "stream",
     "text": [
      "<class 'pandas.core.frame.DataFrame'>\n",
      "RangeIndex: 10624 entries, 0 to 10623\n",
      "Data columns (total 9 columns):\n",
      " #   Column               Non-Null Count  Dtype \n",
      "---  ------               --------------  ----- \n",
      " 0   kode_kabupaten_kota  10624 non-null  int64 \n",
      " 1   nama_kabupaten_kota  10624 non-null  object\n",
      " 2   kode_kecamatan       10624 non-null  int64 \n",
      " 3   nama_kecamatan       10624 non-null  object\n",
      " 4   kode_desa_kelurahan  10624 non-null  int64 \n",
      " 5   nama_desa_kelurahan  10624 non-null  object\n",
      " 6   jumlah_penyandang    10624 non-null  int64 \n",
      " 7   tahun                10624 non-null  int64 \n",
      " 8   id                   10624 non-null  int64 \n",
      "dtypes: int64(6), object(3)\n",
      "memory usage: 747.1+ KB\n"
     ]
    }
   ],
   "source": [
    "# ngeliat info sementara\n",
    "\n",
    "df.info()"
   ]
  },
  {
   "cell_type": "code",
   "execution_count": 12,
   "id": "2e4e1d8d",
   "metadata": {},
   "outputs": [
    {
     "data": {
      "text/plain": [
       "kode_kabupaten_kota       int64\n",
       "nama_kabupaten_kota    category\n",
       "kode_kecamatan            int64\n",
       "nama_kecamatan         category\n",
       "kode_desa_kelurahan       int64\n",
       "nama_desa_kelurahan    category\n",
       "jumlah_penyandang         int64\n",
       "tahun                     int64\n",
       "id                        int64\n",
       "dtype: object"
      ]
     },
     "execution_count": 12,
     "metadata": {},
     "output_type": "execute_result"
    }
   ],
   "source": [
    "# поменять dtype из объектого на категории\n",
    "\n",
    "ctg = ['nama_kabupaten_kota', 'nama_kecamatan', 'nama_desa_kelurahan']\n",
    "\n",
    "for var in ctg:\n",
    "    df[var] = df[var].astype('category')\n",
    "\n",
    "df.dtypes"
   ]
  },
  {
   "cell_type": "code",
   "execution_count": 13,
   "id": "44bf77c7",
   "metadata": {},
   "outputs": [
    {
     "name": "stdout",
     "output_type": "stream",
     "text": [
      "Jumlah penyandang disabilitas tahun 2020 & 2021 di Jawa barat adalah =  7997 orang\n"
     ]
    }
   ],
   "source": [
    "# количество инвалидов\n",
    "\n",
    "print('Jumlah penyandang disabilitas tahun 2020 & 2021 di Jawa barat adalah = ', df['jumlah_penyandang'].sum(), 'orang')\n"
   ]
  },
  {
   "cell_type": "code",
   "execution_count": 14,
   "id": "dd4add05",
   "metadata": {},
   "outputs": [
    {
     "data": {
      "text/html": [
       "<div>\n",
       "<style scoped>\n",
       "    .dataframe tbody tr th:only-of-type {\n",
       "        vertical-align: middle;\n",
       "    }\n",
       "\n",
       "    .dataframe tbody tr th {\n",
       "        vertical-align: top;\n",
       "    }\n",
       "\n",
       "    .dataframe thead th {\n",
       "        text-align: right;\n",
       "    }\n",
       "</style>\n",
       "<table border=\"1\" class=\"dataframe\">\n",
       "  <thead>\n",
       "    <tr style=\"text-align: right;\">\n",
       "      <th></th>\n",
       "      <th>jumlah_penyandang</th>\n",
       "    </tr>\n",
       "    <tr>\n",
       "      <th>tahun</th>\n",
       "      <th></th>\n",
       "    </tr>\n",
       "  </thead>\n",
       "  <tbody>\n",
       "    <tr>\n",
       "      <th>2020</th>\n",
       "      <td>3744</td>\n",
       "    </tr>\n",
       "    <tr>\n",
       "      <th>2021</th>\n",
       "      <td>4253</td>\n",
       "    </tr>\n",
       "  </tbody>\n",
       "</table>\n",
       "</div>"
      ],
      "text/plain": [
       "       jumlah_penyandang\n",
       "tahun                   \n",
       "2020                3744\n",
       "2021                4253"
      ]
     },
     "execution_count": 14,
     "metadata": {},
     "output_type": "execute_result"
    }
   ],
   "source": [
    "# количество инвалидов, которое делится на два года - в датафрэйм типе\n",
    "\n",
    "penyandang_tahun = df.groupby(['tahun']).sum()['jumlah_penyandang']\n",
    "pd.DataFrame(penyandang_tahun)"
   ]
  },
  {
   "cell_type": "code",
   "execution_count": 15,
   "id": "9a4e996a",
   "metadata": {},
   "outputs": [
    {
     "data": {
      "text/plain": [
       "Text(0.5, 1.0, 'Jumlah penyandang disabilitas tahun 2020 & 2021')"
      ]
     },
     "execution_count": 15,
     "metadata": {},
     "output_type": "execute_result"
    },
    {
     "data": {
      "image/png": "[encoded data removed]",
      "text/plain": [
       "<Figure size 640x480 with 1 Axes>"
      ]
     },
     "metadata": {},
     "output_type": "display_data"
    }
   ],
   "source": [
    "# визуализация по количеству инвалидов за два года\n",
    "\n",
    "penyandang_tahun = df.groupby(['tahun']).sum()['jumlah_penyandang']\n",
    "penyandang_tahun.plot(kind='bar')\n",
    "plt.ylabel('Jumlah penyandang')\n",
    "plt.title('Jumlah penyandang disabilitas tahun 2020 & 2021')"
   ]
  },
  {
   "cell_type": "code",
   "execution_count": 16,
   "id": "73b1cd96",
   "metadata": {},
   "outputs": [
    {
     "data": {
      "text/plain": [
       "Text(0.5, 1.0, 'Jumlah penyandang disabilitas tiap kab/kota')"
      ]
     },
     "execution_count": 16,
     "metadata": {},
     "output_type": "execute_result"
    },
    {
     "data": {
      "image/png": "[encoded data removed]",
      "text/plain": [
       "<Figure size 640x480 with 1 Axes>"
      ]
     },
     "metadata": {},
     "output_type": "display_data"
    }
   ],
   "source": [
    "penyandang_kabkota = df.groupby(['nama_kabupaten_kota']).sum()['jumlah_penyandang']\n",
    "penyandang_kabkota.plot(kind='barh')\n",
    "plt.ylabel('Kabupaten / Kota')\n",
    "plt.xlabel('jumlah penyandang')\n",
    "plt.title('Jumlah penyandang disabilitas tiap kab/kota')"
   ]
  },
  {
   "cell_type": "code",
   "execution_count": 17,
   "id": "811ca4b9",
   "metadata": {},
   "outputs": [
    {
     "data": {
      "text/plain": [
       "<AxesSubplot:ylabel='jumlah_penyandang'>"
      ]
     },
     "execution_count": 17,
     "metadata": {},
     "output_type": "execute_result"
    },
    {
     "data": {
      "image/png": "[encoded data removed]",
      "text/plain": [
       "<Figure size 640x480 with 1 Axes>"
      ]
     },
     "metadata": {},
     "output_type": "display_data"
    }
   ],
   "source": [
    "# VISUALISASI BENTUK PIE\n",
    "\n",
    "penyandang_kabkota_pie = df.groupby(['nama_kabupaten_kota']).sum()['jumlah_penyandang']\n",
    "penyandang_kabkota_pie.plot(kind='pie', autopct='%0.1f%%',radius=1.5, shadow=True)"
   ]
  },
  {
   "cell_type": "code",
   "execution_count": 18,
   "id": "0d6d6cee",
   "metadata": {},
   "outputs": [],
   "source": [
    "# untuk menghapus nilai 0, supaya lebih enak dihitung total kalo dicari wilayah\n",
    "\n",
    "df = df[df['jumlah_penyandang'] != 0]"
   ]
  },
  {
   "cell_type": "code",
   "execution_count": 19,
   "id": "1f0075d5",
   "metadata": {},
   "outputs": [
    {
     "data": {
      "text/html": [
       "<div>\n",
       "<style scoped>\n",
       "    .dataframe tbody tr th:only-of-type {\n",
       "        vertical-align: middle;\n",
       "    }\n",
       "\n",
       "    .dataframe tbody tr th {\n",
       "        vertical-align: top;\n",
       "    }\n",
       "\n",
       "    .dataframe thead th {\n",
       "        text-align: right;\n",
       "    }\n",
       "</style>\n",
       "<table border=\"1\" class=\"dataframe\">\n",
       "  <thead>\n",
       "    <tr style=\"text-align: right;\">\n",
       "      <th></th>\n",
       "      <th>nama_kabupaten_kota</th>\n",
       "      <th>jumlah_penyandang</th>\n",
       "    </tr>\n",
       "  </thead>\n",
       "  <tbody>\n",
       "    <tr>\n",
       "      <th>6</th>\n",
       "      <td>KABUPATEN CIREBON</td>\n",
       "      <td>636</td>\n",
       "    </tr>\n",
       "    <tr>\n",
       "      <th>1</th>\n",
       "      <td>KABUPATEN BANDUNG BARAT</td>\n",
       "      <td>603</td>\n",
       "    </tr>\n",
       "    <tr>\n",
       "      <th>17</th>\n",
       "      <td>KABUPATEN TASIKMALAYA</td>\n",
       "      <td>597</td>\n",
       "    </tr>\n",
       "    <tr>\n",
       "      <th>3</th>\n",
       "      <td>KABUPATEN BOGOR</td>\n",
       "      <td>590</td>\n",
       "    </tr>\n",
       "    <tr>\n",
       "      <th>0</th>\n",
       "      <td>KABUPATEN BANDUNG</td>\n",
       "      <td>585</td>\n",
       "    </tr>\n",
       "    <tr>\n",
       "      <th>4</th>\n",
       "      <td>KABUPATEN CIAMIS</td>\n",
       "      <td>574</td>\n",
       "    </tr>\n",
       "    <tr>\n",
       "      <th>15</th>\n",
       "      <td>KABUPATEN SUKABUMI</td>\n",
       "      <td>556</td>\n",
       "    </tr>\n",
       "    <tr>\n",
       "      <th>8</th>\n",
       "      <td>KABUPATEN INDRAMAYU</td>\n",
       "      <td>497</td>\n",
       "    </tr>\n",
       "    <tr>\n",
       "      <th>7</th>\n",
       "      <td>KABUPATEN GARUT</td>\n",
       "      <td>482</td>\n",
       "    </tr>\n",
       "    <tr>\n",
       "      <th>11</th>\n",
       "      <td>KABUPATEN MAJALENGKA</td>\n",
       "      <td>387</td>\n",
       "    </tr>\n",
       "    <tr>\n",
       "      <th>13</th>\n",
       "      <td>KABUPATEN PURWAKARTA</td>\n",
       "      <td>367</td>\n",
       "    </tr>\n",
       "    <tr>\n",
       "      <th>14</th>\n",
       "      <td>KABUPATEN SUBANG</td>\n",
       "      <td>333</td>\n",
       "    </tr>\n",
       "    <tr>\n",
       "      <th>16</th>\n",
       "      <td>KABUPATEN SUMEDANG</td>\n",
       "      <td>326</td>\n",
       "    </tr>\n",
       "    <tr>\n",
       "      <th>2</th>\n",
       "      <td>KABUPATEN BEKASI</td>\n",
       "      <td>325</td>\n",
       "    </tr>\n",
       "    <tr>\n",
       "      <th>12</th>\n",
       "      <td>KABUPATEN PANGANDARAN</td>\n",
       "      <td>310</td>\n",
       "    </tr>\n",
       "    <tr>\n",
       "      <th>5</th>\n",
       "      <td>KABUPATEN CIANJUR</td>\n",
       "      <td>297</td>\n",
       "    </tr>\n",
       "    <tr>\n",
       "      <th>9</th>\n",
       "      <td>KABUPATEN KARAWANG</td>\n",
       "      <td>249</td>\n",
       "    </tr>\n",
       "    <tr>\n",
       "      <th>10</th>\n",
       "      <td>KABUPATEN KUNINGAN</td>\n",
       "      <td>246</td>\n",
       "    </tr>\n",
       "    <tr>\n",
       "      <th>18</th>\n",
       "      <td>KOTA BANJAR</td>\n",
       "      <td>37</td>\n",
       "    </tr>\n",
       "  </tbody>\n",
       "</table>\n",
       "</div>"
      ],
      "text/plain": [
       "        nama_kabupaten_kota  jumlah_penyandang\n",
       "6         KABUPATEN CIREBON                636\n",
       "1   KABUPATEN BANDUNG BARAT                603\n",
       "17    KABUPATEN TASIKMALAYA                597\n",
       "3           KABUPATEN BOGOR                590\n",
       "0         KABUPATEN BANDUNG                585\n",
       "4          KABUPATEN CIAMIS                574\n",
       "15       KABUPATEN SUKABUMI                556\n",
       "8       KABUPATEN INDRAMAYU                497\n",
       "7           KABUPATEN GARUT                482\n",
       "11     KABUPATEN MAJALENGKA                387\n",
       "13     KABUPATEN PURWAKARTA                367\n",
       "14         KABUPATEN SUBANG                333\n",
       "16       KABUPATEN SUMEDANG                326\n",
       "2          KABUPATEN BEKASI                325\n",
       "12    KABUPATEN PANGANDARAN                310\n",
       "5         KABUPATEN CIANJUR                297\n",
       "9        KABUPATEN KARAWANG                249\n",
       "10       KABUPATEN KUNINGAN                246\n",
       "18              KOTA BANJAR                 37"
      ]
     },
     "execution_count": 19,
     "metadata": {},
     "output_type": "execute_result"
    }
   ],
   "source": [
    "# INI UDAH PAS = SETARA DENGAN GRAFIK!!!\n",
    "\n",
    "penyandang_kabkota1 = df.groupby(['nama_kabupaten_kota'])['jumlah_penyandang'].sum()#.sort_values(['nama_kabupaten_kota'], ascending=False)\n",
    "pdk1 = pd.DataFrame(penyandang_kabkota1).reset_index().sort_values(['jumlah_penyandang'], ascending=False)\n",
    "# pds(axis=1, ascending=False)\n",
    "# pds.jumlah_penyandang.sum() = 7997\n",
    "pdk1\n"
   ]
  },
  {
   "cell_type": "code",
   "execution_count": 20,
   "id": "844705c9",
   "metadata": {},
   "outputs": [
    {
     "data": {
      "text/html": [
       "<div>\n",
       "<style scoped>\n",
       "    .dataframe tbody tr th:only-of-type {\n",
       "        vertical-align: middle;\n",
       "    }\n",
       "\n",
       "    .dataframe tbody tr th {\n",
       "        vertical-align: top;\n",
       "    }\n",
       "\n",
       "    .dataframe thead th {\n",
       "        text-align: right;\n",
       "    }\n",
       "</style>\n",
       "<table border=\"1\" class=\"dataframe\">\n",
       "  <thead>\n",
       "    <tr style=\"text-align: right;\">\n",
       "      <th></th>\n",
       "      <th>nama_kecamatan</th>\n",
       "      <th>jumlah_penyandang</th>\n",
       "    </tr>\n",
       "  </thead>\n",
       "  <tbody>\n",
       "    <tr>\n",
       "      <th>10</th>\n",
       "      <td>BABELAN</td>\n",
       "      <td>166</td>\n",
       "    </tr>\n",
       "    <tr>\n",
       "      <th>353</th>\n",
       "      <td>PARONGPONG</td>\n",
       "      <td>126</td>\n",
       "    </tr>\n",
       "    <tr>\n",
       "      <th>305</th>\n",
       "      <td>MANONJAYA</td>\n",
       "      <td>99</td>\n",
       "    </tr>\n",
       "    <tr>\n",
       "      <th>343</th>\n",
       "      <td>PANGANDARAN</td>\n",
       "      <td>94</td>\n",
       "    </tr>\n",
       "    <tr>\n",
       "      <th>102</th>\n",
       "      <td>CIKALONGWETAN</td>\n",
       "      <td>89</td>\n",
       "    </tr>\n",
       "    <tr>\n",
       "      <th>...</th>\n",
       "      <td>...</td>\n",
       "      <td>...</td>\n",
       "    </tr>\n",
       "    <tr>\n",
       "      <th>196</th>\n",
       "      <td>GUNUNGGURUH</td>\n",
       "      <td>0</td>\n",
       "    </tr>\n",
       "    <tr>\n",
       "      <th>412</th>\n",
       "      <td>SINDANGBARANG</td>\n",
       "      <td>0</td>\n",
       "    </tr>\n",
       "    <tr>\n",
       "      <th>205</th>\n",
       "      <td>JAMANIS</td>\n",
       "      <td>0</td>\n",
       "    </tr>\n",
       "    <tr>\n",
       "      <th>206</th>\n",
       "      <td>JAMBLANG</td>\n",
       "      <td>0</td>\n",
       "    </tr>\n",
       "    <tr>\n",
       "      <th>500</th>\n",
       "      <td>WIDASARI</td>\n",
       "      <td>0</td>\n",
       "    </tr>\n",
       "  </tbody>\n",
       "</table>\n",
       "<p>501 rows × 2 columns</p>\n",
       "</div>"
      ],
      "text/plain": [
       "    nama_kecamatan  jumlah_penyandang\n",
       "10         BABELAN                166\n",
       "353     PARONGPONG                126\n",
       "305      MANONJAYA                 99\n",
       "343    PANGANDARAN                 94\n",
       "102  CIKALONGWETAN                 89\n",
       "..             ...                ...\n",
       "196    GUNUNGGURUH                  0\n",
       "412  SINDANGBARANG                  0\n",
       "205        JAMANIS                  0\n",
       "206       JAMBLANG                  0\n",
       "500       WIDASARI                  0\n",
       "\n",
       "[501 rows x 2 columns]"
      ]
     },
     "execution_count": 20,
     "metadata": {},
     "output_type": "execute_result"
    }
   ],
   "source": [
    "penyandang_kec = df.groupby(['nama_kecamatan'])['jumlah_penyandang'].sum()#.sort_values(['nama_kabupaten_kota'], ascending=False)\n",
    "pdk2 = pd.DataFrame(penyandang_kec).reset_index().sort_values(['jumlah_penyandang'], ascending=False)\n",
    "pdk2\n"
   ]
  },
  {
   "cell_type": "code",
   "execution_count": 21,
   "id": "0aefb1af",
   "metadata": {},
   "outputs": [
    {
     "name": "stdout",
     "output_type": "stream",
     "text": [
      "Babelan berada di kab/kota KABUPATEN BEKASI dan memiliki jumlah penyandang: 166\n"
     ]
    }
   ],
   "source": [
    "# nyari BABELAN ada di kab/kota mana? plus jumlah penyandang nya brp?\n",
    "\n",
    "# Assuming you have a DataFrame named df\n",
    "b_row = df.loc[df['nama_kecamatan'] == 'BABELAN']\n",
    "b_kabkota = b_row['nama_kabupaten_kota'].values[0]\n",
    "b_jumlah = b_row['jumlah_penyandang'].sum()\n",
    "print(f\"Babelan berada di kab/kota {b_kabkota} dan memiliki jumlah penyandang: {b_jumlah}\")\n",
    "# b_row['jumlah_penyandang'].sum()"
   ]
  },
  {
   "cell_type": "code",
   "execution_count": 22,
   "id": "1d64e673",
   "metadata": {},
   "outputs": [
    {
     "name": "stdout",
     "output_type": "stream",
     "text": [
      "kecamatan? \n",
      "babelan\n",
      "\n",
      "Kecamatan Babelan berada di Kabupaten Bekasi memiliki jumlah penyandang: 166\n"
     ]
    }
   ],
   "source": [
    "# MAU CARI DAERAH + JML PENYANDANGNYA BRP\n",
    "distinct_nama_kecamatan = df.drop_duplicates(['nama_kecamatan'])\n",
    "# kec = np.array(distinct_nama_kecamatan['nama_kecamatan'])\n",
    "kecamatan = input('kecamatan? \\n')\n",
    "kecamatan = kecamatan.upper()\n",
    "\n",
    "b_row = df.loc[df['nama_kecamatan'] == kecamatan]\n",
    "b_kabkota = b_row['nama_kabupaten_kota'].values[0]\n",
    "b_kabkota = b_kabkota.title()\n",
    "b_jumlah = b_row['jumlah_penyandang'].sum()\n",
    "kecamatan = kecamatan.title()\n",
    "print()\n",
    "print(f\"Kecamatan {kecamatan} berada di {b_kabkota} memiliki jumlah penyandang: {b_jumlah}\")"
   ]
  },
  {
   "cell_type": "markdown",
   "id": "534bbe61",
   "metadata": {},
   "source": [
    "### Jumlah kota/kab, kec, kel/desa yg udah di distinct"
   ]
  },
  {
   "cell_type": "code",
   "execution_count": 23,
   "id": "e97071d2",
   "metadata": {},
   "outputs": [
    {
     "data": {
      "text/html": [
       "<div>\n",
       "<style scoped>\n",
       "    .dataframe tbody tr th:only-of-type {\n",
       "        vertical-align: middle;\n",
       "    }\n",
       "\n",
       "    .dataframe tbody tr th {\n",
       "        vertical-align: top;\n",
       "    }\n",
       "\n",
       "    .dataframe thead th {\n",
       "        text-align: right;\n",
       "    }\n",
       "</style>\n",
       "<table border=\"1\" class=\"dataframe\">\n",
       "  <thead>\n",
       "    <tr style=\"text-align: right;\">\n",
       "      <th></th>\n",
       "      <th>kode_kabupaten_kota</th>\n",
       "      <th>nama_kabupaten_kota</th>\n",
       "      <th>kode_kecamatan</th>\n",
       "      <th>nama_kecamatan</th>\n",
       "      <th>kode_desa_kelurahan</th>\n",
       "      <th>nama_desa_kelurahan</th>\n",
       "      <th>jumlah_penyandang</th>\n",
       "      <th>tahun</th>\n",
       "      <th>id</th>\n",
       "    </tr>\n",
       "  </thead>\n",
       "  <tbody>\n",
       "    <tr>\n",
       "      <th>0</th>\n",
       "      <td>3201</td>\n",
       "      <td>KABUPATEN BOGOR</td>\n",
       "      <td>3201190</td>\n",
       "      <td>GUNUNG PUTRI</td>\n",
       "      <td>3201190006</td>\n",
       "      <td>WANAHERANG</td>\n",
       "      <td>1</td>\n",
       "      <td>2020</td>\n",
       "      <td>1</td>\n",
       "    </tr>\n",
       "    <tr>\n",
       "      <th>421</th>\n",
       "      <td>3202</td>\n",
       "      <td>KABUPATEN SUKABUMI</td>\n",
       "      <td>3202110</td>\n",
       "      <td>PALABUHANRATU</td>\n",
       "      <td>3202110010</td>\n",
       "      <td>CIKADU</td>\n",
       "      <td>4</td>\n",
       "      <td>2020</td>\n",
       "      <td>422</td>\n",
       "    </tr>\n",
       "    <tr>\n",
       "      <th>810</th>\n",
       "      <td>3203</td>\n",
       "      <td>KABUPATEN CIANJUR</td>\n",
       "      <td>3203130</td>\n",
       "      <td>WARUNGKONDANG</td>\n",
       "      <td>3203130003</td>\n",
       "      <td>SUKAMULYA</td>\n",
       "      <td>2</td>\n",
       "      <td>2020</td>\n",
       "      <td>811</td>\n",
       "    </tr>\n",
       "    <tr>\n",
       "      <th>1151</th>\n",
       "      <td>3204</td>\n",
       "      <td>KABUPATEN BANDUNG</td>\n",
       "      <td>3204290</td>\n",
       "      <td>CILEUNYI</td>\n",
       "      <td>3204290004</td>\n",
       "      <td>CILEUNYI KULON</td>\n",
       "      <td>1</td>\n",
       "      <td>2020</td>\n",
       "      <td>1152</td>\n",
       "    </tr>\n",
       "    <tr>\n",
       "      <th>1429</th>\n",
       "      <td>3205</td>\n",
       "      <td>KABUPATEN GARUT</td>\n",
       "      <td>3205200</td>\n",
       "      <td>KARANGPAWITAN</td>\n",
       "      <td>3205200007</td>\n",
       "      <td>SINDANGPALAY</td>\n",
       "      <td>1</td>\n",
       "      <td>2020</td>\n",
       "      <td>1430</td>\n",
       "    </tr>\n",
       "    <tr>\n",
       "      <th>1856</th>\n",
       "      <td>3206</td>\n",
       "      <td>KABUPATEN TASIKMALAYA</td>\n",
       "      <td>3206010</td>\n",
       "      <td>CIPATUJAH</td>\n",
       "      <td>3206010015</td>\n",
       "      <td>SUKAHURIP</td>\n",
       "      <td>1</td>\n",
       "      <td>2020</td>\n",
       "      <td>1857</td>\n",
       "    </tr>\n",
       "    <tr>\n",
       "      <th>2193</th>\n",
       "      <td>3207</td>\n",
       "      <td>KABUPATEN CIAMIS</td>\n",
       "      <td>3207210</td>\n",
       "      <td>CIAMIS</td>\n",
       "      <td>3207210006</td>\n",
       "      <td>PAWINDAN</td>\n",
       "      <td>2</td>\n",
       "      <td>2020</td>\n",
       "      <td>2194</td>\n",
       "    </tr>\n",
       "    <tr>\n",
       "      <th>2465</th>\n",
       "      <td>3208</td>\n",
       "      <td>KABUPATEN KUNINGAN</td>\n",
       "      <td>3208030</td>\n",
       "      <td>CINIRU</td>\n",
       "      <td>3208030011</td>\n",
       "      <td>CIPEDES</td>\n",
       "      <td>1</td>\n",
       "      <td>2020</td>\n",
       "      <td>2466</td>\n",
       "    </tr>\n",
       "    <tr>\n",
       "      <th>2838</th>\n",
       "      <td>3209</td>\n",
       "      <td>KABUPATEN CIREBON</td>\n",
       "      <td>3209030</td>\n",
       "      <td>LOSARI</td>\n",
       "      <td>3209030013</td>\n",
       "      <td>LOSARI LOR</td>\n",
       "      <td>2</td>\n",
       "      <td>2020</td>\n",
       "      <td>2839</td>\n",
       "    </tr>\n",
       "    <tr>\n",
       "      <th>3224</th>\n",
       "      <td>3210</td>\n",
       "      <td>KABUPATEN MAJALENGKA</td>\n",
       "      <td>3210010</td>\n",
       "      <td>LEMAHSUGIH</td>\n",
       "      <td>3210010001</td>\n",
       "      <td>CIPASUNG</td>\n",
       "      <td>8</td>\n",
       "      <td>2020</td>\n",
       "      <td>3225</td>\n",
       "    </tr>\n",
       "    <tr>\n",
       "      <th>3556</th>\n",
       "      <td>3211</td>\n",
       "      <td>KABUPATEN SUMEDANG</td>\n",
       "      <td>3211100</td>\n",
       "      <td>WADO</td>\n",
       "      <td>3211100001</td>\n",
       "      <td>CILENGKRANG</td>\n",
       "      <td>1</td>\n",
       "      <td>2020</td>\n",
       "      <td>3557</td>\n",
       "    </tr>\n",
       "    <tr>\n",
       "      <th>3824</th>\n",
       "      <td>3212</td>\n",
       "      <td>KABUPATEN INDRAMAYU</td>\n",
       "      <td>3212010</td>\n",
       "      <td>HAURGEULIS</td>\n",
       "      <td>3212010007</td>\n",
       "      <td>HAURKOLOT</td>\n",
       "      <td>2</td>\n",
       "      <td>2020</td>\n",
       "      <td>3825</td>\n",
       "    </tr>\n",
       "    <tr>\n",
       "      <th>4133</th>\n",
       "      <td>3213</td>\n",
       "      <td>KABUPATEN SUBANG</td>\n",
       "      <td>3213010</td>\n",
       "      <td>SAGALAHERANG</td>\n",
       "      <td>3213010003</td>\n",
       "      <td>SUKAMANDI</td>\n",
       "      <td>1</td>\n",
       "      <td>2020</td>\n",
       "      <td>4134</td>\n",
       "    </tr>\n",
       "    <tr>\n",
       "      <th>4380</th>\n",
       "      <td>3214</td>\n",
       "      <td>KABUPATEN PURWAKARTA</td>\n",
       "      <td>3214110</td>\n",
       "      <td>CAMPAKA</td>\n",
       "      <td>3214110012</td>\n",
       "      <td>CAMPAKASARI</td>\n",
       "      <td>1</td>\n",
       "      <td>2020</td>\n",
       "      <td>4381</td>\n",
       "    </tr>\n",
       "    <tr>\n",
       "      <th>4564</th>\n",
       "      <td>3215</td>\n",
       "      <td>KABUPATEN KARAWANG</td>\n",
       "      <td>3215010</td>\n",
       "      <td>PANGKALAN</td>\n",
       "      <td>3215010014</td>\n",
       "      <td>JATILAKSANA</td>\n",
       "      <td>1</td>\n",
       "      <td>2020</td>\n",
       "      <td>4565</td>\n",
       "    </tr>\n",
       "    <tr>\n",
       "      <th>4862</th>\n",
       "      <td>3216</td>\n",
       "      <td>KABUPATEN BEKASI</td>\n",
       "      <td>3216100</td>\n",
       "      <td>TARUMAJAYA</td>\n",
       "      <td>3216100004</td>\n",
       "      <td>SETIA MULYA</td>\n",
       "      <td>1</td>\n",
       "      <td>2020</td>\n",
       "      <td>4863</td>\n",
       "    </tr>\n",
       "    <tr>\n",
       "      <th>5040</th>\n",
       "      <td>3217</td>\n",
       "      <td>KABUPATEN BANDUNG BARAT</td>\n",
       "      <td>3217120</td>\n",
       "      <td>LEMBANG</td>\n",
       "      <td>3217120007</td>\n",
       "      <td>LEMBANG</td>\n",
       "      <td>2</td>\n",
       "      <td>2020</td>\n",
       "      <td>5041</td>\n",
       "    </tr>\n",
       "    <tr>\n",
       "      <th>5204</th>\n",
       "      <td>3218</td>\n",
       "      <td>KABUPATEN PANGANDARAN</td>\n",
       "      <td>3218050</td>\n",
       "      <td>PARIGI</td>\n",
       "      <td>3218050003</td>\n",
       "      <td>KARANGBENDA</td>\n",
       "      <td>2</td>\n",
       "      <td>2020</td>\n",
       "      <td>5205</td>\n",
       "    </tr>\n",
       "    <tr>\n",
       "      <th>5296</th>\n",
       "      <td>3279</td>\n",
       "      <td>KOTA BANJAR</td>\n",
       "      <td>3279010</td>\n",
       "      <td>BANJAR</td>\n",
       "      <td>3279010004</td>\n",
       "      <td>BALOKANG</td>\n",
       "      <td>1</td>\n",
       "      <td>2020</td>\n",
       "      <td>5297</td>\n",
       "    </tr>\n",
       "  </tbody>\n",
       "</table>\n",
       "</div>"
      ],
      "text/plain": [
       "      kode_kabupaten_kota      nama_kabupaten_kota  kode_kecamatan  \\\n",
       "0                    3201          KABUPATEN BOGOR         3201190   \n",
       "421                  3202       KABUPATEN SUKABUMI         3202110   \n",
       "810                  3203        KABUPATEN CIANJUR         3203130   \n",
       "1151                 3204        KABUPATEN BANDUNG         3204290   \n",
       "1429                 3205          KABUPATEN GARUT         3205200   \n",
       "1856                 3206    KABUPATEN TASIKMALAYA         3206010   \n",
       "2193                 3207         KABUPATEN CIAMIS         3207210   \n",
       "2465                 3208       KABUPATEN KUNINGAN         3208030   \n",
       "2838                 3209        KABUPATEN CIREBON         3209030   \n",
       "3224                 3210     KABUPATEN MAJALENGKA         3210010   \n",
       "3556                 3211       KABUPATEN SUMEDANG         3211100   \n",
       "3824                 3212      KABUPATEN INDRAMAYU         3212010   \n",
       "4133                 3213         KABUPATEN SUBANG         3213010   \n",
       "4380                 3214     KABUPATEN PURWAKARTA         3214110   \n",
       "4564                 3215       KABUPATEN KARAWANG         3215010   \n",
       "4862                 3216         KABUPATEN BEKASI         3216100   \n",
       "5040                 3217  KABUPATEN BANDUNG BARAT         3217120   \n",
       "5204                 3218    KABUPATEN PANGANDARAN         3218050   \n",
       "5296                 3279              KOTA BANJAR         3279010   \n",
       "\n",
       "     nama_kecamatan  kode_desa_kelurahan nama_desa_kelurahan  \\\n",
       "0      GUNUNG PUTRI           3201190006          WANAHERANG   \n",
       "421   PALABUHANRATU           3202110010              CIKADU   \n",
       "810   WARUNGKONDANG           3203130003           SUKAMULYA   \n",
       "1151       CILEUNYI           3204290004      CILEUNYI KULON   \n",
       "1429  KARANGPAWITAN           3205200007        SINDANGPALAY   \n",
       "1856      CIPATUJAH           3206010015           SUKAHURIP   \n",
       "2193         CIAMIS           3207210006            PAWINDAN   \n",
       "2465         CINIRU           3208030011             CIPEDES   \n",
       "2838         LOSARI           3209030013          LOSARI LOR   \n",
       "3224     LEMAHSUGIH           3210010001            CIPASUNG   \n",
       "3556           WADO           3211100001         CILENGKRANG   \n",
       "3824     HAURGEULIS           3212010007           HAURKOLOT   \n",
       "4133   SAGALAHERANG           3213010003           SUKAMANDI   \n",
       "4380        CAMPAKA           3214110012         CAMPAKASARI   \n",
       "4564      PANGKALAN           3215010014         JATILAKSANA   \n",
       "4862     TARUMAJAYA           3216100004         SETIA MULYA   \n",
       "5040        LEMBANG           3217120007             LEMBANG   \n",
       "5204         PARIGI           3218050003         KARANGBENDA   \n",
       "5296         BANJAR           3279010004            BALOKANG   \n",
       "\n",
       "      jumlah_penyandang  tahun    id  \n",
       "0                     1   2020     1  \n",
       "421                   4   2020   422  \n",
       "810                   2   2020   811  \n",
       "1151                  1   2020  1152  \n",
       "1429                  1   2020  1430  \n",
       "1856                  1   2020  1857  \n",
       "2193                  2   2020  2194  \n",
       "2465                  1   2020  2466  \n",
       "2838                  2   2020  2839  \n",
       "3224                  8   2020  3225  \n",
       "3556                  1   2020  3557  \n",
       "3824                  2   2020  3825  \n",
       "4133                  1   2020  4134  \n",
       "4380                  1   2020  4381  \n",
       "4564                  1   2020  4565  \n",
       "4862                  1   2020  4863  \n",
       "5040                  2   2020  5041  \n",
       "5204                  2   2020  5205  \n",
       "5296                  1   2020  5297  "
      ]
     },
     "execution_count": 23,
     "metadata": {},
     "output_type": "execute_result"
    }
   ],
   "source": [
    "# distinct = df[df.duplicated(['nama_kabupaten_kota'])]\n",
    "# distinct\n",
    "distinct_nama_kabupatenKota = df.drop_duplicates(['nama_kabupaten_kota'])\n",
    "distinct_nama_kabupatenKota"
   ]
  },
  {
   "cell_type": "code",
   "execution_count": 24,
   "id": "5e8d49da",
   "metadata": {},
   "outputs": [
    {
     "data": {
      "text/plain": [
       "(19, 9)"
      ]
     },
     "execution_count": 24,
     "metadata": {},
     "output_type": "execute_result"
    }
   ],
   "source": [
    "# ada 19 nama kabupaten di JABAR\n",
    "distinct_nama_kabupatenKota.shape\n",
    "# np.array(distinct_nama_kabupatenKota['nama_kabupaten_kota'])"
   ]
  },
  {
   "cell_type": "code",
   "execution_count": 25,
   "id": "6996afcc",
   "metadata": {},
   "outputs": [
    {
     "name": "stderr",
     "output_type": "stream",
     "text": [
      "C:\\Users\\RAFLY AULYA RIZKY N\\AppData\\Local\\Temp\\ipykernel_6100\\2690630599.py:1: FutureWarning: Dropping of nuisance columns in DataFrame reductions (with 'numeric_only=None') is deprecated; in a future version this will raise TypeError.  Select only valid columns before calling the reduction.\n",
      "  maxkota = distinct_nama_kabupatenKota.max()\n"
     ]
    },
    {
     "data": {
      "text/plain": [
       "kode_kabupaten_kota          3279\n",
       "kode_kecamatan            3279010\n",
       "kode_desa_kelurahan    3279010004\n",
       "jumlah_penyandang               8\n",
       "tahun                        2020\n",
       "id                           5297\n",
       "dtype: int64"
      ]
     },
     "execution_count": 25,
     "metadata": {},
     "output_type": "execute_result"
    }
   ],
   "source": [
    "maxkota = distinct_nama_kabupatenKota.max()\n",
    "maxkota"
   ]
  },
  {
   "cell_type": "code",
   "execution_count": 26,
   "id": "6c3f5235",
   "metadata": {},
   "outputs": [
    {
     "data": {
      "text/plain": [
       "(443, 9)"
      ]
     },
     "execution_count": 26,
     "metadata": {},
     "output_type": "execute_result"
    }
   ],
   "source": [
    "# ada 501 kecamatan di JABAR\n",
    "distinct_nama_kecamatan = df.drop_duplicates(['nama_kecamatan'])\n",
    "# np.array(distinct_nama_kecamatan['nama_kecamatan'])\n",
    "distinct_nama_kecamatan.shape"
   ]
  },
  {
   "cell_type": "code",
   "execution_count": 27,
   "id": "b90973f7",
   "metadata": {},
   "outputs": [
    {
     "data": {
      "text/plain": [
       "(1288, 9)"
      ]
     },
     "execution_count": 27,
     "metadata": {},
     "output_type": "execute_result"
    }
   ],
   "source": [
    "# ada 3407 desa kelurahan di JABAR\n",
    "distinct_nama_desaKelurahan = df.drop_duplicates(['nama_desa_kelurahan'])\n",
    "distinct_nama_desaKelurahan\n",
    "distinct_nama_desaKelurahan.shape"
   ]
  },
  {
   "cell_type": "code",
   "execution_count": 28,
   "id": "735e0acb",
   "metadata": {},
   "outputs": [],
   "source": [
    "col = df[['kode_kabupaten_kota', 'kode_kecamatan', 'kode_desa_kelurahan',\n",
    "#           'nama_kabupaten_kota','nama_kecamatan','nama_desa_kelurahan',\n",
    "        'tahun', 'id']]\n",
    "\n",
    "X = col.values\n",
    "y= df['jumlah_penyandang'].values"
   ]
  },
  {
   "cell_type": "markdown",
   "id": "08c8182a",
   "metadata": {},
   "source": [
    "\n",
    "### Build the model using LogisticRegression"
   ]
  },
  {
   "cell_type": "code",
   "execution_count": 29,
   "id": "69a72907",
   "metadata": {},
   "outputs": [
    {
     "data": {
      "text/plain": [
       "LogisticRegression()"
      ]
     },
     "execution_count": 29,
     "metadata": {},
     "output_type": "execute_result"
    }
   ],
   "source": [
    "from sklearn.linear_model import LogisticRegression\n",
    "\n",
    "model = LogisticRegression()\n",
    "model.fit(X,y)\n",
    "\n",
    "# print(model.coef_, model.intercept_)"
   ]
  },
  {
   "cell_type": "code",
   "execution_count": 30,
   "id": "f6ec7654",
   "metadata": {},
   "outputs": [],
   "source": [
    "from sklearn.model_selection import train_test_split\n",
    "\n",
    "X_train, X_test, y_train, y_test = train_test_split(X, y , test_size=0.3, random_state=101)"
   ]
  },
  {
   "cell_type": "code",
   "execution_count": 31,
   "id": "b9a1c0dc",
   "metadata": {},
   "outputs": [
    {
     "data": {
      "text/plain": [
       "array([[ 1.52738034e-15,  1.52660768e-12,  1.52660770e-09,\n",
       "         9.74913627e-16, -1.27285181e-14],\n",
       "       [ 1.30951242e-15,  1.31084453e-12,  1.31084452e-09,\n",
       "         8.56543084e-16, -1.93018570e-14],\n",
       "       [ 1.07480704e-15,  1.07444706e-12,  1.07444705e-09,\n",
       "         6.83773535e-16,  8.94781185e-15],\n",
       "       [ 8.12127538e-16,  8.12072029e-13,  8.12072036e-10,\n",
       "         5.14541499e-16,  1.15007022e-14],\n",
       "       [ 8.23454652e-16,  8.23352401e-13,  8.23352403e-10,\n",
       "         4.91708740e-16,  7.78298045e-15],\n",
       "       [ 5.21447297e-16,  5.21857109e-13,  5.21857130e-10,\n",
       "         3.32737159e-16, -6.34404038e-16],\n",
       "       [ 4.92052902e-16,  4.91788814e-13,  4.91788815e-10,\n",
       "         2.97569707e-16,  5.59890178e-15],\n",
       "       [ 2.55102401e-17,  2.56153374e-14,  2.56153324e-11,\n",
       "         2.13647790e-17, -3.50089922e-15],\n",
       "       [ 2.56108603e-16,  2.55958748e-13,  2.55958756e-10,\n",
       "         1.62300111e-16,  1.62262791e-16],\n",
       "       [ 3.86729521e-16,  3.86912706e-13,  3.86912711e-10,\n",
       "         2.36450167e-16,  5.95990884e-15],\n",
       "       [-2.20223089e-16, -2.20113192e-13, -2.20113188e-10,\n",
       "        -1.35164329e-16, -1.64388154e-15],\n",
       "       [ 2.62487871e-17,  2.62130294e-14,  2.62130260e-11,\n",
       "         1.18584998e-17,  2.84448685e-15],\n",
       "       [-1.62931095e-16, -1.62966297e-13, -1.62966298e-10,\n",
       "        -1.01037506e-16, -1.12669819e-15],\n",
       "       [-3.79294333e-16, -3.79216719e-13, -3.79216721e-10,\n",
       "        -2.36398917e-16, -1.24029438e-15],\n",
       "       [ 7.82625020e-17,  7.82227655e-14,  7.82227684e-11,\n",
       "         4.48564975e-17,  1.56611910e-15],\n",
       "       [-7.28738633e-17, -7.29733064e-14, -7.29733128e-11,\n",
       "        -4.75488412e-17,  1.47905905e-16],\n",
       "       [-2.88773059e-16, -2.88812277e-13, -2.88812280e-10,\n",
       "        -1.86229494e-16,  1.44900991e-15],\n",
       "       [-2.19594522e-16, -2.19531627e-13, -2.19531632e-10,\n",
       "        -1.39440926e-16, -7.82195911e-16],\n",
       "       [-3.78197095e-16, -3.78202423e-13, -3.78202426e-10,\n",
       "        -2.40676231e-16, -1.41362824e-16],\n",
       "       [-1.62545164e-16, -1.62630346e-13, -1.62630352e-10,\n",
       "        -1.03900739e-16,  1.26934155e-16],\n",
       "       [-3.78501084e-16, -3.78525121e-13, -3.78525121e-10,\n",
       "        -2.39153584e-16,  3.20879031e-16],\n",
       "       [-1.62531781e-16, -1.62527289e-13, -1.62527289e-10,\n",
       "        -1.04779815e-16,  5.75552322e-16],\n",
       "       [-5.05611044e-16, -5.05626174e-13, -5.05626175e-10,\n",
       "        -3.17035150e-16, -1.55842904e-15],\n",
       "       [-5.05112427e-16, -5.05132330e-13, -5.05132329e-10,\n",
       "        -3.18200343e-16, -7.80790387e-16],\n",
       "       [-5.04201422e-16, -5.04249645e-13, -5.04249647e-10,\n",
       "        -3.20289191e-16,  2.91254868e-16],\n",
       "       [-5.05413350e-16, -5.05428040e-13, -5.05428042e-10,\n",
       "        -3.17502331e-16, -1.23788676e-15],\n",
       "       [-2.19681338e-16, -2.19672641e-13, -2.19672640e-10,\n",
       "        -1.38460174e-16, -1.02195079e-15],\n",
       "       [-7.21158654e-16, -7.21194524e-13, -7.21194525e-10,\n",
       "        -4.54365339e-16, -4.32528100e-16],\n",
       "       [-7.20612566e-16, -7.20660216e-13, -7.20660214e-10,\n",
       "        -4.54908968e-16, -6.35690286e-17],\n",
       "       [-5.04314883e-16, -5.04344300e-13, -5.04344304e-10,\n",
       "        -3.20064804e-16,  1.85689637e-16],\n",
       "       [-7.22071075e-16, -7.22085747e-13, -7.22085749e-10,\n",
       "        -4.53460723e-16, -1.26513435e-15]])"
      ]
     },
     "execution_count": 31,
     "metadata": {},
     "output_type": "execute_result"
    }
   ],
   "source": [
    "model.coef_"
   ]
  },
  {
   "cell_type": "code",
   "execution_count": 32,
   "id": "9ef7774d",
   "metadata": {},
   "outputs": [
    {
     "data": {
      "text/plain": [
       "array([ 4.82805608e-19,  4.23927671e-19,  3.38075940e-19,  2.53941944e-19,\n",
       "        2.43531950e-19,  1.64761307e-19,  1.47512169e-19,  1.06726317e-20,\n",
       "        8.03523271e-20,  1.16978700e-19, -6.69350629e-20,  5.85153687e-21,\n",
       "       -4.99832188e-20, -1.17045399e-19,  2.23065263e-20, -2.35032584e-20,\n",
       "       -9.21537636e-20, -6.89353782e-20, -1.19046069e-19, -5.14002880e-20,\n",
       "       -1.18408737e-19, -5.18353593e-20, -1.56899390e-19, -1.57476066e-19,\n",
       "       -1.58509877e-19, -1.57130607e-19, -6.84499853e-20, -2.24928563e-19,\n",
       "       -2.25197615e-19, -1.58398823e-19, -2.24480851e-19])"
      ]
     },
     "execution_count": 32,
     "metadata": {},
     "output_type": "execute_result"
    }
   ],
   "source": [
    "model.intercept_"
   ]
  },
  {
   "cell_type": "code",
   "execution_count": 33,
   "id": "cfe944b2",
   "metadata": {},
   "outputs": [],
   "source": [
    "pred = model.predict(X_test)"
   ]
  },
  {
   "cell_type": "code",
   "execution_count": 34,
   "id": "5347c9f3",
   "metadata": {},
   "outputs": [
    {
     "data": {
      "image/png": "[encoded data removed]",
      "text/plain": [
       "<Figure size 640x480 with 1 Axes>"
      ]
     },
     "metadata": {},
     "output_type": "display_data"
    }
   ],
   "source": [
    "plt.scatter(y_test, pred)\n",
    "plt.show()"
   ]
  },
  {
   "cell_type": "code",
   "execution_count": 35,
   "id": "74eef37e",
   "metadata": {},
   "outputs": [
    {
     "data": {
      "text/plain": [
       "0.46176615688209177"
      ]
     },
     "execution_count": 35,
     "metadata": {},
     "output_type": "execute_result"
    }
   ],
   "source": [
    "model.score(X_train, y_train)"
   ]
  },
  {
   "cell_type": "code",
   "execution_count": 36,
   "id": "20b1c3a0",
   "metadata": {},
   "outputs": [
    {
     "data": {
      "text/plain": [
       "0.4844649021864212"
      ]
     },
     "execution_count": 36,
     "metadata": {},
     "output_type": "execute_result"
    }
   ],
   "source": [
    "model.score(X_test, y_test)"
   ]
  },
  {
   "cell_type": "markdown",
   "id": "5a2a84a3",
   "metadata": {},
   "source": [
    "### Pakai knn neighbors"
   ]
  },
  {
   "cell_type": "code",
   "execution_count": 37,
   "id": "e931fe11",
   "metadata": {},
   "outputs": [
    {
     "data": {
      "text/plain": [
       "KNeighborsClassifier(n_neighbors=9)"
      ]
     },
     "execution_count": 37,
     "metadata": {},
     "output_type": "execute_result"
    }
   ],
   "source": [
    "from sklearn import neighbors\n",
    "from sklearn.pipeline import Pipeline\n",
    "\n",
    "knn = neighbors.KNeighborsClassifier(n_neighbors=9)\n",
    "knn.fit(X_train, y_train)"
   ]
  },
  {
   "cell_type": "code",
   "execution_count": 38,
   "id": "daf350af",
   "metadata": {},
   "outputs": [
    {
     "name": "stderr",
     "output_type": "stream",
     "text": [
      "C:\\Users\\RAFLY AULYA RIZKY N\\anaconda3\\lib\\site-packages\\sklearn\\neighbors\\_classification.py:228: FutureWarning: Unlike other reduction functions (e.g. `skew`, `kurtosis`), the default behavior of `mode` typically preserves the axis it acts along. In SciPy 1.11.0, this behavior will change: the default value of `keepdims` will become False, the `axis` over which the statistic is taken will be eliminated, and the value None will no longer be accepted. Set `keepdims` to True or False to avoid this warning.\n",
      "  mode, _ = stats.mode(_y[neigh_ind, k], axis=1)\n"
     ]
    }
   ],
   "source": [
    "y_pred = knn.predict(X_test)"
   ]
  },
  {
   "cell_type": "code",
   "execution_count": 39,
   "id": "0df51c20",
   "metadata": {},
   "outputs": [
    {
     "name": "stderr",
     "output_type": "stream",
     "text": [
      "C:\\Users\\RAFLY AULYA RIZKY N\\anaconda3\\lib\\site-packages\\sklearn\\neighbors\\_classification.py:228: FutureWarning: Unlike other reduction functions (e.g. `skew`, `kurtosis`), the default behavior of `mode` typically preserves the axis it acts along. In SciPy 1.11.0, this behavior will change: the default value of `keepdims` will become False, the `axis` over which the statistic is taken will be eliminated, and the value None will no longer be accepted. Set `keepdims` to True or False to avoid this warning.\n",
      "  mode, _ = stats.mode(_y[neigh_ind, k], axis=1)\n"
     ]
    },
    {
     "data": {
      "text/plain": [
       "0.45454545454545453"
      ]
     },
     "execution_count": 39,
     "metadata": {},
     "output_type": "execute_result"
    }
   ],
   "source": [
    "knn.score(X_test, y_test)"
   ]
  },
  {
   "cell_type": "code",
   "execution_count": 40,
   "id": "46cf495c",
   "metadata": {},
   "outputs": [
    {
     "name": "stderr",
     "output_type": "stream",
     "text": [
      "C:\\Users\\RAFLY AULYA RIZKY N\\anaconda3\\lib\\site-packages\\sklearn\\neighbors\\_classification.py:228: FutureWarning: Unlike other reduction functions (e.g. `skew`, `kurtosis`), the default behavior of `mode` typically preserves the axis it acts along. In SciPy 1.11.0, this behavior will change: the default value of `keepdims` will become False, the `axis` over which the statistic is taken will be eliminated, and the value None will no longer be accepted. Set `keepdims` to True or False to avoid this warning.\n",
      "  mode, _ = stats.mode(_y[neigh_ind, k], axis=1)\n"
     ]
    },
    {
     "data": {
      "text/plain": [
       "0.5288603848051308"
      ]
     },
     "execution_count": 40,
     "metadata": {},
     "output_type": "execute_result"
    }
   ],
   "source": [
    "knn.score(X_train, y_train)"
   ]
  },
  {
   "cell_type": "code",
   "execution_count": 41,
   "id": "5a8b977e",
   "metadata": {},
   "outputs": [
    {
     "data": {
      "text/plain": [
       "array([[332,  65,  10,   3,   8,   2,   1,   0,   0,   0,   0,   0,   0,\n",
       "          0,   0,   0,   0,   0,   0,   0,   0,   0,   0,   0],\n",
       "       [135,  53,   4,   3,   2,   0,   1,   0,   0,   0,   0,   0,   0,\n",
       "          0,   0,   0,   0,   0,   0,   0,   0,   0,   0,   0],\n",
       "       [ 74,  18,   8,   0,   2,   1,   1,   0,   0,   0,   0,   0,   0,\n",
       "          0,   0,   0,   0,   0,   0,   0,   0,   0,   0,   0],\n",
       "       [ 31,  11,   0,   0,   0,   1,   0,   0,   0,   0,   0,   0,   0,\n",
       "          0,   0,   0,   0,   0,   0,   0,   0,   0,   0,   0],\n",
       "       [ 22,  11,   0,   0,   2,   0,   0,   0,   0,   0,   0,   0,   0,\n",
       "          0,   0,   0,   0,   0,   0,   0,   0,   0,   0,   0],\n",
       "       [ 14,   2,   1,   0,   0,   0,   0,   0,   0,   0,   0,   0,   0,\n",
       "          0,   0,   0,   0,   0,   0,   0,   0,   0,   0,   0],\n",
       "       [ 10,   1,   1,   0,   0,   0,   0,   0,   0,   0,   0,   0,   0,\n",
       "          0,   0,   0,   0,   0,   0,   0,   0,   0,   0,   0],\n",
       "       [  4,   0,   0,   0,   0,   0,   0,   0,   0,   0,   0,   0,   0,\n",
       "          0,   0,   0,   0,   0,   0,   0,   0,   0,   0,   0],\n",
       "       [  3,   1,   0,   0,   0,   0,   0,   0,   0,   0,   0,   0,   0,\n",
       "          0,   0,   0,   0,   0,   0,   0,   0,   0,   0,   0],\n",
       "       [  2,   5,   0,   0,   0,   0,   0,   0,   0,   0,   0,   0,   0,\n",
       "          0,   0,   0,   0,   0,   0,   0,   0,   0,   0,   0],\n",
       "       [  0,   1,   0,   0,   0,   0,   0,   0,   0,   0,   0,   0,   0,\n",
       "          0,   0,   0,   0,   0,   0,   0,   0,   0,   0,   0],\n",
       "       [  1,   0,   1,   0,   0,   0,   0,   0,   0,   1,   0,   0,   0,\n",
       "          0,   0,   0,   0,   0,   0,   0,   0,   0,   0,   0],\n",
       "       [  0,   1,   0,   0,   0,   0,   0,   0,   0,   0,   0,   0,   0,\n",
       "          0,   0,   0,   0,   0,   0,   0,   0,   0,   0,   0],\n",
       "       [  1,   0,   0,   0,   0,   0,   0,   0,   0,   0,   0,   0,   0,\n",
       "          0,   0,   0,   0,   0,   0,   0,   0,   0,   0,   0],\n",
       "       [  4,   1,   0,   0,   0,   0,   0,   0,   0,   0,   0,   1,   0,\n",
       "          0,   0,   0,   0,   0,   0,   0,   0,   0,   0,   0],\n",
       "       [  1,   1,   0,   0,   0,   0,   0,   0,   0,   0,   0,   0,   0,\n",
       "          0,   0,   0,   0,   0,   0,   0,   0,   0,   0,   0],\n",
       "       [  0,   1,   0,   0,   0,   0,   0,   0,   0,   0,   0,   0,   0,\n",
       "          0,   0,   0,   0,   0,   0,   0,   0,   0,   0,   0],\n",
       "       [  0,   2,   0,   0,   0,   0,   0,   0,   0,   0,   0,   0,   0,\n",
       "          0,   0,   0,   0,   0,   0,   0,   0,   0,   0,   0],\n",
       "       [  1,   0,   0,   0,   0,   0,   0,   0,   0,   0,   0,   0,   0,\n",
       "          0,   0,   0,   0,   0,   0,   0,   0,   0,   0,   0],\n",
       "       [  1,   0,   0,   0,   0,   0,   0,   0,   0,   0,   0,   0,   0,\n",
       "          0,   0,   0,   0,   0,   0,   0,   0,   0,   0,   0],\n",
       "       [  2,   0,   0,   0,   0,   0,   0,   0,   0,   0,   0,   0,   0,\n",
       "          0,   0,   0,   0,   0,   0,   0,   0,   0,   0,   0],\n",
       "       [  1,   0,   0,   0,   0,   0,   0,   0,   0,   0,   0,   0,   0,\n",
       "          0,   0,   0,   0,   0,   0,   0,   0,   0,   0,   0],\n",
       "       [  1,   0,   0,   0,   0,   0,   0,   0,   0,   0,   0,   0,   0,\n",
       "          0,   0,   0,   0,   0,   0,   0,   0,   0,   0,   0],\n",
       "       [  0,   1,   0,   0,   0,   0,   0,   0,   0,   0,   0,   0,   0,\n",
       "          0,   0,   0,   0,   0,   0,   0,   0,   0,   0,   0]],\n",
       "      dtype=int64)"
      ]
     },
     "execution_count": 41,
     "metadata": {},
     "output_type": "execute_result"
    }
   ],
   "source": [
    "from sklearn.metrics import confusion_matrix\n",
    "\n",
    "cm = confusion_matrix(y_test, y_pred)\n",
    "cm"
   ]
  },
  {
   "cell_type": "code",
   "execution_count": 42,
   "id": "4544892b",
   "metadata": {},
   "outputs": [
    {
     "data": {
      "text/plain": [
       "0.836272040302267"
      ]
     },
     "execution_count": 42,
     "metadata": {},
     "output_type": "execute_result"
    }
   ],
   "source": [
    "recall = cm[0][0]/ (cm[0][0] + cm[0][1])\n",
    "recall  "
   ]
  },
  {
   "cell_type": "code",
   "execution_count": 43,
   "id": "ea65d3a5",
   "metadata": {},
   "outputs": [
    {
     "data": {
      "text/plain": [
       "0.7109207708779444"
      ]
     },
     "execution_count": 43,
     "metadata": {},
     "output_type": "execute_result"
    }
   ],
   "source": [
    "presisi = cm[0][0] / (cm[0][0] + cm[1][0])\n",
    "presisi "
   ]
  },
  {
   "cell_type": "code",
   "execution_count": 44,
   "id": "2303ecd5",
   "metadata": {},
   "outputs": [
    {
     "name": "stderr",
     "output_type": "stream",
     "text": [
      "C:\\Users\\RAFLY AULYA RIZKY N\\anaconda3\\lib\\site-packages\\sklearn\\neighbors\\_classification.py:228: FutureWarning: Unlike other reduction functions (e.g. `skew`, `kurtosis`), the default behavior of `mode` typically preserves the axis it acts along. In SciPy 1.11.0, this behavior will change: the default value of `keepdims` will become False, the `axis` over which the statistic is taken will be eliminated, and the value None will no longer be accepted. Set `keepdims` to True or False to avoid this warning.\n",
      "  mode, _ = stats.mode(_y[neigh_ind, k], axis=1)\n",
      "C:\\Users\\RAFLY AULYA RIZKY N\\anaconda3\\lib\\site-packages\\sklearn\\neighbors\\_classification.py:228: FutureWarning: Unlike other reduction functions (e.g. `skew`, `kurtosis`), the default behavior of `mode` typically preserves the axis it acts along. In SciPy 1.11.0, this behavior will change: the default value of `keepdims` will become False, the `axis` over which the statistic is taken will be eliminated, and the value None will no longer be accepted. Set `keepdims` to True or False to avoid this warning.\n",
      "  mode, _ = stats.mode(_y[neigh_ind, k], axis=1)\n",
      "C:\\Users\\RAFLY AULYA RIZKY N\\anaconda3\\lib\\site-packages\\sklearn\\neighbors\\_classification.py:228: FutureWarning: Unlike other reduction functions (e.g. `skew`, `kurtosis`), the default behavior of `mode` typically preserves the axis it acts along. In SciPy 1.11.0, this behavior will change: the default value of `keepdims` will become False, the `axis` over which the statistic is taken will be eliminated, and the value None will no longer be accepted. Set `keepdims` to True or False to avoid this warning.\n",
      "  mode, _ = stats.mode(_y[neigh_ind, k], axis=1)\n",
      "C:\\Users\\RAFLY AULYA RIZKY N\\anaconda3\\lib\\site-packages\\sklearn\\neighbors\\_classification.py:228: FutureWarning: Unlike other reduction functions (e.g. `skew`, `kurtosis`), the default behavior of `mode` typically preserves the axis it acts along. In SciPy 1.11.0, this behavior will change: the default value of `keepdims` will become False, the `axis` over which the statistic is taken will be eliminated, and the value None will no longer be accepted. Set `keepdims` to True or False to avoid this warning.\n",
      "  mode, _ = stats.mode(_y[neigh_ind, k], axis=1)\n",
      "C:\\Users\\RAFLY AULYA RIZKY N\\anaconda3\\lib\\site-packages\\sklearn\\neighbors\\_classification.py:228: FutureWarning: Unlike other reduction functions (e.g. `skew`, `kurtosis`), the default behavior of `mode` typically preserves the axis it acts along. In SciPy 1.11.0, this behavior will change: the default value of `keepdims` will become False, the `axis` over which the statistic is taken will be eliminated, and the value None will no longer be accepted. Set `keepdims` to True or False to avoid this warning.\n",
      "  mode, _ = stats.mode(_y[neigh_ind, k], axis=1)\n",
      "C:\\Users\\RAFLY AULYA RIZKY N\\anaconda3\\lib\\site-packages\\sklearn\\neighbors\\_classification.py:228: FutureWarning: Unlike other reduction functions (e.g. `skew`, `kurtosis`), the default behavior of `mode` typically preserves the axis it acts along. In SciPy 1.11.0, this behavior will change: the default value of `keepdims` will become False, the `axis` over which the statistic is taken will be eliminated, and the value None will no longer be accepted. Set `keepdims` to True or False to avoid this warning.\n",
      "  mode, _ = stats.mode(_y[neigh_ind, k], axis=1)\n",
      "C:\\Users\\RAFLY AULYA RIZKY N\\anaconda3\\lib\\site-packages\\sklearn\\neighbors\\_classification.py:228: FutureWarning: Unlike other reduction functions (e.g. `skew`, `kurtosis`), the default behavior of `mode` typically preserves the axis it acts along. In SciPy 1.11.0, this behavior will change: the default value of `keepdims` will become False, the `axis` over which the statistic is taken will be eliminated, and the value None will no longer be accepted. Set `keepdims` to True or False to avoid this warning.\n",
      "  mode, _ = stats.mode(_y[neigh_ind, k], axis=1)\n",
      "C:\\Users\\RAFLY AULYA RIZKY N\\anaconda3\\lib\\site-packages\\sklearn\\neighbors\\_classification.py:228: FutureWarning: Unlike other reduction functions (e.g. `skew`, `kurtosis`), the default behavior of `mode` typically preserves the axis it acts along. In SciPy 1.11.0, this behavior will change: the default value of `keepdims` will become False, the `axis` over which the statistic is taken will be eliminated, and the value None will no longer be accepted. Set `keepdims` to True or False to avoid this warning.\n",
      "  mode, _ = stats.mode(_y[neigh_ind, k], axis=1)\n",
      "C:\\Users\\RAFLY AULYA RIZKY N\\anaconda3\\lib\\site-packages\\sklearn\\neighbors\\_classification.py:228: FutureWarning: Unlike other reduction functions (e.g. `skew`, `kurtosis`), the default behavior of `mode` typically preserves the axis it acts along. In SciPy 1.11.0, this behavior will change: the default value of `keepdims` will become False, the `axis` over which the statistic is taken will be eliminated, and the value None will no longer be accepted. Set `keepdims` to True or False to avoid this warning.\n",
      "  mode, _ = stats.mode(_y[neigh_ind, k], axis=1)\n",
      "C:\\Users\\RAFLY AULYA RIZKY N\\anaconda3\\lib\\site-packages\\sklearn\\neighbors\\_classification.py:228: FutureWarning: Unlike other reduction functions (e.g. `skew`, `kurtosis`), the default behavior of `mode` typically preserves the axis it acts along. In SciPy 1.11.0, this behavior will change: the default value of `keepdims` will become False, the `axis` over which the statistic is taken will be eliminated, and the value None will no longer be accepted. Set `keepdims` to True or False to avoid this warning.\n",
      "  mode, _ = stats.mode(_y[neigh_ind, k], axis=1)\n",
      "C:\\Users\\RAFLY AULYA RIZKY N\\anaconda3\\lib\\site-packages\\sklearn\\neighbors\\_classification.py:228: FutureWarning: Unlike other reduction functions (e.g. `skew`, `kurtosis`), the default behavior of `mode` typically preserves the axis it acts along. In SciPy 1.11.0, this behavior will change: the default value of `keepdims` will become False, the `axis` over which the statistic is taken will be eliminated, and the value None will no longer be accepted. Set `keepdims` to True or False to avoid this warning.\n",
      "  mode, _ = stats.mode(_y[neigh_ind, k], axis=1)\n",
      "C:\\Users\\RAFLY AULYA RIZKY N\\anaconda3\\lib\\site-packages\\sklearn\\neighbors\\_classification.py:228: FutureWarning: Unlike other reduction functions (e.g. `skew`, `kurtosis`), the default behavior of `mode` typically preserves the axis it acts along. In SciPy 1.11.0, this behavior will change: the default value of `keepdims` will become False, the `axis` over which the statistic is taken will be eliminated, and the value None will no longer be accepted. Set `keepdims` to True or False to avoid this warning.\n",
      "  mode, _ = stats.mode(_y[neigh_ind, k], axis=1)\n",
      "C:\\Users\\RAFLY AULYA RIZKY N\\anaconda3\\lib\\site-packages\\sklearn\\neighbors\\_classification.py:228: FutureWarning: Unlike other reduction functions (e.g. `skew`, `kurtosis`), the default behavior of `mode` typically preserves the axis it acts along. In SciPy 1.11.0, this behavior will change: the default value of `keepdims` will become False, the `axis` over which the statistic is taken will be eliminated, and the value None will no longer be accepted. Set `keepdims` to True or False to avoid this warning.\n",
      "  mode, _ = stats.mode(_y[neigh_ind, k], axis=1)\n",
      "C:\\Users\\RAFLY AULYA RIZKY N\\anaconda3\\lib\\site-packages\\sklearn\\neighbors\\_classification.py:228: FutureWarning: Unlike other reduction functions (e.g. `skew`, `kurtosis`), the default behavior of `mode` typically preserves the axis it acts along. In SciPy 1.11.0, this behavior will change: the default value of `keepdims` will become False, the `axis` over which the statistic is taken will be eliminated, and the value None will no longer be accepted. Set `keepdims` to True or False to avoid this warning.\n",
      "  mode, _ = stats.mode(_y[neigh_ind, k], axis=1)\n",
      "C:\\Users\\RAFLY AULYA RIZKY N\\anaconda3\\lib\\site-packages\\sklearn\\neighbors\\_classification.py:228: FutureWarning: Unlike other reduction functions (e.g. `skew`, `kurtosis`), the default behavior of `mode` typically preserves the axis it acts along. In SciPy 1.11.0, this behavior will change: the default value of `keepdims` will become False, the `axis` over which the statistic is taken will be eliminated, and the value None will no longer be accepted. Set `keepdims` to True or False to avoid this warning.\n",
      "  mode, _ = stats.mode(_y[neigh_ind, k], axis=1)\n",
      "C:\\Users\\RAFLY AULYA RIZKY N\\anaconda3\\lib\\site-packages\\sklearn\\neighbors\\_classification.py:228: FutureWarning: Unlike other reduction functions (e.g. `skew`, `kurtosis`), the default behavior of `mode` typically preserves the axis it acts along. In SciPy 1.11.0, this behavior will change: the default value of `keepdims` will become False, the `axis` over which the statistic is taken will be eliminated, and the value None will no longer be accepted. Set `keepdims` to True or False to avoid this warning.\n",
      "  mode, _ = stats.mode(_y[neigh_ind, k], axis=1)\n",
      "C:\\Users\\RAFLY AULYA RIZKY N\\anaconda3\\lib\\site-packages\\sklearn\\neighbors\\_classification.py:228: FutureWarning: Unlike other reduction functions (e.g. `skew`, `kurtosis`), the default behavior of `mode` typically preserves the axis it acts along. In SciPy 1.11.0, this behavior will change: the default value of `keepdims` will become False, the `axis` over which the statistic is taken will be eliminated, and the value None will no longer be accepted. Set `keepdims` to True or False to avoid this warning.\n",
      "  mode, _ = stats.mode(_y[neigh_ind, k], axis=1)\n"
     ]
    },
    {
     "name": "stderr",
     "output_type": "stream",
     "text": [
      "C:\\Users\\RAFLY AULYA RIZKY N\\anaconda3\\lib\\site-packages\\sklearn\\neighbors\\_classification.py:228: FutureWarning: Unlike other reduction functions (e.g. `skew`, `kurtosis`), the default behavior of `mode` typically preserves the axis it acts along. In SciPy 1.11.0, this behavior will change: the default value of `keepdims` will become False, the `axis` over which the statistic is taken will be eliminated, and the value None will no longer be accepted. Set `keepdims` to True or False to avoid this warning.\n",
      "  mode, _ = stats.mode(_y[neigh_ind, k], axis=1)\n",
      "C:\\Users\\RAFLY AULYA RIZKY N\\anaconda3\\lib\\site-packages\\sklearn\\neighbors\\_classification.py:228: FutureWarning: Unlike other reduction functions (e.g. `skew`, `kurtosis`), the default behavior of `mode` typically preserves the axis it acts along. In SciPy 1.11.0, this behavior will change: the default value of `keepdims` will become False, the `axis` over which the statistic is taken will be eliminated, and the value None will no longer be accepted. Set `keepdims` to True or False to avoid this warning.\n",
      "  mode, _ = stats.mode(_y[neigh_ind, k], axis=1)\n",
      "C:\\Users\\RAFLY AULYA RIZKY N\\anaconda3\\lib\\site-packages\\sklearn\\neighbors\\_classification.py:228: FutureWarning: Unlike other reduction functions (e.g. `skew`, `kurtosis`), the default behavior of `mode` typically preserves the axis it acts along. In SciPy 1.11.0, this behavior will change: the default value of `keepdims` will become False, the `axis` over which the statistic is taken will be eliminated, and the value None will no longer be accepted. Set `keepdims` to True or False to avoid this warning.\n",
      "  mode, _ = stats.mode(_y[neigh_ind, k], axis=1)\n",
      "C:\\Users\\RAFLY AULYA RIZKY N\\anaconda3\\lib\\site-packages\\sklearn\\neighbors\\_classification.py:228: FutureWarning: Unlike other reduction functions (e.g. `skew`, `kurtosis`), the default behavior of `mode` typically preserves the axis it acts along. In SciPy 1.11.0, this behavior will change: the default value of `keepdims` will become False, the `axis` over which the statistic is taken will be eliminated, and the value None will no longer be accepted. Set `keepdims` to True or False to avoid this warning.\n",
      "  mode, _ = stats.mode(_y[neigh_ind, k], axis=1)\n",
      "C:\\Users\\RAFLY AULYA RIZKY N\\anaconda3\\lib\\site-packages\\sklearn\\neighbors\\_classification.py:228: FutureWarning: Unlike other reduction functions (e.g. `skew`, `kurtosis`), the default behavior of `mode` typically preserves the axis it acts along. In SciPy 1.11.0, this behavior will change: the default value of `keepdims` will become False, the `axis` over which the statistic is taken will be eliminated, and the value None will no longer be accepted. Set `keepdims` to True or False to avoid this warning.\n",
      "  mode, _ = stats.mode(_y[neigh_ind, k], axis=1)\n",
      "C:\\Users\\RAFLY AULYA RIZKY N\\anaconda3\\lib\\site-packages\\sklearn\\neighbors\\_classification.py:228: FutureWarning: Unlike other reduction functions (e.g. `skew`, `kurtosis`), the default behavior of `mode` typically preserves the axis it acts along. In SciPy 1.11.0, this behavior will change: the default value of `keepdims` will become False, the `axis` over which the statistic is taken will be eliminated, and the value None will no longer be accepted. Set `keepdims` to True or False to avoid this warning.\n",
      "  mode, _ = stats.mode(_y[neigh_ind, k], axis=1)\n",
      "C:\\Users\\RAFLY AULYA RIZKY N\\anaconda3\\lib\\site-packages\\sklearn\\neighbors\\_classification.py:228: FutureWarning: Unlike other reduction functions (e.g. `skew`, `kurtosis`), the default behavior of `mode` typically preserves the axis it acts along. In SciPy 1.11.0, this behavior will change: the default value of `keepdims` will become False, the `axis` over which the statistic is taken will be eliminated, and the value None will no longer be accepted. Set `keepdims` to True or False to avoid this warning.\n",
      "  mode, _ = stats.mode(_y[neigh_ind, k], axis=1)\n",
      "C:\\Users\\RAFLY AULYA RIZKY N\\anaconda3\\lib\\site-packages\\sklearn\\neighbors\\_classification.py:228: FutureWarning: Unlike other reduction functions (e.g. `skew`, `kurtosis`), the default behavior of `mode` typically preserves the axis it acts along. In SciPy 1.11.0, this behavior will change: the default value of `keepdims` will become False, the `axis` over which the statistic is taken will be eliminated, and the value None will no longer be accepted. Set `keepdims` to True or False to avoid this warning.\n",
      "  mode, _ = stats.mode(_y[neigh_ind, k], axis=1)\n",
      "C:\\Users\\RAFLY AULYA RIZKY N\\anaconda3\\lib\\site-packages\\sklearn\\neighbors\\_classification.py:228: FutureWarning: Unlike other reduction functions (e.g. `skew`, `kurtosis`), the default behavior of `mode` typically preserves the axis it acts along. In SciPy 1.11.0, this behavior will change: the default value of `keepdims` will become False, the `axis` over which the statistic is taken will be eliminated, and the value None will no longer be accepted. Set `keepdims` to True or False to avoid this warning.\n",
      "  mode, _ = stats.mode(_y[neigh_ind, k], axis=1)\n",
      "C:\\Users\\RAFLY AULYA RIZKY N\\anaconda3\\lib\\site-packages\\sklearn\\neighbors\\_classification.py:228: FutureWarning: Unlike other reduction functions (e.g. `skew`, `kurtosis`), the default behavior of `mode` typically preserves the axis it acts along. In SciPy 1.11.0, this behavior will change: the default value of `keepdims` will become False, the `axis` over which the statistic is taken will be eliminated, and the value None will no longer be accepted. Set `keepdims` to True or False to avoid this warning.\n",
      "  mode, _ = stats.mode(_y[neigh_ind, k], axis=1)\n",
      "C:\\Users\\RAFLY AULYA RIZKY N\\anaconda3\\lib\\site-packages\\sklearn\\neighbors\\_classification.py:228: FutureWarning: Unlike other reduction functions (e.g. `skew`, `kurtosis`), the default behavior of `mode` typically preserves the axis it acts along. In SciPy 1.11.0, this behavior will change: the default value of `keepdims` will become False, the `axis` over which the statistic is taken will be eliminated, and the value None will no longer be accepted. Set `keepdims` to True or False to avoid this warning.\n",
      "  mode, _ = stats.mode(_y[neigh_ind, k], axis=1)\n",
      "C:\\Users\\RAFLY AULYA RIZKY N\\anaconda3\\lib\\site-packages\\sklearn\\neighbors\\_classification.py:228: FutureWarning: Unlike other reduction functions (e.g. `skew`, `kurtosis`), the default behavior of `mode` typically preserves the axis it acts along. In SciPy 1.11.0, this behavior will change: the default value of `keepdims` will become False, the `axis` over which the statistic is taken will be eliminated, and the value None will no longer be accepted. Set `keepdims` to True or False to avoid this warning.\n",
      "  mode, _ = stats.mode(_y[neigh_ind, k], axis=1)\n",
      "C:\\Users\\RAFLY AULYA RIZKY N\\anaconda3\\lib\\site-packages\\sklearn\\neighbors\\_classification.py:228: FutureWarning: Unlike other reduction functions (e.g. `skew`, `kurtosis`), the default behavior of `mode` typically preserves the axis it acts along. In SciPy 1.11.0, this behavior will change: the default value of `keepdims` will become False, the `axis` over which the statistic is taken will be eliminated, and the value None will no longer be accepted. Set `keepdims` to True or False to avoid this warning.\n",
      "  mode, _ = stats.mode(_y[neigh_ind, k], axis=1)\n"
     ]
    }
   ],
   "source": [
    "lis = []\n",
    "for i in range(1,20,2):\n",
    "    knn = neighbors.KNeighborsClassifier(n_neighbors=i)\n",
    "    knn.fit(X_train, y_train)\n",
    "    y_pred = knn.predict(X_test)\n",
    "    acc = knn.score(X_test, y_test)\n",
    "    acc2 = knn.score(X_train, y_train)\n",
    "    cm = confusion_matrix(y_test, y_pred)\n",
    "    recall = cm[0][0]/ (cm[0][0] + cm[0][1])\n",
    "    presisi = cm[0][0] / (cm[0][0] + cm[1][0])\n",
    "    lis.append([i, acc, acc2, recall, presisi])\n",
    "    \n"
   ]
  },
  {
   "cell_type": "code",
   "execution_count": 45,
   "id": "da26396c",
   "metadata": {},
   "outputs": [
    {
     "data": {
      "text/plain": [
       "[[1, 0.34177215189873417, 1.0, 0.6822742474916388, 0.7157894736842105],\n",
       " [3,\n",
       "  0.42002301495972383,\n",
       "  0.6176615688209176,\n",
       "  0.7891891891891892,\n",
       "  0.7139364303178484],\n",
       " [5,\n",
       "  0.46375143843498273,\n",
       "  0.5703009373458313,\n",
       "  0.8407310704960835,\n",
       "  0.7351598173515982],\n",
       " [7,\n",
       "  0.4522439585730725,\n",
       "  0.5490873211642822,\n",
       "  0.8385416666666666,\n",
       "  0.7139689578713969],\n",
       " [9,\n",
       "  0.45454545454545453,\n",
       "  0.5288603848051308,\n",
       "  0.836272040302267,\n",
       "  0.7109207708779444],\n",
       " [11,\n",
       "  0.4718066743383199,\n",
       "  0.517513566847558,\n",
       "  0.8613861386138614,\n",
       "  0.7175257731958763],\n",
       " [13,\n",
       "  0.47410817031070196,\n",
       "  0.5150468672915639,\n",
       "  0.8651960784313726,\n",
       "  0.7116935483870968],\n",
       " [15,\n",
       "  0.4718066743383199,\n",
       "  0.5051800690675876,\n",
       "  0.8682926829268293,\n",
       "  0.7063492063492064],\n",
       " [17,\n",
       "  0.46029919447640966,\n",
       "  0.49481993093241244,\n",
       "  0.8771498771498771,\n",
       "  0.697265625],\n",
       " [19,\n",
       "  0.45914844649021863,\n",
       "  0.48248643315244205,\n",
       "  0.8866995073891626,\n",
       "  0.6883365200764818]]"
      ]
     },
     "execution_count": 45,
     "metadata": {},
     "output_type": "execute_result"
    }
   ],
   "source": [
    "lis"
   ]
  },
  {
   "cell_type": "markdown",
   "id": "3c2350f7",
   "metadata": {},
   "source": [
    "### decision tree"
   ]
  },
  {
   "cell_type": "code",
   "execution_count": 46,
   "id": "169e43aa",
   "metadata": {},
   "outputs": [],
   "source": [
    "from sklearn import tree\n",
    "\n",
    "clf = tree.DecisionTreeClassifier(max_depth=3, criterion='entropy')\n",
    "clf = clf.fit(X_train, y_train)\n"
   ]
  },
  {
   "cell_type": "code",
   "execution_count": 47,
   "id": "42915ed2",
   "metadata": {},
   "outputs": [],
   "source": [
    "y_pred2 = clf.predict(X_test)"
   ]
  },
  {
   "cell_type": "code",
   "execution_count": 48,
   "id": "214e31a1",
   "metadata": {},
   "outputs": [
    {
     "data": {
      "text/plain": [
       "0.4622594967932906"
      ]
     },
     "execution_count": 48,
     "metadata": {},
     "output_type": "execute_result"
    }
   ],
   "source": [
    "clf.score(X_train, y_train)"
   ]
  },
  {
   "cell_type": "code",
   "execution_count": 49,
   "id": "ece1de57",
   "metadata": {},
   "outputs": [
    {
     "data": {
      "text/plain": [
       "0.4856156501726122"
      ]
     },
     "execution_count": 49,
     "metadata": {},
     "output_type": "execute_result"
    }
   ],
   "source": [
    "clf.score(X_test, y_test)"
   ]
  },
  {
   "cell_type": "code",
   "execution_count": 50,
   "id": "42441651",
   "metadata": {},
   "outputs": [],
   "source": [
    "cm2 = confusion_matrix(y_test, y_pred2)\n",
    "recall = cm2[0][0] / (cm2[0][0]+cm2[0][1])\n",
    "precise = cm2[0][0] / (cm2[0][0]+cm2[1][0])"
   ]
  },
  {
   "cell_type": "code",
   "execution_count": 51,
   "id": "a46452cb",
   "metadata": {},
   "outputs": [
    {
     "name": "stdout",
     "output_type": "stream",
     "text": [
      "recall =  1.0\n",
      "precise =  0.6801292407108239\n"
     ]
    }
   ],
   "source": [
    "print('recall = ',recall)\n",
    "print('precise = ',precise)"
   ]
  },
  {
   "cell_type": "code",
   "execution_count": 52,
   "id": "854bc3c9",
   "metadata": {},
   "outputs": [
    {
     "data": {
      "text/plain": [
       "[Text(0.5, 0.875, 'X[1] <= 3216075.5\\nentropy = 2.459\\nsamples = 2027\\nvalue = [936, 481, 214, 94, 107, 37, 37, 7, 19, 28, 4, 8\\n5, 2, 7, 8, 2, 5, 2, 4, 3, 6, 1, 2, 1, 4\\n1, 1, 1]'),\n",
       " Text(0.25, 0.625, 'X[1] <= 3205170.5\\nentropy = 2.361\\nsamples = 1856\\nvalue = [883, 443, 199, 83, 93, 31, 30, 7, 18, 23, 4, 5\\n5, 2, 6, 4, 1, 3, 2, 2, 3, 2, 1, 2, 0, 3\\n0, 0, 1]'),\n",
       " Text(0.125, 0.375, 'X[2] <= 3201270528.0\\nentropy = 2.237\\nsamples = 612\\nvalue = [301, 159, 57, 29, 24, 6, 6, 2, 5, 2, 3, 0, 3\\n2, 2, 4, 0, 2, 0, 0, 1, 2, 1, 0, 0, 0, 0\\n0, 1]'),\n",
       " Text(0.0625, 0.125, 'entropy = 2.289\\nsamples = 121\\nvalue = [56, 29, 14, 5, 5, 5, 0, 0, 0, 0, 2, 0, 0, 0\\n0, 2, 0, 0, 0, 0, 0, 2, 0, 0, 0, 0, 0, 0\\n1]'),\n",
       " Text(0.1875, 0.125, 'entropy = 2.167\\nsamples = 491\\nvalue = [245, 130, 43, 24, 19, 1, 6, 2, 5, 2, 1, 0, 3\\n2, 2, 2, 0, 2, 0, 0, 1, 0, 1, 0, 0, 0, 0\\n0, 0]'),\n",
       " Text(0.375, 0.375, 'X[1] <= 3208100.5\\nentropy = 2.387\\nsamples = 1244\\nvalue = [582, 284, 142, 54, 69, 25, 24, 5, 13, 21, 1, 5\\n2, 0, 4, 0, 1, 1, 2, 2, 2, 0, 0, 2, 0, 3\\n0, 0, 0]'),\n",
       " Text(0.3125, 0.125, 'entropy = 2.439\\nsamples = 370\\nvalue = [154, 97, 51, 13, 13, 11, 7, 3, 5, 9, 1, 0, 0\\n0, 0, 0, 0, 1, 0, 2, 0, 0, 0, 0, 0, 3, 0\\n0, 0]'),\n",
       " Text(0.4375, 0.125, 'entropy = 2.324\\nsamples = 874\\nvalue = [428, 187, 91, 41, 56, 14, 17, 2, 8, 12, 0, 5\\n2, 0, 4, 0, 1, 0, 2, 0, 2, 0, 0, 2, 0, 0\\n0, 0, 0]'),\n",
       " Text(0.75, 0.625, 'X[2] <= 3216105600.0\\nentropy = 3.181\\nsamples = 171\\nvalue = [53, 38, 15, 11, 14, 6, 7, 0, 1, 5, 0, 3, 0\\n0, 1, 4, 1, 2, 0, 2, 0, 4, 0, 0, 1, 1, 1\\n1, 0]'),\n",
       " Text(0.625, 0.375, 'X[2] <= 3216086016.0\\nentropy = 3.178\\nsamples = 21\\nvalue = [4, 0, 2, 0, 3, 0, 2, 0, 1, 2, 0, 3, 0, 0\\n1, 1, 0, 0, 0, 0, 0, 2, 0, 0, 0, 0, 0, 0\\n0]'),\n",
       " Text(0.5625, 0.125, 'entropy = 1.918\\nsamples = 6\\nvalue = [2, 0, 2, 0, 1, 0, 0, 0, 0, 0, 0, 0, 0, 0\\n0, 1, 0, 0, 0, 0, 0, 0, 0, 0, 0, 0, 0, 0\\n0]'),\n",
       " Text(0.6875, 0.125, 'entropy = 2.923\\nsamples = 15\\nvalue = [2, 0, 0, 0, 2, 0, 2, 0, 1, 2, 0, 3, 0, 0\\n1, 0, 0, 0, 0, 0, 0, 2, 0, 0, 0, 0, 0, 0\\n0]'),\n",
       " Text(0.875, 0.375, 'X[1] <= 3217145.0\\nentropy = 2.953\\nsamples = 150\\nvalue = [49, 38, 13, 11, 11, 6, 5, 0, 0, 3, 0, 0, 0\\n0, 0, 3, 1, 2, 0, 2, 0, 2, 0, 0, 1, 1, 1\\n1, 0]'),\n",
       " Text(0.8125, 0.125, 'entropy = 3.054\\nsamples = 77\\nvalue = [19, 19, 6, 7, 7, 6, 5, 0, 0, 2, 0, 0, 0, 0\\n0, 0, 1, 0, 0, 0, 0, 2, 0, 0, 0, 1, 1, 1\\n0]'),\n",
       " Text(0.9375, 0.125, 'entropy = 2.459\\nsamples = 73\\nvalue = [30, 19, 7, 4, 4, 0, 0, 0, 0, 1, 0, 0, 0, 0\\n0, 3, 0, 2, 0, 2, 0, 0, 0, 0, 1, 0, 0, 0\\n0]')]"
      ]
     },
     "execution_count": 52,
     "metadata": {},
     "output_type": "execute_result"
    },
    {
     "data": {
      "image/png": "[encoded data removed]",
      "text/plain": [
       "<Figure size 640x480 with 1 Axes>"
      ]
     },
     "metadata": {},
     "output_type": "display_data"
    }
   ],
   "source": [
    "tree.plot_tree(clf)"
   ]
  },
  {
   "cell_type": "code",
   "execution_count": null,
   "id": "f3c62dcc",
   "metadata": {},
   "outputs": [],
   "source": []
  }
 ],
 "metadata": {
  "kernelspec": {
   "display_name": "Python 3 (ipykernel)",
   "language": "python",
   "name": "python3"
  },
  "language_info": {
   "codemirror_mode": {
    "name": "ipython",
    "version": 3
   },
   "file_extension": ".py",
   "mimetype": "text/x-python",
   "name": "python",
   "nbconvert_exporter": "python",
   "pygments_lexer": "ipython3",
   "version": "3.9.13"
  }
 },
 "nbformat": 4,
 "nbformat_minor": 5
}
