{
 "cells": [
  {
   "cell_type": "markdown",
   "id": "2c6b0946",
   "metadata": {},
   "source": [
    "# Application installation predictions on the Google Play Store"
   ]
  },
  {
   "cell_type": "markdown",
   "id": "e5dc326c",
   "metadata": {},
   "source": [
    "This data science project aims to predict the number of installations (Installs) of an application on the Google Playstore based on available data columns, including App, Category, Rating, Reviews, Size, Installs, Type, Price, Content Rating, Genres, Last Updated , Current Ver, and Android Ver.\n",
    "\n",
    "The data analysis process includes several stages, including:\n",
    "\n",
    "## 1. Data Collection and Cleaning\n",
    "The data used in this project is obtained from Google Playstore and contains information about the applications available on the platform. The data columns used are as follows:\n",
    "\n",
    "- App: App name\n",
    "- Category: Application category\n",
    "- Rating: App rating (1-5)\n",
    "- Reviews: Number of app reviews\n",
    "- Size: App size\n",
    "- Installs: The number of application installations\n",
    "- Type: Application type (paid/free)\n",
    "- Price: Application price\n",
    "- Content Rating: App content rating (recommended user age)\n",
    "- Genres: Application genres\n",
    "- Last Updated: Last time the app was updated\n",
    "- Current Ver: The latest version of the application\n",
    "- Android Ver: Minimum Android version required to run the application\n",
    "\n",
    "Before performing the analysis, the data will be cleaned of missing or invalid values.\n",
    "\n",
    "## 2. Data Visualization\n",
    "After cleaning the data, the data will be visualized using several methods such as bar charts, pie charts, and scatter plots. It aims to show the relationship between the features in the data and the number of Installs.\n",
    "\n",
    "Data visualization is very important in the process of data analysis because it allows us to visually understand patterns and relationships between features in data. This can help us to determine the features that have the most influence on Installs predictions and can also provide new insights for application developers regarding what factors influence the popularity of their applications on the Google Playstore.\n",
    "\n",
    "## 3. Feature Engineering\n",
    "Feature Engineering is the process of processing features or data columns owned to obtain information that is more relevant and has a significant impact on prediction results. The goal of feature engineering is to improve the performance of machine learning models by selecting the features that have the most influence in predicting the number of Installs on apps on the Google Playstore.\n",
    "\n",
    "In this project, several feature engineering techniques were carried out, such as:\n",
    "- change the data columns containing object values to category\n",
    "- delete irrelevant data columns.\n",
    "- handles missing values by filling empty values with the average value.\n",
    "\n",
    "After engineering techniques have been carried out, the resulting data is cleaner and structured so that it can provide more accurate predictive results in machine learning models. The feature engineering process can also help eliminate noise or disturbances in the data so that the model can more easily learn the patterns contained in the data and produce better predictions."
   ]
  },
  {
   "cell_type": "code",
   "execution_count": 1,
   "id": "3dc87b5a",
   "metadata": {},
   "outputs": [],
   "source": [
    "import pandas as pd\n",
    "import numpy as np\n",
    "import matplotlib.pyplot as plt\n",
    "import seaborn as sn"
   ]
  },
  {
   "cell_type": "code",
   "execution_count": 2,
   "id": "9fbc4708",
   "metadata": {},
   "outputs": [],
   "source": [
    "df = pd.read_csv('googleplaystore.csv')"
   ]
  },
  {
   "cell_type": "code",
   "execution_count": 3,
   "id": "197e24da",
   "metadata": {},
   "outputs": [
    {
     "data": {
      "text/html": [
       "<div>\n",
       "<style scoped>\n",
       "    .dataframe tbody tr th:only-of-type {\n",
       "        vertical-align: middle;\n",
       "    }\n",
       "\n",
       "    .dataframe tbody tr th {\n",
       "        vertical-align: top;\n",
       "    }\n",
       "\n",
       "    .dataframe thead th {\n",
       "        text-align: right;\n",
       "    }\n",
       "</style>\n",
       "<table border=\"1\" class=\"dataframe\">\n",
       "  <thead>\n",
       "    <tr style=\"text-align: right;\">\n",
       "      <th></th>\n",
       "      <th>App</th>\n",
       "      <th>Category</th>\n",
       "      <th>Rating</th>\n",
       "      <th>Reviews</th>\n",
       "      <th>Size</th>\n",
       "      <th>Installs</th>\n",
       "      <th>Type</th>\n",
       "      <th>Price</th>\n",
       "      <th>Content Rating</th>\n",
       "      <th>Genres</th>\n",
       "      <th>Last Updated</th>\n",
       "      <th>Current Ver</th>\n",
       "      <th>Android Ver</th>\n",
       "    </tr>\n",
       "  </thead>\n",
       "  <tbody>\n",
       "    <tr>\n",
       "      <th>0</th>\n",
       "      <td>Photo Editor &amp; Candy Camera &amp; Grid &amp; ScrapBook</td>\n",
       "      <td>ART_AND_DESIGN</td>\n",
       "      <td>4.1</td>\n",
       "      <td>159</td>\n",
       "      <td>19M</td>\n",
       "      <td>10,000+</td>\n",
       "      <td>Free</td>\n",
       "      <td>0</td>\n",
       "      <td>Everyone</td>\n",
       "      <td>Art &amp; Design</td>\n",
       "      <td>January 7, 2018</td>\n",
       "      <td>1.0.0</td>\n",
       "      <td>4.0.3 and up</td>\n",
       "    </tr>\n",
       "    <tr>\n",
       "      <th>1</th>\n",
       "      <td>Coloring book moana</td>\n",
       "      <td>ART_AND_DESIGN</td>\n",
       "      <td>3.9</td>\n",
       "      <td>967</td>\n",
       "      <td>14M</td>\n",
       "      <td>500,000+</td>\n",
       "      <td>Free</td>\n",
       "      <td>0</td>\n",
       "      <td>Everyone</td>\n",
       "      <td>Art &amp; Design;Pretend Play</td>\n",
       "      <td>January 15, 2018</td>\n",
       "      <td>2.0.0</td>\n",
       "      <td>4.0.3 and up</td>\n",
       "    </tr>\n",
       "    <tr>\n",
       "      <th>2</th>\n",
       "      <td>U Launcher Lite – FREE Live Cool Themes, Hide ...</td>\n",
       "      <td>ART_AND_DESIGN</td>\n",
       "      <td>4.7</td>\n",
       "      <td>87510</td>\n",
       "      <td>8.7M</td>\n",
       "      <td>5,000,000+</td>\n",
       "      <td>Free</td>\n",
       "      <td>0</td>\n",
       "      <td>Everyone</td>\n",
       "      <td>Art &amp; Design</td>\n",
       "      <td>August 1, 2018</td>\n",
       "      <td>1.2.4</td>\n",
       "      <td>4.0.3 and up</td>\n",
       "    </tr>\n",
       "    <tr>\n",
       "      <th>3</th>\n",
       "      <td>Sketch - Draw &amp; Paint</td>\n",
       "      <td>ART_AND_DESIGN</td>\n",
       "      <td>4.5</td>\n",
       "      <td>215644</td>\n",
       "      <td>25M</td>\n",
       "      <td>50,000,000+</td>\n",
       "      <td>Free</td>\n",
       "      <td>0</td>\n",
       "      <td>Teen</td>\n",
       "      <td>Art &amp; Design</td>\n",
       "      <td>June 8, 2018</td>\n",
       "      <td>Varies with device</td>\n",
       "      <td>4.2 and up</td>\n",
       "    </tr>\n",
       "    <tr>\n",
       "      <th>4</th>\n",
       "      <td>Pixel Draw - Number Art Coloring Book</td>\n",
       "      <td>ART_AND_DESIGN</td>\n",
       "      <td>4.3</td>\n",
       "      <td>967</td>\n",
       "      <td>2.8M</td>\n",
       "      <td>100,000+</td>\n",
       "      <td>Free</td>\n",
       "      <td>0</td>\n",
       "      <td>Everyone</td>\n",
       "      <td>Art &amp; Design;Creativity</td>\n",
       "      <td>June 20, 2018</td>\n",
       "      <td>1.1</td>\n",
       "      <td>4.4 and up</td>\n",
       "    </tr>\n",
       "  </tbody>\n",
       "</table>\n",
       "</div>"
      ],
      "text/plain": [
       "                                                 App        Category  Rating  \\\n",
       "0     Photo Editor & Candy Camera & Grid & ScrapBook  ART_AND_DESIGN     4.1   \n",
       "1                                Coloring book moana  ART_AND_DESIGN     3.9   \n",
       "2  U Launcher Lite – FREE Live Cool Themes, Hide ...  ART_AND_DESIGN     4.7   \n",
       "3                              Sketch - Draw & Paint  ART_AND_DESIGN     4.5   \n",
       "4              Pixel Draw - Number Art Coloring Book  ART_AND_DESIGN     4.3   \n",
       "\n",
       "  Reviews  Size     Installs  Type Price Content Rating  \\\n",
       "0     159   19M      10,000+  Free     0       Everyone   \n",
       "1     967   14M     500,000+  Free     0       Everyone   \n",
       "2   87510  8.7M   5,000,000+  Free     0       Everyone   \n",
       "3  215644   25M  50,000,000+  Free     0           Teen   \n",
       "4     967  2.8M     100,000+  Free     0       Everyone   \n",
       "\n",
       "                      Genres      Last Updated         Current Ver  \\\n",
       "0               Art & Design   January 7, 2018               1.0.0   \n",
       "1  Art & Design;Pretend Play  January 15, 2018               2.0.0   \n",
       "2               Art & Design    August 1, 2018               1.2.4   \n",
       "3               Art & Design      June 8, 2018  Varies with device   \n",
       "4    Art & Design;Creativity     June 20, 2018                 1.1   \n",
       "\n",
       "    Android Ver  \n",
       "0  4.0.3 and up  \n",
       "1  4.0.3 and up  \n",
       "2  4.0.3 and up  \n",
       "3    4.2 and up  \n",
       "4    4.4 and up  "
      ]
     },
     "execution_count": 3,
     "metadata": {},
     "output_type": "execute_result"
    }
   ],
   "source": [
    "df.head()"
   ]
  },
  {
   "cell_type": "code",
   "execution_count": 4,
   "id": "85cae48b",
   "metadata": {},
   "outputs": [
    {
     "data": {
      "text/html": [
       "<div>\n",
       "<style scoped>\n",
       "    .dataframe tbody tr th:only-of-type {\n",
       "        vertical-align: middle;\n",
       "    }\n",
       "\n",
       "    .dataframe tbody tr th {\n",
       "        vertical-align: top;\n",
       "    }\n",
       "\n",
       "    .dataframe thead th {\n",
       "        text-align: right;\n",
       "    }\n",
       "</style>\n",
       "<table border=\"1\" class=\"dataframe\">\n",
       "  <thead>\n",
       "    <tr style=\"text-align: right;\">\n",
       "      <th></th>\n",
       "      <th>Rating</th>\n",
       "    </tr>\n",
       "  </thead>\n",
       "  <tbody>\n",
       "    <tr>\n",
       "      <th>count</th>\n",
       "      <td>9367.000000</td>\n",
       "    </tr>\n",
       "    <tr>\n",
       "      <th>mean</th>\n",
       "      <td>4.193338</td>\n",
       "    </tr>\n",
       "    <tr>\n",
       "      <th>std</th>\n",
       "      <td>0.537431</td>\n",
       "    </tr>\n",
       "    <tr>\n",
       "      <th>min</th>\n",
       "      <td>1.000000</td>\n",
       "    </tr>\n",
       "    <tr>\n",
       "      <th>25%</th>\n",
       "      <td>4.000000</td>\n",
       "    </tr>\n",
       "    <tr>\n",
       "      <th>50%</th>\n",
       "      <td>4.300000</td>\n",
       "    </tr>\n",
       "    <tr>\n",
       "      <th>75%</th>\n",
       "      <td>4.500000</td>\n",
       "    </tr>\n",
       "    <tr>\n",
       "      <th>max</th>\n",
       "      <td>19.000000</td>\n",
       "    </tr>\n",
       "  </tbody>\n",
       "</table>\n",
       "</div>"
      ],
      "text/plain": [
       "            Rating\n",
       "count  9367.000000\n",
       "mean      4.193338\n",
       "std       0.537431\n",
       "min       1.000000\n",
       "25%       4.000000\n",
       "50%       4.300000\n",
       "75%       4.500000\n",
       "max      19.000000"
      ]
     },
     "execution_count": 4,
     "metadata": {},
     "output_type": "execute_result"
    }
   ],
   "source": [
    "df.describe()"
   ]
  },
  {
   "cell_type": "code",
   "execution_count": 5,
   "id": "d2e44ebb",
   "metadata": {},
   "outputs": [
    {
     "name": "stdout",
     "output_type": "stream",
     "text": [
      "<class 'pandas.core.frame.DataFrame'>\n",
      "RangeIndex: 10841 entries, 0 to 10840\n",
      "Data columns (total 13 columns):\n",
      " #   Column          Non-Null Count  Dtype  \n",
      "---  ------          --------------  -----  \n",
      " 0   App             10841 non-null  object \n",
      " 1   Category        10841 non-null  object \n",
      " 2   Rating          9367 non-null   float64\n",
      " 3   Reviews         10841 non-null  object \n",
      " 4   Size            10841 non-null  object \n",
      " 5   Installs        10841 non-null  object \n",
      " 6   Type            10840 non-null  object \n",
      " 7   Price           10841 non-null  object \n",
      " 8   Content Rating  10840 non-null  object \n",
      " 9   Genres          10841 non-null  object \n",
      " 10  Last Updated    10841 non-null  object \n",
      " 11  Current Ver     10833 non-null  object \n",
      " 12  Android Ver     10838 non-null  object \n",
      "dtypes: float64(1), object(12)\n",
      "memory usage: 1.1+ MB\n"
     ]
    }
   ],
   "source": [
    "df.info()"
   ]
  },
  {
   "cell_type": "code",
   "execution_count": 6,
   "id": "d0005e5f",
   "metadata": {},
   "outputs": [
    {
     "data": {
      "text/plain": [
       "App                  0\n",
       "Category             0\n",
       "Rating            1474\n",
       "Reviews              0\n",
       "Size                 0\n",
       "Installs             0\n",
       "Type                 1\n",
       "Price                0\n",
       "Content Rating       1\n",
       "Genres               0\n",
       "Last Updated         0\n",
       "Current Ver          8\n",
       "Android Ver          3\n",
       "dtype: int64"
      ]
     },
     "execution_count": 6,
     "metadata": {},
     "output_type": "execute_result"
    }
   ],
   "source": [
    "# to determine how many NaN values in df\n",
    "\n",
    "df.isna().sum()"
   ]
  },
  {
   "cell_type": "markdown",
   "id": "90608396",
   "metadata": {},
   "source": [
    "## 1. Data Collection and Cleaning"
   ]
  },
  {
   "cell_type": "markdown",
   "id": "e77f6f86",
   "metadata": {},
   "source": [
    "### Type"
   ]
  },
  {
   "cell_type": "code",
   "execution_count": 7,
   "id": "adc1de9f",
   "metadata": {},
   "outputs": [
    {
     "data": {
      "text/plain": [
       "array(['Free', 'Paid', nan, '0'], dtype=object)"
      ]
     },
     "execution_count": 7,
     "metadata": {},
     "output_type": "execute_result"
    }
   ],
   "source": [
    "# we can see the dataframe based on Type column\n",
    "\n",
    "df.Type.unique()"
   ]
  },
  {
   "cell_type": "code",
   "execution_count": 8,
   "id": "2f560ec8",
   "metadata": {},
   "outputs": [],
   "source": [
    "# to drop all NaN values in our dataframe\n",
    "\n",
    "df = df.dropna()"
   ]
  },
  {
   "cell_type": "code",
   "execution_count": 9,
   "id": "8884f7cf",
   "metadata": {},
   "outputs": [
    {
     "data": {
      "text/html": [
       "<div>\n",
       "<style scoped>\n",
       "    .dataframe tbody tr th:only-of-type {\n",
       "        vertical-align: middle;\n",
       "    }\n",
       "\n",
       "    .dataframe tbody tr th {\n",
       "        vertical-align: top;\n",
       "    }\n",
       "\n",
       "    .dataframe thead th {\n",
       "        text-align: right;\n",
       "    }\n",
       "</style>\n",
       "<table border=\"1\" class=\"dataframe\">\n",
       "  <thead>\n",
       "    <tr style=\"text-align: right;\">\n",
       "      <th></th>\n",
       "      <th>App</th>\n",
       "      <th>Category</th>\n",
       "      <th>Rating</th>\n",
       "      <th>Reviews</th>\n",
       "      <th>Size</th>\n",
       "      <th>Installs</th>\n",
       "      <th>Type</th>\n",
       "      <th>Price</th>\n",
       "      <th>Content Rating</th>\n",
       "      <th>Genres</th>\n",
       "      <th>Last Updated</th>\n",
       "      <th>Current Ver</th>\n",
       "      <th>Android Ver</th>\n",
       "    </tr>\n",
       "  </thead>\n",
       "  <tbody>\n",
       "    <tr>\n",
       "      <th>0</th>\n",
       "      <td>Photo Editor &amp; Candy Camera &amp; Grid &amp; ScrapBook</td>\n",
       "      <td>ART_AND_DESIGN</td>\n",
       "      <td>4.1</td>\n",
       "      <td>159</td>\n",
       "      <td>19M</td>\n",
       "      <td>10,000+</td>\n",
       "      <td>Free</td>\n",
       "      <td>0</td>\n",
       "      <td>Everyone</td>\n",
       "      <td>Art &amp; Design</td>\n",
       "      <td>January 7, 2018</td>\n",
       "      <td>1.0.0</td>\n",
       "      <td>4.0.3 and up</td>\n",
       "    </tr>\n",
       "    <tr>\n",
       "      <th>1</th>\n",
       "      <td>Coloring book moana</td>\n",
       "      <td>ART_AND_DESIGN</td>\n",
       "      <td>3.9</td>\n",
       "      <td>967</td>\n",
       "      <td>14M</td>\n",
       "      <td>500,000+</td>\n",
       "      <td>Free</td>\n",
       "      <td>0</td>\n",
       "      <td>Everyone</td>\n",
       "      <td>Art &amp; Design;Pretend Play</td>\n",
       "      <td>January 15, 2018</td>\n",
       "      <td>2.0.0</td>\n",
       "      <td>4.0.3 and up</td>\n",
       "    </tr>\n",
       "    <tr>\n",
       "      <th>2</th>\n",
       "      <td>U Launcher Lite – FREE Live Cool Themes, Hide ...</td>\n",
       "      <td>ART_AND_DESIGN</td>\n",
       "      <td>4.7</td>\n",
       "      <td>87510</td>\n",
       "      <td>8.7M</td>\n",
       "      <td>5,000,000+</td>\n",
       "      <td>Free</td>\n",
       "      <td>0</td>\n",
       "      <td>Everyone</td>\n",
       "      <td>Art &amp; Design</td>\n",
       "      <td>August 1, 2018</td>\n",
       "      <td>1.2.4</td>\n",
       "      <td>4.0.3 and up</td>\n",
       "    </tr>\n",
       "    <tr>\n",
       "      <th>3</th>\n",
       "      <td>Sketch - Draw &amp; Paint</td>\n",
       "      <td>ART_AND_DESIGN</td>\n",
       "      <td>4.5</td>\n",
       "      <td>215644</td>\n",
       "      <td>25M</td>\n",
       "      <td>50,000,000+</td>\n",
       "      <td>Free</td>\n",
       "      <td>0</td>\n",
       "      <td>Teen</td>\n",
       "      <td>Art &amp; Design</td>\n",
       "      <td>June 8, 2018</td>\n",
       "      <td>Varies with device</td>\n",
       "      <td>4.2 and up</td>\n",
       "    </tr>\n",
       "    <tr>\n",
       "      <th>4</th>\n",
       "      <td>Pixel Draw - Number Art Coloring Book</td>\n",
       "      <td>ART_AND_DESIGN</td>\n",
       "      <td>4.3</td>\n",
       "      <td>967</td>\n",
       "      <td>2.8M</td>\n",
       "      <td>100,000+</td>\n",
       "      <td>Free</td>\n",
       "      <td>0</td>\n",
       "      <td>Everyone</td>\n",
       "      <td>Art &amp; Design;Creativity</td>\n",
       "      <td>June 20, 2018</td>\n",
       "      <td>1.1</td>\n",
       "      <td>4.4 and up</td>\n",
       "    </tr>\n",
       "  </tbody>\n",
       "</table>\n",
       "</div>"
      ],
      "text/plain": [
       "                                                 App        Category  Rating  \\\n",
       "0     Photo Editor & Candy Camera & Grid & ScrapBook  ART_AND_DESIGN     4.1   \n",
       "1                                Coloring book moana  ART_AND_DESIGN     3.9   \n",
       "2  U Launcher Lite – FREE Live Cool Themes, Hide ...  ART_AND_DESIGN     4.7   \n",
       "3                              Sketch - Draw & Paint  ART_AND_DESIGN     4.5   \n",
       "4              Pixel Draw - Number Art Coloring Book  ART_AND_DESIGN     4.3   \n",
       "\n",
       "  Reviews  Size     Installs  Type Price Content Rating  \\\n",
       "0     159   19M      10,000+  Free     0       Everyone   \n",
       "1     967   14M     500,000+  Free     0       Everyone   \n",
       "2   87510  8.7M   5,000,000+  Free     0       Everyone   \n",
       "3  215644   25M  50,000,000+  Free     0           Teen   \n",
       "4     967  2.8M     100,000+  Free     0       Everyone   \n",
       "\n",
       "                      Genres      Last Updated         Current Ver  \\\n",
       "0               Art & Design   January 7, 2018               1.0.0   \n",
       "1  Art & Design;Pretend Play  January 15, 2018               2.0.0   \n",
       "2               Art & Design    August 1, 2018               1.2.4   \n",
       "3               Art & Design      June 8, 2018  Varies with device   \n",
       "4    Art & Design;Creativity     June 20, 2018                 1.1   \n",
       "\n",
       "    Android Ver  \n",
       "0  4.0.3 and up  \n",
       "1  4.0.3 and up  \n",
       "2  4.0.3 and up  \n",
       "3    4.2 and up  \n",
       "4    4.4 and up  "
      ]
     },
     "execution_count": 9,
     "metadata": {},
     "output_type": "execute_result"
    }
   ],
   "source": [
    "df.head()"
   ]
  },
  {
   "cell_type": "code",
   "execution_count": 10,
   "id": "7c05347a",
   "metadata": {},
   "outputs": [
    {
     "name": "stdout",
     "output_type": "stream",
     "text": [
      "<class 'pandas.core.frame.DataFrame'>\n",
      "Int64Index: 9360 entries, 0 to 10840\n",
      "Data columns (total 13 columns):\n",
      " #   Column          Non-Null Count  Dtype  \n",
      "---  ------          --------------  -----  \n",
      " 0   App             9360 non-null   object \n",
      " 1   Category        9360 non-null   object \n",
      " 2   Rating          9360 non-null   float64\n",
      " 3   Reviews         9360 non-null   object \n",
      " 4   Size            9360 non-null   object \n",
      " 5   Installs        9360 non-null   object \n",
      " 6   Type            9360 non-null   object \n",
      " 7   Price           9360 non-null   object \n",
      " 8   Content Rating  9360 non-null   object \n",
      " 9   Genres          9360 non-null   object \n",
      " 10  Last Updated    9360 non-null   object \n",
      " 11  Current Ver     9360 non-null   object \n",
      " 12  Android Ver     9360 non-null   object \n",
      "dtypes: float64(1), object(12)\n",
      "memory usage: 1023.8+ KB\n"
     ]
    }
   ],
   "source": [
    "df.info()"
   ]
  },
  {
   "cell_type": "code",
   "execution_count": 11,
   "id": "86e259d7",
   "metadata": {},
   "outputs": [
    {
     "data": {
      "text/plain": [
       "array(['Free', 'Paid'], dtype=object)"
      ]
     },
     "execution_count": 11,
     "metadata": {},
     "output_type": "execute_result"
    }
   ],
   "source": [
    "# we can see that we have 2 values in type column (FREE & PAID)\n",
    "\n",
    "df.Type.unique()"
   ]
  },
  {
   "cell_type": "code",
   "execution_count": 12,
   "id": "90e4410d",
   "metadata": {},
   "outputs": [],
   "source": [
    "# this is a way to create and expand the column of type into \"free\" and \"paid\" columns\n",
    "# and the values it contains are of type bool\n",
    "\n",
    "for elem in df['Type'].unique():\n",
    "    df[str(elem)] = df['Type'] == elem"
   ]
  },
  {
   "cell_type": "markdown",
   "id": "827d2c4b",
   "metadata": {},
   "source": [
    "### Category"
   ]
  },
  {
   "cell_type": "code",
   "execution_count": 13,
   "id": "30973c9e",
   "metadata": {},
   "outputs": [
    {
     "data": {
      "text/plain": [
       "array(['ART_AND_DESIGN', 'AUTO_AND_VEHICLES', 'BEAUTY',\n",
       "       'BOOKS_AND_REFERENCE', 'BUSINESS', 'COMICS', 'COMMUNICATION',\n",
       "       'DATING', 'EDUCATION', 'ENTERTAINMENT', 'EVENTS', 'FINANCE',\n",
       "       'FOOD_AND_DRINK', 'HEALTH_AND_FITNESS', 'HOUSE_AND_HOME',\n",
       "       'LIBRARIES_AND_DEMO', 'LIFESTYLE', 'GAME', 'FAMILY', 'MEDICAL',\n",
       "       'SOCIAL', 'SHOPPING', 'PHOTOGRAPHY', 'SPORTS', 'TRAVEL_AND_LOCAL',\n",
       "       'TOOLS', 'PERSONALIZATION', 'PRODUCTIVITY', 'PARENTING', 'WEATHER',\n",
       "       'VIDEO_PLAYERS', 'NEWS_AND_MAGAZINES', 'MAPS_AND_NAVIGATION'],\n",
       "      dtype=object)"
      ]
     },
     "execution_count": 13,
     "metadata": {},
     "output_type": "execute_result"
    }
   ],
   "source": [
    "# we have 33 Categories in Category column\n",
    "\n",
    "df['Category'].unique()"
   ]
  },
  {
   "cell_type": "code",
   "execution_count": 14,
   "id": "51bc7c88",
   "metadata": {},
   "outputs": [],
   "source": [
    "# this is a way to create and expand the Category column as same as Type column like we did before\n",
    "\n",
    "for elem in df['Category'].unique():\n",
    "    df[str(elem)] = df['Category'] == elem"
   ]
  },
  {
   "cell_type": "code",
   "execution_count": 15,
   "id": "b8a24777",
   "metadata": {},
   "outputs": [
    {
     "data": {
      "text/plain": [
       "Index(['App', 'Category', 'Rating', 'Reviews', 'Size', 'Installs', 'Type',\n",
       "       'Price', 'Content Rating', 'Genres', 'Last Updated', 'Current Ver',\n",
       "       'Android Ver', 'Free', 'Paid', 'ART_AND_DESIGN', 'AUTO_AND_VEHICLES',\n",
       "       'BEAUTY', 'BOOKS_AND_REFERENCE', 'BUSINESS', 'COMICS', 'COMMUNICATION',\n",
       "       'DATING', 'EDUCATION', 'ENTERTAINMENT', 'EVENTS', 'FINANCE',\n",
       "       'FOOD_AND_DRINK', 'HEALTH_AND_FITNESS', 'HOUSE_AND_HOME',\n",
       "       'LIBRARIES_AND_DEMO', 'LIFESTYLE', 'GAME', 'FAMILY', 'MEDICAL',\n",
       "       'SOCIAL', 'SHOPPING', 'PHOTOGRAPHY', 'SPORTS', 'TRAVEL_AND_LOCAL',\n",
       "       'TOOLS', 'PERSONALIZATION', 'PRODUCTIVITY', 'PARENTING', 'WEATHER',\n",
       "       'VIDEO_PLAYERS', 'NEWS_AND_MAGAZINES', 'MAPS_AND_NAVIGATION'],\n",
       "      dtype='object')"
      ]
     },
     "execution_count": 15,
     "metadata": {},
     "output_type": "execute_result"
    }
   ],
   "source": [
    "df.columns"
   ]
  },
  {
   "cell_type": "markdown",
   "id": "f4249f32",
   "metadata": {},
   "source": [
    "### Content Rating "
   ]
  },
  {
   "cell_type": "code",
   "execution_count": 16,
   "id": "44f8aa54",
   "metadata": {},
   "outputs": [
    {
     "data": {
      "text/html": [
       "<div>\n",
       "<style scoped>\n",
       "    .dataframe tbody tr th:only-of-type {\n",
       "        vertical-align: middle;\n",
       "    }\n",
       "\n",
       "    .dataframe tbody tr th {\n",
       "        vertical-align: top;\n",
       "    }\n",
       "\n",
       "    .dataframe thead th {\n",
       "        text-align: right;\n",
       "    }\n",
       "</style>\n",
       "<table border=\"1\" class=\"dataframe\">\n",
       "  <thead>\n",
       "    <tr style=\"text-align: right;\">\n",
       "      <th></th>\n",
       "      <th>Content Rating</th>\n",
       "    </tr>\n",
       "  </thead>\n",
       "  <tbody>\n",
       "    <tr>\n",
       "      <th>0</th>\n",
       "      <td>Everyone</td>\n",
       "    </tr>\n",
       "    <tr>\n",
       "      <th>3</th>\n",
       "      <td>Teen</td>\n",
       "    </tr>\n",
       "    <tr>\n",
       "      <th>22</th>\n",
       "      <td>Everyone 10+</td>\n",
       "    </tr>\n",
       "    <tr>\n",
       "      <th>133</th>\n",
       "      <td>Mature 17+</td>\n",
       "    </tr>\n",
       "    <tr>\n",
       "      <th>298</th>\n",
       "      <td>Adults only 18+</td>\n",
       "    </tr>\n",
       "    <tr>\n",
       "      <th>8266</th>\n",
       "      <td>Unrated</td>\n",
       "    </tr>\n",
       "  </tbody>\n",
       "</table>\n",
       "</div>"
      ],
      "text/plain": [
       "       Content Rating\n",
       "0            Everyone\n",
       "3                Teen\n",
       "22       Everyone 10+\n",
       "133        Mature 17+\n",
       "298   Adults only 18+\n",
       "8266          Unrated"
      ]
     },
     "execution_count": 16,
     "metadata": {},
     "output_type": "execute_result"
    }
   ],
   "source": [
    "# we have 6 values in Content rating column\n",
    "# and this is another way to see in a different way, because I made this column first to distinct\n",
    "# the values in the dataframe, so we can see what values we got in Content Rating column here\n",
    "\n",
    "distinct_content_rating = df.drop_duplicates(['Content Rating'])\n",
    "# distinct_content_rating['Content Rating'].count()   #6\n",
    "pd.DataFrame(distinct_content_rating['Content Rating'])  "
   ]
  },
  {
   "cell_type": "code",
   "execution_count": 17,
   "id": "84b5e8e4",
   "metadata": {},
   "outputs": [
    {
     "data": {
      "text/html": [
       "<div>\n",
       "<style scoped>\n",
       "    .dataframe tbody tr th:only-of-type {\n",
       "        vertical-align: middle;\n",
       "    }\n",
       "\n",
       "    .dataframe tbody tr th {\n",
       "        vertical-align: top;\n",
       "    }\n",
       "\n",
       "    .dataframe thead th {\n",
       "        text-align: right;\n",
       "    }\n",
       "</style>\n",
       "<table border=\"1\" class=\"dataframe\">\n",
       "  <thead>\n",
       "    <tr style=\"text-align: right;\">\n",
       "      <th></th>\n",
       "      <th>App</th>\n",
       "      <th>Category</th>\n",
       "      <th>Rating</th>\n",
       "      <th>Reviews</th>\n",
       "      <th>Size</th>\n",
       "      <th>Installs</th>\n",
       "      <th>Type</th>\n",
       "      <th>Price</th>\n",
       "      <th>Content Rating</th>\n",
       "      <th>Genres</th>\n",
       "      <th>...</th>\n",
       "      <th>SPORTS</th>\n",
       "      <th>TRAVEL_AND_LOCAL</th>\n",
       "      <th>TOOLS</th>\n",
       "      <th>PERSONALIZATION</th>\n",
       "      <th>PRODUCTIVITY</th>\n",
       "      <th>PARENTING</th>\n",
       "      <th>WEATHER</th>\n",
       "      <th>VIDEO_PLAYERS</th>\n",
       "      <th>NEWS_AND_MAGAZINES</th>\n",
       "      <th>MAPS_AND_NAVIGATION</th>\n",
       "    </tr>\n",
       "  </thead>\n",
       "  <tbody>\n",
       "    <tr>\n",
       "      <th>0</th>\n",
       "      <td>Photo Editor &amp; Candy Camera &amp; Grid &amp; ScrapBook</td>\n",
       "      <td>ART_AND_DESIGN</td>\n",
       "      <td>4.1</td>\n",
       "      <td>159</td>\n",
       "      <td>19M</td>\n",
       "      <td>10,000+</td>\n",
       "      <td>Free</td>\n",
       "      <td>0</td>\n",
       "      <td>Everyone</td>\n",
       "      <td>Art &amp; Design</td>\n",
       "      <td>...</td>\n",
       "      <td>False</td>\n",
       "      <td>False</td>\n",
       "      <td>False</td>\n",
       "      <td>False</td>\n",
       "      <td>False</td>\n",
       "      <td>False</td>\n",
       "      <td>False</td>\n",
       "      <td>False</td>\n",
       "      <td>False</td>\n",
       "      <td>False</td>\n",
       "    </tr>\n",
       "    <tr>\n",
       "      <th>1</th>\n",
       "      <td>Coloring book moana</td>\n",
       "      <td>ART_AND_DESIGN</td>\n",
       "      <td>3.9</td>\n",
       "      <td>967</td>\n",
       "      <td>14M</td>\n",
       "      <td>500,000+</td>\n",
       "      <td>Free</td>\n",
       "      <td>0</td>\n",
       "      <td>Everyone</td>\n",
       "      <td>Art &amp; Design;Pretend Play</td>\n",
       "      <td>...</td>\n",
       "      <td>False</td>\n",
       "      <td>False</td>\n",
       "      <td>False</td>\n",
       "      <td>False</td>\n",
       "      <td>False</td>\n",
       "      <td>False</td>\n",
       "      <td>False</td>\n",
       "      <td>False</td>\n",
       "      <td>False</td>\n",
       "      <td>False</td>\n",
       "    </tr>\n",
       "    <tr>\n",
       "      <th>2</th>\n",
       "      <td>U Launcher Lite – FREE Live Cool Themes, Hide ...</td>\n",
       "      <td>ART_AND_DESIGN</td>\n",
       "      <td>4.7</td>\n",
       "      <td>87510</td>\n",
       "      <td>8.7M</td>\n",
       "      <td>5,000,000+</td>\n",
       "      <td>Free</td>\n",
       "      <td>0</td>\n",
       "      <td>Everyone</td>\n",
       "      <td>Art &amp; Design</td>\n",
       "      <td>...</td>\n",
       "      <td>False</td>\n",
       "      <td>False</td>\n",
       "      <td>False</td>\n",
       "      <td>False</td>\n",
       "      <td>False</td>\n",
       "      <td>False</td>\n",
       "      <td>False</td>\n",
       "      <td>False</td>\n",
       "      <td>False</td>\n",
       "      <td>False</td>\n",
       "    </tr>\n",
       "    <tr>\n",
       "      <th>3</th>\n",
       "      <td>Sketch - Draw &amp; Paint</td>\n",
       "      <td>ART_AND_DESIGN</td>\n",
       "      <td>4.5</td>\n",
       "      <td>215644</td>\n",
       "      <td>25M</td>\n",
       "      <td>50,000,000+</td>\n",
       "      <td>Free</td>\n",
       "      <td>0</td>\n",
       "      <td>Teen</td>\n",
       "      <td>Art &amp; Design</td>\n",
       "      <td>...</td>\n",
       "      <td>False</td>\n",
       "      <td>False</td>\n",
       "      <td>False</td>\n",
       "      <td>False</td>\n",
       "      <td>False</td>\n",
       "      <td>False</td>\n",
       "      <td>False</td>\n",
       "      <td>False</td>\n",
       "      <td>False</td>\n",
       "      <td>False</td>\n",
       "    </tr>\n",
       "    <tr>\n",
       "      <th>4</th>\n",
       "      <td>Pixel Draw - Number Art Coloring Book</td>\n",
       "      <td>ART_AND_DESIGN</td>\n",
       "      <td>4.3</td>\n",
       "      <td>967</td>\n",
       "      <td>2.8M</td>\n",
       "      <td>100,000+</td>\n",
       "      <td>Free</td>\n",
       "      <td>0</td>\n",
       "      <td>Everyone</td>\n",
       "      <td>Art &amp; Design;Creativity</td>\n",
       "      <td>...</td>\n",
       "      <td>False</td>\n",
       "      <td>False</td>\n",
       "      <td>False</td>\n",
       "      <td>False</td>\n",
       "      <td>False</td>\n",
       "      <td>False</td>\n",
       "      <td>False</td>\n",
       "      <td>False</td>\n",
       "      <td>False</td>\n",
       "      <td>False</td>\n",
       "    </tr>\n",
       "  </tbody>\n",
       "</table>\n",
       "<p>5 rows × 48 columns</p>\n",
       "</div>"
      ],
      "text/plain": [
       "                                                 App        Category  Rating  \\\n",
       "0     Photo Editor & Candy Camera & Grid & ScrapBook  ART_AND_DESIGN     4.1   \n",
       "1                                Coloring book moana  ART_AND_DESIGN     3.9   \n",
       "2  U Launcher Lite – FREE Live Cool Themes, Hide ...  ART_AND_DESIGN     4.7   \n",
       "3                              Sketch - Draw & Paint  ART_AND_DESIGN     4.5   \n",
       "4              Pixel Draw - Number Art Coloring Book  ART_AND_DESIGN     4.3   \n",
       "\n",
       "  Reviews  Size     Installs  Type Price Content Rating  \\\n",
       "0     159   19M      10,000+  Free     0       Everyone   \n",
       "1     967   14M     500,000+  Free     0       Everyone   \n",
       "2   87510  8.7M   5,000,000+  Free     0       Everyone   \n",
       "3  215644   25M  50,000,000+  Free     0           Teen   \n",
       "4     967  2.8M     100,000+  Free     0       Everyone   \n",
       "\n",
       "                      Genres  ... SPORTS TRAVEL_AND_LOCAL  TOOLS  \\\n",
       "0               Art & Design  ...  False            False  False   \n",
       "1  Art & Design;Pretend Play  ...  False            False  False   \n",
       "2               Art & Design  ...  False            False  False   \n",
       "3               Art & Design  ...  False            False  False   \n",
       "4    Art & Design;Creativity  ...  False            False  False   \n",
       "\n",
       "   PERSONALIZATION  PRODUCTIVITY  PARENTING  WEATHER  VIDEO_PLAYERS  \\\n",
       "0            False         False      False    False          False   \n",
       "1            False         False      False    False          False   \n",
       "2            False         False      False    False          False   \n",
       "3            False         False      False    False          False   \n",
       "4            False         False      False    False          False   \n",
       "\n",
       "   NEWS_AND_MAGAZINES  MAPS_AND_NAVIGATION  \n",
       "0               False                False  \n",
       "1               False                False  \n",
       "2               False                False  \n",
       "3               False                False  \n",
       "4               False                False  \n",
       "\n",
       "[5 rows x 48 columns]"
      ]
     },
     "execution_count": 17,
     "metadata": {},
     "output_type": "execute_result"
    }
   ],
   "source": [
    "df.head()"
   ]
  },
  {
   "cell_type": "markdown",
   "id": "d973724f",
   "metadata": {},
   "source": [
    "### Price"
   ]
  },
  {
   "cell_type": "code",
   "execution_count": 18,
   "id": "ef5b5149",
   "metadata": {},
   "outputs": [],
   "source": [
    "# this is a way to change the values in Price column, for example from \"$5\" become \"5\" \n",
    "\n",
    "df.Price = df.Price.apply(lambda x: x.replace('$', ''))\n",
    "df.Price = df.Price.astype('float')"
   ]
  },
  {
   "cell_type": "markdown",
   "id": "4eaba54f",
   "metadata": {},
   "source": [
    "### Reviews"
   ]
  },
  {
   "cell_type": "code",
   "execution_count": 19,
   "id": "e539b88b",
   "metadata": {},
   "outputs": [
    {
     "data": {
      "text/plain": [
       "0           159\n",
       "1           967\n",
       "2         87510\n",
       "3        215644\n",
       "4           967\n",
       "          ...  \n",
       "10834         7\n",
       "10836        38\n",
       "10837         4\n",
       "10839       114\n",
       "10840    398307\n",
       "Name: Reviews, Length: 9360, dtype: int32"
      ]
     },
     "execution_count": 19,
     "metadata": {},
     "output_type": "execute_result"
    }
   ],
   "source": [
    "# this is a way to change the type of Price column from object become int\n",
    "\n",
    "df.Reviews = df.Reviews.astype('int')\n",
    "df.Reviews"
   ]
  },
  {
   "cell_type": "markdown",
   "id": "234550e4",
   "metadata": {},
   "source": [
    "### Last Updated"
   ]
  },
  {
   "cell_type": "code",
   "execution_count": 20,
   "id": "1451fdd8",
   "metadata": {},
   "outputs": [
    {
     "data": {
      "text/plain": [
       "0       2018-01-07\n",
       "1       2018-01-15\n",
       "2       2018-08-01\n",
       "3       2018-06-08\n",
       "4       2018-06-20\n",
       "           ...    \n",
       "10834   2017-06-18\n",
       "10836   2017-07-25\n",
       "10837   2018-07-06\n",
       "10839   2015-01-19\n",
       "10840   2018-07-25\n",
       "Name: Last Updated, Length: 9360, dtype: datetime64[ns]"
      ]
     },
     "execution_count": 20,
     "metadata": {},
     "output_type": "execute_result"
    }
   ],
   "source": [
    "# This is a way to change the Last Updated column from object type become datetime type\n",
    "\n",
    "from datetime import datetime\n",
    "\n",
    "df['Last Updated'] = pd.to_datetime(df['Last Updated'])\n",
    "df['Last Updated']"
   ]
  },
  {
   "cell_type": "markdown",
   "id": "ccb63982",
   "metadata": {},
   "source": [
    "### Installs"
   ]
  },
  {
   "cell_type": "code",
   "execution_count": 21,
   "id": "43450597",
   "metadata": {},
   "outputs": [
    {
     "data": {
      "text/plain": [
       "array(['10,000+', '500,000+', '5,000,000+', '50,000,000+', '100,000+',\n",
       "       '50,000+', '1,000,000+', '10,000,000+', '5,000+', '100,000,000+',\n",
       "       '1,000,000,000+', '1,000+', '500,000,000+', '100+', '500+', '10+',\n",
       "       '5+', '50+', '1+'], dtype=object)"
      ]
     },
     "execution_count": 21,
     "metadata": {},
     "output_type": "execute_result"
    }
   ],
   "source": [
    "df['Installs'].unique()"
   ]
  },
  {
   "cell_type": "code",
   "execution_count": 22,
   "id": "aeee4206",
   "metadata": {},
   "outputs": [],
   "source": [
    "# this is a way to change the values in Installs column, for example from \"10,000+\" become \"10000\" \n",
    "\n",
    "df.Installs = df.Installs.apply(lambda x : x.replace(',', ''))\n",
    "df.Installs = df.Installs.apply(lambda x: x.replace('+', ''))\n",
    "df.Installs = df.Installs.apply(lambda x: int(x))"
   ]
  },
  {
   "cell_type": "code",
   "execution_count": 23,
   "id": "8957a183",
   "metadata": {},
   "outputs": [
    {
     "name": "stdout",
     "output_type": "stream",
     "text": [
      "<class 'pandas.core.series.Series'>\n",
      "Int64Index: 9360 entries, 0 to 10840\n",
      "Series name: Installs\n",
      "Non-Null Count  Dtype\n",
      "--------------  -----\n",
      "9360 non-null   int64\n",
      "dtypes: int64(1)\n",
      "memory usage: 146.2 KB\n"
     ]
    }
   ],
   "source": [
    "df.Installs.info()"
   ]
  },
  {
   "cell_type": "code",
   "execution_count": 24,
   "id": "a6933721",
   "metadata": {},
   "outputs": [
    {
     "data": {
      "text/plain": [
       "Index(['App', 'Category', 'Rating', 'Reviews', 'Size', 'Installs', 'Type',\n",
       "       'Price', 'Content Rating', 'Genres', 'Last Updated', 'Current Ver',\n",
       "       'Android Ver', 'Free', 'Paid', 'ART_AND_DESIGN', 'AUTO_AND_VEHICLES',\n",
       "       'BEAUTY', 'BOOKS_AND_REFERENCE', 'BUSINESS', 'COMICS', 'COMMUNICATION',\n",
       "       'DATING', 'EDUCATION', 'ENTERTAINMENT', 'EVENTS', 'FINANCE',\n",
       "       'FOOD_AND_DRINK', 'HEALTH_AND_FITNESS', 'HOUSE_AND_HOME',\n",
       "       'LIBRARIES_AND_DEMO', 'LIFESTYLE', 'GAME', 'FAMILY', 'MEDICAL',\n",
       "       'SOCIAL', 'SHOPPING', 'PHOTOGRAPHY', 'SPORTS', 'TRAVEL_AND_LOCAL',\n",
       "       'TOOLS', 'PERSONALIZATION', 'PRODUCTIVITY', 'PARENTING', 'WEATHER',\n",
       "       'VIDEO_PLAYERS', 'NEWS_AND_MAGAZINES', 'MAPS_AND_NAVIGATION'],\n",
       "      dtype='object')"
      ]
     },
     "execution_count": 24,
     "metadata": {},
     "output_type": "execute_result"
    }
   ],
   "source": [
    "# to check the entire of dataframe columns \n",
    "df.columns"
   ]
  },
  {
   "cell_type": "code",
   "execution_count": 25,
   "id": "72b8f789",
   "metadata": {},
   "outputs": [
    {
     "data": {
      "text/plain": [
       "App                          category\n",
       "Category                     category\n",
       "Rating                        float64\n",
       "Reviews                         int32\n",
       "Size                           object\n",
       "Installs                        int64\n",
       "Type                         category\n",
       "Price                         float64\n",
       "Content Rating               category\n",
       "Genres                       category\n",
       "Last Updated           datetime64[ns]\n",
       "Current Ver                    object\n",
       "Android Ver                    object\n",
       "Free                             bool\n",
       "Paid                             bool\n",
       "ART_AND_DESIGN                   bool\n",
       "AUTO_AND_VEHICLES                bool\n",
       "BEAUTY                           bool\n",
       "BOOKS_AND_REFERENCE              bool\n",
       "BUSINESS                         bool\n",
       "COMICS                           bool\n",
       "COMMUNICATION                    bool\n",
       "DATING                           bool\n",
       "EDUCATION                        bool\n",
       "ENTERTAINMENT                    bool\n",
       "EVENTS                           bool\n",
       "FINANCE                          bool\n",
       "FOOD_AND_DRINK                   bool\n",
       "HEALTH_AND_FITNESS               bool\n",
       "HOUSE_AND_HOME                   bool\n",
       "LIBRARIES_AND_DEMO               bool\n",
       "LIFESTYLE                        bool\n",
       "GAME                             bool\n",
       "FAMILY                           bool\n",
       "MEDICAL                          bool\n",
       "SOCIAL                           bool\n",
       "SHOPPING                         bool\n",
       "PHOTOGRAPHY                      bool\n",
       "SPORTS                           bool\n",
       "TRAVEL_AND_LOCAL                 bool\n",
       "TOOLS                            bool\n",
       "PERSONALIZATION                  bool\n",
       "PRODUCTIVITY                     bool\n",
       "PARENTING                        bool\n",
       "WEATHER                          bool\n",
       "VIDEO_PLAYERS                    bool\n",
       "NEWS_AND_MAGAZINES               bool\n",
       "MAPS_AND_NAVIGATION              bool\n",
       "dtype: object"
      ]
     },
     "execution_count": 25,
     "metadata": {},
     "output_type": "execute_result"
    }
   ],
   "source": [
    "# this is a way to change several columns from object types become a category type\n",
    "\n",
    "cat = ['App', 'Category', 'Type',\n",
    "       'Content Rating', 'Genres']\n",
    "\n",
    "for var in cat:\n",
    "    df[cat] = df[cat].astype('category')\n",
    "    \n",
    "df.dtypes"
   ]
  },
  {
   "cell_type": "markdown",
   "id": "d1ba7f9a",
   "metadata": {},
   "source": [
    "### Size"
   ]
  },
  {
   "cell_type": "code",
   "execution_count": 26,
   "id": "2ad36a6e",
   "metadata": {},
   "outputs": [
    {
     "name": "stdout",
     "output_type": "stream",
     "text": [
      "<class 'pandas.core.series.Series'>\n",
      "Int64Index: 9360 entries, 0 to 10840\n",
      "Series name: Size\n",
      "Non-Null Count  Dtype  \n",
      "--------------  -----  \n",
      "7723 non-null   float64\n",
      "dtypes: float64(1)\n",
      "memory usage: 146.2 KB\n"
     ]
    },
    {
     "data": {
      "text/plain": [
       "0        19.0\n",
       "1        14.0\n",
       "2         8.7\n",
       "3        25.0\n",
       "4         2.8\n",
       "         ... \n",
       "10834     2.6\n",
       "10836    53.0\n",
       "10837     3.6\n",
       "10839     NaN\n",
       "10840    19.0\n",
       "Name: Size, Length: 9360, dtype: float64"
      ]
     },
     "execution_count": 26,
     "metadata": {},
     "output_type": "execute_result"
    }
   ],
   "source": [
    "# this is a way to change the values in Size column, for example from \"15k\" become \"15\" \n",
    "# and we need to convert all the \"Variaes with device\" values to be a \"NaN\" value\n",
    "\n",
    "df.Size = df.Size.apply(lambda x : x.replace('M', ''))\n",
    "df.Size = df.Size.apply(lambda x : x.replace('k', ''))\n",
    "df.Size = df.Size.apply(lambda x: x.replace('Varies with device', 'NaN'))\n",
    "df.Size = df.Size.apply(lambda x: float(x))\n",
    "df.Size.info()\n",
    "\n",
    "df['Size']"
   ]
  },
  {
   "cell_type": "code",
   "execution_count": 27,
   "id": "faa0eaf1",
   "metadata": {},
   "outputs": [
    {
     "data": {
      "text/plain": [
       "0        19.0\n",
       "1        14.0\n",
       "2         8.7\n",
       "3        25.0\n",
       "4         2.8\n",
       "         ... \n",
       "10834     2.6\n",
       "10836    53.0\n",
       "10837     3.6\n",
       "10839     0.0\n",
       "10840    19.0\n",
       "Name: Size, Length: 9360, dtype: float64"
      ]
     },
     "execution_count": 27,
     "metadata": {},
     "output_type": "execute_result"
    }
   ],
   "source": [
    "# First of all, we need to find the mean of this column, and then keep the mean value \n",
    "# in \"meansize\" variable, finally fill or change all the \"NaN\" values become the mean value\n",
    "\n",
    "df['Size'].isna().sum()\n",
    "# df.Size.dropna()\n",
    "df.Size = df.Size.fillna(0)\n",
    "meansize = df.Size.mean()\n",
    "df.Size = df.Size.fillna(meansize)\n",
    "df.Size"
   ]
  },
  {
   "cell_type": "markdown",
   "id": "6f36e7c1",
   "metadata": {},
   "source": [
    "## 2. Data Visualization"
   ]
  },
  {
   "cell_type": "code",
   "execution_count": 28,
   "id": "ce7a1dfc",
   "metadata": {},
   "outputs": [
    {
     "data": {
      "text/html": [
       "<div>\n",
       "<style scoped>\n",
       "    .dataframe tbody tr th:only-of-type {\n",
       "        vertical-align: middle;\n",
       "    }\n",
       "\n",
       "    .dataframe tbody tr th {\n",
       "        vertical-align: top;\n",
       "    }\n",
       "\n",
       "    .dataframe thead th {\n",
       "        text-align: right;\n",
       "    }\n",
       "</style>\n",
       "<table border=\"1\" class=\"dataframe\">\n",
       "  <thead>\n",
       "    <tr style=\"text-align: right;\">\n",
       "      <th></th>\n",
       "      <th>App</th>\n",
       "      <th>Category</th>\n",
       "      <th>Rating</th>\n",
       "      <th>Reviews</th>\n",
       "      <th>Size</th>\n",
       "      <th>Installs</th>\n",
       "      <th>Type</th>\n",
       "      <th>Price</th>\n",
       "      <th>Content Rating</th>\n",
       "      <th>Genres</th>\n",
       "      <th>...</th>\n",
       "      <th>SPORTS</th>\n",
       "      <th>TRAVEL_AND_LOCAL</th>\n",
       "      <th>TOOLS</th>\n",
       "      <th>PERSONALIZATION</th>\n",
       "      <th>PRODUCTIVITY</th>\n",
       "      <th>PARENTING</th>\n",
       "      <th>WEATHER</th>\n",
       "      <th>VIDEO_PLAYERS</th>\n",
       "      <th>NEWS_AND_MAGAZINES</th>\n",
       "      <th>MAPS_AND_NAVIGATION</th>\n",
       "    </tr>\n",
       "  </thead>\n",
       "  <tbody>\n",
       "    <tr>\n",
       "      <th>0</th>\n",
       "      <td>Photo Editor &amp; Candy Camera &amp; Grid &amp; ScrapBook</td>\n",
       "      <td>ART_AND_DESIGN</td>\n",
       "      <td>4.1</td>\n",
       "      <td>159</td>\n",
       "      <td>19.0</td>\n",
       "      <td>10000</td>\n",
       "      <td>Free</td>\n",
       "      <td>0.0</td>\n",
       "      <td>Everyone</td>\n",
       "      <td>Art &amp; Design</td>\n",
       "      <td>...</td>\n",
       "      <td>False</td>\n",
       "      <td>False</td>\n",
       "      <td>False</td>\n",
       "      <td>False</td>\n",
       "      <td>False</td>\n",
       "      <td>False</td>\n",
       "      <td>False</td>\n",
       "      <td>False</td>\n",
       "      <td>False</td>\n",
       "      <td>False</td>\n",
       "    </tr>\n",
       "    <tr>\n",
       "      <th>1</th>\n",
       "      <td>Coloring book moana</td>\n",
       "      <td>ART_AND_DESIGN</td>\n",
       "      <td>3.9</td>\n",
       "      <td>967</td>\n",
       "      <td>14.0</td>\n",
       "      <td>500000</td>\n",
       "      <td>Free</td>\n",
       "      <td>0.0</td>\n",
       "      <td>Everyone</td>\n",
       "      <td>Art &amp; Design;Pretend Play</td>\n",
       "      <td>...</td>\n",
       "      <td>False</td>\n",
       "      <td>False</td>\n",
       "      <td>False</td>\n",
       "      <td>False</td>\n",
       "      <td>False</td>\n",
       "      <td>False</td>\n",
       "      <td>False</td>\n",
       "      <td>False</td>\n",
       "      <td>False</td>\n",
       "      <td>False</td>\n",
       "    </tr>\n",
       "    <tr>\n",
       "      <th>2</th>\n",
       "      <td>U Launcher Lite – FREE Live Cool Themes, Hide ...</td>\n",
       "      <td>ART_AND_DESIGN</td>\n",
       "      <td>4.7</td>\n",
       "      <td>87510</td>\n",
       "      <td>8.7</td>\n",
       "      <td>5000000</td>\n",
       "      <td>Free</td>\n",
       "      <td>0.0</td>\n",
       "      <td>Everyone</td>\n",
       "      <td>Art &amp; Design</td>\n",
       "      <td>...</td>\n",
       "      <td>False</td>\n",
       "      <td>False</td>\n",
       "      <td>False</td>\n",
       "      <td>False</td>\n",
       "      <td>False</td>\n",
       "      <td>False</td>\n",
       "      <td>False</td>\n",
       "      <td>False</td>\n",
       "      <td>False</td>\n",
       "      <td>False</td>\n",
       "    </tr>\n",
       "    <tr>\n",
       "      <th>3</th>\n",
       "      <td>Sketch - Draw &amp; Paint</td>\n",
       "      <td>ART_AND_DESIGN</td>\n",
       "      <td>4.5</td>\n",
       "      <td>215644</td>\n",
       "      <td>25.0</td>\n",
       "      <td>50000000</td>\n",
       "      <td>Free</td>\n",
       "      <td>0.0</td>\n",
       "      <td>Teen</td>\n",
       "      <td>Art &amp; Design</td>\n",
       "      <td>...</td>\n",
       "      <td>False</td>\n",
       "      <td>False</td>\n",
       "      <td>False</td>\n",
       "      <td>False</td>\n",
       "      <td>False</td>\n",
       "      <td>False</td>\n",
       "      <td>False</td>\n",
       "      <td>False</td>\n",
       "      <td>False</td>\n",
       "      <td>False</td>\n",
       "    </tr>\n",
       "    <tr>\n",
       "      <th>4</th>\n",
       "      <td>Pixel Draw - Number Art Coloring Book</td>\n",
       "      <td>ART_AND_DESIGN</td>\n",
       "      <td>4.3</td>\n",
       "      <td>967</td>\n",
       "      <td>2.8</td>\n",
       "      <td>100000</td>\n",
       "      <td>Free</td>\n",
       "      <td>0.0</td>\n",
       "      <td>Everyone</td>\n",
       "      <td>Art &amp; Design;Creativity</td>\n",
       "      <td>...</td>\n",
       "      <td>False</td>\n",
       "      <td>False</td>\n",
       "      <td>False</td>\n",
       "      <td>False</td>\n",
       "      <td>False</td>\n",
       "      <td>False</td>\n",
       "      <td>False</td>\n",
       "      <td>False</td>\n",
       "      <td>False</td>\n",
       "      <td>False</td>\n",
       "    </tr>\n",
       "  </tbody>\n",
       "</table>\n",
       "<p>5 rows × 46 columns</p>\n",
       "</div>"
      ],
      "text/plain": [
       "                                                 App        Category  Rating  \\\n",
       "0     Photo Editor & Candy Camera & Grid & ScrapBook  ART_AND_DESIGN     4.1   \n",
       "1                                Coloring book moana  ART_AND_DESIGN     3.9   \n",
       "2  U Launcher Lite – FREE Live Cool Themes, Hide ...  ART_AND_DESIGN     4.7   \n",
       "3                              Sketch - Draw & Paint  ART_AND_DESIGN     4.5   \n",
       "4              Pixel Draw - Number Art Coloring Book  ART_AND_DESIGN     4.3   \n",
       "\n",
       "   Reviews  Size  Installs  Type  Price Content Rating  \\\n",
       "0      159  19.0     10000  Free    0.0       Everyone   \n",
       "1      967  14.0    500000  Free    0.0       Everyone   \n",
       "2    87510   8.7   5000000  Free    0.0       Everyone   \n",
       "3   215644  25.0  50000000  Free    0.0           Teen   \n",
       "4      967   2.8    100000  Free    0.0       Everyone   \n",
       "\n",
       "                      Genres  ... SPORTS  TRAVEL_AND_LOCAL  TOOLS  \\\n",
       "0               Art & Design  ...  False             False  False   \n",
       "1  Art & Design;Pretend Play  ...  False             False  False   \n",
       "2               Art & Design  ...  False             False  False   \n",
       "3               Art & Design  ...  False             False  False   \n",
       "4    Art & Design;Creativity  ...  False             False  False   \n",
       "\n",
       "   PERSONALIZATION  PRODUCTIVITY  PARENTING  WEATHER  VIDEO_PLAYERS  \\\n",
       "0            False         False      False    False          False   \n",
       "1            False         False      False    False          False   \n",
       "2            False         False      False    False          False   \n",
       "3            False         False      False    False          False   \n",
       "4            False         False      False    False          False   \n",
       "\n",
       "   NEWS_AND_MAGAZINES  MAPS_AND_NAVIGATION  \n",
       "0               False                False  \n",
       "1               False                False  \n",
       "2               False                False  \n",
       "3               False                False  \n",
       "4               False                False  \n",
       "\n",
       "[5 rows x 46 columns]"
      ]
     },
     "execution_count": 28,
     "metadata": {},
     "output_type": "execute_result"
    }
   ],
   "source": [
    "# remove some columns that are not too important\n",
    "\n",
    "df = df.drop(['Current Ver', 'Android Ver'], axis=1)\n",
    "df.head()"
   ]
  },
  {
   "cell_type": "code",
   "execution_count": 29,
   "id": "08987dce",
   "metadata": {},
   "outputs": [
    {
     "data": {
      "text/html": [
       "<div>\n",
       "<style scoped>\n",
       "    .dataframe tbody tr th:only-of-type {\n",
       "        vertical-align: middle;\n",
       "    }\n",
       "\n",
       "    .dataframe tbody tr th {\n",
       "        vertical-align: top;\n",
       "    }\n",
       "\n",
       "    .dataframe thead th {\n",
       "        text-align: right;\n",
       "    }\n",
       "</style>\n",
       "<table border=\"1\" class=\"dataframe\">\n",
       "  <thead>\n",
       "    <tr style=\"text-align: right;\">\n",
       "      <th></th>\n",
       "      <th>App</th>\n",
       "      <th>Category</th>\n",
       "      <th>Rating</th>\n",
       "      <th>Reviews</th>\n",
       "      <th>Size</th>\n",
       "      <th>Installs</th>\n",
       "      <th>Type</th>\n",
       "      <th>Price</th>\n",
       "      <th>Content Rating</th>\n",
       "      <th>Genres</th>\n",
       "      <th>...</th>\n",
       "      <th>WEATHER</th>\n",
       "      <th>VIDEO_PLAYERS</th>\n",
       "      <th>NEWS_AND_MAGAZINES</th>\n",
       "      <th>MAPS_AND_NAVIGATION</th>\n",
       "      <th>Everyone</th>\n",
       "      <th>Teen</th>\n",
       "      <th>Everyone 10+</th>\n",
       "      <th>Mature 17+</th>\n",
       "      <th>Adults only 18+</th>\n",
       "      <th>Unrated</th>\n",
       "    </tr>\n",
       "  </thead>\n",
       "  <tbody>\n",
       "    <tr>\n",
       "      <th>0</th>\n",
       "      <td>Photo Editor &amp; Candy Camera &amp; Grid &amp; ScrapBook</td>\n",
       "      <td>ART_AND_DESIGN</td>\n",
       "      <td>4.1</td>\n",
       "      <td>159</td>\n",
       "      <td>19.0</td>\n",
       "      <td>10000</td>\n",
       "      <td>Free</td>\n",
       "      <td>0.0</td>\n",
       "      <td>Everyone</td>\n",
       "      <td>Art &amp; Design</td>\n",
       "      <td>...</td>\n",
       "      <td>False</td>\n",
       "      <td>False</td>\n",
       "      <td>False</td>\n",
       "      <td>False</td>\n",
       "      <td>True</td>\n",
       "      <td>False</td>\n",
       "      <td>False</td>\n",
       "      <td>False</td>\n",
       "      <td>False</td>\n",
       "      <td>False</td>\n",
       "    </tr>\n",
       "    <tr>\n",
       "      <th>1</th>\n",
       "      <td>Coloring book moana</td>\n",
       "      <td>ART_AND_DESIGN</td>\n",
       "      <td>3.9</td>\n",
       "      <td>967</td>\n",
       "      <td>14.0</td>\n",
       "      <td>500000</td>\n",
       "      <td>Free</td>\n",
       "      <td>0.0</td>\n",
       "      <td>Everyone</td>\n",
       "      <td>Art &amp; Design;Pretend Play</td>\n",
       "      <td>...</td>\n",
       "      <td>False</td>\n",
       "      <td>False</td>\n",
       "      <td>False</td>\n",
       "      <td>False</td>\n",
       "      <td>True</td>\n",
       "      <td>False</td>\n",
       "      <td>False</td>\n",
       "      <td>False</td>\n",
       "      <td>False</td>\n",
       "      <td>False</td>\n",
       "    </tr>\n",
       "    <tr>\n",
       "      <th>2</th>\n",
       "      <td>U Launcher Lite – FREE Live Cool Themes, Hide ...</td>\n",
       "      <td>ART_AND_DESIGN</td>\n",
       "      <td>4.7</td>\n",
       "      <td>87510</td>\n",
       "      <td>8.7</td>\n",
       "      <td>5000000</td>\n",
       "      <td>Free</td>\n",
       "      <td>0.0</td>\n",
       "      <td>Everyone</td>\n",
       "      <td>Art &amp; Design</td>\n",
       "      <td>...</td>\n",
       "      <td>False</td>\n",
       "      <td>False</td>\n",
       "      <td>False</td>\n",
       "      <td>False</td>\n",
       "      <td>True</td>\n",
       "      <td>False</td>\n",
       "      <td>False</td>\n",
       "      <td>False</td>\n",
       "      <td>False</td>\n",
       "      <td>False</td>\n",
       "    </tr>\n",
       "    <tr>\n",
       "      <th>3</th>\n",
       "      <td>Sketch - Draw &amp; Paint</td>\n",
       "      <td>ART_AND_DESIGN</td>\n",
       "      <td>4.5</td>\n",
       "      <td>215644</td>\n",
       "      <td>25.0</td>\n",
       "      <td>50000000</td>\n",
       "      <td>Free</td>\n",
       "      <td>0.0</td>\n",
       "      <td>Teen</td>\n",
       "      <td>Art &amp; Design</td>\n",
       "      <td>...</td>\n",
       "      <td>False</td>\n",
       "      <td>False</td>\n",
       "      <td>False</td>\n",
       "      <td>False</td>\n",
       "      <td>False</td>\n",
       "      <td>True</td>\n",
       "      <td>False</td>\n",
       "      <td>False</td>\n",
       "      <td>False</td>\n",
       "      <td>False</td>\n",
       "    </tr>\n",
       "    <tr>\n",
       "      <th>4</th>\n",
       "      <td>Pixel Draw - Number Art Coloring Book</td>\n",
       "      <td>ART_AND_DESIGN</td>\n",
       "      <td>4.3</td>\n",
       "      <td>967</td>\n",
       "      <td>2.8</td>\n",
       "      <td>100000</td>\n",
       "      <td>Free</td>\n",
       "      <td>0.0</td>\n",
       "      <td>Everyone</td>\n",
       "      <td>Art &amp; Design;Creativity</td>\n",
       "      <td>...</td>\n",
       "      <td>False</td>\n",
       "      <td>False</td>\n",
       "      <td>False</td>\n",
       "      <td>False</td>\n",
       "      <td>True</td>\n",
       "      <td>False</td>\n",
       "      <td>False</td>\n",
       "      <td>False</td>\n",
       "      <td>False</td>\n",
       "      <td>False</td>\n",
       "    </tr>\n",
       "  </tbody>\n",
       "</table>\n",
       "<p>5 rows × 52 columns</p>\n",
       "</div>"
      ],
      "text/plain": [
       "                                                 App        Category  Rating  \\\n",
       "0     Photo Editor & Candy Camera & Grid & ScrapBook  ART_AND_DESIGN     4.1   \n",
       "1                                Coloring book moana  ART_AND_DESIGN     3.9   \n",
       "2  U Launcher Lite – FREE Live Cool Themes, Hide ...  ART_AND_DESIGN     4.7   \n",
       "3                              Sketch - Draw & Paint  ART_AND_DESIGN     4.5   \n",
       "4              Pixel Draw - Number Art Coloring Book  ART_AND_DESIGN     4.3   \n",
       "\n",
       "   Reviews  Size  Installs  Type  Price Content Rating  \\\n",
       "0      159  19.0     10000  Free    0.0       Everyone   \n",
       "1      967  14.0    500000  Free    0.0       Everyone   \n",
       "2    87510   8.7   5000000  Free    0.0       Everyone   \n",
       "3   215644  25.0  50000000  Free    0.0           Teen   \n",
       "4      967   2.8    100000  Free    0.0       Everyone   \n",
       "\n",
       "                      Genres  ... WEATHER  VIDEO_PLAYERS  NEWS_AND_MAGAZINES  \\\n",
       "0               Art & Design  ...   False          False               False   \n",
       "1  Art & Design;Pretend Play  ...   False          False               False   \n",
       "2               Art & Design  ...   False          False               False   \n",
       "3               Art & Design  ...   False          False               False   \n",
       "4    Art & Design;Creativity  ...   False          False               False   \n",
       "\n",
       "   MAPS_AND_NAVIGATION  Everyone   Teen  Everyone 10+  Mature 17+  \\\n",
       "0                False      True  False         False       False   \n",
       "1                False      True  False         False       False   \n",
       "2                False      True  False         False       False   \n",
       "3                False     False   True         False       False   \n",
       "4                False      True  False         False       False   \n",
       "\n",
       "   Adults only 18+  Unrated  \n",
       "0            False    False  \n",
       "1            False    False  \n",
       "2            False    False  \n",
       "3            False    False  \n",
       "4            False    False  \n",
       "\n",
       "[5 rows x 52 columns]"
      ]
     },
     "execution_count": 29,
     "metadata": {},
     "output_type": "execute_result"
    }
   ],
   "source": [
    "# this is a way to create and expand the Content Rating column,\n",
    "# and this method is the same as some columns like we did before\n",
    "\n",
    "for elem in df['Content Rating'].unique():\n",
    "    df[str(elem)] = df['Content Rating'] == elem\n",
    "df.head()"
   ]
  },
  {
   "cell_type": "code",
   "execution_count": 30,
   "id": "4537c1e5",
   "metadata": {},
   "outputs": [
    {
     "name": "stdout",
     "output_type": "stream",
     "text": [
      "<class 'pandas.core.frame.DataFrame'>\n",
      "Int64Index: 9360 entries, 0 to 10840\n",
      "Data columns (total 52 columns):\n",
      " #   Column               Non-Null Count  Dtype         \n",
      "---  ------               --------------  -----         \n",
      " 0   App                  9360 non-null   category      \n",
      " 1   Category             9360 non-null   category      \n",
      " 2   Rating               9360 non-null   float64       \n",
      " 3   Reviews              9360 non-null   int32         \n",
      " 4   Size                 9360 non-null   float64       \n",
      " 5   Installs             9360 non-null   int64         \n",
      " 6   Type                 9360 non-null   category      \n",
      " 7   Price                9360 non-null   float64       \n",
      " 8   Content Rating       9360 non-null   category      \n",
      " 9   Genres               9360 non-null   category      \n",
      " 10  Last Updated         9360 non-null   datetime64[ns]\n",
      " 11  Free                 9360 non-null   bool          \n",
      " 12  Paid                 9360 non-null   bool          \n",
      " 13  ART_AND_DESIGN       9360 non-null   bool          \n",
      " 14  AUTO_AND_VEHICLES    9360 non-null   bool          \n",
      " 15  BEAUTY               9360 non-null   bool          \n",
      " 16  BOOKS_AND_REFERENCE  9360 non-null   bool          \n",
      " 17  BUSINESS             9360 non-null   bool          \n",
      " 18  COMICS               9360 non-null   bool          \n",
      " 19  COMMUNICATION        9360 non-null   bool          \n",
      " 20  DATING               9360 non-null   bool          \n",
      " 21  EDUCATION            9360 non-null   bool          \n",
      " 22  ENTERTAINMENT        9360 non-null   bool          \n",
      " 23  EVENTS               9360 non-null   bool          \n",
      " 24  FINANCE              9360 non-null   bool          \n",
      " 25  FOOD_AND_DRINK       9360 non-null   bool          \n",
      " 26  HEALTH_AND_FITNESS   9360 non-null   bool          \n",
      " 27  HOUSE_AND_HOME       9360 non-null   bool          \n",
      " 28  LIBRARIES_AND_DEMO   9360 non-null   bool          \n",
      " 29  LIFESTYLE            9360 non-null   bool          \n",
      " 30  GAME                 9360 non-null   bool          \n",
      " 31  FAMILY               9360 non-null   bool          \n",
      " 32  MEDICAL              9360 non-null   bool          \n",
      " 33  SOCIAL               9360 non-null   bool          \n",
      " 34  SHOPPING             9360 non-null   bool          \n",
      " 35  PHOTOGRAPHY          9360 non-null   bool          \n",
      " 36  SPORTS               9360 non-null   bool          \n",
      " 37  TRAVEL_AND_LOCAL     9360 non-null   bool          \n",
      " 38  TOOLS                9360 non-null   bool          \n",
      " 39  PERSONALIZATION      9360 non-null   bool          \n",
      " 40  PRODUCTIVITY         9360 non-null   bool          \n",
      " 41  PARENTING            9360 non-null   bool          \n",
      " 42  WEATHER              9360 non-null   bool          \n",
      " 43  VIDEO_PLAYERS        9360 non-null   bool          \n",
      " 44  NEWS_AND_MAGAZINES   9360 non-null   bool          \n",
      " 45  MAPS_AND_NAVIGATION  9360 non-null   bool          \n",
      " 46  Everyone             9360 non-null   bool          \n",
      " 47  Teen                 9360 non-null   bool          \n",
      " 48  Everyone 10+         9360 non-null   bool          \n",
      " 49  Mature 17+           9360 non-null   bool          \n",
      " 50  Adults only 18+      9360 non-null   bool          \n",
      " 51  Unrated              9360 non-null   bool          \n",
      "dtypes: bool(41), category(5), datetime64[ns](1), float64(3), int32(1), int64(1)\n",
      "memory usage: 1.2 MB\n"
     ]
    }
   ],
   "source": [
    "# let's see the temporary of our dataframe info \n",
    "df.info()"
   ]
  },
  {
   "cell_type": "code",
   "execution_count": 31,
   "id": "85188d8a",
   "metadata": {},
   "outputs": [
    {
     "data": {
      "text/plain": [
       "Text(0.5, 1.0, 'Type (paid or free) across rating')"
      ]
     },
     "execution_count": 31,
     "metadata": {},
     "output_type": "execute_result"
    },
    {
     "data": {
      "image/png": "[encoded data removed]",
      "text/plain": [
       "<Figure size 640x480 with 1 Axes>"
      ]
     },
     "metadata": {},
     "output_type": "display_data"
    }
   ],
   "source": [
    "# Visualization of Type \"paid or free\" across Rating\n",
    "# the \"free\" Type has the most Rating than the \"paid\"\n",
    "\n",
    "tipe_rating = df.groupby(['Type']).sum()['Rating']\n",
    "tipe_rating.plot(kind='barh')\n",
    "plt.ylabel('Type')\n",
    "plt.xlabel('Rating')\n",
    "plt.title('Type (paid or free) across Rating')"
   ]
  },
  {
   "cell_type": "code",
   "execution_count": 32,
   "id": "f098474e",
   "metadata": {},
   "outputs": [
    {
     "data": {
      "text/plain": [
       "Text(0.5, 1.0, 'Type (paid or free) across Installers')"
      ]
     },
     "execution_count": 32,
     "metadata": {},
     "output_type": "execute_result"
    },
    {
     "data": {
      "image/png": "[encoded data removed]",
      "text/plain": [
       "<Figure size 640x480 with 1 Axes>"
      ]
     },
     "metadata": {},
     "output_type": "display_data"
    }
   ],
   "source": [
    "# Visualization of Type \"paid or free\" across Installers\n",
    "# the \"free\" Type has the most installers than the \"paid\"\n",
    "\n",
    "tipe_install = df.groupby(['Type']).sum()['Installs']\n",
    "tipe_install.plot(kind='barh')\n",
    "plt.ylabel('Type')\n",
    "plt.xlabel('Installers')\n",
    "plt.title('Type (paid or free) across Installs')\n"
   ]
  },
  {
   "cell_type": "code",
   "execution_count": 33,
   "id": "78b5485e",
   "metadata": {},
   "outputs": [
    {
     "data": {
      "text/plain": [
       "Text(0.5, 1.0, 'type (paid or free) across rating')"
      ]
     },
     "execution_count": 33,
     "metadata": {},
     "output_type": "execute_result"
    },
    {
     "data": {
      "image/png": "[encoded data removed]",
      "text/plain": [
       "<Figure size 640x480 with 1 Axes>"
      ]
     },
     "metadata": {},
     "output_type": "display_data"
    }
   ],
   "source": [
    "# typereviews = df.groupby(['Type']).sum()['Reviews']\n",
    "plt.scatter(df['Type'], df['Rating'])\n",
    "plt.xlabel('Type')\n",
    "plt.ylabel('Reviewers')\n",
    "plt.title('type (paid or free) across rating')"
   ]
  },
  {
   "cell_type": "code",
   "execution_count": 34,
   "id": "9e82822b",
   "metadata": {},
   "outputs": [
    {
     "data": {
      "text/plain": [
       "Text(0.5, 1.0, 'Category across reviewers')"
      ]
     },
     "execution_count": 34,
     "metadata": {},
     "output_type": "execute_result"
    },
    {
     "data": {
      "image/png": "[encoded data removed]",
      "text/plain": [
       "<Figure size 640x480 with 1 Axes>"
      ]
     },
     "metadata": {},
     "output_type": "display_data"
    }
   ],
   "source": [
    "# Visualization of the Category column across Reviews\n",
    "\n",
    "plt.scatter(df['Reviews'], df['Category'])\n",
    "plt.xlabel('Reviews')\n",
    "plt.ylabel('Category')\n",
    "plt.title('Category across reviewers')"
   ]
  },
  {
   "cell_type": "code",
   "execution_count": 35,
   "id": "a65111f5",
   "metadata": {},
   "outputs": [
    {
     "data": {
      "text/plain": [
       "Text(0.5, 1.0, 'Category across total Rating')"
      ]
     },
     "execution_count": 35,
     "metadata": {},
     "output_type": "execute_result"
    },
    {
     "data": {
      "image/png": "[encoded data removed]",
      "text/plain": [
       "<Figure size 640x480 with 1 Axes>"
      ]
     },
     "metadata": {},
     "output_type": "display_data"
    }
   ],
   "source": [
    "# Visualization of the Category column across Rating\n",
    "# as we can see that family, game and tools had ranked as the most Rating than others\n",
    "\n",
    "category_rating = df.groupby(['Category']).sum()['Rating'].sort_values(ascending=True)\n",
    "category_rating.plot(kind='barh')\n",
    "plt.ylabel('Category')\n",
    "plt.title('Category across total Rating')"
   ]
  },
  {
   "cell_type": "code",
   "execution_count": 36,
   "id": "c35baa75",
   "metadata": {},
   "outputs": [
    {
     "data": {
      "text/plain": [
       "Text(0.5, 1.0, 'Category across total of Installers')"
      ]
     },
     "execution_count": 36,
     "metadata": {},
     "output_type": "execute_result"
    },
    {
     "data": {
      "image/png": "[encoded data removed]",
      "text/plain": [
       "<Figure size 640x480 with 1 Axes>"
      ]
     },
     "metadata": {},
     "output_type": "display_data"
    }
   ],
   "source": [
    "# визуализация category mana yg install nya tinggi\n",
    "\n",
    "category_installs = df.groupby(['Category']).sum()['Installs'].sort_values(ascending=True)\n",
    "category_installs.plot(kind='barh')\n",
    "plt.ylabel('Category')\n",
    "plt.xlabel('amount of Installers')\n",
    "plt.title('Category across total of Installers')"
   ]
  },
  {
   "cell_type": "code",
   "execution_count": 40,
   "id": "bbe7e8c5",
   "metadata": {},
   "outputs": [
    {
     "data": {
      "text/plain": [
       "Text(0.5, 1.0, 'Rating across Reviews')"
      ]
     },
     "execution_count": 40,
     "metadata": {},
     "output_type": "execute_result"
    },
    {
     "data": {
      "image/png": "[encoded data removed]",
      "text/plain": [
       "<Figure size 640x480 with 1 Axes>"
      ]
     },
     "metadata": {},
     "output_type": "display_data"
    }
   ],
   "source": [
    "plt.scatter(df['Rating'], df['Reviews'])\n",
    "plt.xlabel('Rating')\n",
    "plt.ylabel('Reviews')\n",
    "plt.title('Rating across Reviews')"
   ]
  },
  {
   "cell_type": "code",
   "execution_count": 41,
   "id": "39593831",
   "metadata": {},
   "outputs": [
    {
     "data": {
      "text/plain": [
       "Text(0.5, 1.0, 'Installs across reviews')"
      ]
     },
     "execution_count": 41,
     "metadata": {},
     "output_type": "execute_result"
    },
    {
     "data": {
      "image/png": "[encoded data removed]",
      "text/plain": [
       "<Figure size 640x480 with 1 Axes>"
      ]
     },
     "metadata": {},
     "output_type": "display_data"
    }
   ],
   "source": [
    "plt.scatter(df['Installs'], df['Reviews'])\n",
    "plt.xlabel('Installs')\n",
    "plt.ylabel('Reviews')\n",
    "plt.title('Installs across reviews')"
   ]
  },
  {
   "cell_type": "code",
   "execution_count": 38,
   "id": "34d0a127",
   "metadata": {},
   "outputs": [
    {
     "data": {
      "text/plain": [
       "<AxesSubplot:>"
      ]
     },
     "execution_count": 38,
     "metadata": {},
     "output_type": "execute_result"
    },
    {
     "data": {
      "image/png": "[encoded data removed]",
      "text/plain": [
       "<Figure size 2000x1000 with 2 Axes>"
      ]
     },
     "metadata": {},
     "output_type": "display_data"
    }
   ],
   "source": [
    "# df.head()\n",
    "corrMatt = df[[\"Rating\",\"Reviews\",\"Size\",\"Installs\",\"Price\", 'Type']].corr()\n",
    "mask = np.array(corrMatt)\n",
    "mask[np.tril_indices_from(mask)] = False\n",
    "fig,ax= plt.subplots()\n",
    "fig.set_size_inches(20,10)\n",
    "sn.heatmap(corrMatt, mask=mask,vmax=.8, square=True,annot=True)"
   ]
  },
  {
   "cell_type": "markdown",
   "id": "549f0d43",
   "metadata": {},
   "source": [
    "## 3. Feature Engineering"
   ]
  },
  {
   "cell_type": "markdown",
   "id": "1a82b831",
   "metadata": {},
   "source": [
    "### Build the model of machine learning\n",
    "\n",
    "Here are below what methods that I used as the model:\n",
    "- Linear Regression;\n",
    "- KNN Neighbors Regressor;\n",
    "- Gradient Boosting Regressor;\n",
    "- Decision Tree;\n",
    "- Neural Network MLPRegressor;\n",
    "- and Tensorflow & Keras in my VSCode"
   ]
  },
  {
   "cell_type": "code",
   "execution_count": 42,
   "id": "5d253f20",
   "metadata": {},
   "outputs": [
    {
     "data": {
      "text/html": [
       "<div>\n",
       "<style scoped>\n",
       "    .dataframe tbody tr th:only-of-type {\n",
       "        vertical-align: middle;\n",
       "    }\n",
       "\n",
       "    .dataframe tbody tr th {\n",
       "        vertical-align: top;\n",
       "    }\n",
       "\n",
       "    .dataframe thead th {\n",
       "        text-align: right;\n",
       "    }\n",
       "</style>\n",
       "<table border=\"1\" class=\"dataframe\">\n",
       "  <thead>\n",
       "    <tr style=\"text-align: right;\">\n",
       "      <th></th>\n",
       "      <th>App</th>\n",
       "      <th>Category</th>\n",
       "      <th>Rating</th>\n",
       "      <th>Reviews</th>\n",
       "      <th>Size</th>\n",
       "      <th>Installs</th>\n",
       "      <th>Type</th>\n",
       "      <th>Price</th>\n",
       "      <th>Content Rating</th>\n",
       "      <th>Genres</th>\n",
       "      <th>...</th>\n",
       "      <th>WEATHER</th>\n",
       "      <th>VIDEO_PLAYERS</th>\n",
       "      <th>NEWS_AND_MAGAZINES</th>\n",
       "      <th>MAPS_AND_NAVIGATION</th>\n",
       "      <th>Everyone</th>\n",
       "      <th>Teen</th>\n",
       "      <th>Everyone 10+</th>\n",
       "      <th>Mature 17+</th>\n",
       "      <th>Adults only 18+</th>\n",
       "      <th>Unrated</th>\n",
       "    </tr>\n",
       "  </thead>\n",
       "  <tbody>\n",
       "    <tr>\n",
       "      <th>0</th>\n",
       "      <td>Photo Editor &amp; Candy Camera &amp; Grid &amp; ScrapBook</td>\n",
       "      <td>ART_AND_DESIGN</td>\n",
       "      <td>4.1</td>\n",
       "      <td>159</td>\n",
       "      <td>19.0</td>\n",
       "      <td>10000</td>\n",
       "      <td>Free</td>\n",
       "      <td>0.0</td>\n",
       "      <td>Everyone</td>\n",
       "      <td>Art &amp; Design</td>\n",
       "      <td>...</td>\n",
       "      <td>False</td>\n",
       "      <td>False</td>\n",
       "      <td>False</td>\n",
       "      <td>False</td>\n",
       "      <td>True</td>\n",
       "      <td>False</td>\n",
       "      <td>False</td>\n",
       "      <td>False</td>\n",
       "      <td>False</td>\n",
       "      <td>False</td>\n",
       "    </tr>\n",
       "    <tr>\n",
       "      <th>1</th>\n",
       "      <td>Coloring book moana</td>\n",
       "      <td>ART_AND_DESIGN</td>\n",
       "      <td>3.9</td>\n",
       "      <td>967</td>\n",
       "      <td>14.0</td>\n",
       "      <td>500000</td>\n",
       "      <td>Free</td>\n",
       "      <td>0.0</td>\n",
       "      <td>Everyone</td>\n",
       "      <td>Art &amp; Design;Pretend Play</td>\n",
       "      <td>...</td>\n",
       "      <td>False</td>\n",
       "      <td>False</td>\n",
       "      <td>False</td>\n",
       "      <td>False</td>\n",
       "      <td>True</td>\n",
       "      <td>False</td>\n",
       "      <td>False</td>\n",
       "      <td>False</td>\n",
       "      <td>False</td>\n",
       "      <td>False</td>\n",
       "    </tr>\n",
       "    <tr>\n",
       "      <th>2</th>\n",
       "      <td>U Launcher Lite – FREE Live Cool Themes, Hide ...</td>\n",
       "      <td>ART_AND_DESIGN</td>\n",
       "      <td>4.7</td>\n",
       "      <td>87510</td>\n",
       "      <td>8.7</td>\n",
       "      <td>5000000</td>\n",
       "      <td>Free</td>\n",
       "      <td>0.0</td>\n",
       "      <td>Everyone</td>\n",
       "      <td>Art &amp; Design</td>\n",
       "      <td>...</td>\n",
       "      <td>False</td>\n",
       "      <td>False</td>\n",
       "      <td>False</td>\n",
       "      <td>False</td>\n",
       "      <td>True</td>\n",
       "      <td>False</td>\n",
       "      <td>False</td>\n",
       "      <td>False</td>\n",
       "      <td>False</td>\n",
       "      <td>False</td>\n",
       "    </tr>\n",
       "    <tr>\n",
       "      <th>3</th>\n",
       "      <td>Sketch - Draw &amp; Paint</td>\n",
       "      <td>ART_AND_DESIGN</td>\n",
       "      <td>4.5</td>\n",
       "      <td>215644</td>\n",
       "      <td>25.0</td>\n",
       "      <td>50000000</td>\n",
       "      <td>Free</td>\n",
       "      <td>0.0</td>\n",
       "      <td>Teen</td>\n",
       "      <td>Art &amp; Design</td>\n",
       "      <td>...</td>\n",
       "      <td>False</td>\n",
       "      <td>False</td>\n",
       "      <td>False</td>\n",
       "      <td>False</td>\n",
       "      <td>False</td>\n",
       "      <td>True</td>\n",
       "      <td>False</td>\n",
       "      <td>False</td>\n",
       "      <td>False</td>\n",
       "      <td>False</td>\n",
       "    </tr>\n",
       "    <tr>\n",
       "      <th>4</th>\n",
       "      <td>Pixel Draw - Number Art Coloring Book</td>\n",
       "      <td>ART_AND_DESIGN</td>\n",
       "      <td>4.3</td>\n",
       "      <td>967</td>\n",
       "      <td>2.8</td>\n",
       "      <td>100000</td>\n",
       "      <td>Free</td>\n",
       "      <td>0.0</td>\n",
       "      <td>Everyone</td>\n",
       "      <td>Art &amp; Design;Creativity</td>\n",
       "      <td>...</td>\n",
       "      <td>False</td>\n",
       "      <td>False</td>\n",
       "      <td>False</td>\n",
       "      <td>False</td>\n",
       "      <td>True</td>\n",
       "      <td>False</td>\n",
       "      <td>False</td>\n",
       "      <td>False</td>\n",
       "      <td>False</td>\n",
       "      <td>False</td>\n",
       "    </tr>\n",
       "  </tbody>\n",
       "</table>\n",
       "<p>5 rows × 52 columns</p>\n",
       "</div>"
      ],
      "text/plain": [
       "                                                 App        Category  Rating  \\\n",
       "0     Photo Editor & Candy Camera & Grid & ScrapBook  ART_AND_DESIGN     4.1   \n",
       "1                                Coloring book moana  ART_AND_DESIGN     3.9   \n",
       "2  U Launcher Lite – FREE Live Cool Themes, Hide ...  ART_AND_DESIGN     4.7   \n",
       "3                              Sketch - Draw & Paint  ART_AND_DESIGN     4.5   \n",
       "4              Pixel Draw - Number Art Coloring Book  ART_AND_DESIGN     4.3   \n",
       "\n",
       "   Reviews  Size  Installs  Type  Price Content Rating  \\\n",
       "0      159  19.0     10000  Free    0.0       Everyone   \n",
       "1      967  14.0    500000  Free    0.0       Everyone   \n",
       "2    87510   8.7   5000000  Free    0.0       Everyone   \n",
       "3   215644  25.0  50000000  Free    0.0           Teen   \n",
       "4      967   2.8    100000  Free    0.0       Everyone   \n",
       "\n",
       "                      Genres  ... WEATHER  VIDEO_PLAYERS  NEWS_AND_MAGAZINES  \\\n",
       "0               Art & Design  ...   False          False               False   \n",
       "1  Art & Design;Pretend Play  ...   False          False               False   \n",
       "2               Art & Design  ...   False          False               False   \n",
       "3               Art & Design  ...   False          False               False   \n",
       "4    Art & Design;Creativity  ...   False          False               False   \n",
       "\n",
       "   MAPS_AND_NAVIGATION  Everyone   Teen  Everyone 10+  Mature 17+  \\\n",
       "0                False      True  False         False       False   \n",
       "1                False      True  False         False       False   \n",
       "2                False      True  False         False       False   \n",
       "3                False     False   True         False       False   \n",
       "4                False      True  False         False       False   \n",
       "\n",
       "   Adults only 18+  Unrated  \n",
       "0            False    False  \n",
       "1            False    False  \n",
       "2            False    False  \n",
       "3            False    False  \n",
       "4            False    False  \n",
       "\n",
       "[5 rows x 52 columns]"
      ]
     },
     "execution_count": 42,
     "metadata": {},
     "output_type": "execute_result"
    }
   ],
   "source": [
    "df.head()"
   ]
  },
  {
   "cell_type": "code",
   "execution_count": 43,
   "id": "acdc9117",
   "metadata": {},
   "outputs": [],
   "source": [
    "col = df[['Reviews', 'Size','Rating', 'Price', 'Everyone', 'Teen', 'Everyone 10+', \"Mature 17+\",'Adults only 18+',\n",
    "        'Unrated', 'ART_AND_DESIGN', 'AUTO_AND_VEHICLES', 'BEAUTY', 'BOOKS_AND_REFERENCE',\n",
    "        'BUSINESS', 'COMICS', 'COMMUNICATION', 'DATING', 'EDUCATION', 'ENTERTAINMENT', 'EVENTS', \n",
    "        'FINANCE', 'FOOD_AND_DRINK', 'HEALTH_AND_FITNESS', 'HOUSE_AND_HOME', 'LIBRARIES_AND_DEMO',\n",
    "        'LIFESTYLE', 'GAME', 'FAMILY', 'MEDICAL', 'SOCIAL', 'SHOPPING', 'PHOTOGRAPHY', 'SPORTS',\n",
    "        'TRAVEL_AND_LOCAL', 'TOOLS', 'PERSONALIZATION', 'PRODUCTIVITY', 'PARENTING', 'WEATHER', \n",
    "        'VIDEO_PLAYERS', 'NEWS_AND_MAGAZINES', 'MAPS_AND_NAVIGATION', 'Free', 'Paid']]\n",
    "\n",
    "X = col.values\n",
    "y = df['Installs'].values"
   ]
  },
  {
   "cell_type": "code",
   "execution_count": 44,
   "id": "d4c0f4da",
   "metadata": {},
   "outputs": [
    {
     "name": "stdout",
     "output_type": "stream",
     "text": [
      "banyak column X adalah 51\n"
     ]
    }
   ],
   "source": [
    "dfinfo = df.columns\n",
    "dfinfo = list(dfinfo)\n",
    "res = len(dfinfo) - 1\n",
    "print('banyak column X adalah', res)"
   ]
  },
  {
   "cell_type": "code",
   "execution_count": 45,
   "id": "9a6f5a5b",
   "metadata": {},
   "outputs": [],
   "source": [
    "from sklearn.model_selection import train_test_split\n",
    "\n",
    "X_train, X_test, y_train, y_test = train_test_split(X, y , test_size=0.3, random_state=101)"
   ]
  },
  {
   "cell_type": "markdown",
   "id": "51033070",
   "metadata": {},
   "source": [
    "## Linear Regression"
   ]
  },
  {
   "cell_type": "code",
   "execution_count": 46,
   "id": "4aad8d44",
   "metadata": {},
   "outputs": [
    {
     "name": "stderr",
     "output_type": "stream",
     "text": [
      "C:\\Users\\RAFLY AULYA RIZKY N\\anaconda3\\lib\\site-packages\\sklearn\\linear_model\\_base.py:141: FutureWarning: 'normalize' was deprecated in version 1.0 and will be removed in 1.2.\n",
      "If you wish to scale the data, use Pipeline with a StandardScaler in a preprocessing stage. To reproduce the previous behavior:\n",
      "\n",
      "from sklearn.pipeline import make_pipeline\n",
      "\n",
      "model = make_pipeline(StandardScaler(with_mean=False), LinearRegression())\n",
      "\n",
      "If you wish to pass a sample_weight parameter, you need to pass it as a fit parameter to each step of the pipeline as follows:\n",
      "\n",
      "kwargs = {s[0] + '__sample_weight': sample_weight for s in model.steps}\n",
      "model.fit(X, y, **kwargs)\n",
      "\n",
      "\n",
      "  warnings.warn(\n"
     ]
    },
    {
     "data": {
      "text/plain": [
       "LinearRegression(normalize=True)"
      ]
     },
     "execution_count": 46,
     "metadata": {},
     "output_type": "execute_result"
    }
   ],
   "source": [
    "import sklearn.linear_model as lm\n",
    "\n",
    "model = lm.LinearRegression(normalize=True)\n",
    "model.fit(X_train, y_train)\n",
    "\n",
    "# print(model.coef_, model.intercept_)"
   ]
  },
  {
   "cell_type": "code",
   "execution_count": 47,
   "id": "92d982bc",
   "metadata": {},
   "outputs": [
    {
     "data": {
      "text/plain": [
       "array([ 1.73429688e+01, -2.05406934e+04,  2.37462512e+06,  1.57912435e+04,\n",
       "       -2.68884422e+19, -2.68884422e+19, -2.68884422e+19, -2.68884422e+19,\n",
       "       -2.68884422e+19, -2.68884422e+19, -1.80816375e+20, -1.80816375e+20,\n",
       "       -1.80816375e+20, -1.80816375e+20, -1.80816375e+20, -1.80816375e+20,\n",
       "       -1.80816375e+20, -1.80816375e+20, -1.80816375e+20, -1.80816375e+20,\n",
       "       -1.80816375e+20, -1.80816375e+20, -1.80816375e+20, -1.80816375e+20,\n",
       "       -1.80816375e+20, -1.80816375e+20, -1.80816375e+20, -1.80816375e+20,\n",
       "       -1.80816375e+20, -1.80816375e+20, -1.80816375e+20, -1.80816375e+20,\n",
       "       -1.80816375e+20, -1.80816375e+20, -1.80816375e+20, -1.80816375e+20,\n",
       "       -1.80816375e+20, -1.80816375e+20, -1.80816375e+20, -1.80816375e+20,\n",
       "       -1.80816375e+20, -1.80816375e+20, -1.80816375e+20, -4.96278161e+18,\n",
       "       -4.96278161e+18])"
      ]
     },
     "execution_count": 47,
     "metadata": {},
     "output_type": "execute_result"
    }
   ],
   "source": [
    "coef = model.coef_\n",
    "coef"
   ]
  },
  {
   "cell_type": "code",
   "execution_count": 48,
   "id": "c1197cce",
   "metadata": {},
   "outputs": [
    {
     "data": {
      "text/plain": [
       "2.1266759867689547e+20"
      ]
     },
     "execution_count": 48,
     "metadata": {},
     "output_type": "execute_result"
    }
   ],
   "source": [
    "model.intercept_"
   ]
  },
  {
   "cell_type": "code",
   "execution_count": 49,
   "id": "dc1a3a43",
   "metadata": {},
   "outputs": [
    {
     "data": {
      "text/plain": [
       "0.48245183799074687"
      ]
     },
     "execution_count": 49,
     "metadata": {},
     "output_type": "execute_result"
    }
   ],
   "source": [
    "model.score(X_train, y_train)"
   ]
  },
  {
   "cell_type": "code",
   "execution_count": 50,
   "id": "baaa2c79",
   "metadata": {},
   "outputs": [
    {
     "data": {
      "text/plain": [
       "0.3116243882009615"
      ]
     },
     "execution_count": 50,
     "metadata": {},
     "output_type": "execute_result"
    }
   ],
   "source": [
    "model.score(X_test, y_test)"
   ]
  },
  {
   "cell_type": "code",
   "execution_count": 51,
   "id": "31072e31",
   "metadata": {},
   "outputs": [
    {
     "data": {
      "image/png": "[encoded data removed]",
      "text/plain": [
       "<Figure size 640x480 with 1 Axes>"
      ]
     },
     "metadata": {},
     "output_type": "display_data"
    }
   ],
   "source": [
    "pred = model.predict(X_test)\n",
    "plt.scatter(y_test, pred)\n",
    "plt.show()"
   ]
  },
  {
   "cell_type": "markdown",
   "id": "bf98d6b8",
   "metadata": {},
   "source": [
    "### KNeighbors Regressor"
   ]
  },
  {
   "cell_type": "code",
   "execution_count": 52,
   "id": "ccf43f90",
   "metadata": {},
   "outputs": [
    {
     "data": {
      "text/plain": [
       "KNeighborsRegressor()"
      ]
     },
     "execution_count": 52,
     "metadata": {},
     "output_type": "execute_result"
    }
   ],
   "source": [
    "from sklearn.neighbors import KNeighborsRegressor\n",
    "from sklearn.pipeline import Pipeline\n",
    "\n",
    "knn = KNeighborsRegressor(n_neighbors=5)\n",
    "knn.fit(X_train, y_train)"
   ]
  },
  {
   "cell_type": "code",
   "execution_count": 53,
   "id": "0ac78cdb",
   "metadata": {},
   "outputs": [],
   "source": [
    "y_pred = knn.predict(X_test)"
   ]
  },
  {
   "cell_type": "code",
   "execution_count": 54,
   "id": "2b306cc0",
   "metadata": {},
   "outputs": [
    {
     "data": {
      "text/plain": [
       "0.782653985218802"
      ]
     },
     "execution_count": 54,
     "metadata": {},
     "output_type": "execute_result"
    }
   ],
   "source": [
    "knn.score(X_train, y_train)"
   ]
  },
  {
   "cell_type": "code",
   "execution_count": 55,
   "id": "77b62e49",
   "metadata": {},
   "outputs": [
    {
     "data": {
      "text/plain": [
       "0.5673784087092171"
      ]
     },
     "execution_count": 55,
     "metadata": {},
     "output_type": "execute_result"
    }
   ],
   "source": [
    "knn.score(X_test, y_test)"
   ]
  },
  {
   "cell_type": "code",
   "execution_count": 56,
   "id": "cdfa21e8",
   "metadata": {},
   "outputs": [
    {
     "data": {
      "image/png": "[encoded data removed]",
      "text/plain": [
       "<Figure size 640x480 with 1 Axes>"
      ]
     },
     "metadata": {},
     "output_type": "display_data"
    }
   ],
   "source": [
    "plt.scatter(y_test, y_pred)\n",
    "plt.show()"
   ]
  },
  {
   "cell_type": "markdown",
   "id": "919c0ba0",
   "metadata": {},
   "source": [
    "### Gradient Boosting Regressor"
   ]
  },
  {
   "cell_type": "code",
   "execution_count": 108,
   "id": "a8262e41",
   "metadata": {},
   "outputs": [
    {
     "data": {
      "text/plain": [
       "GradientBoostingRegressor(random_state=7)"
      ]
     },
     "execution_count": 108,
     "metadata": {},
     "output_type": "execute_result"
    }
   ],
   "source": [
    "from sklearn.datasets import make_regression\n",
    "from sklearn.ensemble import GradientBoostingRegressor\n",
    "# from sklearn.model_selection import \n",
    "\n",
    "reg = GradientBoostingRegressor(random_state=7)\n",
    "reg.fit(X_train, y_train)"
   ]
  },
  {
   "cell_type": "code",
   "execution_count": 109,
   "id": "27cf6716",
   "metadata": {},
   "outputs": [
    {
     "data": {
      "text/plain": [
       "array([5.69148791e+05, 1.85854182e+08, 1.23823773e+08, ...,\n",
       "       1.83624109e+07, 7.96461818e+06, 4.07949625e+07])"
      ]
     },
     "execution_count": 109,
     "metadata": {},
     "output_type": "execute_result"
    }
   ],
   "source": [
    "reg.predict(X_test)"
   ]
  },
  {
   "cell_type": "code",
   "execution_count": 110,
   "id": "2a50b214",
   "metadata": {},
   "outputs": [
    {
     "data": {
      "text/plain": [
       "0.926807531475143"
      ]
     },
     "execution_count": 110,
     "metadata": {},
     "output_type": "execute_result"
    }
   ],
   "source": [
    "reg.score(X_train, y_train)"
   ]
  },
  {
   "cell_type": "code",
   "execution_count": 111,
   "id": "1d8f0b8c",
   "metadata": {},
   "outputs": [
    {
     "data": {
      "text/plain": [
       "0.7930100484222306"
      ]
     },
     "execution_count": 111,
     "metadata": {},
     "output_type": "execute_result"
    }
   ],
   "source": [
    "reg.score(X_test, y_test)"
   ]
  },
  {
   "cell_type": "markdown",
   "id": "ff079768",
   "metadata": {},
   "source": [
    "### Decision Tree"
   ]
  },
  {
   "cell_type": "code",
   "execution_count": 82,
   "id": "33b5989a",
   "metadata": {},
   "outputs": [],
   "source": [
    "from sklearn import tree\n",
    "\n",
    "dct = tree.DecisionTreeRegressor(max_depth=7, min_samples_leaf=3) # 7\n",
    "dct = dct.fit(X_train, y_train)\n"
   ]
  },
  {
   "cell_type": "code",
   "execution_count": 83,
   "id": "2bfca904",
   "metadata": {},
   "outputs": [],
   "source": [
    "y_pred2 = dct.predict(X_test)\n",
    "# y_pred2"
   ]
  },
  {
   "cell_type": "code",
   "execution_count": 84,
   "id": "d4ac1b27",
   "metadata": {},
   "outputs": [
    {
     "data": {
      "text/plain": [
       "0.8659029079961243"
      ]
     },
     "execution_count": 84,
     "metadata": {},
     "output_type": "execute_result"
    }
   ],
   "source": [
    "dct.score(X_train, y_train)"
   ]
  },
  {
   "cell_type": "code",
   "execution_count": 85,
   "id": "9aebafb2",
   "metadata": {},
   "outputs": [
    {
     "data": {
      "text/plain": [
       "0.7294187913865353"
      ]
     },
     "execution_count": 85,
     "metadata": {},
     "output_type": "execute_result"
    }
   ],
   "source": [
    "dct.score(X_test, y_test)"
   ]
  },
  {
   "cell_type": "code",
   "execution_count": 86,
   "id": "cf7c225e",
   "metadata": {},
   "outputs": [
    {
     "name": "stdout",
     "output_type": "stream",
     "text": [
      "accuracy: 0.7294187913865353\n"
     ]
    }
   ],
   "source": [
    "from sklearn.metrics import r2_score\n",
    "\n",
    "r2score = r2_score(y_test, y_pred2)\n",
    "print('accuracy:', r2score)"
   ]
  },
  {
   "cell_type": "code",
   "execution_count": 66,
   "id": "88d6d5fe",
   "metadata": {},
   "outputs": [
    {
     "data": {
      "text/plain": [
       "array([7.41342467e-01, 3.82041034e-02, 1.14944462e-01, 4.74567653e-08,\n",
       "       7.69466402e-04, 3.92184896e-02, 1.50759795e-02, 0.00000000e+00,\n",
       "       0.00000000e+00, 0.00000000e+00, 9.51642792e-06, 0.00000000e+00,\n",
       "       0.00000000e+00, 0.00000000e+00, 3.87121898e-05, 0.00000000e+00,\n",
       "       2.87010351e-02, 0.00000000e+00, 0.00000000e+00, 0.00000000e+00,\n",
       "       0.00000000e+00, 4.41135289e-04, 0.00000000e+00, 0.00000000e+00,\n",
       "       0.00000000e+00, 0.00000000e+00, 2.46942559e-07, 0.00000000e+00,\n",
       "       1.36899341e-06, 0.00000000e+00, 0.00000000e+00, 1.06326608e-04,\n",
       "       0.00000000e+00, 0.00000000e+00, 3.09680594e-05, 6.22956589e-05,\n",
       "       0.00000000e+00, 1.70724027e-02, 0.00000000e+00, 0.00000000e+00,\n",
       "       3.98096712e-03, 0.00000000e+00, 0.00000000e+00, 0.00000000e+00,\n",
       "       9.45921100e-09])"
      ]
     },
     "execution_count": 66,
     "metadata": {},
     "output_type": "execute_result"
    }
   ],
   "source": [
    "dct.feature_importances_"
   ]
  },
  {
   "cell_type": "code",
   "execution_count": 87,
   "id": "2bc931d7",
   "metadata": {},
   "outputs": [
    {
     "data": {
      "text/plain": [
       "[Text(0.6882440476190477, 0.9375, 'X[0] <= 7920916.0\\nsquared_error = 8231322094259795.0\\nsamples = 6552\\nvalue = 17636531.127'),\n",
       " Text(0.4419642857142857, 0.8125, 'X[0] <= 854932.0\\nsquared_error = 3381834929926886.5\\nsamples = 6472\\nvalue = 11272334.972'),\n",
       " Text(0.29910714285714285, 0.6875, 'X[0] <= 282047.5\\nsquared_error = 165610377363420.38\\nsamples = 6011\\nvalue = 3275586.748'),\n",
       " Text(0.1875, 0.5625, 'X[0] <= 37326.5\\nsquared_error = 30452876943005.598\\nsamples = 5585\\nvalue = 1883894.708'),\n",
       " Text(0.09523809523809523, 0.4375, 'X[0] <= 8201.0\\nsquared_error = 8263204997992.547\\nsamples = 4411\\nvalue = 562015.856'),\n",
       " Text(0.047619047619047616, 0.3125, 'X[0] <= 2073.5\\nsquared_error = 254310735013.471\\nsamples = 3469\\nvalue = 143655.792'),\n",
       " Text(0.023809523809523808, 0.1875, 'X[0] <= 355.5\\nsquared_error = 46996053528.201\\nsamples = 2782\\nvalue = 45011.482'),\n",
       " Text(0.011904761904761904, 0.0625, 'squared_error = 52487646729.88\\nsamples = 1950\\nvalue = 16220.483'),\n",
       " Text(0.03571428571428571, 0.0625, 'squared_error = 27628944619.083\\nsamples = 832\\nvalue = 112490.385'),\n",
       " Text(0.07142857142857142, 0.1875, 'X[2] <= 3.95\\nsquared_error = 894857545728.639\\nsamples = 687\\nvalue = 543114.993'),\n",
       " Text(0.05952380952380952, 0.0625, 'squared_error = 2531073661724.762\\nsamples = 188\\nvalue = 901861.702'),\n",
       " Text(0.08333333333333333, 0.0625, 'squared_error = 211651533126.373\\nsamples = 499\\nvalue = 407955.912'),\n",
       " Text(0.14285714285714285, 0.3125, 'X[35] <= 0.5\\nsquared_error = 34738536530780.992\\nsamples = 942\\nvalue = 2102664.544'),\n",
       " Text(0.11904761904761904, 0.1875, 'X[2] <= 4.05\\nsquared_error = 11920577964746.9\\nsamples = 880\\nvalue = 1778534.091'),\n",
       " Text(0.10714285714285714, 0.0625, 'squared_error = 25391963060208.242\\nsamples = 235\\nvalue = 2641702.128'),\n",
       " Text(0.13095238095238096, 0.0625, 'squared_error = 6642040835045.971\\nsamples = 645\\nvalue = 1464046.512'),\n",
       " Text(0.16666666666666666, 0.1875, 'X[0] <= 9659.0\\nsquared_error = 335949989594172.75\\nsamples = 62\\nvalue = 6703225.806'),\n",
       " Text(0.15476190476190477, 0.0625, 'squared_error = 2178000000000000.0\\nsamples = 3\\nvalue = 34000000.0'),\n",
       " Text(0.17857142857142858, 0.0625, 'squared_error = 202472818155702.38\\nsamples = 59\\nvalue = 5315254.237'),\n",
       " Text(0.27976190476190477, 0.4375, 'X[0] <= 118362.0\\nsquared_error = 82592261237950.75\\nsamples = 1174\\nvalue = 6850511.073'),\n",
       " Text(0.23809523809523808, 0.3125, 'X[40] <= 0.5\\nsquared_error = 88536864991228.72\\nsamples = 723\\nvalue = 5417704.011'),\n",
       " Text(0.21428571428571427, 0.1875, 'X[35] <= 0.5\\nsquared_error = 64534569104279.76\\nsamples = 712\\nvalue = 5153089.888'),\n",
       " Text(0.20238095238095238, 0.0625, 'squared_error = 35050775126106.836\\nsamples = 664\\nvalue = 4743825.301'),\n",
       " Text(0.2261904761904762, 0.0625, 'squared_error = 438024162326388.9\\nsamples = 48\\nvalue = 10814583.333'),\n",
       " Text(0.2619047619047619, 0.1875, 'X[1] <= 2.7\\nsquared_error = 1344247933884297.5\\nsamples = 11\\nvalue = 22545454.545'),\n",
       " Text(0.25, 0.0625, 'squared_error = 1800000000000000.0\\nsamples = 3\\nvalue = 70000000.0'),\n",
       " Text(0.27380952380952384, 0.0625, 'squared_error = 12187500000000.0\\nsamples = 8\\nvalue = 4750000.0'),\n",
       " Text(0.32142857142857145, 0.3125, 'X[14] <= 0.5\\nsquared_error = 64495442500282.69\\nsamples = 451\\nvalue = 9147450.111'),\n",
       " Text(0.30952380952380953, 0.1875, 'X[40] <= 0.5\\nsquared_error = 57661079299804.94\\nsamples = 446\\nvalue = 8969730.942'),\n",
       " Text(0.2976190476190476, 0.0625, 'squared_error = 40139810868904.3\\nsamples = 433\\nvalue = 8742494.226'),\n",
       " Text(0.32142857142857145, 0.0625, 'squared_error = 582248520710059.1\\nsamples = 13\\nvalue = 16538461.538'),\n",
       " Text(0.3333333333333333, 0.1875, 'squared_error = 420000000000000.0\\nsamples = 5\\nvalue = 25000000.0'),\n",
       " Text(0.4107142857142857, 0.5625, 'X[0] <= 283742.5\\nsquared_error = 1579277722674039.0\\nsamples = 426\\nvalue = 21521126.761'),\n",
       " Text(0.39880952380952384, 0.4375, 'squared_error = 5.335555555555555e+16\\nsamples = 3\\nvalue = 173333333.333'),\n",
       " Text(0.4226190476190476, 0.4375, 'X[37] <= 0.5\\nsquared_error = 1047457315471500.0\\nsamples = 423\\nvalue = 20444444.444'),\n",
       " Text(0.38095238095238093, 0.3125, 'X[2] <= 4.35\\nsquared_error = 958005514165277.9\\nsamples = 404\\nvalue = 18757425.743'),\n",
       " Text(0.35714285714285715, 0.1875, 'X[0] <= 480073.5\\nsquared_error = 1973485858896754.5\\nsamples = 171\\nvalue = 26725146.199'),\n",
       " Text(0.34523809523809523, 0.0625, 'squared_error = 436851832569762.7\\nsamples = 98\\nvalue = 17602040.816'),\n",
       " Text(0.36904761904761907, 0.0625, 'squared_error = 3774629386376431.0\\nsamples = 73\\nvalue = 38972602.74'),\n",
       " Text(0.40476190476190477, 0.1875, 'X[0] <= 468173.0\\nsquared_error = 131953250198014.31\\nsamples = 233\\nvalue = 12909871.245'),\n",
       " Text(0.39285714285714285, 0.0625, 'squared_error = 4413660581710.188\\nsamples = 107\\nvalue = 9186915.888'),\n",
       " Text(0.4166666666666667, 0.0625, 'squared_error = 218494897959183.72\\nsamples = 126\\nvalue = 16071428.571'),\n",
       " Text(0.4642857142857143, 0.3125, 'X[0] <= 634266.5\\nsquared_error = 1602216066481994.5\\nsamples = 19\\nvalue = 56315789.474'),\n",
       " Text(0.4523809523809524, 0.1875, 'X[2] <= 4.45\\nsquared_error = 1054437869822485.2\\nsamples = 13\\nvalue = 36153846.154'),\n",
       " Text(0.44047619047619047, 0.0625, 'squared_error = 1218750000000000.0\\nsamples = 8\\nvalue = 47500000.0'),\n",
       " Text(0.4642857142857143, 0.0625, 'squared_error = 256000000000000.0\\nsamples = 5\\nvalue = 18000000.0'),\n",
       " Text(0.47619047619047616, 0.1875, 'squared_error = 0.0\\nsamples = 6\\nvalue = 100000000.0'),\n",
       " Text(0.5848214285714286, 0.6875, 'X[2] <= 4.05\\nsquared_error = 3.361228725631693e+16\\nsamples = 461\\nvalue = 115542299.349'),\n",
       " Text(0.5357142857142857, 0.5625, 'X[5] <= 0.5\\nsquared_error = 2.175909722222222e+17\\nsamples = 12\\nvalue = 534166666.667'),\n",
       " Text(0.5238095238095238, 0.4375, 'X[16] <= 0.5\\nsquared_error = 1.936765432098765e+17\\nsamples = 9\\nvalue = 378888888.889'),\n",
       " Text(0.5119047619047619, 0.3125, 'X[2] <= 3.95\\nsquared_error = 1180555555555556.0\\nsamples = 6\\nvalue = 68333333.333'),\n",
       " Text(0.5, 0.1875, 'squared_error = 555555555555555.94\\nsamples = 3\\nvalue = 83333333.333'),\n",
       " Text(0.5238095238095238, 0.1875, 'squared_error = 1355555555555555.5\\nsamples = 3\\nvalue = 53333333.333'),\n",
       " Text(0.5357142857142857, 0.3125, 'squared_error = 0.0\\nsamples = 3\\nvalue = 1000000000.0'),\n",
       " Text(0.5476190476190477, 0.4375, 'squared_error = 0.0\\nsamples = 3\\nvalue = 1000000000.0'),\n",
       " Text(0.6339285714285714, 0.5625, 'X[0] <= 1855746.5\\nsquared_error = 2.3886442527566824e+16\\nsamples = 449\\nvalue = 104354120.267'),\n",
       " Text(0.5714285714285714, 0.4375, 'X[0] <= 859154.0\\nsquared_error = 3963081467172795.0\\nsamples = 211\\nvalue = 57701421.801'),\n",
       " Text(0.5595238095238095, 0.3125, 'squared_error = 4.36e+16\\nsamples = 5\\nvalue = 330000000.0'),\n",
       " Text(0.5833333333333334, 0.3125, 'X[2] <= 4.65\\nsquared_error = 1157666250353473.0\\nsamples = 206\\nvalue = 51092233.01'),\n",
       " Text(0.5595238095238095, 0.1875, 'X[5] <= 0.5\\nsquared_error = 1132305531616074.5\\nsamples = 177\\nvalue = 54802259.887'),\n",
       " Text(0.5476190476190477, 0.0625, 'squared_error = 1126463433569691.5\\nsamples = 139\\nvalue = 60935251.799'),\n",
       " Text(0.5714285714285714, 0.0625, 'squared_error = 512811634349030.5\\nsamples = 38\\nvalue = 32368421.053'),\n",
       " Text(0.6071428571428571, 0.1875, 'X[0] <= 1516966.0\\nsquared_error = 715695600475624.2\\nsamples = 29\\nvalue = 28448275.862'),\n",
       " Text(0.5952380952380952, 0.0625, 'squared_error = 199773242630385.53\\nsamples = 21\\nvalue = 15476190.476'),\n",
       " Text(0.6190476190476191, 0.0625, 'squared_error = 468750000000000.0\\nsamples = 8\\nvalue = 62500000.0'),\n",
       " Text(0.6964285714285714, 0.4375, 'X[2] <= 4.25\\nsquared_error = 3.79093637454982e+16\\nsamples = 238\\nvalue = 145714285.714'),\n",
       " Text(0.6666666666666666, 0.3125, 'X[0] <= 4876495.5\\nsquared_error = 1.6913580246913584e+17\\nsamples = 9\\nvalue = 444444444.444'),\n",
       " Text(0.6547619047619048, 0.1875, 'X[0] <= 3816206.5\\nsquared_error = 1.6472222222222227e+17\\nsamples = 6\\nvalue = 616666666.667'),\n",
       " Text(0.6428571428571429, 0.0625, 'squared_error = 1.3555555555555558e+17\\nsamples = 3\\nvalue = 533333333.333'),\n",
       " Text(0.6666666666666666, 0.0625, 'squared_error = 1.8e+17\\nsamples = 3\\nvalue = 700000000.0'),\n",
       " Text(0.6785714285714286, 0.1875, 'squared_error = 0.0\\nsamples = 3\\nvalue = 100000000.0'),\n",
       " Text(0.7261904761904762, 0.3125, 'X[37] <= 0.5\\nsquared_error = 2.9106916344081924e+16\\nsamples = 229\\nvalue = 133973799.127'),\n",
       " Text(0.7023809523809523, 0.1875, 'X[2] <= 4.35\\nsquared_error = 1.845538474975981e+16\\nsamples = 214\\nvalue = 118130841.121'),\n",
       " Text(0.6904761904761905, 0.0625, 'squared_error = 8.135275754422477e+16\\nsamples = 31\\nvalue = 233870967.742'),\n",
       " Text(0.7142857142857143, 0.0625, 'squared_error = 5147003493684494.0\\nsamples = 183\\nvalue = 98524590.164'),\n",
       " Text(0.75, 0.1875, 'X[0] <= 2872879.5\\nsquared_error = 1.264e+17\\nsamples = 15\\nvalue = 360000000.0'),\n",
       " Text(0.7380952380952381, 0.0625, 'squared_error = 1.2609375000000002e+17\\nsamples = 8\\nvalue = 587500000.0'),\n",
       " Text(0.7619047619047619, 0.0625, 'squared_error = 0.0\\nsamples = 7\\nvalue = 100000000.0'),\n",
       " Text(0.9345238095238095, 0.8125, 'X[0] <= 25278152.0\\nsquared_error = 1.321937499999904e+17\\nsamples = 80\\nvalue = 532500000.0'),\n",
       " Text(0.8928571428571429, 0.6875, 'X[1] <= 7.0\\nsquared_error = 8.997414536052858e+16\\nsamples = 59\\nvalue = 405084745.763'),\n",
       " Text(0.8452380952380952, 0.5625, 'X[6] <= 0.5\\nsquared_error = 9.489795918367347e+16\\nsamples = 28\\nvalue = 571428571.429'),\n",
       " Text(0.8333333333333334, 0.4375, 'X[0] <= 11096925.0\\nsquared_error = 7.6416e+16\\nsamples = 25\\nvalue = 628000000.0'),\n",
       " Text(0.8095238095238095, 0.3125, 'X[2] <= 4.35\\nsquared_error = 5.9171597633136136e+16\\nsamples = 13\\nvalue = 807692307.692'),\n",
       " Text(0.7976190476190477, 0.1875, 'X[0] <= 10637130.5\\nsquared_error = 6.172839506172845e+16\\nsamples = 9\\nvalue = 722222222.222'),\n",
       " Text(0.7857142857142857, 0.0625, 'squared_error = 5.555555555555546e+16\\nsamples = 6\\nvalue = 833333333.333'),\n",
       " Text(0.8095238095238095, 0.0625, 'squared_error = 0.0\\nsamples = 3\\nvalue = 500000000.0'),\n",
       " Text(0.8214285714285714, 0.1875, 'squared_error = 0.0\\nsamples = 4\\nvalue = 1000000000.0'),\n",
       " Text(0.8571428571428571, 0.3125, 'X[0] <= 12255131.5\\nsquared_error = 2.222222222222224e+16\\nsamples = 12\\nvalue = 433333333.333'),\n",
       " Text(0.8452380952380952, 0.1875, 'squared_error = 0.0\\nsamples = 5\\nvalue = 500000000.0'),\n",
       " Text(0.8690476190476191, 0.1875, 'X[0] <= 16886015.5\\nsquared_error = 3.265306122448979e+16\\nsamples = 7\\nvalue = 385714285.714'),\n",
       " Text(0.8571428571428571, 0.0625, 'squared_error = 3.555555555555555e+16\\nsamples = 3\\nvalue = 233333333.333'),\n",
       " Text(0.8809523809523809, 0.0625, 'squared_error = 0.0\\nsamples = 4\\nvalue = 500000000.0'),\n",
       " Text(0.8571428571428571, 0.4375, 'squared_error = 0.0\\nsamples = 3\\nvalue = 100000000.0'),\n",
       " Text(0.9404761904761905, 0.5625, 'X[2] <= 4.45\\nsquared_error = 3.796045785639958e+16\\nsamples = 31\\nvalue = 254838709.677'),\n",
       " Text(0.9166666666666666, 0.4375, 'X[1] <= 79.5\\nsquared_error = 3.265306122448979e+16\\nsamples = 14\\nvalue = 385714285.714'),\n",
       " Text(0.9047619047619048, 0.3125, 'X[1] <= 62.5\\nsquared_error = 1.3223140495867778e+16\\nsamples = 11\\nvalue = 463636363.636'),\n",
       " Text(0.8928571428571429, 0.1875, 'squared_error = 0.0\\nsamples = 6\\nvalue = 500000000.0'),\n",
       " Text(0.9166666666666666, 0.1875, 'squared_error = 2.56e+16\\nsamples = 5\\nvalue = 420000000.0'),\n",
       " Text(0.9285714285714286, 0.3125, 'squared_error = 0.0\\nsamples = 3\\nvalue = 100000000.0'),\n",
       " Text(0.9642857142857143, 0.4375, 'X[5] <= 0.5\\nsquared_error = 1.6608996539792384e+16\\nsamples = 17\\nvalue = 147058823.529'),\n",
       " Text(0.9523809523809523, 0.3125, 'squared_error = 0.0\\nsamples = 14\\nvalue = 100000000.0'),\n",
       " Text(0.9761904761904762, 0.3125, 'squared_error = 3.5555555555555536e+16\\nsamples = 3\\nvalue = 366666666.667'),\n",
       " Text(0.9761904761904762, 0.6875, 'X[2] <= 4.55\\nsquared_error = 7.705215419501133e+16\\nsamples = 21\\nvalue = 890476190.476'),\n",
       " Text(0.9642857142857143, 0.5625, 'squared_error = 0.0\\nsamples = 18\\nvalue = 1000000000.0'),\n",
       " Text(0.9880952380952381, 0.5625, 'squared_error = 3.555555555555555e+16\\nsamples = 3\\nvalue = 233333333.333')]"
      ]
     },
     "execution_count": 87,
     "metadata": {},
     "output_type": "execute_result"
    },
    {
     "data": {
      "image/png": "[encoded data removed]",
      "text/plain": [
       "<Figure size 640x480 with 1 Axes>"
      ]
     },
     "metadata": {},
     "output_type": "display_data"
    }
   ],
   "source": [
    "tree.plot_tree(dct)"
   ]
  },
  {
   "cell_type": "markdown",
   "id": "c7a5ccab",
   "metadata": {},
   "source": [
    "### Neural network MLPRegressor"
   ]
  },
  {
   "cell_type": "code",
   "execution_count": 68,
   "id": "55acfcdf",
   "metadata": {},
   "outputs": [
    {
     "data": {
      "text/plain": [
       "MLPRegressor(hidden_layer_sizes=(100, 64))"
      ]
     },
     "execution_count": 68,
     "metadata": {},
     "output_type": "execute_result"
    }
   ],
   "source": [
    "from sklearn.neural_network import MLPRegressor\n",
    "from sklearn.datasets import make_regression\n",
    "\n",
    "mlp = MLPRegressor(solver='adam', alpha=0.0001, #learning_rate_init=0.1,\n",
    "                   hidden_layer_sizes=(100,64), activation='relu')\n",
    "mlp.fit(X_train , y_train)"
   ]
  },
  {
   "cell_type": "code",
   "execution_count": 69,
   "id": "063e342b",
   "metadata": {},
   "outputs": [
    {
     "data": {
      "text/plain": [
       "array([2.36229556e+04, 1.40999439e+08, 9.43190002e+07, ...,\n",
       "       6.33350808e+06, 2.44208913e+06, 2.02940244e+07])"
      ]
     },
     "execution_count": 69,
     "metadata": {},
     "output_type": "execute_result"
    }
   ],
   "source": [
    "mlp.predict(X_test)\n",
    "# np.array(a)"
   ]
  },
  {
   "cell_type": "code",
   "execution_count": 70,
   "id": "61a803f2",
   "metadata": {},
   "outputs": [
    {
     "data": {
      "text/plain": [
       "[(45, 100), (100, 64), (64, 1)]"
      ]
     },
     "execution_count": 70,
     "metadata": {},
     "output_type": "execute_result"
    }
   ],
   "source": [
    "[coef.shape for coef in mlp.coefs_]"
   ]
  },
  {
   "cell_type": "code",
   "execution_count": 71,
   "id": "20239659",
   "metadata": {},
   "outputs": [
    {
     "data": {
      "text/plain": [
       "0.45758341919586243"
      ]
     },
     "execution_count": 71,
     "metadata": {},
     "output_type": "execute_result"
    }
   ],
   "source": [
    "mlp.score(X_train, y_train)"
   ]
  },
  {
   "cell_type": "code",
   "execution_count": 72,
   "id": "3690c122",
   "metadata": {},
   "outputs": [
    {
     "data": {
      "text/plain": [
       "0.27812516247946883"
      ]
     },
     "execution_count": 72,
     "metadata": {},
     "output_type": "execute_result"
    }
   ],
   "source": [
    "mlp.score(X_test, y_test)"
   ]
  },
  {
   "cell_type": "code",
   "execution_count": 73,
   "id": "483908f5",
   "metadata": {},
   "outputs": [
    {
     "data": {
      "text/plain": [
       "array([     10000,     500000,    5000000,   50000000,     100000,\n",
       "            50000,    1000000,   10000000,       5000,  100000000,\n",
       "       1000000000,       1000,  500000000,        100,        500,\n",
       "               10,          5,         50,          1], dtype=int64)"
      ]
     },
     "execution_count": 73,
     "metadata": {},
     "output_type": "execute_result"
    }
   ],
   "source": [
    "df.Installs.unique()"
   ]
  },
  {
   "cell_type": "markdown",
   "id": "f1631651",
   "metadata": {},
   "source": [
    "It can be concluded that there are several models that have good train and test scores, namely decision tree and gradient boosting regressor. This is because decision tree and gradient boosting are two popular machine learning methods that have good performance in building prediction models. \n",
    "\n",
    "Decision tree is a model that predicts the output value by dividing the data into smaller groups based on the rules in the tree. Each branch in the tree represents a condition and each leaf represents an output value. Decision tree can produce models that are easy to understand and can extract the rules in the data. The decision tree model can also overcome overfitting on the data by using pruning techniques.\n",
    "\n",
    "On the other hand, gradient boosting is an ensemble learning technique that builds many prediction models based on weak decision trees and then combines the prediction results of all models into a more accurate model. Gradient boosting works by identifying prediction errors in the previous model and then correcting those errors by adding new decision trees to the next model. In this way, gradient boosting can quickly improve the performance of prediction models and produce more accurate predictions.\n",
    "\n",
    "The advantages of decision tree and gradient boosting are their ability to handle data with many features and high complexity, as well as their ease of interpretation. Both methods also have the ability to extract important information from data and select the most influential features in predicting the output value. This can help in decision making and creating more effective business strategies."
   ]
  },
  {
   "cell_type": "code",
   "execution_count": null,
   "id": "08dd164f",
   "metadata": {},
   "outputs": [],
   "source": []
  }
 ],
 "metadata": {
  "kernelspec": {
   "display_name": "Python 3 (ipykernel)",
   "language": "python",
   "name": "python3"
  },
  "language_info": {
   "codemirror_mode": {
    "name": "ipython",
    "version": 3
   },
   "file_extension": ".py",
   "mimetype": "text/x-python",
   "name": "python",
   "nbconvert_exporter": "python",
   "pygments_lexer": "ipython3",
   "version": "3.9.13"
  }
 },
 "nbformat": 4,
 "nbformat_minor": 5
}
